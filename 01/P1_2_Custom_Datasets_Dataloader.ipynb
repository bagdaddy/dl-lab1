{
  "cells": [
    {
      "cell_type": "markdown",
      "metadata": {
        "id": "wwHQkEQOZJNf"
      },
      "source": [
        "### Let's consider the previous example:\n",
        "### Let's download the data"
      ]
    },
    {
      "cell_type": "code",
      "execution_count": null,
      "metadata": {
        "colab": {
          "base_uri": "https://localhost:8080/",
          "height": 1000
        },
        "id": "AiZ0ZjYxaNKt",
        "outputId": "c5b6589c-9b1d-4fa3-a4f1-d99cfb728316"
      },
      "outputs": [],
      "source": [
        "pip install openimages scikit-image"
      ]
    },
    {
      "cell_type": "code",
      "execution_count": null,
      "metadata": {
        "id": "DjST7MxSab7w"
      },
      "outputs": [],
      "source": [
        "import os\n",
        "from openimages.download import download_dataset"
      ]
    },
    {
      "cell_type": "code",
      "execution_count": null,
      "metadata": {
        "id": "LT3hD7KDadb5"
      },
      "outputs": [],
      "source": [
        "data_dir = \"data\"\n",
        "number_for_samples = 100\n",
        "classes = [\"Apple\", \"Motorcycle\"]"
      ]
    },
    {
      "cell_type": "code",
      "execution_count": null,
      "metadata": {
        "id": "-FsW7_6uader"
      },
      "outputs": [],
      "source": [
        "if not os.path.exists(data_dir):\n",
        "    os.makedirs(data_dir)"
      ]
    },
    {
      "cell_type": "code",
      "execution_count": null,
      "metadata": {
        "colab": {
          "base_uri": "https://localhost:8080/"
        },
        "id": "pePq489aah1w",
        "outputId": "4f0e7774-d9fe-4e84-fb1b-46d61a4f26f4"
      },
      "outputs": [],
      "source": [
        "print(\"Downloading is starting...\")\n",
        "download_dataset(data_dir, classes, limit=number_for_samples)"
      ]
    },
    {
      "cell_type": "code",
      "execution_count": null,
      "metadata": {
        "id": "0fLqkbTSah7J"
      },
      "outputs": [],
      "source": [
        "import torch\n",
        "import torchvision\n",
        "from torch.autograd import Variable"
      ]
    },
    {
      "cell_type": "code",
      "execution_count": null,
      "metadata": {
        "id": "ethAIONZah-C"
      },
      "outputs": [],
      "source": [
        "from torchvision import datasets\n",
        "from torchvision.transforms import transforms\n",
        "from torch.utils.data import DataLoader\n",
        "from torch.utils.data import Dataset\n",
        "import numpy as np\n",
        "from skimage import io\n",
        "from skimage.transform import resize\n",
        "from skimage.color import gray2rgb\n",
        "import glob\n",
        "import PIL\n",
        "from PIL import Image\n",
        "import matplotlib.pyplot as plt"
      ]
    },
    {
      "cell_type": "code",
      "execution_count": null,
      "metadata": {
        "id": "tjBU10-AbM4v"
      },
      "outputs": [],
      "source": [
        "def read_img(file_name):\n",
        "    img = io.imread(file_name)\n",
        "    if img.ndim == 2:\n",
        "      img = gray2rgb(img)\n",
        "    img = [resize(img, (224, 224))]\n",
        "    img = torch.tensor(img)\n",
        "    img = img.permute(0, 3, 2, 1)\n",
        "    return img.float()"
      ]
    },
    {
      "cell_type": "code",
      "execution_count": null,
      "metadata": {
        "id": "R2MlVUylbN3E"
      },
      "outputs": [],
      "source": [
        "### normally - the image dimmensions are (wight, heigh, 3) - (3, widht, height)\n",
        "### in case when the image have the transparancy - 4 channels then the dimmension is such:\n",
        "### (wight, heigh, 4) -> (3, widht, height) ?\n",
        "### img = (wight, height, 4) = img[:, :, :3]"
      ]
    },
    {
      "cell_type": "code",
      "execution_count": null,
      "metadata": {
        "id": "MqDY1fr3bQiK"
      },
      "outputs": [],
      "source": []
    },
    {
      "cell_type": "code",
      "execution_count": null,
      "metadata": {
        "id": "UmaQw1W8vCq5"
      },
      "outputs": [],
      "source": [
        "# let's take batch size equal 2 \n",
        "\n",
        "# file1_0.jpg\n",
        "# file2_0.jpg\n",
        "\n",
        "# file3_0.jpg\n",
        "# file3_0.jpg\n",
        "\n",
        "#..\n",
        "# file98_0.jpg\n",
        "# file99_0.jpg\n",
        "\n",
        "\n",
        "# file1_1.jpg\n",
        "# file2_1.jpg\n",
        "\n",
        "# ..\n",
        "\n",
        "# file99_1.jpg"
      ]
    },
    {
      "cell_type": "code",
      "execution_count": null,
      "metadata": {
        "id": "PBMqaVeYvCt5"
      },
      "outputs": [],
      "source": []
    },
    {
      "cell_type": "code",
      "execution_count": null,
      "metadata": {
        "id": "pYia3b54deUF"
      },
      "outputs": [],
      "source": [
        "# creation of Custom dataset\n",
        "\n",
        "class CustomDataset(Dataset):\n",
        "    ## __init__ - constructor method is nessisary to setup the enviroment\n",
        "    ##\n",
        "    def __init__(self, images_dir):\n",
        "        ## set up the path of the data\n",
        "        self.images_dir = images_dir\n",
        "\n",
        "\n",
        "        # change number 1: change paths\n",
        "        # calculating the list of all the files in the respective folder:\n",
        "        self.class1_files = glob.glob(self.images_dir + \"/{}/images/*.jpg\".format(classes[0].lower()))\n",
        "        self.class2_files = glob.glob(self.images_dir + \"/{}/images/*.jpg\".format(classes[1].lower()))\n",
        "        \n",
        "        # define how much of the data is in the dataset\n",
        "        self.class1 = len(self.class2_files)\n",
        "        self.class2 = len(self.class1_files)\n",
        "\n",
        "       \n",
        "        self.files = self.class1_files + self.class2_files\n",
        "\n",
        "        # change number 2: if there was issues with number of samples set labels\n",
        "        self.labels = np.zeros(len(self.files))\n",
        "        self.labels[self.class1:] = 1\n",
        "\n",
        "        # shuffle data\n",
        "        self.order =  [x for x in np.random.permutation(len(self.labels))]\n",
        "\n",
        "\n",
        "        self.files = [self.files[x] for x in self.order]\n",
        "        self.labels = [self.labels[x] for x in self.order]\n",
        "\n",
        "\n",
        "    # when we define the __len__ we just take all the data\n",
        "    def __len__(self):\n",
        "        # change number 3 (optional): enable faster training by using batched\n",
        "        return (len(self.labels))\n",
        "    \n",
        "    ## final method - to do the job - read the i-th data sample\n",
        "\n",
        "    def __getitem__(self, i):\n",
        "        # change number 3 (optional): enable faster training by using batched\n",
        "        files = self.files[i]\n",
        "\n",
        "        im = read_img(files)[0]\n",
        "\n",
        "        img = np.array(im.numpy())\n",
        "        img = torch.tensor(img)\n",
        "            \n",
        "        y = self.labels[i]\n",
        "        return (img, y) # return the one pair of the data \n",
        "\n",
        "# change number 1: change paths\n",
        "dataset = CustomDataset(\"./data\")\n"
      ]
    },
    {
      "cell_type": "code",
      "execution_count": null,
      "metadata": {
        "colab": {
          "base_uri": "https://localhost:8080/"
        },
        "id": "gojjHk2adeWp",
        "outputId": "8fcb4a39-855f-431d-a074-12a5fd773d8e"
      },
      "outputs": [],
      "source": [
        "len(dataset)"
      ]
    },
    {
      "cell_type": "code",
      "execution_count": null,
      "metadata": {
        "colab": {
          "base_uri": "https://localhost:8080/"
        },
        "id": "VTJ9sNQhwJv3",
        "outputId": "b159a2a1-f450-4b77-a259-57a8cee4738a"
      },
      "outputs": [],
      "source": []
    },
    {
      "cell_type": "code",
      "execution_count": null,
      "metadata": {
        "colab": {
          "base_uri": "https://localhost:8080/"
        },
        "id": "pvgaw8IFdeZB",
        "outputId": "2ceaf94c-9d27-47d8-c8d5-f6956cb10ed0"
      },
      "outputs": [],
      "source": [
        "for i in [0, 10]:\n",
        "    sample = dataset[i]\n",
        "    print(sample[0].shape, sample[1])"
      ]
    },
    {
      "cell_type": "code",
      "execution_count": null,
      "metadata": {},
      "outputs": [],
      "source": [
        "dataset[i][0].shape, dataset[i][1].shape # X, y"
      ]
    },
    {
      "cell_type": "code",
      "execution_count": null,
      "metadata": {
        "id": "SudHAaV6bZxU"
      },
      "outputs": [],
      "source": [
        "train_dataset = torch.utils.data.DataLoader(dataset, batch_size=32, shuffle=True)"
      ]
    },
    {
      "cell_type": "code",
      "execution_count": null,
      "metadata": {
        "colab": {
          "base_uri": "https://localhost:8080/"
        },
        "id": "nB_3CSYSb41W",
        "outputId": "1bf37bc9-9e1d-435a-d03e-3e8173758edc"
      },
      "outputs": [],
      "source": [
        "images, labels = next(iter(train_dataset))\n",
        "images.shape\n"
      ]
    },
    {
      "cell_type": "code",
      "execution_count": null,
      "metadata": {
        "colab": {
          "base_uri": "https://localhost:8080/",
          "height": 303
        },
        "id": "hOxbzQvDhEyv",
        "outputId": "7a4068b3-ffb9-4770-995a-bd1cc35acd4d"
      },
      "outputs": [],
      "source": [
        "print(images[0].shape)\n",
        "im = images[0].permute(2, 1, 0)\n",
        "plt.imshow(im)"
      ]
    },
    {
      "cell_type": "code",
      "execution_count": null,
      "metadata": {
        "id": "nVbIhRAqhF4L"
      },
      "outputs": [],
      "source": []
    },
    {
      "cell_type": "code",
      "execution_count": null,
      "metadata": {
        "id": "YquIVS01kCdy"
      },
      "outputs": [],
      "source": [
        "class ClassX(Dataset):\n",
        "  def __init__(self, path):\n",
        "      self.path = path\n",
        "\n",
        "  #def __len__(self):\n",
        "  #  return len(\n",
        "        ## how much files /data we have\n",
        "  #  )\n",
        "\n",
        "\n",
        "  #def __get__(self, i):\n",
        "    ## is some i-th datapoints from hole data\n",
        "    #X = \n",
        "    #y = \n",
        "    #return (X, y)\n",
        "\n",
        "  "
      ]
    },
    {
      "cell_type": "code",
      "execution_count": null,
      "metadata": {
        "colab": {
          "base_uri": "https://localhost:8080/"
        },
        "id": "zk6Yp3joz4Ox",
        "outputId": "b5e1d472-a962-4a81-e3f5-dc7653d2a014"
      },
      "outputs": [],
      "source": [
        "variable_nth_array = np.random.random((100, 20, 30, 50))\n",
        "variable_nth_array.shape"
      ]
    },
    {
      "cell_type": "code",
      "execution_count": null,
      "metadata": {
        "colab": {
          "base_uri": "https://localhost:8080/"
        },
        "id": "iNZV2xOqz4Sw",
        "outputId": "8428421f-cc96-443e-c580-1eef2759b579"
      },
      "outputs": [],
      "source": [
        "variable_tensor = torch.tensor(variable_nth_array)\n",
        "variable_tensor.shape"
      ]
    },
    {
      "cell_type": "code",
      "execution_count": null,
      "metadata": {
        "id": "gXXp8UuS0biP"
      },
      "outputs": [],
      "source": []
    },
    {
      "cell_type": "code",
      "execution_count": null,
      "metadata": {},
      "outputs": [],
      "source": []
    }
  ],
  "metadata": {
    "colab": {
      "provenance": []
    },
    "kernelspec": {
      "display_name": "Python 3",
      "language": "python",
      "name": "python3"
    },
    "language_info": {
      "codemirror_mode": {
        "name": "ipython",
        "version": 3
      },
      "file_extension": ".py",
      "mimetype": "text/x-python",
      "name": "python",
      "nbconvert_exporter": "python",
      "pygments_lexer": "ipython3",
      "version": "3.10.6"
    },
    "vscode": {
      "interpreter": {
        "hash": "e7370f93d1d0cde622a1f8e1c04877d8463912d04d973331ad4851f04de6915a"
      }
    }
  },
  "nbformat": 4,
  "nbformat_minor": 0
}
