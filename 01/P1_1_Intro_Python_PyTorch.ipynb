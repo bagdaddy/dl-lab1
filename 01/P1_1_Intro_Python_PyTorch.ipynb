{
  "cells": [
    {
      "cell_type": "markdown",
      "metadata": {
        "id": "YK8Nf-1HV-tM"
      },
      "source": [
        "# Working with Python"
      ]
    },
    {
      "cell_type": "markdown",
      "metadata": {
        "id": "Dn-pvTGKV-tQ"
      },
      "source": [
        "Notebook is Linux on VM via Jupyter notebook as user interface. All Linux commands are valid"
      ]
    },
    {
      "cell_type": "code",
      "execution_count": null,
      "metadata": {
        "colab": {
          "base_uri": "https://localhost:8080/"
        },
        "id": "EqeFA_wXXA85",
        "outputId": "9dfd6182-33f2-482a-b196-cf28b8c47ae1"
      },
      "outputs": [],
      "source": [
        "!ls"
      ]
    },
    {
      "cell_type": "code",
      "execution_count": null,
      "metadata": {
        "colab": {
          "base_uri": "https://localhost:8080/"
        },
        "id": "cYWoVihWFxO9",
        "outputId": "b22d3e07-9561-40b5-c491-98dc964a5d8a"
      },
      "outputs": [],
      "source": [
        "!pwd"
      ]
    },
    {
      "cell_type": "code",
      "execution_count": null,
      "metadata": {
        "id": "P4ohka_lFxRl"
      },
      "outputs": [],
      "source": []
    },
    {
      "cell_type": "code",
      "execution_count": null,
      "metadata": {
        "id": "-gmKPSf3j98S"
      },
      "outputs": [],
      "source": [
        "import numpy as np"
      ]
    },
    {
      "cell_type": "code",
      "execution_count": null,
      "metadata": {
        "colab": {
          "base_uri": "https://localhost:8080/"
        },
        "id": "bFShIWRTj-Au",
        "outputId": "713cca84-2678-4d07-be27-ee0607799d04"
      },
      "outputs": [],
      "source": [
        "np.fabs(-2)"
      ]
    },
    {
      "cell_type": "code",
      "execution_count": null,
      "metadata": {
        "id": "Ch4YXNDTj-Ds"
      },
      "outputs": [],
      "source": [
        "np.fabs?"
      ]
    },
    {
      "cell_type": "code",
      "execution_count": null,
      "metadata": {
        "id": "G4NRTSj7kVKT"
      },
      "outputs": [],
      "source": [
        "np.fabs??"
      ]
    },
    {
      "cell_type": "markdown",
      "metadata": {
        "id": "vMmqdjubXCVv"
      },
      "source": [
        "## Getting help in Jupyter"
      ]
    },
    {
      "cell_type": "code",
      "execution_count": null,
      "metadata": {
        "colab": {
          "base_uri": "https://localhost:8080/"
        },
        "id": "zgXR9tt5XBUC",
        "outputId": "b80dba20-12f5-4708-d102-f4a1e3790382"
      },
      "outputs": [],
      "source": [
        "!pip3 install scipy"
      ]
    },
    {
      "cell_type": "markdown",
      "metadata": {
        "id": "f7Q2o_ldXIfa"
      },
      "source": []
    },
    {
      "cell_type": "code",
      "execution_count": null,
      "metadata": {
        "id": "mvKrBnZVWbgk"
      },
      "outputs": [],
      "source": [
        "#"
      ]
    },
    {
      "cell_type": "code",
      "execution_count": null,
      "metadata": {
        "colab": {
          "base_uri": "https://localhost:8080/",
          "height": 265
        },
        "id": "ghLACz_jWb4O",
        "outputId": "7c035d1d-48df-4e0b-c3b1-40e51192bcb0"
      },
      "outputs": [],
      "source": [
        "import numpy as np # euivalent -> import numpy as numpy \n",
        "import matplotlib.pyplot as plt\n",
        "\n",
        "A = np.zeros((3, 3))\n",
        "\n",
        "x = np.linspace(0, 10, 200)\n",
        "\n",
        "y = np.sin(x)\n",
        "plt.plot(x, y)\n",
        "plt.show()\n",
        "\n",
        "\n"
      ]
    },
    {
      "cell_type": "code",
      "execution_count": null,
      "metadata": {
        "id": "eCuOUc_SV-tS"
      },
      "outputs": [],
      "source": [
        "#from library.class import * # import everythink as `class`\n",
        "# including methods\n",
        "\n",
        "#import library.class as shorter # import everythink as `shorter`\n",
        "# for shorter usage"
      ]
    },
    {
      "cell_type": "markdown",
      "metadata": {
        "id": "Z4FpLmXVV-tZ"
      },
      "source": [
        "`if` statement"
      ]
    },
    {
      "cell_type": "code",
      "execution_count": null,
      "metadata": {
        "colab": {
          "base_uri": "https://localhost:8080/",
          "height": 35
        },
        "id": "HVWoFU3WV-ta",
        "outputId": "96520314-1edd-4968-eb08-2d0444d8c897"
      },
      "outputs": [],
      "source": [
        "ats = 'ok' if 3 > 2 else 'not ok'\n",
        "ats"
      ]
    },
    {
      "cell_type": "code",
      "execution_count": null,
      "metadata": {
        "colab": {
          "base_uri": "https://localhost:8080/"
        },
        "id": "UWCL2woDV-tf",
        "outputId": "8d46d020-1168-4ec6-ff87-67542aa39847"
      },
      "outputs": [],
      "source": [
        "x = float(input(\"input x: \"))\n",
        "if x < 0:\n",
        "    print(\"negative\")\n",
        "    # all the code within block should be align propertly\n",
        "    if 1: \n",
        "         print(\"stop\")\n",
        "elif x > 0:\n",
        "    print(\"positive\")\n",
        "else:\n",
        "    print(\"zero\")"
      ]
    },
    {
      "cell_type": "markdown",
      "metadata": {
        "id": "G5YUDJ-lV-ti"
      },
      "source": [
        "In cotrast from R indexing starts from 0:"
      ]
    },
    {
      "cell_type": "code",
      "execution_count": null,
      "metadata": {
        "colab": {
          "base_uri": "https://localhost:8080/"
        },
        "id": "kzgXKacNV-tj",
        "outputId": "812ff1cc-2344-442f-c870-2683005e5d4b"
      },
      "outputs": [],
      "source": [
        "import numpy as np\n",
        "A = np.ones((5, 5))\n",
        "A[0, 0] = -1\n",
        "A[2, 4] = 2\n",
        "A"
      ]
    },
    {
      "cell_type": "code",
      "execution_count": null,
      "metadata": {
        "id": "5z_20lrQwqST"
      },
      "outputs": [],
      "source": []
    },
    {
      "cell_type": "code",
      "execution_count": null,
      "metadata": {
        "id": "82W169LXwqVa"
      },
      "outputs": [],
      "source": [
        "def method_x(x, epsilon=0.1):\n",
        "  temp_calculation = x**2 + epsilon\n",
        "  return temp_calculation"
      ]
    },
    {
      "cell_type": "code",
      "execution_count": null,
      "metadata": {
        "colab": {
          "base_uri": "https://localhost:8080/"
        },
        "id": "uTs48TAswqdC",
        "outputId": "5ae1a6b5-0ff8-40e7-8d22-7ad5ca6e9998"
      },
      "outputs": [],
      "source": [
        "method_x(2, 0.01)"
      ]
    },
    {
      "cell_type": "code",
      "execution_count": null,
      "metadata": {
        "colab": {
          "base_uri": "https://localhost:8080/"
        },
        "id": "wFUDgZolxD7K",
        "outputId": "abe5c014-be00-47ef-9a66-753d8acf7218"
      },
      "outputs": [],
      "source": [
        "import numpy as np\n",
        "vector = np.ones((4))\n",
        "vector"
      ]
    },
    {
      "cell_type": "code",
      "execution_count": null,
      "metadata": {
        "colab": {
          "base_uri": "https://localhost:8080/"
        },
        "id": "e9z64RoqxCiD",
        "outputId": "6d140390-2f0b-48bb-b729-850ab0de0fb2"
      },
      "outputs": [],
      "source": [
        "method_x(vector, 0.02)"
      ]
    },
    {
      "cell_type": "code",
      "execution_count": null,
      "metadata": {
        "id": "b2ILkMo9xCpX"
      },
      "outputs": [],
      "source": []
    },
    {
      "cell_type": "code",
      "execution_count": null,
      "metadata": {
        "id": "G87uNGjDxfEu"
      },
      "outputs": [],
      "source": [
        "class ClassX(object):\n",
        "  def __init__(self, x = 0.0):\n",
        "    self.local_class_variable_x = x \n",
        "    self.local_var_y = x + 2\n",
        "    self.__hidden_variable = x + 3\n",
        "\n",
        "  def some_method_f(self):\n",
        "    return self.local_class_variable_x + self.local_var_y + self.__hidden_variable\n",
        "\n",
        "\n",
        "  def some_method_g(self, delta):\n",
        "      self.local_class_variable_x = delta\n",
        "\n",
        "  "
      ]
    },
    {
      "cell_type": "code",
      "execution_count": null,
      "metadata": {
        "id": "SjwzZexdyxBJ"
      },
      "outputs": [],
      "source": []
    },
    {
      "cell_type": "code",
      "execution_count": null,
      "metadata": {
        "id": "fIbmwZVrxfJ5"
      },
      "outputs": [],
      "source": [
        "class_object_variable = ClassX(5.0)"
      ]
    },
    {
      "cell_type": "code",
      "execution_count": null,
      "metadata": {
        "colab": {
          "base_uri": "https://localhost:8080/"
        },
        "id": "Mr0AoaOuwqga",
        "outputId": "50a245c5-d74f-49a5-c843-518d1a7f61f3"
      },
      "outputs": [],
      "source": [
        "class_object_variable.local_class_variable_x"
      ]
    },
    {
      "cell_type": "code",
      "execution_count": null,
      "metadata": {
        "colab": {
          "base_uri": "https://localhost:8080/",
          "height": 164
        },
        "id": "1u59BEFXyHO4",
        "outputId": "a3ab893e-e268-4e07-b636-f4cb65535a36"
      },
      "outputs": [],
      "source": [
        "class_object_variable.__hidden_variable"
      ]
    },
    {
      "cell_type": "code",
      "execution_count": null,
      "metadata": {
        "colab": {
          "base_uri": "https://localhost:8080/"
        },
        "id": "BHsZ4JJoyHT_",
        "outputId": "e5f8de80-d852-4811-b6cb-92f177842e76"
      },
      "outputs": [],
      "source": [
        "class_object_variable.some_method_f()"
      ]
    },
    {
      "cell_type": "code",
      "execution_count": null,
      "metadata": {
        "id": "pWGFXJEXy4oG"
      },
      "outputs": [],
      "source": [
        "class_object_variable.some_method_g(1)"
      ]
    },
    {
      "cell_type": "code",
      "execution_count": null,
      "metadata": {
        "colab": {
          "base_uri": "https://localhost:8080/"
        },
        "id": "Sxcb4uDGy4uD",
        "outputId": "e58ef7fc-4d82-42ac-96db-2a1fe37ba46f"
      },
      "outputs": [],
      "source": [
        "class_object_variable.some_method_f()"
      ]
    },
    {
      "cell_type": "code",
      "execution_count": null,
      "metadata": {
        "id": "O7_To9SOy43Q"
      },
      "outputs": [],
      "source": []
    },
    {
      "cell_type": "markdown",
      "metadata": {
        "id": "ZI4JkQ-rV-tm"
      },
      "source": [
        "## Classes, Inheritance"
      ]
    },
    {
      "cell_type": "code",
      "execution_count": null,
      "metadata": {
        "colab": {
          "base_uri": "https://localhost:8080/"
        },
        "id": "CF2DHwb-V-tn",
        "outputId": "3caa44d2-7f89-427d-cab1-1c0fb091cf5c"
      },
      "outputs": [],
      "source": [
        "class A(object): # python3, by default parent class is  object class\n",
        "    def __init__(self):\n",
        "        self._x = 1 # private variable\n",
        "        self.y = 2 # class variable y\n",
        "        self.w = []\n",
        "        \n",
        "    def setx(self, x):\n",
        "        self._x = x\n",
        "        \n",
        "    def getx(self):\n",
        "        return self._x\n",
        "    \n",
        "    @property ## properties\n",
        "    def xas(self):\n",
        "        return self._x\n",
        "    \n",
        "    def setvalues(self, *w, x = 0, y = 0): ## initially set parameters\n",
        "        self.w = w\n",
        "        self._x = x\n",
        "        self.y = y\n",
        "    \n",
        "class B(A): # Inheritance of A\n",
        "    def __init__(self, z = 3):\n",
        "        super().__init__()\n",
        "        self.z = z ## additionally add z\n",
        "        \n",
        "b = B()\n",
        "print(\"x's {}, y's {}, z's {}, w {}\".format(b.getx(), b.y, b.z, b.w))\n",
        "b.setx(20)\n",
        "b.z = -3\n",
        "b.y = -2\n",
        "print(\"x's {}, y's {}, z's {}, w {}\".format(b.getx(), b.y, b.z, b.w))\n",
        "b.setvalues(1, 2, 3, 4, 5, 6, -2, -3)\n",
        "print(\"x's {}, y's {}, z's {}, w {}\".format(b.getx(), b.y, b.z, b.w))\n",
        "print(\"x's {}\".format(b.xas))"
      ]
    },
    {
      "cell_type": "markdown",
      "metadata": {
        "id": "UHaFQHnsV-tp"
      },
      "source": [
        "# Work with PyTorch"
      ]
    },
    {
      "cell_type": "code",
      "execution_count": null,
      "metadata": {
        "id": "EzCtW5SeWsne"
      },
      "outputs": [],
      "source": [
        "import torch  # <Ctrl> / <Shift> + <Return>"
      ]
    },
    {
      "cell_type": "code",
      "execution_count": null,
      "metadata": {
        "id": "VG2JKLttk87q"
      },
      "outputs": [],
      "source": []
    },
    {
      "cell_type": "code",
      "execution_count": null,
      "metadata": {
        "id": "yLmhqGiSk9Ts"
      },
      "outputs": [],
      "source": []
    },
    {
      "cell_type": "markdown",
      "metadata": {
        "id": "yL0kGhieWzWV"
      },
      "source": [
        "## Getting help in Jupyter"
      ]
    },
    {
      "cell_type": "code",
      "execution_count": null,
      "metadata": {
        "id": "EaYueIsdWs3w"
      },
      "outputs": [],
      "source": [
        "torch.sq  # <Tab>"
      ]
    },
    {
      "cell_type": "code",
      "execution_count": null,
      "metadata": {
        "id": "yy5uaX0BW2Zh"
      },
      "outputs": [],
      "source": [
        "# What about all `*Tensor`s?\n",
        "# Press <esc> to get out of help\n",
        "torch.*Tensor?"
      ]
    },
    {
      "cell_type": "code",
      "execution_count": null,
      "metadata": {
        "colab": {
          "base_uri": "https://localhost:8080/"
        },
        "id": "PfM3YcAgW4Um",
        "outputId": "c3a3633c-ae1f-48e5-c7f9-ed8562e71dbe"
      },
      "outputs": [],
      "source": [
        "torch.nn.Module()  # <Shift>+<Tab>"
      ]
    },
    {
      "cell_type": "code",
      "execution_count": null,
      "metadata": {
        "id": "v0Om2vhLW7T4"
      },
      "outputs": [],
      "source": [
        "# Annotate your functions / classes!\n",
        "torch.nn.Module?"
      ]
    },
    {
      "cell_type": "code",
      "execution_count": null,
      "metadata": {
        "id": "JmJG8NoIW9Si"
      },
      "outputs": [],
      "source": [
        "torch.nn.Module??"
      ]
    },
    {
      "cell_type": "markdown",
      "metadata": {
        "id": "6SRrjSYKV-tq"
      },
      "source": [
        "### Usuall suspects:\n"
      ]
    },
    {
      "cell_type": "code",
      "execution_count": null,
      "metadata": {
        "id": "aZ_Ax_Q4V-tr"
      },
      "outputs": [],
      "source": [
        "import torch\n",
        "import torch.nn as nn\n",
        "import torch.nn.functional as F\n",
        "import torch.optim as optim\n",
        "import torchvision"
      ]
    },
    {
      "cell_type": "markdown",
      "metadata": {
        "id": "3i8QTPYTV-tt"
      },
      "source": [
        "### Numpy and vizualization\n",
        "Python using numpy as most common libraty, as well for visulization matplotlib."
      ]
    },
    {
      "cell_type": "code",
      "execution_count": null,
      "metadata": {
        "id": "aCDy_CPiV-tt"
      },
      "outputs": [],
      "source": [
        "import matplotlib.pyplot as plt\n",
        "import numpy as np"
      ]
    },
    {
      "cell_type": "markdown",
      "metadata": {
        "id": "5S63U-VpV-tv"
      },
      "source": [
        "## Tensors in numpy an pytorch"
      ]
    },
    {
      "cell_type": "code",
      "execution_count": null,
      "metadata": {
        "colab": {
          "base_uri": "https://localhost:8080/"
        },
        "id": "hMp_9C06liql",
        "outputId": "9c71b3e2-80db-48eb-eb52-dc41dd3a9df0"
      },
      "outputs": [],
      "source": [
        "A = np.ones((3, 3, 3))\n",
        "A"
      ]
    },
    {
      "cell_type": "code",
      "execution_count": null,
      "metadata": {
        "colab": {
          "base_uri": "https://localhost:8080/"
        },
        "id": "yts100utliwv",
        "outputId": "2fa370ba-f8f6-4b53-85fe-d6f0be7c3517"
      },
      "outputs": [],
      "source": [
        "A.shape"
      ]
    },
    {
      "cell_type": "code",
      "execution_count": null,
      "metadata": {
        "colab": {
          "base_uri": "https://localhost:8080/"
        },
        "id": "g3YBdJQ9li0u",
        "outputId": "67db1061-985f-405d-bdfd-3b6c47f2ad9b"
      },
      "outputs": [],
      "source": [
        "A_torch_var = torch.tensor(A)\n",
        "A_torch_var "
      ]
    },
    {
      "cell_type": "code",
      "execution_count": null,
      "metadata": {
        "id": "X1JVUbAJli7j"
      },
      "outputs": [],
      "source": []
    },
    {
      "cell_type": "code",
      "execution_count": null,
      "metadata": {
        "colab": {
          "base_uri": "https://localhost:8080/"
        },
        "id": "C1uSnV8hXRBX",
        "outputId": "a476305f-a911-47ce-d5ad-78b0ce6da40a"
      },
      "outputs": [],
      "source": [
        "# Generate a tensor of size 2x3x4\n",
        "t = torch.Tensor(2, 3, 4)\n",
        "type(t)"
      ]
    },
    {
      "cell_type": "code",
      "execution_count": null,
      "metadata": {
        "colab": {
          "base_uri": "https://localhost:8080/"
        },
        "id": "01nqtBz3XUGY",
        "outputId": "dec413c8-0a71-4b6c-bb2b-628901b78883"
      },
      "outputs": [],
      "source": [
        "# Get the size of the tensor\n",
        "t.size()"
      ]
    },
    {
      "cell_type": "code",
      "execution_count": null,
      "metadata": {
        "colab": {
          "base_uri": "https://localhost:8080/"
        },
        "id": "HH5C9X9GXY5j",
        "outputId": "cde3afe4-0db1-4b60-c679-868d78244f40"
      },
      "outputs": [],
      "source": [
        "# prints dimensional space and sub-dimensions\n",
        "print(f'point in a {t.numel()} dimensional space')\n",
        "print(f'organised in {t.dim()} sub-dimensions')"
      ]
    },
    {
      "cell_type": "code",
      "execution_count": null,
      "metadata": {
        "colab": {
          "base_uri": "https://localhost:8080/"
        },
        "id": "LfyWHTOHXbbV",
        "outputId": "dd386746-a4d4-4c00-ca35-cd0c5930e738"
      },
      "outputs": [],
      "source": [
        "t"
      ]
    },
    {
      "cell_type": "code",
      "execution_count": null,
      "metadata": {
        "colab": {
          "base_uri": "https://localhost:8080/"
        },
        "id": "CVJFCja9mFMr",
        "outputId": "7f9f3d13-93f4-4c08-cb5c-60491c758328"
      },
      "outputs": [],
      "source": [
        "r = torch.Tensor(t)\n",
        "r.shape"
      ]
    },
    {
      "cell_type": "code",
      "execution_count": null,
      "metadata": {
        "colab": {
          "base_uri": "https://localhost:8080/"
        },
        "id": "fV_WA1SmmFTW",
        "outputId": "8cc76cac-cd06-41b4-988b-811a9fe3700c"
      },
      "outputs": [],
      "source": [
        "r_new = r.resize(3, 8)\n",
        "r_new.shape"
      ]
    },
    {
      "cell_type": "code",
      "execution_count": null,
      "metadata": {
        "colab": {
          "base_uri": "https://localhost:8080/"
        },
        "id": "K5A7_b43mTY0",
        "outputId": "3b60d67b-2bb3-4c82-925b-21b73837b33e"
      },
      "outputs": [],
      "source": [
        "r.shape"
      ]
    },
    {
      "cell_type": "code",
      "execution_count": null,
      "metadata": {
        "colab": {
          "base_uri": "https://localhost:8080/"
        },
        "id": "4inDPKU0mTer",
        "outputId": "d0d88ed8-ae15-48d9-c551-9371f94cf265"
      },
      "outputs": [],
      "source": [
        "r.resize_(3, 8)\n",
        "r.shape"
      ]
    },
    {
      "cell_type": "code",
      "execution_count": null,
      "metadata": {
        "id": "6sqPgYZEmFXU"
      },
      "outputs": [],
      "source": []
    },
    {
      "cell_type": "code",
      "execution_count": null,
      "metadata": {
        "colab": {
          "base_uri": "https://localhost:8080/"
        },
        "id": "xvFXFcKyXc-8",
        "outputId": "ce2ea6b5-e78f-457d-beb6-9121bf60287f"
      },
      "outputs": [],
      "source": [
        "# This resizes the tensor permanently (in-place functions)\n",
        "\n",
        "\n",
        "r, r.shape"
      ]
    },
    {
      "cell_type": "code",
      "execution_count": null,
      "metadata": {
        "id": "hQXbaGQQYFnK"
      },
      "outputs": [],
      "source": [
        "# This *is* important, sigh...\n",
        "s = r.clone()"
      ]
    },
    {
      "cell_type": "code",
      "execution_count": null,
      "metadata": {
        "colab": {
          "base_uri": "https://localhost:8080/"
        },
        "id": "ur6ii-06YHIS",
        "outputId": "e3c93bd1-63a6-4397-ca6a-29c5b45b5b46"
      },
      "outputs": [],
      "source": [
        "# In-place fill of 1's\n",
        "s.fill_(1)\n",
        "s"
      ]
    },
    {
      "cell_type": "code",
      "execution_count": null,
      "metadata": {
        "colab": {
          "base_uri": "https://localhost:8080/"
        },
        "id": "5SzFB4TTYIqw",
        "outputId": "8182e820-dd63-4da1-e81b-ac4aa66a13d5"
      },
      "outputs": [],
      "source": [
        "# Because we cloned r, even though we did an in-place operation, this doesn't affect r\n",
        "r"
      ]
    },
    {
      "cell_type": "code",
      "execution_count": null,
      "metadata": {
        "colab": {
          "base_uri": "https://localhost:8080/"
        },
        "id": "N3UHyauSXafX",
        "outputId": "45ec211e-ddba-43f9-e1e9-e93aff3c3792"
      },
      "outputs": [],
      "source": [
        "A = np.zeros((3, 480, 640))\n",
        "A.shape\n",
        "\n",
        "#print(A)"
      ]
    },
    {
      "cell_type": "code",
      "execution_count": null,
      "metadata": {
        "colab": {
          "base_uri": "https://localhost:8080/"
        },
        "id": "AiWe5yxwV-tw",
        "outputId": "c9adaede-823a-4776-caec-b7e2e0d289ca"
      },
      "outputs": [],
      "source": [
        "# numpy\n",
        "np.eye(3)"
      ]
    },
    {
      "cell_type": "code",
      "execution_count": null,
      "metadata": {
        "colab": {
          "base_uri": "https://localhost:8080/"
        },
        "id": "U7-nqL4uV-ty",
        "outputId": "015dd8c6-2aac-4981-bfd6-0a9a8fa156eb"
      },
      "outputs": [],
      "source": [
        "# torch\n",
        "torch.eye(3)"
      ]
    },
    {
      "cell_type": "code",
      "execution_count": null,
      "metadata": {
        "colab": {
          "base_uri": "https://localhost:8080/"
        },
        "id": "h8UvYXlTV-t0",
        "outputId": "0d5ae1e0-f139-4620-e2b1-53ca4eff199b"
      },
      "outputs": [],
      "source": [
        "type(torch)"
      ]
    },
    {
      "cell_type": "code",
      "execution_count": null,
      "metadata": {
        "colab": {
          "base_uri": "https://localhost:8080/"
        },
        "id": "bpqVw3W3V-t2",
        "outputId": "61d6c216-89f4-4b49-d68d-2abf5f4742e7"
      },
      "outputs": [],
      "source": [
        "# numpy\n",
        "X = np.random.random((5, 3))\n",
        "X"
      ]
    },
    {
      "cell_type": "code",
      "execution_count": null,
      "metadata": {
        "colab": {
          "base_uri": "https://localhost:8080/"
        },
        "id": "0L3EtepWV-t4",
        "outputId": "1a4a273c-c9eb-401e-e791-b2d14b81b0bd"
      },
      "outputs": [],
      "source": [
        "# pytorch\n",
        "Y = torch.rand((5, 3))\n",
        "Y"
      ]
    },
    {
      "cell_type": "code",
      "execution_count": null,
      "metadata": {
        "colab": {
          "base_uri": "https://localhost:8080/"
        },
        "id": "4zlEW1kAV-t5",
        "outputId": "dea322c1-83e7-4037-d4c8-40a5cc26116f"
      },
      "outputs": [],
      "source": [
        "X.shape"
      ]
    },
    {
      "cell_type": "code",
      "execution_count": null,
      "metadata": {
        "colab": {
          "base_uri": "https://localhost:8080/"
        },
        "id": "HTN2ZZuWV-t7",
        "outputId": "7fee0f94-0b20-40ef-903f-8255261cee6b"
      },
      "outputs": [],
      "source": [
        "Y.shape"
      ]
    },
    {
      "cell_type": "markdown",
      "metadata": {
        "id": "ix98D56UX8ub"
      },
      "source": [
        "We will next week of different operations $X Y$, $X * Y$, $X \\odot Y$"
      ]
    },
    {
      "cell_type": "markdown",
      "metadata": {
        "id": "8i7N8FZvV-t9"
      },
      "source": [
        "Matrix operations $X^T X$"
      ]
    },
    {
      "cell_type": "code",
      "execution_count": null,
      "metadata": {
        "colab": {
          "base_uri": "https://localhost:8080/"
        },
        "id": "ZrjJeaDIV-t9",
        "outputId": "ebfcba75-01e7-41cc-ba70-a8c8ddb54251"
      },
      "outputs": [],
      "source": [
        "# numpy\n",
        "X.T @ X"
      ]
    },
    {
      "cell_type": "code",
      "execution_count": null,
      "metadata": {
        "colab": {
          "base_uri": "https://localhost:8080/"
        },
        "id": "QP2ylwGDmsLt",
        "outputId": "10ec5636-8ce3-4c8d-fd2f-5084164359c6"
      },
      "outputs": [],
      "source": [
        "torch.matmul(Y.T, Y)"
      ]
    },
    {
      "cell_type": "code",
      "execution_count": null,
      "metadata": {
        "id": "u7YAQqsJmsTy"
      },
      "outputs": [],
      "source": []
    },
    {
      "cell_type": "code",
      "execution_count": null,
      "metadata": {
        "colab": {
          "base_uri": "https://localhost:8080/"
        },
        "id": "lzTAJ0_pV-t_",
        "outputId": "b87fa1b2-de42-4f57-91cc-fb9e5ae6474f"
      },
      "outputs": [],
      "source": [
        "# torch\n",
        "torch.inverse(Y.t() @ Y)"
      ]
    },
    {
      "cell_type": "code",
      "execution_count": null,
      "metadata": {
        "id": "STCmNcmOV-uA"
      },
      "outputs": [],
      "source": [
        "## Operations (Mutable vs Immutable)"
      ]
    },
    {
      "cell_type": "code",
      "execution_count": null,
      "metadata": {
        "colab": {
          "base_uri": "https://localhost:8080/"
        },
        "id": "8WDxMh96V-uC",
        "outputId": "7bd2b94d-fcc0-43eb-dbee-23c5826414e9"
      },
      "outputs": [],
      "source": [
        "A = torch.eye(3)\n",
        "A.add(1)"
      ]
    },
    {
      "cell_type": "code",
      "execution_count": null,
      "metadata": {
        "colab": {
          "base_uri": "https://localhost:8080/"
        },
        "id": "qd_zg8g4V-uE",
        "outputId": "b562a964-b7b4-4965-d79f-66632f3805e4"
      },
      "outputs": [],
      "source": [
        "A"
      ]
    },
    {
      "cell_type": "code",
      "execution_count": null,
      "metadata": {
        "colab": {
          "base_uri": "https://localhost:8080/"
        },
        "id": "eK-o8jzNV-uG",
        "outputId": "5998e9ca-64a7-4556-8792-dd27cd2ecc46"
      },
      "outputs": [],
      "source": [
        "A.add_(1)\n",
        "A"
      ]
    },
    {
      "cell_type": "markdown",
      "metadata": {
        "id": "ku58niexV-uH"
      },
      "source": [
        "## Indexes and slices\n",
        "Everything as in `python` "
      ]
    },
    {
      "cell_type": "code",
      "execution_count": null,
      "metadata": {
        "colab": {
          "base_uri": "https://localhost:8080/"
        },
        "id": "91KzTtqxV-uI",
        "outputId": "51a6173a-8538-4ced-91dd-7ce81dc754ea"
      },
      "outputs": [],
      "source": [
        "A[0, 0]"
      ]
    },
    {
      "cell_type": "code",
      "execution_count": null,
      "metadata": {
        "colab": {
          "base_uri": "https://localhost:8080/"
        },
        "id": "v9mfXOWdV-uJ",
        "outputId": "e40616ce-40b7-41ae-cce9-6b701dc0314c"
      },
      "outputs": [],
      "source": [
        "A[0]"
      ]
    },
    {
      "cell_type": "code",
      "execution_count": null,
      "metadata": {
        "colab": {
          "base_uri": "https://localhost:8080/"
        },
        "id": "sXIkGNBfV-uL",
        "outputId": "57bf0280-a653-4a59-f8b1-f6e277a352e5"
      },
      "outputs": [],
      "source": [
        "A[0:2]"
      ]
    },
    {
      "cell_type": "code",
      "execution_count": null,
      "metadata": {
        "colab": {
          "base_uri": "https://localhost:8080/"
        },
        "id": "5rMfBDf7V-uN",
        "outputId": "63a39cbf-fecb-40e4-8b64-b1701509106e"
      },
      "outputs": [],
      "source": [
        "A[:, 1:3]"
      ]
    },
    {
      "cell_type": "markdown",
      "metadata": {
        "id": "FaB2JtbOV-uO"
      },
      "source": [
        "If we want to flatten we can use `view`."
      ]
    },
    {
      "cell_type": "code",
      "execution_count": null,
      "metadata": {
        "colab": {
          "base_uri": "https://localhost:8080/"
        },
        "id": "JdA_eX4YV-uP",
        "outputId": "462c78b8-c4e6-4ede-edca-975744a669dd"
      },
      "outputs": [],
      "source": [
        "x = torch.randn(4, 4)\n",
        "y = x.view(16)\n",
        "z = x.view(-1, 8) \n",
        "print(x.size(), y.size(), z.size())"
      ]
    },
    {
      "cell_type": "markdown",
      "metadata": {
        "id": "43m2xd81V-uQ"
      },
      "source": [
        "## Converting"
      ]
    },
    {
      "cell_type": "code",
      "execution_count": null,
      "metadata": {
        "colab": {
          "base_uri": "https://localhost:8080/"
        },
        "id": "sOzOUDv5V-uR",
        "outputId": "3632ecc8-f1c2-4974-d774-5a7114bc9bd6"
      },
      "outputs": [],
      "source": [
        "A = torch.eye(3)\n",
        "A"
      ]
    },
    {
      "cell_type": "code",
      "execution_count": null,
      "metadata": {
        "id": "tW0eQE1fV-uS"
      },
      "outputs": [],
      "source": [
        "# torch --> numpy\n",
        "B = A.numpy()\n",
        "C = A.numpy().copy()\n",
        "#B[1, 1]"
      ]
    },
    {
      "cell_type": "code",
      "execution_count": null,
      "metadata": {
        "colab": {
          "base_uri": "https://localhost:8080/"
        },
        "id": "iGhdLFtGV-uT",
        "outputId": "4b54527f-eb15-4708-e8e8-acb6999b1632"
      },
      "outputs": [],
      "source": [
        "A.add_(.5)\n",
        "A"
      ]
    },
    {
      "cell_type": "code",
      "execution_count": null,
      "metadata": {
        "colab": {
          "base_uri": "https://localhost:8080/"
        },
        "id": "bl7C0SC8V-uU",
        "outputId": "ad1b196a-ba3c-4e67-89f0-90d225dd4fdf"
      },
      "outputs": [],
      "source": [
        "B"
      ]
    },
    {
      "cell_type": "code",
      "execution_count": null,
      "metadata": {
        "colab": {
          "base_uri": "https://localhost:8080/"
        },
        "id": "vK_vdq7FV-uV",
        "outputId": "27195bc3-bf46-4fa8-9aaa-393e961e156a"
      },
      "outputs": [],
      "source": [
        "C"
      ]
    },
    {
      "cell_type": "code",
      "execution_count": null,
      "metadata": {
        "colab": {
          "base_uri": "https://localhost:8080/"
        },
        "id": "yYX50NuPV-uW",
        "outputId": "9b8474c7-cf8d-422c-94a4-ceb552a73b8b"
      },
      "outputs": [],
      "source": [
        "# numpy --> torch\n",
        "D = torch.from_numpy(np.eye(3))\n",
        "D"
      ]
    },
    {
      "cell_type": "markdown",
      "metadata": {
        "id": "4_a3cpWFV-uY"
      },
      "source": [
        "## Other PyTorch methods"
      ]
    },
    {
      "cell_type": "code",
      "execution_count": null,
      "metadata": {
        "colab": {
          "base_uri": "https://localhost:8080/"
        },
        "id": "W-SdVOeFV-uZ",
        "outputId": "7c111cb0-0aa5-479a-b2c0-6bb6d6d6ef1b"
      },
      "outputs": [],
      "source": [
        "[o for o  in dir(A) if not o.startswith(\"_\")]"
      ]
    },
    {
      "cell_type": "markdown",
      "metadata": {
        "id": "MT7vZXntV-ua"
      },
      "source": [
        "## work with GPU"
      ]
    },
    {
      "cell_type": "code",
      "execution_count": null,
      "metadata": {
        "colab": {
          "base_uri": "https://localhost:8080/"
        },
        "id": "XezAeKapm_Rl",
        "outputId": "8eb20581-21cd-4632-8c45-3dbc7f54ceac"
      },
      "outputs": [],
      "source": [
        "!nvidia-smi"
      ]
    },
    {
      "cell_type": "code",
      "execution_count": null,
      "metadata": {
        "id": "SJ4MHmFZm_ZC"
      },
      "outputs": [],
      "source": []
    },
    {
      "cell_type": "code",
      "execution_count": null,
      "metadata": {
        "id": "PnQ6-MbSm_dS"
      },
      "outputs": [],
      "source": [
        "import torch"
      ]
    },
    {
      "cell_type": "code",
      "execution_count": null,
      "metadata": {
        "colab": {
          "base_uri": "https://localhost:8080/"
        },
        "id": "Xs77ACZHV-ua",
        "outputId": "a8a707ad-dc99-450d-d8c9-5e2b93a3ecc5"
      },
      "outputs": [],
      "source": [
        "device = torch.device(\"cuda:0\" if torch.cuda.is_available() else \"cpu\")\n",
        "device"
      ]
    },
    {
      "cell_type": "markdown",
      "metadata": {
        "id": "BRhXsXP3V-ub"
      },
      "source": [
        "If we have the GPU the output will be: \n",
        "`device(type='cuda', index=0)`\n",
        "\n",
        "Move data to GPU `.to(device)`."
      ]
    },
    {
      "cell_type": "code",
      "execution_count": null,
      "metadata": {
        "colab": {
          "base_uri": "https://localhost:8080/"
        },
        "id": "dSsumbOuV-ub",
        "outputId": "091331f9-08ac-42bf-8397-3cc8dc50f90c"
      },
      "outputs": [],
      "source": [
        "data = torch.eye(3)\n",
        "data.to(device)"
      ]
    },
    {
      "cell_type": "markdown",
      "metadata": {
        "id": "UeNMhcsHV-uc"
      },
      "source": [
        "Calculations on  GPU"
      ]
    },
    {
      "cell_type": "code",
      "execution_count": null,
      "metadata": {
        "colab": {
          "base_uri": "https://localhost:8080/"
        },
        "id": "5DsnjQBYV-ud",
        "outputId": "f76d8723-06ba-4eb1-8c1e-be1e3a6f403d"
      },
      "outputs": [],
      "source": [
        "res = data + data\n",
        "res"
      ]
    },
    {
      "cell_type": "code",
      "execution_count": null,
      "metadata": {
        "colab": {
          "base_uri": "https://localhost:8080/"
        },
        "id": "gUtDGkQGV-ue",
        "outputId": "d2f9ec4c-a826-471d-fc84-2dc24315ae22"
      },
      "outputs": [],
      "source": [
        "res.device"
      ]
    },
    {
      "cell_type": "markdown",
      "metadata": {
        "id": "dAZWcETGV-uf"
      },
      "source": [
        "# Debugging"
      ]
    },
    {
      "cell_type": "code",
      "execution_count": null,
      "metadata": {
        "colab": {
          "base_uri": "https://localhost:8080/"
        },
        "id": "m7L_BquBV-uf",
        "outputId": "e7e4b022-d56d-4967-a74b-ea28669f26cc"
      },
      "outputs": [],
      "source": [
        "import torch\n",
        "import torch.nn as nn\n",
        "import torch.nn.functional as F\n",
        "import torch.optim as optim\n",
        "import torchvision\n",
        "\n",
        "DEVICE = torch.device(\"cuda:0\" if torch.cuda.is_available() else \"cpu\")\n",
        "DEVICE"
      ]
    },
    {
      "cell_type": "markdown",
      "metadata": {
        "id": "efbMBxNhV-ug"
      },
      "source": [
        "## IPython Debugger\n",
        "\n",
        "Plačiau http://wangchuan.github.io/coding/2017/07/12/ipdb-cheat-sheet.html\n",
        "\n",
        "- h(help): Print help\n",
        "\n",
        "- n(ext): Continue execution until the next line in the current function is reached or it returns.\n",
        "- s(tep): Execute the current line, stop at the first possible occasion (either in a function that is called or in the current function).\n",
        "- r(eturn): Continue execution until the current function returns.\n",
        "- c(ont(inue)): Continue execution, only stop when a breakpoint is encountered.\n",
        "\n",
        "- r(eturn): Continue execution until the current function returns.\n",
        "- a(rgs): Print the argument list of the current function."
      ]
    },
    {
      "cell_type": "code",
      "execution_count": null,
      "metadata": {
        "id": "0zaFn46jV-ug"
      },
      "outputs": [],
      "source": [
        "from IPython.core.debugger import set_trace"
      ]
    },
    {
      "cell_type": "code",
      "execution_count": null,
      "metadata": {
        "id": "SoYiuJcJV-uh"
      },
      "outputs": [],
      "source": [
        "def my_function(x):\n",
        "    answer = 42\n",
        "    #set_trace()  # <-- uncomment!\n",
        "    answer += x\n",
        "    return answer\n",
        "\n",
        "my_function(12)"
      ]
    },
    {
      "cell_type": "markdown",
      "metadata": {
        "id": "c-uP4iauV-ui"
      },
      "source": [
        "## Other examples"
      ]
    },
    {
      "cell_type": "code",
      "execution_count": null,
      "metadata": {
        "colab": {
          "base_uri": "https://localhost:8080/"
        },
        "id": "TBXp2O4fV-ui",
        "outputId": "fb5aa704-c094-49fe-8bd2-f326d470f859"
      },
      "outputs": [],
      "source": [
        "X = torch.rand((5, 3))\n",
        "X"
      ]
    },
    {
      "cell_type": "code",
      "execution_count": null,
      "metadata": {
        "id": "kSS9Pw7fV-uk"
      },
      "outputs": [],
      "source": [
        "class MyModule(nn.Module):\n",
        "    def __init__(self):\n",
        "        super().__init__()\n",
        "        self.lin = nn.Linear(3, 1)\n",
        "    \n",
        "    def forward(self, X):\n",
        "        # set_trace()\n",
        "        x = self.lin(X)\n",
        "        return x\n",
        "\n",
        "    \n",
        "model = MyModule()\n",
        "y_ = model(X)\n",
        "\n",
        "# assert y_.shape == (5, 1), y_.shape"
      ]
    },
    {
      "cell_type": "code",
      "execution_count": null,
      "metadata": {
        "colab": {
          "base_uri": "https://localhost:8080/"
        },
        "id": "of8-WyFrV-ul",
        "outputId": "ff64039d-b6d6-4acc-82a3-1743bb08a831"
      },
      "outputs": [],
      "source": [
        "y_\n"
      ]
    },
    {
      "cell_type": "code",
      "execution_count": null,
      "metadata": {
        "id": "houftzwtV-u3"
      },
      "outputs": [],
      "source": []
    }
  ],
  "metadata": {
    "accelerator": "GPU",
    "colab": {
      "provenance": [],
      "toc_visible": true
    },
    "kernelspec": {
      "display_name": "Python 3",
      "language": "python",
      "name": "python3"
    },
    "language_info": {
      "codemirror_mode": {
        "name": "ipython",
        "version": 3
      },
      "file_extension": ".py",
      "mimetype": "text/x-python",
      "name": "python",
      "nbconvert_exporter": "python",
      "pygments_lexer": "ipython3",
      "version": "3.10.6"
    },
    "vscode": {
      "interpreter": {
        "hash": "e7370f93d1d0cde622a1f8e1c04877d8463912d04d973331ad4851f04de6915a"
      }
    }
  },
  "nbformat": 4,
  "nbformat_minor": 0
}
