{
 "cells": [
  {
   "cell_type": "markdown",
   "id": "4e9a86ec",
   "metadata": {},
   "source": [
    "# Scraping IMDb movies"
   ]
  },
  {
   "cell_type": "code",
   "execution_count": 53,
   "id": "84798c0b",
   "metadata": {},
   "outputs": [],
   "source": [
    "charts = [\n",
    "#     'https://www.imdb.com/search/title/?groups=top_1000&adult=include&count=250&sort=user_rating,desc&title_type=feature&num_votes=30000',\n",
    "#     'https://www.imdb.com/search/title/?groups=top_1000&start=251&adult=include&count=250&sort=user_rating,desc&title_type=feature&num_votes=30000',\n",
    "#     'https://www.imdb.com/search/title/?groups=top_1000&start=501&adult=include&count=250&sort=user_rating,desc&title_type=feature&num_votes=30000',\n",
    "#     'https://www.imdb.com/search/title/?groups=top_1000&start=751&adult=include&count=250&sort=user_rating,desc&title_type=feature&num_votes=30000',\n",
    "#     'https://www.imdb.com/search/title/?genres=action&adult=include&count=250&sort=user_rating,desc&title_type=feature&num_votes=30000',\n",
    "#     'https://www.imdb.com/search/title/?genres=action&start=251&adult=include&count=250&sort=user_rating,desc&title_type=feature&num_votes=30000',\n",
    "#     'https://www.imdb.com/search/title/?genres=action&start=501&adult=include&count=250&sort=user_rating,desc&title_type=feature&num_votes=30000',\n",
    "#     'https://www.imdb.com/search/title/?genres=drama&adult=include&count=250&sort=user_rating,desc&title_type=feature&num_votes=30000',\n",
    "#     'https://www.imdb.com/search/title/?genres=drama&start=251&adult=include&count=250&sort=user_rating,desc&title_type=feature&num_votes=30000',\n",
    "#     'https://www.imdb.com/search/title/?genres=comedy&adult=include&count=250&sort=user_rating,desc&title_type=feature&num_votes=30000',\n",
    "#     'https://www.imdb.com/search/title/?genres=western&adult=include&count=250&sort=user_rating,desc&title_type=feature&num_votes=30000',\n",
    "#     'https://www.imdb.com/search/title/?genres=thriller&adult=include&count=250&sort=user_rating,desc&title_type=feature&num_votes=30000',\n",
    "#     'https://www.imdb.com/search/title/?genres=family&adult=include&count=250&sort=user_rating,desc&title_type=feature&num_votes=30000',\n",
    "#     'https://www.imdb.com/search/title/?genres=war&adult=include&count=100&sort=user_rating,desc&title_type=feature&num_votes=30000',\n",
    "#     'https://www.imdb.com/search/title/?genres=horror&adult=include&count=100&sort=user_rating,desc&title_type=feature&num_votes=30000',\n",
    "#     'https://www.imdb.com/search/title/?genres=history&adult=include&count=250&sort=user_rating,desc&title_type=feature&num_votes=30000',\n",
    "#     'https://www.imdb.com/search/title/?genres=history&adult=include&start=251&count=250&sort=user_rating,desc&title_type=feature&num_votes=30000',\n",
    "#     'https://www.imdb.com/search/title/?genres=crime&adult=include&count=250&sort=user_rating,desc&title_type=feature&num_votes=30000',\n",
    "#     'https://www.imdb.com/search/title/?genres=animation&adult=include&count=250&sort=user_rating,desc&title_type=feature&num_votes=30000',\n",
    "#     'https://www.imdb.com/search/title/?genres=romance&adult=include&count=250&sort=user_rating,desc&title_type=feature&num_votes=30000',\n",
    "#     'https://www.imdb.com/search/title/?genres=sci-fi&adult=include&count=250&sort=user_rating,desc&title_type=feature&num_votes=30000',\n",
    "#     'https://www.imdb.com/search/title/?genres=sport&adult=include&count=250&sort=user_rating,desc&title_type=feature&num_votes=30000',\n",
    "    'https://www.imdb.com/search/title/?title_type=tv_series&sort=user_rating,desc&count=250&num_votes=30000,',\n",
    "    'https://www.imdb.com/search/title/?title_type=tv_series&&sort=user_rating,desc&count=250&num_votes=30000,&start=251',\n",
    "    'https://www.imdb.com/search/title/?title_type=feature&num_votes=30000,&sort=user_rating,desc&count=250',\n",
    "    'https://www.imdb.com/search/title/?title_type=feature&num_votes=30000,&sort=user_rating,desc&count=250&start=251',\n",
    "    'https://www.imdb.com/search/title/?title_type=feature&num_votes=30000,&sort=user_rating,desc&count=250&start=501',\n",
    "    'https://www.imdb.com/search/title/?title_type=feature&num_votes=30000,&sort=user_rating,desc&count=250&start=751',\n",
    "    'https://www.imdb.com/search/title/?title_type=feature&num_votes=30000,&sort=user_rating,desc&count=250&start=1001',\n",
    "    'https://www.imdb.com/search/title/?title_type=feature&num_votes=30000,&sort=user_rating,desc&count=250&start=1251',\n",
    "    'https://www.imdb.com/search/title/?title_type=feature&num_votes=30000,&sort=user_rating,desc&count=250&start=1501',\n",
    "    'https://www.imdb.com/search/title/?title_type=feature&num_votes=30000,&sort=user_rating,desc&count=250&start=1751',\n",
    "    'https://www.imdb.com/search/title/?title_type=feature&num_votes=30000,&sort=user_rating,desc&count=250&start=2001',\n",
    "    'https://www.imdb.com/search/title/?title_type=feature&num_votes=30000,&sort=user_rating,desc&count=250&start=2251',\n",
    "    'https://www.imdb.com/search/title/?title_type=feature&num_votes=30000,&sort=user_rating,desc&count=250&start=2501',\n",
    "    'https://www.imdb.com/search/title/?title_type=feature&num_votes=30000,&sort=user_rating,desc&count=250&start=2751',\n",
    "    'https://www.imdb.com/search/title/?title_type=feature&num_votes=30000,&sort=user_rating,desc&count=250&start=3001',\n",
    "    'https://www.imdb.com/search/title/?title_type=feature&num_votes=30000,&sort=user_rating,desc&count=250&start=3251',\n",
    "    'https://www.imdb.com/search/title/?title_type=feature&num_votes=30000,&sort=user_rating,desc&count=250&start=3501',\n",
    "    'https://www.imdb.com/search/title/?title_type=feature&num_votes=30000,&sort=user_rating,desc&count=250&start=3751',\n",
    "    'https://www.imdb.com/search/title/?title_type=feature&num_votes=30000,&sort=user_rating,desc&count=250&start=4001',\n",
    "    'https://www.imdb.com/search/title/?title_type=feature&num_votes=30000,&sort=user_rating,desc&count=250&start=4251',\n",
    "    'https://www.imdb.com/search/title/?title_type=feature&num_votes=30000,&sort=user_rating,desc&count=250&start=4501',\n",
    "    'https://www.imdb.com/search/title/?title_type=feature&num_votes=30000,&sort=user_rating,desc&count=250&start=4751'\n",
    "]"
   ]
  },
  {
   "cell_type": "code",
   "execution_count": 19,
   "id": "d902e722",
   "metadata": {},
   "outputs": [],
   "source": [
    "import requests\n",
    "from bs4 import BeautifulSoup\n",
    "import pandas as pd"
   ]
  },
  {
   "cell_type": "code",
   "execution_count": 86,
   "id": "8d8a3c35",
   "metadata": {},
   "outputs": [
    {
     "name": "stdout",
     "output_type": "stream",
     "text": [
      "found 250 movies https://www.imdb.com/search/title/?title_type=tv_series&sort=user_rating,desc&count=250&num_votes=30000,\n",
      "found 250 movies https://www.imdb.com/search/title/?title_type=tv_series&&sort=user_rating,desc&count=250&num_votes=30000,&start=251\n",
      "found 250 movies https://www.imdb.com/search/title/?title_type=feature&num_votes=30000,&sort=user_rating,desc&count=250\n",
      "found 250 movies https://www.imdb.com/search/title/?title_type=feature&num_votes=30000,&sort=user_rating,desc&count=250&start=251\n",
      "found 250 movies https://www.imdb.com/search/title/?title_type=feature&num_votes=30000,&sort=user_rating,desc&count=250&start=501\n",
      "found 250 movies https://www.imdb.com/search/title/?title_type=feature&num_votes=30000,&sort=user_rating,desc&count=250&start=751\n",
      "found 250 movies https://www.imdb.com/search/title/?title_type=feature&num_votes=30000,&sort=user_rating,desc&count=250&start=1001\n",
      "found 250 movies https://www.imdb.com/search/title/?title_type=feature&num_votes=30000,&sort=user_rating,desc&count=250&start=1251\n",
      "found 250 movies https://www.imdb.com/search/title/?title_type=feature&num_votes=30000,&sort=user_rating,desc&count=250&start=1501\n",
      "skipping empty description: Coming Soon\n",
      "found 250 movies https://www.imdb.com/search/title/?title_type=feature&num_votes=30000,&sort=user_rating,desc&count=250&start=1751\n",
      "skipping empty description: Treasure Planet\n",
      "found 250 movies https://www.imdb.com/search/title/?title_type=feature&num_votes=30000,&sort=user_rating,desc&count=250&start=2001\n",
      "found 250 movies https://www.imdb.com/search/title/?title_type=feature&num_votes=30000,&sort=user_rating,desc&count=250&start=2251\n",
      "found 250 movies https://www.imdb.com/search/title/?title_type=feature&num_votes=30000,&sort=user_rating,desc&count=250&start=2501\n",
      "found 250 movies https://www.imdb.com/search/title/?title_type=feature&num_votes=30000,&sort=user_rating,desc&count=250&start=2751\n",
      "found 250 movies https://www.imdb.com/search/title/?title_type=feature&num_votes=30000,&sort=user_rating,desc&count=250&start=3001\n",
      "found 250 movies https://www.imdb.com/search/title/?title_type=feature&num_votes=30000,&sort=user_rating,desc&count=250&start=3251\n",
      "found 250 movies https://www.imdb.com/search/title/?title_type=feature&num_votes=30000,&sort=user_rating,desc&count=250&start=3501\n",
      "found 250 movies https://www.imdb.com/search/title/?title_type=feature&num_votes=30000,&sort=user_rating,desc&count=250&start=3751\n",
      "skipping empty description: Prospect\n",
      "found 250 movies https://www.imdb.com/search/title/?title_type=feature&num_votes=30000,&sort=user_rating,desc&count=250&start=4001\n",
      "found 250 movies https://www.imdb.com/search/title/?title_type=feature&num_votes=30000,&sort=user_rating,desc&count=250&start=4251\n",
      "found 250 movies https://www.imdb.com/search/title/?title_type=feature&num_votes=30000,&sort=user_rating,desc&count=250&start=4501\n",
      "found 250 movies https://www.imdb.com/search/title/?title_type=feature&num_votes=30000,&sort=user_rating,desc&count=250&start=4751\n"
     ]
    }
   ],
   "source": [
    "def title_exists(new_title, data):\n",
    "    for title in data:\n",
    "        if title['title'] == new_title:\n",
    "            return True\n",
    "        \n",
    "    return False\n",
    "\n",
    "def get_summary(movie):\n",
    "    description_el = movie.select_one('.ratings-bar + .text-muted')\n",
    "    if no_description(description_el):\n",
    "        return ''\n",
    "    \n",
    "    links = description_el.find_all('a')\n",
    "    summary_link = None\n",
    "    \n",
    "    for link in links:\n",
    "        if 'full summary' in link.text:\n",
    "            summary_link = 'https://imdb.com' + link['href']\n",
    "\n",
    "    if summary_link is None:\n",
    "        return description_el.text.strip()\n",
    "    \n",
    "    return ''\n",
    "\n",
    "def no_description(element):\n",
    "    return element.find('a') and (element.find('a').text == 'Add a Plot' or element.find('a').text == 'See full synopsis')\n",
    "\n",
    "def no_runtime(element):\n",
    "    return not (element and element.text)\n",
    "\n",
    "data = []\n",
    "headers = {\n",
    "    'Accept-Language': 'en-US,en;q=0.8'\n",
    "}\n",
    "\n",
    "for url in charts:\n",
    "    response = requests.get(url, headers=headers)\n",
    "    soup = BeautifulSoup(response.content, 'html.parser')\n",
    "    \n",
    "    movies = soup.select('.lister-item.mode-advanced')\n",
    "    print('found', len(movies), 'movies', url)\n",
    "    for movie in movies:\n",
    "        movie_title = movie.select_one('h3.lister-item-header a').text\n",
    "        runtime = movie.select_one('span.runtime')\n",
    "\n",
    "        description = get_summary(movie)\n",
    "        if description == '':\n",
    "            print('skipping empty description:', movie_title)\n",
    "            continue\n",
    "            \n",
    "        year = movie.select_one('.lister-item-year').text.strip('()')\n",
    "        rating = movie.select_one('.ratings-imdb-rating strong').text\n",
    "        runtime = runtime.text if not no_runtime(runtime) else None\n",
    "        genres = movie.select_one('span.genre').text.strip()\n",
    "        director_and_stars_elem = movie.select('p:not(.text-muted):nth-of-type(3) > *')\n",
    "        passed_ghost = False\n",
    "        directors = []\n",
    "        stars = []\n",
    "        for el in director_and_stars_elem:\n",
    "            if 'ghost' in el.get('class', []):\n",
    "                passed_ghost = True\n",
    "                continue\n",
    "                \n",
    "            if passed_ghost:\n",
    "                stars.append(el.text)\n",
    "            else:\n",
    "                directors.append(el.text)\n",
    "                \n",
    "        if not passed_ghost:\n",
    "            stars = directors\n",
    "            directors = []\n",
    "        \n",
    "        data.append({\n",
    "            'title': movie_title,\n",
    "            'description': description,\n",
    "            'year': year,\n",
    "            'rating': rating,\n",
    "            'runtime': runtime,\n",
    "            'genres': genres,\n",
    "            'directors': ', '.join(directors),\n",
    "            'stars': ', '.join(stars)\n",
    "        })\n",
    "        \n"
   ]
  },
  {
   "cell_type": "code",
   "execution_count": 87,
   "id": "c979ea5c",
   "metadata": {},
   "outputs": [],
   "source": [
    "df = pd.DataFrame(data)"
   ]
  },
  {
   "cell_type": "code",
   "execution_count": 88,
   "id": "f3288034",
   "metadata": {},
   "outputs": [
    {
     "data": {
      "text/html": [
       "<div>\n",
       "<style scoped>\n",
       "    .dataframe tbody tr th:only-of-type {\n",
       "        vertical-align: middle;\n",
       "    }\n",
       "\n",
       "    .dataframe tbody tr th {\n",
       "        vertical-align: top;\n",
       "    }\n",
       "\n",
       "    .dataframe thead th {\n",
       "        text-align: right;\n",
       "    }\n",
       "</style>\n",
       "<table border=\"1\" class=\"dataframe\">\n",
       "  <thead>\n",
       "    <tr style=\"text-align: right;\">\n",
       "      <th></th>\n",
       "      <th>title</th>\n",
       "      <th>description</th>\n",
       "      <th>year</th>\n",
       "      <th>rating</th>\n",
       "      <th>runtime</th>\n",
       "      <th>genres</th>\n",
       "      <th>directors</th>\n",
       "      <th>stars</th>\n",
       "    </tr>\n",
       "  </thead>\n",
       "  <tbody>\n",
       "    <tr>\n",
       "      <th>0</th>\n",
       "      <td>Breaking Bad</td>\n",
       "      <td>A chemistry teacher diagnosed with inoperable ...</td>\n",
       "      <td>2008–2013</td>\n",
       "      <td>9.5</td>\n",
       "      <td>49 min</td>\n",
       "      <td>Crime, Drama, Thriller</td>\n",
       "      <td></td>\n",
       "      <td>Bryan Cranston, Aaron Paul, Anna Gunn, Betsy B...</td>\n",
       "    </tr>\n",
       "    <tr>\n",
       "      <th>1</th>\n",
       "      <td>The Wire</td>\n",
       "      <td>The Baltimore drug scene, as seen through the ...</td>\n",
       "      <td>2002–2008</td>\n",
       "      <td>9.3</td>\n",
       "      <td>59 min</td>\n",
       "      <td>Crime, Drama, Thriller</td>\n",
       "      <td></td>\n",
       "      <td>Dominic West, Lance Reddick, Sonja Sohn, Wende...</td>\n",
       "    </tr>\n",
       "    <tr>\n",
       "      <th>2</th>\n",
       "      <td>The Chosen</td>\n",
       "      <td>A charismatic fisherman struggling with debt. ...</td>\n",
       "      <td>2017–</td>\n",
       "      <td>9.3</td>\n",
       "      <td>54 min</td>\n",
       "      <td>Drama, History</td>\n",
       "      <td></td>\n",
       "      <td>Shahar Isaac, Jonathan Roumie, Paras Patel, El...</td>\n",
       "    </tr>\n",
       "    <tr>\n",
       "      <th>3</th>\n",
       "      <td>Avatar: The Last Airbender</td>\n",
       "      <td>In a war-torn world of elemental magic, a youn...</td>\n",
       "      <td>2005–2008</td>\n",
       "      <td>9.3</td>\n",
       "      <td>23 min</td>\n",
       "      <td>Animation, Action, Adventure</td>\n",
       "      <td></td>\n",
       "      <td>Dee Bradley Baker, Zach Tyler Eisen, Mae Whitm...</td>\n",
       "    </tr>\n",
       "    <tr>\n",
       "      <th>4</th>\n",
       "      <td>Scam 1992: The Harshad Mehta Story</td>\n",
       "      <td>Set in 1980s and '90s Bombay, it follows the l...</td>\n",
       "      <td>2020</td>\n",
       "      <td>9.3</td>\n",
       "      <td>54 min</td>\n",
       "      <td>Biography, Crime, Drama</td>\n",
       "      <td></td>\n",
       "      <td>Pratik Gandhi, Shreya Dhanwanthary, Hemant Khe...</td>\n",
       "    </tr>\n",
       "    <tr>\n",
       "      <th>...</th>\n",
       "      <td>...</td>\n",
       "      <td>...</td>\n",
       "      <td>...</td>\n",
       "      <td>...</td>\n",
       "      <td>...</td>\n",
       "      <td>...</td>\n",
       "      <td>...</td>\n",
       "      <td>...</td>\n",
       "    </tr>\n",
       "    <tr>\n",
       "      <th>5492</th>\n",
       "      <td>Showtime</td>\n",
       "      <td>A spoof of buddy cop movies where two very dif...</td>\n",
       "      <td>2002</td>\n",
       "      <td>5.5</td>\n",
       "      <td>95 min</td>\n",
       "      <td>Action, Comedy, Crime</td>\n",
       "      <td>Tom Dey</td>\n",
       "      <td>Robert De Niro, Eddie Murphy, Rene Russo, Rach...</td>\n",
       "    </tr>\n",
       "    <tr>\n",
       "      <th>5493</th>\n",
       "      <td>Gunjan Saxena: The Kargil Girl</td>\n",
       "      <td>Inspired by the life of a fearless young offic...</td>\n",
       "      <td>2020</td>\n",
       "      <td>5.5</td>\n",
       "      <td>112 min</td>\n",
       "      <td>Action, Biography, Drama</td>\n",
       "      <td>ALi Khan AK, Sharan Sharma</td>\n",
       "      <td>Janhvi Kapoor, Pankaj Tripathi, Angad Bedi, Ma...</td>\n",
       "    </tr>\n",
       "    <tr>\n",
       "      <th>5494</th>\n",
       "      <td>67th Street, New York, NY</td>\n",
       "      <td>A rookie detective Dylan Williams, hunt a seri...</td>\n",
       "      <td>2011</td>\n",
       "      <td>5.5</td>\n",
       "      <td>105 min</td>\n",
       "      <td>Crime, Thriller</td>\n",
       "      <td>Enzo Zelocchi</td>\n",
       "      <td>Enzo Zelocchi, David Man, Ladae Bond, Casey Cadag</td>\n",
       "    </tr>\n",
       "    <tr>\n",
       "      <th>5495</th>\n",
       "      <td>65</td>\n",
       "      <td>An astronaut crash lands on a mysterious plane...</td>\n",
       "      <td>2023</td>\n",
       "      <td>5.4</td>\n",
       "      <td>93 min</td>\n",
       "      <td>Action, Adventure, Drama</td>\n",
       "      <td>Scott Beck, Bryan Woods</td>\n",
       "      <td>Adam Driver, Ariana Greenblatt, Chloe Coleman,...</td>\n",
       "    </tr>\n",
       "    <tr>\n",
       "      <th>5496</th>\n",
       "      <td>Deep Water</td>\n",
       "      <td>A well-to-do husband who allows his wife to ha...</td>\n",
       "      <td>I) (2022</td>\n",
       "      <td>5.4</td>\n",
       "      <td>115 min</td>\n",
       "      <td>Drama, Mystery, Thriller</td>\n",
       "      <td>Adrian Lyne</td>\n",
       "      <td>Ben Affleck, Ana de Armas, Tracy Letts, Grace ...</td>\n",
       "    </tr>\n",
       "  </tbody>\n",
       "</table>\n",
       "<p>5497 rows × 8 columns</p>\n",
       "</div>"
      ],
      "text/plain": [
       "                                   title  \\\n",
       "0                           Breaking Bad   \n",
       "1                               The Wire   \n",
       "2                             The Chosen   \n",
       "3             Avatar: The Last Airbender   \n",
       "4     Scam 1992: The Harshad Mehta Story   \n",
       "...                                  ...   \n",
       "5492                            Showtime   \n",
       "5493      Gunjan Saxena: The Kargil Girl   \n",
       "5494           67th Street, New York, NY   \n",
       "5495                                  65   \n",
       "5496                          Deep Water   \n",
       "\n",
       "                                            description       year rating  \\\n",
       "0     A chemistry teacher diagnosed with inoperable ...  2008–2013    9.5   \n",
       "1     The Baltimore drug scene, as seen through the ...  2002–2008    9.3   \n",
       "2     A charismatic fisherman struggling with debt. ...     2017–     9.3   \n",
       "3     In a war-torn world of elemental magic, a youn...  2005–2008    9.3   \n",
       "4     Set in 1980s and '90s Bombay, it follows the l...       2020    9.3   \n",
       "...                                                 ...        ...    ...   \n",
       "5492  A spoof of buddy cop movies where two very dif...       2002    5.5   \n",
       "5493  Inspired by the life of a fearless young offic...       2020    5.5   \n",
       "5494  A rookie detective Dylan Williams, hunt a seri...       2011    5.5   \n",
       "5495  An astronaut crash lands on a mysterious plane...       2023    5.4   \n",
       "5496  A well-to-do husband who allows his wife to ha...   I) (2022    5.4   \n",
       "\n",
       "      runtime                        genres                   directors  \\\n",
       "0      49 min        Crime, Drama, Thriller                               \n",
       "1      59 min        Crime, Drama, Thriller                               \n",
       "2      54 min                Drama, History                               \n",
       "3      23 min  Animation, Action, Adventure                               \n",
       "4      54 min       Biography, Crime, Drama                               \n",
       "...       ...                           ...                         ...   \n",
       "5492   95 min         Action, Comedy, Crime                     Tom Dey   \n",
       "5493  112 min      Action, Biography, Drama  ALi Khan AK, Sharan Sharma   \n",
       "5494  105 min               Crime, Thriller               Enzo Zelocchi   \n",
       "5495   93 min      Action, Adventure, Drama     Scott Beck, Bryan Woods   \n",
       "5496  115 min      Drama, Mystery, Thriller                 Adrian Lyne   \n",
       "\n",
       "                                                  stars  \n",
       "0     Bryan Cranston, Aaron Paul, Anna Gunn, Betsy B...  \n",
       "1     Dominic West, Lance Reddick, Sonja Sohn, Wende...  \n",
       "2     Shahar Isaac, Jonathan Roumie, Paras Patel, El...  \n",
       "3     Dee Bradley Baker, Zach Tyler Eisen, Mae Whitm...  \n",
       "4     Pratik Gandhi, Shreya Dhanwanthary, Hemant Khe...  \n",
       "...                                                 ...  \n",
       "5492  Robert De Niro, Eddie Murphy, Rene Russo, Rach...  \n",
       "5493  Janhvi Kapoor, Pankaj Tripathi, Angad Bedi, Ma...  \n",
       "5494  Enzo Zelocchi, David Man, Ladae Bond, Casey Cadag  \n",
       "5495  Adam Driver, Ariana Greenblatt, Chloe Coleman,...  \n",
       "5496  Ben Affleck, Ana de Armas, Tracy Letts, Grace ...  \n",
       "\n",
       "[5497 rows x 8 columns]"
      ]
     },
     "execution_count": 88,
     "metadata": {},
     "output_type": "execute_result"
    }
   ],
   "source": [
    "df"
   ]
  },
  {
   "cell_type": "code",
   "execution_count": 89,
   "id": "a32bfda9",
   "metadata": {},
   "outputs": [],
   "source": [
    "df.to_csv('movies_db.csv')"
   ]
  },
  {
   "cell_type": "markdown",
   "id": "77a60ad6",
   "metadata": {},
   "source": [
    "# Training the model"
   ]
  },
  {
   "cell_type": "code",
   "execution_count": 2,
   "id": "21c6b627",
   "metadata": {},
   "outputs": [
    {
     "name": "stdout",
     "output_type": "stream",
     "text": [
      "/Users/mantasbagdonas/miniconda3/envs/transformers/bin/python\r\n"
     ]
    }
   ],
   "source": [
    "!which python"
   ]
  },
  {
   "cell_type": "code",
   "execution_count": 3,
   "id": "2e8f9824",
   "metadata": {},
   "outputs": [
    {
     "name": "stdout",
     "output_type": "stream",
     "text": [
      "Intel MKL WARNING: Support of Intel(R) Streaming SIMD Extensions 4.2 (Intel(R) SSE4.2) enabled only processors has been deprecated. Intel oneAPI Math Kernel Library 2025.0 will require Intel(R) Advanced Vector Extensions (Intel(R) AVX) instructions.\n",
      "Intel MKL WARNING: Support of Intel(R) Streaming SIMD Extensions 4.2 (Intel(R) SSE4.2) enabled only processors has been deprecated. Intel oneAPI Math Kernel Library 2025.0 will require Intel(R) Advanced Vector Extensions (Intel(R) AVX) instructions.\n"
     ]
    }
   ],
   "source": [
    "import numpy as np\n",
    "from transformers import BertTokenizer, BertModel\n",
    "from transformers import AutoTokenizer, AutoModel"
   ]
  },
  {
   "cell_type": "markdown",
   "id": "fc564b04",
   "metadata": {},
   "source": [
    "# Movie search"
   ]
  },
  {
   "cell_type": "code",
   "execution_count": 11,
   "id": "0575718e",
   "metadata": {},
   "outputs": [],
   "source": [
    "from sklearn.metrics.pairwise import cosine_similarity\n",
    "import pandas as pd"
   ]
  },
  {
   "cell_type": "code",
   "execution_count": 12,
   "id": "420b42a3",
   "metadata": {},
   "outputs": [],
   "source": [
    "df = pd.read_csv('movies_db.csv')"
   ]
  },
  {
   "cell_type": "code",
   "execution_count": 13,
   "id": "5b1bb2be",
   "metadata": {},
   "outputs": [
    {
     "data": {
      "text/plain": [
       "\"A chemistry teacher diagnosed with inoperable lung cancer turns to manufacturing and selling methamphetamine with a former student in order to secure his family's future.\""
      ]
     },
     "execution_count": 13,
     "metadata": {},
     "output_type": "execute_result"
    }
   ],
   "source": [
    "df.iloc[0]['description']"
   ]
  },
  {
   "cell_type": "code",
   "execution_count": 173,
   "id": "b1350d6c",
   "metadata": {},
   "outputs": [],
   "source": [
    "search = \"chemistry teacher cooking methamphetamine\"\n",
    "bb = df.iloc[0]['description']"
   ]
  },
  {
   "cell_type": "code",
   "execution_count": 174,
   "id": "6b88fcee",
   "metadata": {},
   "outputs": [
    {
     "name": "stderr",
     "output_type": "stream",
     "text": [
      "Some weights of the model checkpoint at bert-base-uncased were not used when initializing BertModel: ['cls.predictions.decoder.weight', 'cls.predictions.transform.LayerNorm.bias', 'cls.predictions.transform.LayerNorm.weight', 'cls.seq_relationship.bias', 'cls.predictions.transform.dense.weight', 'cls.predictions.bias', 'cls.predictions.transform.dense.bias', 'cls.seq_relationship.weight']\n",
      "- This IS expected if you are initializing BertModel from the checkpoint of a model trained on another task or with another architecture (e.g. initializing a BertForSequenceClassification model from a BertForPreTraining model).\n",
      "- This IS NOT expected if you are initializing BertModel from the checkpoint of a model that you expect to be exactly identical (initializing a BertForSequenceClassification model from a BertForSequenceClassification model).\n"
     ]
    }
   ],
   "source": [
    "tokenizer = BertTokenizer.from_pretrained('bert-base-uncased')\n",
    "model = BertModel.from_pretrained(\"bert-base-uncased\")"
   ]
  },
  {
   "cell_type": "code",
   "execution_count": 175,
   "id": "d86c531d",
   "metadata": {},
   "outputs": [],
   "source": [
    "# doing the tokenization to prep data as tokens\n",
    "preprocessed_data = []\n",
    "\n",
    "for t in [search, bb]:\n",
    "  encoded_input = tokenizer(t, return_tensors='pt')\n",
    "  preprocessed_data.append(encoded_input)"
   ]
  },
  {
   "cell_type": "code",
   "execution_count": 176,
   "id": "2350e014",
   "metadata": {},
   "outputs": [],
   "source": [
    "# calculating last hidden states and everaging to have fixed dimmention features for each text\n",
    "outputs = []\n",
    "\n",
    "for inputs in preprocessed_data:\n",
    "  output = model(**inputs)\n",
    "  features = np.mean(output[0].detach().numpy(), axis = 1)\n",
    "  outputs.append(features)"
   ]
  },
  {
   "cell_type": "code",
   "execution_count": 177,
   "id": "0b1cc6ed",
   "metadata": {},
   "outputs": [
    {
     "data": {
      "text/plain": [
       "array([[0.6866068]], dtype=float32)"
      ]
     },
     "execution_count": 177,
     "metadata": {},
     "output_type": "execute_result"
    }
   ],
   "source": [
    "cosine_similarity(outputs[0], outputs[1])"
   ]
  },
  {
   "cell_type": "markdown",
   "id": "c4aa7576",
   "metadata": {},
   "source": [
    "# Using SentenceTransformer"
   ]
  },
  {
   "cell_type": "code",
   "execution_count": 20,
   "id": "0714c24b",
   "metadata": {},
   "outputs": [],
   "source": [
    "from sentence_transformers import SentenceTransformer"
   ]
  },
  {
   "cell_type": "code",
   "execution_count": 76,
   "id": "76bf7649",
   "metadata": {},
   "outputs": [],
   "source": [
    "class SemanticSearch:\n",
    "    def __init__(self, model, data):\n",
    "        self.model = model\n",
    "        self.embeddings = model.encode(data)\n",
    "    \n",
    "    def search(self, query):\n",
    "        query_embedding = model.encode([query])[0]\n",
    "        \n",
    "        similarities = cosine_similarity([query_embedding], movie_embeddings)[0] #returns indices\n",
    "        \n",
    "        return (similarities, sorted(range(len(similarities)), key=lambda i: similarities[i], reverse=True))\n",
    "    "
   ]
  },
  {
   "cell_type": "code",
   "execution_count": 197,
   "id": "432a839c",
   "metadata": {},
   "outputs": [],
   "source": [
    "from collections import Counter\n",
    "\n",
    "top_movies_c = 5\n",
    "\n",
    "def print_category(indices, similarities):\n",
    "    for i in range(len(indices)):\n",
    "        index = indices[i]\n",
    "        movie = df.iloc[index]\n",
    "        print(f\"Movie #{i + 1}: {movie['title']} ({movie['year']}) rating: {movie['rating']}* || {movie['description']} || genres: {movie['genres']} || similarity: {round(similarities[index] * 100, 2)}%\\n\")\n",
    "        \n",
    "def output(indices, similarities, query):\n",
    "    most_similar, other_genre, less_popular, more_popular = indices\n",
    "    \n",
    "    print(f'***Most similar movies for \"{query}\":\\n')\n",
    "    print_category(most_similar, similarities)\n",
    "    print()\n",
    "    print('***Movies from another genre:\\n')\n",
    "    print_category(other_genre, similarities)\n",
    "    print()\n",
    "    print('***Less popular movies:\\n')\n",
    "    print_category(less_popular, similarities)\n",
    "    print()\n",
    "    print('***More popular movies:\\n')\n",
    "    print_category(more_popular, similarities)\n",
    "    \n",
    "\n",
    "def extract_movies(similarities, indices):\n",
    "    similar_movies = indices[0:top_movies_c]\n",
    "    other_genre = []\n",
    "    less_popular = []\n",
    "    more_popular = []\n",
    "    \n",
    "    genres = df.iloc[indices[0:5]]['genres'] #get top 5 movies\n",
    "    genres = [genre.split(', ') for genre in genres]\n",
    "    genres = [item for sublist in genres for item in sublist]\n",
    "    genre_counts = Counter(genres)\n",
    "    most_common_genres = list(dict(genre_counts.most_common(2)).keys())\n",
    "    \n",
    "    tail = df.iloc[indices[top_movies_c:]]\n",
    "    c = i = 0\n",
    "    \n",
    "    #extract of other genres\n",
    "    while len(other_genre) < 3:\n",
    "        gen = set(tail.iloc[i]['genres'].split(', '))\n",
    "        if not gen.intersection(set(most_common_genres)) and indices[i] not in (similar_movies + other_genre):\n",
    "            other_genre.append(indices[i])\n",
    "            \n",
    "        i += 1\n",
    "        \n",
    "    #avg rating of top 5 movies\n",
    "    ratings = df.iloc[indices[0:top_movies_c]]['rating'].tolist()\n",
    "    ratings = [float(rating) for rating in ratings]\n",
    "    avg_rating = sum(ratings) / top_movies_c\n",
    "    \n",
    "    c = i = 0\n",
    "    while len(less_popular) < 3:\n",
    "        if float(df.iloc[indices[i]]['rating']) < avg_rating and indices[i] not in (similar_movies + other_genre + less_popular):\n",
    "            less_popular.append(indices[i])\n",
    "        \n",
    "        i += 1\n",
    "        \n",
    "    c = i = 0\n",
    "    while len(more_popular) < 3:\n",
    "        if float(df.iloc[indices[i]]['rating']) > avg_rating and indices[i] not in (similar_movies + other_genre + less_popular + more_popular):\n",
    "            more_popular.append(indices[i])\n",
    "        \n",
    "        i += 1\n",
    "            \n",
    "    return similar_movies, other_genre, less_popular, more_popular\n",
    "    "
   ]
  },
  {
   "cell_type": "code",
   "execution_count": 182,
   "id": "1851a6b6",
   "metadata": {},
   "outputs": [],
   "source": [
    "df['title_description'] = df.apply(lambda row: row['title'] + ' ' + row['description'], axis=1)"
   ]
  },
  {
   "cell_type": "code",
   "execution_count": 183,
   "id": "a91ca95d",
   "metadata": {},
   "outputs": [],
   "source": [
    "model = SentenceTransformer('msmarco-distilbert-base-dot-prod-v3')"
   ]
  },
  {
   "cell_type": "code",
   "execution_count": 184,
   "id": "740b1d31",
   "metadata": {},
   "outputs": [],
   "source": [
    "semantic_search = SemanticSearch(model, df['title_description'])"
   ]
  },
  {
   "cell_type": "markdown",
   "id": "656a644b",
   "metadata": {},
   "source": [
    "## Test it out:"
   ]
  },
  {
   "cell_type": "code",
   "execution_count": 198,
   "id": "df243456",
   "metadata": {
    "collapsed": true
   },
   "outputs": [
    {
     "name": "stdout",
     "output_type": "stream",
     "text": [
      "teacher cooking meth\n",
      "\n",
      "***Most similar movies for \"teacher cooking meth\":\n",
      "\n",
      "Movie #1: Breaking Bad (2008–2013) rating: 9.5* || A chemistry teacher diagnosed with inoperable lung cancer turns to manufacturing and selling methamphetamine with a former student in order to secure his family's future. || genres: Crime, Drama, Thriller || similarity: 45.91%\n",
      "\n",
      "Movie #2: Another Round (2020) rating: 7.7* || Four high-school teachers consume alcohol on a daily basis to see how it affects their social and professional lives. || genres: Comedy, Drama || similarity: 43.93%\n",
      "\n",
      "Movie #3: The Nutty Professor (1996) rating: 5.7* || Grossly overweight yet good-hearted professor Sherman Klump takes a special chemical that turns him into the slim but obnoxious Buddy Love. || genres: Comedy, Romance, Sci-Fi || similarity: 43.34%\n",
      "\n",
      "Movie #4: Under Siege (1992) rating: 6.5* || An ex-Navy Seal turned cook is the only person who can stop a group of terrorists when they seize control of a U.S. battleship. || genres: Action, Thriller || similarity: 42.96%\n",
      "\n",
      "Movie #5: Ratatouille (2007) rating: 8.1* || A rat who can cook makes an unusual alliance with a young kitchen worker at a famous Paris restaurant. || genres: Animation, Adventure, Comedy || similarity: 41.74%\n",
      "\n",
      "\n",
      "***Movies from another genre:\n",
      "\n",
      "Movie #1: Here Comes the Boom (2012) rating: 6.4* || A high-school biology teacher looks to become a successful mixed martial arts fighter in an effort to raise money to prevent extracurricular activities from being axed at his cash-strapped school. || genres: Action, Comedy, Sport || similarity: 39.82%\n",
      "\n",
      "Movie #2: Sunshine Cleaning (2008) rating: 6.8* || In order to raise the tuition to send her young son to private school, a mom starts an unusual business -- a biohazard removal/crime scene clean-up service -- with her unreliable sister. || genres: Comedy, Drama || similarity: 39.0%\n",
      "\n",
      "Movie #3: Bridesmaids (I) (2011) rating: 6.8* || Competition between the maid of honor and a bridesmaid, over who is the bride's best friend, threatens to upend the life of an out-of-work pastry chef. || genres: Comedy, Romance || similarity: 37.08%\n",
      "\n",
      "\n",
      "***Less popular movies:\n",
      "\n",
      "Movie #1: Girl with a Pearl Earring (2003) rating: 6.9* || A young peasant maid working in the house of painter Johannes Vermeer becomes his talented assistant and the model for one of his most famous works. || genres: Biography, Drama, Romance || similarity: 40.93%\n",
      "\n",
      "Movie #2: Spun (2002) rating: 6.7* || A drug dealer introduces one of his customers, a 'speed freak', to the man who runs the meth lab. A crazy three-day adventure ensues. || genres: Comedy, Crime, Drama || similarity: 40.77%\n",
      "\n",
      "Movie #3: Nanny McPhee Returns (2010) rating: 6.1* || Nanny McPhee arrives to help a harried young mother who is trying to run the family farm while her husband is away at war, though she uses her magic to teach the woman's children and their two spoiled cousins five new lessons. || genres: Comedy, Family, Fantasy || similarity: 40.36%\n",
      "\n",
      "\n",
      "***More popular movies:\n",
      "\n",
      "Movie #1: Detachment (2011) rating: 7.7* || A substitute teacher who drifts from classroom to classroom finds a connection to the students and teachers during his latest assignment. || genres: Drama || similarity: 40.75%\n",
      "\n",
      "Movie #2: The Chorus (2004) rating: 7.8* || The new teacher at a severely administered boys' boarding school works to positively affect the students' lives through music. || genres: Comedy, Drama, Music || similarity: 40.26%\n",
      "\n",
      "Movie #3: Freedom Writers (2007) rating: 7.6* || A young teacher inspires her class of at-risk students to learn tolerance, apply themselves and pursue education beyond high school. || genres: Biography, Crime, Drama || similarity: 39.46%\n",
      "\n"
     ]
    }
   ],
   "source": [
    "query = input()\n",
    "print()\n",
    "\n",
    "similarities, indices = semantic_search.search(query)\n",
    "movies = extract_movies(similarities, indices)\n",
    "output(movies, similarities, query)"
   ]
  },
  {
   "cell_type": "code",
   "execution_count": 199,
   "id": "eea6045c",
   "metadata": {},
   "outputs": [],
   "source": [
    "def test_input(query):\n",
    "    similarities, indices = semantic_search.search(query)\n",
    "    movies = extract_movies(similarities, indices)\n",
    "    output(movies, similarities, query)"
   ]
  },
  {
   "cell_type": "code",
   "execution_count": 200,
   "id": "945bcbc8",
   "metadata": {},
   "outputs": [
    {
     "name": "stdout",
     "output_type": "stream",
     "text": [
      "***Most similar movies for \"teacher cooks meth\":\n",
      "\n",
      "Movie #1: Breaking Bad (2008–2013) rating: 9.5* || A chemistry teacher diagnosed with inoperable lung cancer turns to manufacturing and selling methamphetamine with a former student in order to secure his family's future. || genres: Crime, Drama, Thriller || similarity: 44.36%\n",
      "\n",
      "Movie #2: School of Rock (2003) rating: 7.2* || After being kicked out of his rock band, Dewey Finn becomes a substitute teacher of an uptight elementary private school, only to try and turn his class into a rock band. || genres: Comedy, Music || similarity: 43.16%\n",
      "\n",
      "Movie #3: Girl with a Pearl Earring (2003) rating: 6.9* || A young peasant maid working in the house of painter Johannes Vermeer becomes his talented assistant and the model for one of his most famous works. || genres: Biography, Drama, Romance || similarity: 42.39%\n",
      "\n",
      "Movie #4: The Nutty Professor (1996) rating: 5.7* || Grossly overweight yet good-hearted professor Sherman Klump takes a special chemical that turns him into the slim but obnoxious Buddy Love. || genres: Comedy, Romance, Sci-Fi || similarity: 41.87%\n",
      "\n",
      "Movie #5: The Chorus (2004) rating: 7.8* || The new teacher at a severely administered boys' boarding school works to positively affect the students' lives through music. || genres: Comedy, Drama, Music || similarity: 40.63%\n",
      "\n",
      "\n",
      "***Movies from another genre:\n",
      "\n",
      "Movie #1: Here Comes the Boom (2012) rating: 6.4* || A high-school biology teacher looks to become a successful mixed martial arts fighter in an effort to raise money to prevent extracurricular activities from being axed at his cash-strapped school. || genres: Action, Comedy, Sport || similarity: 40.35%\n",
      "\n",
      "Movie #2: Bad Teacher (2011) rating: 5.6* || A lazy, incompetent middle school teacher who hates her job, her students, and her co-workers is forced to return to teaching to make enough money for breast implants after her wealthy fiancé dumps her. || genres: Comedy, Romance || similarity: 38.01%\n",
      "\n",
      "Movie #3: The Rock (1996) rating: 7.4* || A mild-mannered chemist and an ex-con must lead the counterstrike when a rogue group of military men, led by a renegade general, threaten a nerve gas attack from Alcatraz against San Francisco. || genres: Action, Adventure, Thriller || similarity: 37.57%\n",
      "\n",
      "\n",
      "***Less popular movies:\n",
      "\n",
      "Movie #1: Mona Lisa Smile (2003) rating: 6.5* || A free-thinking art professor teaches conservative 1950s Wellesley girls to question their traditional social roles. || genres: Drama || similarity: 40.6%\n",
      "\n",
      "Movie #2: Under Siege (1992) rating: 6.5* || An ex-Navy Seal turned cook is the only person who can stop a group of terrorists when they seize control of a U.S. battleship. || genres: Action, Thriller || similarity: 40.15%\n",
      "\n",
      "Movie #3: Sunshine Cleaning (2008) rating: 6.8* || In order to raise the tuition to send her young son to private school, a mom starts an unusual business -- a biohazard removal/crime scene clean-up service -- with her unreliable sister. || genres: Comedy, Drama || similarity: 39.33%\n",
      "\n",
      "\n",
      "***More popular movies:\n",
      "\n",
      "Movie #1: Ratatouille (2007) rating: 8.1* || A rat who can cook makes an unusual alliance with a young kitchen worker at a famous Paris restaurant. || genres: Animation, Adventure, Comedy || similarity: 40.61%\n",
      "\n",
      "Movie #2: Another Round (2020) rating: 7.7* || Four high-school teachers consume alcohol on a daily basis to see how it affects their social and professional lives. || genres: Comedy, Drama || similarity: 40.15%\n",
      "\n",
      "Movie #3: My Fair Lady (1964) rating: 7.8* || In 1910s London, snobbish phonetics professor Henry Higgins agrees to a wager that he can make crude flower girl, Eliza Doolittle, presentable in high society. || genres: Drama, Family, Musical || similarity: 39.98%\n",
      "\n"
     ]
    }
   ],
   "source": [
    "test_input('teacher cooks meth')"
   ]
  },
  {
   "cell_type": "code",
   "execution_count": 201,
   "id": "af08bde8",
   "metadata": {},
   "outputs": [
    {
     "name": "stdout",
     "output_type": "stream",
     "text": [
      "***Most similar movies for \"zombie movie\":\n",
      "\n",
      "Movie #1: Diary of the Dead (2007) rating: 5.5* || A group of young film students run into real-life zombies while filming a horror movie of their own. || genres: Fantasy, Horror, Sci-Fi || similarity: 65.65%\n",
      "\n",
      "Movie #2: Slither (2006) rating: 6.5* || A small town is taken over by an alien plague, turning residents into zombies and all forms of mutant monsters. || genres: Comedy, Horror, Sci-Fi || similarity: 62.88%\n",
      "\n",
      "Movie #3: Planet Terror (2007) rating: 7.1* || After an experimental bio-weapon is released, turning thousands into zombie-like creatures, it's up to a rag-tag group of survivors to stop the infected and those behind its release. || genres: Action, Comedy, Horror || similarity: 59.48%\n",
      "\n",
      "Movie #4: Warm Bodies (2013) rating: 6.8* || After a highly unusual zombie saves a still-living girl from an attack, the two form a relationship that sets in motion events that might transform the entire lifeless world. || genres: Comedy, Horror, Romance || similarity: 57.37%\n",
      "\n",
      "Movie #5: Dawn of the Dead (2004) rating: 7.3* || A nurse, a policeman, a young married couple, a salesman and other survivors of a worldwide plague that is producing aggressive, flesh-eating zombies, take refuge in a mega Midwestern shopping mall. || genres: Action, Horror || similarity: 56.49%\n",
      "\n",
      "\n",
      "***Movies from another genre:\n",
      "\n",
      "Movie #1: Candyman (2021) rating: 5.9* || A sequel to the horror film Candyman (1992) that returns to the now-gentrified Chicago neighborhood where the legend began. || genres: Horror, Thriller || similarity: 54.72%\n",
      "\n",
      "Movie #2: iZombie (2015–2019) rating: 7.8* || A medical resident finds that being a zombie has its perks, which she uses to assist the police. || genres: Comedy, Crime, Drama || similarity: 53.68%\n",
      "\n",
      "Movie #3: Army of Thieves (2021) rating: 6.4* || A prequel, set before the events of Army of the Dead, which focuses on German safecracker Ludwig Dieter leading a group of aspiring thieves on a top secret heist during the early stages of the zombie apocalypse. || genres: Action, Comedy, Crime || similarity: 52.85%\n",
      "\n",
      "\n",
      "***Less popular movies:\n",
      "\n",
      "Movie #1: The Day the Earth Stood Still (2008) rating: 5.5* || A remake of the 1951 classic science fiction film about an alien visitor and his giant robot counterpart who visit Earth. || genres: Adventure, Drama, Sci-Fi || similarity: 53.68%\n",
      "\n",
      "Movie #2: Maggie (I) (2015) rating: 5.6* || A teenage girl in the Midwest becomes infected by an outbreak of a disease that slowly turns the infected into cannibalistic zombies. During her transformation, her loving father stays by her side. || genres: Drama, Horror, Sci-Fi || similarity: 52.51%\n",
      "\n",
      "Movie #3: Fantastic Beasts: The Crimes of Grindelwald (2018) rating: 6.5* || The second installment of the \"Fantastic Beasts\" series featuring the adventures of Magizoologist Newt Scamander. || genres: Adventure, Family, Fantasy || similarity: 52.33%\n",
      "\n",
      "\n",
      "***More popular movies:\n",
      "\n",
      "Movie #1: Cruella (2021) rating: 7.3* || A live-action prequel feature film following a young Cruella de Vil. || genres: Adventure, Comedy, Crime || similarity: 53.2%\n",
      "\n",
      "Movie #2: Underworld: Evolution (2006) rating: 6.7* || Picking up directly from the previous movie, vampire warrior Selene and the half werewolf Michael hunt for clues to reveal the history of their races and the war between them. || genres: Action, Fantasy, Thriller || similarity: 52.74%\n",
      "\n",
      "Movie #3: Day of the Dead (1985) rating: 7.1* || As the world is overrun by zombies, a group of scientists and military personnel sheltering in an underground bunker in Florida must determine how they should deal with the undead horde. || genres: Horror, Thriller || similarity: 51.36%\n",
      "\n"
     ]
    }
   ],
   "source": [
    "test_input('zombie movie')"
   ]
  },
  {
   "cell_type": "code",
   "execution_count": 202,
   "id": "4df6e09e",
   "metadata": {},
   "outputs": [
    {
     "name": "stdout",
     "output_type": "stream",
     "text": [
      "***Most similar movies for \"rich families fight over power\":\n",
      "\n",
      "Movie #1: Dune (2021) rating: 8.0* || A noble family becomes embroiled in a war for control over the galaxy's most valuable asset while its heir becomes troubled by visions of a dark future. || genres: Action, Adventure, Drama || similarity: 62.06%\n",
      "\n",
      "Movie #2: The War of the Roses (1989) rating: 6.8* || A married couple tries everything to drive each other out of the house in a vicious divorce battle. || genres: Comedy, Romance || similarity: 60.51%\n",
      "\n",
      "Movie #3: Gunpowder Milkshake (2021) rating: 6.0* || Three generations of women fight back against those who could take everything from them. || genres: Action, Crime, Thriller || similarity: 58.93%\n",
      "\n",
      "Movie #4: Casino (1995) rating: 8.2* || A tale of greed, deception, money, power, and murder occur between two best friends: a mafia enforcer and a casino executive compete against each other over a gambling empire, and over a fast-living and fast-loving socialite. || genres: Crime, Drama || similarity: 57.63%\n",
      "\n",
      "Movie #5: Three Colors: Blue (1993) rating: 7.9* || A woman struggles to find a way to live her life after the death of her husband and child. || genres: Drama, Music, Mystery || similarity: 57.52%\n",
      "\n",
      "\n",
      "***Movies from another genre:\n",
      "\n",
      "Movie #1: Lincoln (2012) rating: 7.3* || As the American Civil War continues to rage, America's president struggles with continuing carnage on the battlefield as he fights with many inside his own cabinet on the decision to emancipate the slaves. || genres: Biography, Drama, History || similarity: 55.04%\n",
      "\n",
      "Movie #2: Fences (2016) rating: 7.2* || A working-class African-American father tries to raise his family in the 1950s, while coming to terms with the events of his life. || genres: Drama || similarity: 54.69%\n",
      "\n",
      "Movie #3: Kantara (2022) rating: 8.3* || When greed paves the way for betrayal, scheming and murder, a young tribal reluctantly dons the traditions of his ancestors to seek justice. || genres: Action, Adventure, Drama || similarity: 52.7%\n",
      "\n",
      "\n",
      "***Less popular movies:\n",
      "\n",
      "Movie #1: Mohabbatein (2000) rating: 7.0* || A film about the battle between love and fear, between two stubborn men and their opposing beliefs and the outcome of the love stories of 3 couples. || genres: Drama, Musical, Romance || similarity: 57.5%\n",
      "\n",
      "Movie #2: Enough (I) (2002) rating: 5.7* || After running away fails, a terrified woman empowers herself in order to battle her abusive husband. || genres: Crime, Drama, Thriller || similarity: 55.92%\n",
      "\n",
      "Movie #3: Jug Jugg Jeeyo (2022) rating: 6.1* || Two couples from different generations confront their issues after marriage. || genres: Comedy, Drama, Family || similarity: 55.89%\n",
      "\n",
      "\n",
      "***More popular movies:\n",
      "\n",
      "Movie #1: Raise the Red Lantern (1991) rating: 8.1* || A young woman becomes the fourth wife of a wealthy lord, and must learn to live with the strict rules and tensions within the household. || genres: Drama, Romance || similarity: 56.28%\n",
      "\n",
      "Movie #2: Game of Thrones (2011–2019) rating: 9.2* || Nine noble families fight for control over the lands of Westeros, while an ancient enemy returns after being dormant for millennia. || genres: Action, Adventure, Drama || similarity: 55.64%\n",
      "\n",
      "Movie #3: This Is Us (2016–2022) rating: 8.7* || A heartwarming and emotional story about a unique set of triplets, their struggles, and their wonderful parents. || genres: Comedy, Drama, Romance || similarity: 55.48%\n",
      "\n"
     ]
    }
   ],
   "source": [
    "test_input('rich families fight over power')"
   ]
  },
  {
   "cell_type": "code",
   "execution_count": 203,
   "id": "ddd4020f",
   "metadata": {},
   "outputs": [
    {
     "name": "stdout",
     "output_type": "stream",
     "text": [
      "***Most similar movies for \"very fast vehicles competing\":\n",
      "\n",
      "Movie #1: Cars 3 (2017) rating: 6.7* || Lightning McQueen sets out to prove to a new generation of racers that he's still the best race car in the world. || genres: Animation, Adventure, Comedy || similarity: 54.8%\n",
      "\n",
      "Movie #2: The Grand Tour (2016– ) rating: 8.7* || Jeremy, Richard and James embark on an adventure across the globe, driving new and exciting automobiles from manufacturers all over the world. || genres: Comedy, Sport, Talk-Show || similarity: 53.84%\n",
      "\n",
      "Movie #3: Days of Thunder (1990) rating: 6.1* || A young hot-shot stock car driver gets his chance to compete at the top level. || genres: Action, Drama, Sport || similarity: 49.19%\n",
      "\n",
      "Movie #4: Ford v Ferrari (2019) rating: 8.1* || American car designer Carroll Shelby and driver Ken Miles battle corporate interference and the laws of physics to build a revolutionary race car for Ford in order to defeat Ferrari at the 24 Hours of Le Mans in 1966. || genres: Action, Biography, Drama || similarity: 49.05%\n",
      "\n",
      "Movie #5: Rush (I) (2013) rating: 8.1* || The merciless 1970s rivalry between Formula One rivals James Hunt and Niki Lauda. || genres: Action, Biography, Drama || similarity: 48.42%\n",
      "\n",
      "\n",
      "***Movies from another genre:\n",
      "\n",
      "Movie #1: Planes (2013) rating: 5.7* || A cropdusting plane with a fear of heights lives his dream of competing in a famous around-the-world aerial race. || genres: Animation, Adventure, Comedy || similarity: 48.03%\n",
      "\n",
      "Movie #2: Speed Racer (2008) rating: 6.0* || Young driver Speed Racer aspires to be champion of the racing world with the help of his family and his high-tech Mach 5 automobile. || genres: Action, Adventure, Comedy || similarity: 46.86%\n",
      "\n",
      "Movie #3: Harry Potter and the Goblet of Fire (2005) rating: 7.7* || Harry Potter finds himself competing in a hazardous tournament between rival schools of magic, but he is distracted by recurring nightmares. || genres: Adventure, Family, Fantasy || similarity: 44.88%\n",
      "\n",
      "\n",
      "***Less popular movies:\n",
      "\n",
      "Movie #1: The Fast and the Furious: Tokyo Drift (2006) rating: 6.0* || A teenager becomes a major competitor in the world of drift racing after moving in with his father in Tokyo to avoid a jail sentence in America. || genres: Action, Crime, Thriller || similarity: 46.85%\n",
      "\n",
      "Movie #2: The Family Man (2000) rating: 6.8* || A fast-lane investment broker, offered the opportunity to see how the other half lives, wakes up to find that his sports car and girlfriend have become a mini-van and wife. || genres: Comedy, Drama, Fantasy || similarity: 46.68%\n",
      "\n",
      "Movie #3: Cars 2 (2011) rating: 6.2* || Star race car Lightning McQueen and his pal Mater head overseas to compete in the World Grand Prix race. But the road to the championship becomes rocky as Mater gets caught up in an intriguing adventure of his own: international espionage. || genres: Animation, Adventure, Comedy || similarity: 46.39%\n",
      "\n",
      "\n",
      "***More popular movies:\n",
      "\n",
      "Movie #1: Castle in the Sky (1986) rating: 8.0* || A young boy and a girl with a magic crystal must race against pirates and foreign agents in a search for a legendary floating castle. || genres: Animation, Adventure, Family || similarity: 42.18%\n",
      "\n",
      "Movie #2: Shaun of the Dead (2004) rating: 7.9* || The uneventful, aimless lives of a London electronics salesman and his layabout roommate are disrupted by the zombie apocalypse. || genres: Comedy, Horror || similarity: 42.14%\n",
      "\n",
      "Movie #3: Happy Together (1997) rating: 7.7* || A couple take a trip to Argentina but both men find their lives drifting apart in opposite directions. || genres: Drama, Romance || similarity: 41.25%\n",
      "\n"
     ]
    }
   ],
   "source": [
    "test_input('very fast vehicles competing')"
   ]
  },
  {
   "cell_type": "code",
   "execution_count": 204,
   "id": "645bc482",
   "metadata": {},
   "outputs": [
    {
     "name": "stdout",
     "output_type": "stream",
     "text": [
      "***Most similar movies for \"laser fighting in other galaxies\":\n",
      "\n",
      "Movie #1: Star Wars: Episode III - Revenge of the Sith (2005) rating: 7.6* || Three years into the Clone Wars, Obi-Wan pursues a new threat, while Anakin is lured by Chancellor Palpatine into a sinister plot to rule the galaxy. || genres: Action, Adventure, Fantasy || similarity: 53.42%\n",
      "\n",
      "Movie #2: Mortal Kombat (2021) rating: 6.0* || MMA fighter Cole Young seeks out Earth's greatest champions in order to stand against the enemies of Outworld in a high stakes battle for the universe. || genres: Action, Adventure, Fantasy || similarity: 53.37%\n",
      "\n",
      "Movie #3: The Lord of the Rings (1978) rating: 6.2* || The Fellowship of the Ring embark on a journey to destroy the One Ring and end Sauron's reign over Middle-earth. || genres: Animation, Adventure, Fantasy || similarity: 51.6%\n",
      "\n",
      "Movie #4: Star Wars: Episode VI - Return of the Jedi (1983) rating: 8.3* || After rescuing Han Solo from Jabba the Hutt, the Rebels attempt to destroy the second Death Star, while Luke struggles to help Darth Vader back from the dark side. || genres: Action, Adventure, Fantasy || similarity: 51.6%\n",
      "\n",
      "Movie #5: Star Wars: Episode IV - A New Hope (1977) rating: 8.6* || Luke Skywalker joins forces with a Jedi Knight, a cocky pilot, a Wookiee and two droids to save the galaxy from the Empire's world-destroying battle station, while also attempting to rescue Princess Leia from the mysterious Darth Vader. || genres: Action, Adventure, Fantasy || similarity: 51.12%\n",
      "\n",
      "\n",
      "***Movies from another genre:\n",
      "\n",
      "Movie #1: Cobra Kai (2018–2023) rating: 8.5* || Decades after their 1984 All Valley Karate Tournament bout, a middle-aged Daniel LaRusso and Johnny Lawrence find themselves martial-arts rivals again. || genres: Action, Comedy, Drama || similarity: 50.99%\n",
      "\n",
      "Movie #2: Never Back Down (2008) rating: 6.5* || A frustrated and conflicted teenager arrives at a new high school to discover an underground fight club, and meets a classmate who begins to coerce him into fighting. || genres: Action, Drama, Sport || similarity: 47.94%\n",
      "\n",
      "Movie #3: Solo: A Star Wars Story (2018) rating: 6.9* || Board the Millennium Falcon and journey to a galaxy far, far away in an epic action-adventure that will set the course of one of the Star Wars saga's most unlikely heroes. || genres: Action, Adventure, Sci-Fi || similarity: 47.16%\n",
      "\n",
      "\n",
      "***Less popular movies:\n",
      "\n",
      "Movie #1: Real Steel (2011) rating: 7.0* || In the near future, robot boxing is a top sport. A struggling ex-boxer feels he's found a champion in a discarded robot. || genres: Action, Drama, Sci-Fi || similarity: 51.0%\n",
      "\n",
      "Movie #2: The Last Starfighter (1984) rating: 6.7* || High schooler Alex Rogan conquers the Starfighter video game, only to find out it was just a test, and is transported to another planet. He has been recruited to join a team of the best starfighters to defend their world from the attack. || genres: Action, Adventure, Sci-Fi || similarity: 49.18%\n",
      "\n",
      "Movie #3: Blood and Bone (2009) rating: 6.7* || In Los Angeles, an ex-con takes the underground fighting world by storm in his quest to fulfill a promise to a dead friend. || genres: Action, Crime, Drama || similarity: 47.12%\n",
      "\n",
      "\n",
      "***More popular movies:\n",
      "\n",
      "Movie #1: The Legend of Korra (2012–2014) rating: 8.4* || Avatar Korra fights to keep Republic City safe from the evil forces of both the physical and spiritual worlds. || genres: Animation, Action, Adventure || similarity: 51.07%\n",
      "\n",
      "Movie #2: Star Wars: Episode VII - The Force Awakens (2015) rating: 7.8* || As a new threat to the galaxy rises, Rey, a desert scavenger, and Finn, an ex-stormtrooper, must join Han Solo and Chewbacca to search for the one hope of restoring peace. || genres: Action, Adventure, Sci-Fi || similarity: 49.82%\n",
      "\n",
      "Movie #3: Dragon Ball Z (1989–1996) rating: 8.8* || The adventures of Earth's martial arts defender, Son Goku, continue with a new family and the revelation of his alien origins. Now Goku and his allies must defend the planet from an onslaught of new extraterrestrial enemies. || genres: Animation, Action, Adventure || similarity: 49.29%\n",
      "\n"
     ]
    }
   ],
   "source": [
    "test_input('laser fighting in other galaxies')"
   ]
  },
  {
   "cell_type": "code",
   "execution_count": 205,
   "id": "a24a9c2f",
   "metadata": {},
   "outputs": [
    {
     "name": "stdout",
     "output_type": "stream",
     "text": [
      "***Most similar movies for \"detective looking for a sick serial killer\":\n",
      "\n",
      "Movie #1: Sea of Love (1989) rating: 6.8* || A detective investigating a series of murders becomes involved with a woman who may be the culprit. || genres: Crime, Drama, Mystery || similarity: 70.79%\n",
      "\n",
      "Movie #2: The Body (2012) rating: 7.6* || A detective searches for the body of a femme fatale which has gone missing from a morgue. || genres: Crime, Drama, Mystery || similarity: 70.48%\n",
      "\n",
      "Movie #3: Se7en (1995) rating: 8.6* || Two detectives, a rookie and a veteran, hunt a serial killer who uses the seven deadly sins as his motives. || genres: Crime, Drama, Mystery || similarity: 67.61%\n",
      "\n",
      "Movie #4: The Bone Collector (1999) rating: 6.7* || A quadriplegic ex-homicide detective and his partner try to track down a serial killer who is terrorizing New York City. || genres: Crime, Drama, Mystery || similarity: 66.64%\n",
      "\n",
      "Movie #5: Laura (1944) rating: 7.9* || A police detective falls in love with the woman whose murder he is investigating. || genres: Drama, Film-Noir, Mystery || similarity: 66.54%\n",
      "\n",
      "\n",
      "***Movies from another genre:\n",
      "\n",
      "Movie #1: Basic Instinct (1992) rating: 7.0* || A violent police detective investigates a brutal murder that might involve a manipulative and seductive novelist. || genres: Drama, Mystery, Thriller || similarity: 65.87%\n",
      "\n",
      "Movie #2: The Exorcist III (1990) rating: 6.5* || A police lieutenant uncovers more than he bargained for as his investigation of a series of murders, which have all the hallmarks of the deceased Gemini serial killer, leads him to question the patients of a psychiatric ward. || genres: Drama, Horror, Mystery || similarity: 64.86%\n",
      "\n",
      "Movie #3: Taking Lives (2004) rating: 6.2* || An FBI profiler is called in by French Canadian police to catch a serial killer who takes on the identity of each new victim. || genres: Crime, Mystery, Thriller || similarity: 60.76%\n",
      "\n",
      "\n",
      "***Less popular movies:\n",
      "\n",
      "Movie #1: The Crimson Rivers (2000) rating: 6.9* || A murder detective must follow the footsteps of a brutal killer within the secrets of a classist college. || genres: Crime, Mystery, Thriller || similarity: 64.6%\n",
      "\n",
      "Movie #2: In the Shadow of the Moon (2019) rating: 6.2* || A Philadelphia police officer struggles with a lifelong obsession to track down a mysterious serial killer whose crimes defy explanation. || genres: Action, Crime, Mystery || similarity: 63.37%\n",
      "\n",
      "Movie #3: 6 Souls (2010) rating: 6.0* || A forensic psychiatrist discovers that all but one of her patient's multiple personalities are murder victims. She will have to find out what's happening before her time is finished. || genres: Horror, Thriller || similarity: 62.81%\n",
      "\n",
      "\n",
      "***More popular movies:\n",
      "\n",
      "Movie #1: Grimm (2011–2017) rating: 7.9* || A homicide detective discovers he is a descendant of hunters who fight supernatural forces. || genres: Crime, Drama, Fantasy || similarity: 64.54%\n",
      "\n",
      "Movie #2: Knives Out (2019) rating: 7.9* || A detective investigates the death of the patriarch of an eccentric, combative family. || genres: Comedy, Crime, Drama || similarity: 62.1%\n",
      "\n",
      "Movie #3: Hannibal (2013–2015) rating: 8.5* || Explores the early relationship between renowned psychiatrist Hannibal Lecter and a young FBI criminal profiler who is haunted by his ability to empathize with serial killers. || genres: Crime, Drama, Horror || similarity: 62.02%\n",
      "\n"
     ]
    }
   ],
   "source": [
    "test_input('detective looking for a sick serial killer')"
   ]
  },
  {
   "cell_type": "code",
   "execution_count": null,
   "id": "58920196",
   "metadata": {},
   "outputs": [],
   "source": []
  }
 ],
 "metadata": {
  "kernelspec": {
   "display_name": "transformers",
   "language": "python",
   "name": "transformers"
  },
  "language_info": {
   "codemirror_mode": {
    "name": "ipython",
    "version": 3
   },
   "file_extension": ".py",
   "mimetype": "text/x-python",
   "name": "python",
   "nbconvert_exporter": "python",
   "pygments_lexer": "ipython3",
   "version": "3.10.11"
  }
 },
 "nbformat": 4,
 "nbformat_minor": 5
}
