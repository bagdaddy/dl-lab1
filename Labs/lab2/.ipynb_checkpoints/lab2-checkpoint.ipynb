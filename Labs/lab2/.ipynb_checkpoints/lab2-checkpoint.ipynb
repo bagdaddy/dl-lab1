{
 "cells": [
  {
   "cell_type": "markdown",
   "id": "4e9a86ec",
   "metadata": {},
   "source": [
    "# Scraping IMDb movies"
   ]
  },
  {
   "cell_type": "code",
   "execution_count": 53,
   "id": "84798c0b",
   "metadata": {},
   "outputs": [],
   "source": [
    "charts = [\n",
    "#     'https://www.imdb.com/search/title/?groups=top_1000&adult=include&count=250&sort=user_rating,desc&title_type=feature&num_votes=30000',\n",
    "#     'https://www.imdb.com/search/title/?groups=top_1000&start=251&adult=include&count=250&sort=user_rating,desc&title_type=feature&num_votes=30000',\n",
    "#     'https://www.imdb.com/search/title/?groups=top_1000&start=501&adult=include&count=250&sort=user_rating,desc&title_type=feature&num_votes=30000',\n",
    "#     'https://www.imdb.com/search/title/?groups=top_1000&start=751&adult=include&count=250&sort=user_rating,desc&title_type=feature&num_votes=30000',\n",
    "#     'https://www.imdb.com/search/title/?genres=action&adult=include&count=250&sort=user_rating,desc&title_type=feature&num_votes=30000',\n",
    "#     'https://www.imdb.com/search/title/?genres=action&start=251&adult=include&count=250&sort=user_rating,desc&title_type=feature&num_votes=30000',\n",
    "#     'https://www.imdb.com/search/title/?genres=action&start=501&adult=include&count=250&sort=user_rating,desc&title_type=feature&num_votes=30000',\n",
    "#     'https://www.imdb.com/search/title/?genres=drama&adult=include&count=250&sort=user_rating,desc&title_type=feature&num_votes=30000',\n",
    "#     'https://www.imdb.com/search/title/?genres=drama&start=251&adult=include&count=250&sort=user_rating,desc&title_type=feature&num_votes=30000',\n",
    "#     'https://www.imdb.com/search/title/?genres=comedy&adult=include&count=250&sort=user_rating,desc&title_type=feature&num_votes=30000',\n",
    "#     'https://www.imdb.com/search/title/?genres=western&adult=include&count=250&sort=user_rating,desc&title_type=feature&num_votes=30000',\n",
    "#     'https://www.imdb.com/search/title/?genres=thriller&adult=include&count=250&sort=user_rating,desc&title_type=feature&num_votes=30000',\n",
    "#     'https://www.imdb.com/search/title/?genres=family&adult=include&count=250&sort=user_rating,desc&title_type=feature&num_votes=30000',\n",
    "#     'https://www.imdb.com/search/title/?genres=war&adult=include&count=100&sort=user_rating,desc&title_type=feature&num_votes=30000',\n",
    "#     'https://www.imdb.com/search/title/?genres=horror&adult=include&count=100&sort=user_rating,desc&title_type=feature&num_votes=30000',\n",
    "#     'https://www.imdb.com/search/title/?genres=history&adult=include&count=250&sort=user_rating,desc&title_type=feature&num_votes=30000',\n",
    "#     'https://www.imdb.com/search/title/?genres=history&adult=include&start=251&count=250&sort=user_rating,desc&title_type=feature&num_votes=30000',\n",
    "#     'https://www.imdb.com/search/title/?genres=crime&adult=include&count=250&sort=user_rating,desc&title_type=feature&num_votes=30000',\n",
    "#     'https://www.imdb.com/search/title/?genres=animation&adult=include&count=250&sort=user_rating,desc&title_type=feature&num_votes=30000',\n",
    "#     'https://www.imdb.com/search/title/?genres=romance&adult=include&count=250&sort=user_rating,desc&title_type=feature&num_votes=30000',\n",
    "#     'https://www.imdb.com/search/title/?genres=sci-fi&adult=include&count=250&sort=user_rating,desc&title_type=feature&num_votes=30000',\n",
    "#     'https://www.imdb.com/search/title/?genres=sport&adult=include&count=250&sort=user_rating,desc&title_type=feature&num_votes=30000',\n",
    "    'https://www.imdb.com/search/title/?title_type=tv_series&sort=user_rating,desc&count=250&num_votes=30000,',\n",
    "    'https://www.imdb.com/search/title/?title_type=tv_series&&sort=user_rating,desc&count=250&num_votes=30000,&start=251',\n",
    "    'https://www.imdb.com/search/title/?title_type=feature&num_votes=30000,&sort=user_rating,desc&count=250',\n",
    "    'https://www.imdb.com/search/title/?title_type=feature&num_votes=30000,&sort=user_rating,desc&count=250&start=251',\n",
    "    'https://www.imdb.com/search/title/?title_type=feature&num_votes=30000,&sort=user_rating,desc&count=250&start=501',\n",
    "    'https://www.imdb.com/search/title/?title_type=feature&num_votes=30000,&sort=user_rating,desc&count=250&start=751',\n",
    "    'https://www.imdb.com/search/title/?title_type=feature&num_votes=30000,&sort=user_rating,desc&count=250&start=1001',\n",
    "    'https://www.imdb.com/search/title/?title_type=feature&num_votes=30000,&sort=user_rating,desc&count=250&start=1251',\n",
    "    'https://www.imdb.com/search/title/?title_type=feature&num_votes=30000,&sort=user_rating,desc&count=250&start=1501',\n",
    "    'https://www.imdb.com/search/title/?title_type=feature&num_votes=30000,&sort=user_rating,desc&count=250&start=1751',\n",
    "    'https://www.imdb.com/search/title/?title_type=feature&num_votes=30000,&sort=user_rating,desc&count=250&start=2001',\n",
    "    'https://www.imdb.com/search/title/?title_type=feature&num_votes=30000,&sort=user_rating,desc&count=250&start=2251',\n",
    "    'https://www.imdb.com/search/title/?title_type=feature&num_votes=30000,&sort=user_rating,desc&count=250&start=2501',\n",
    "    'https://www.imdb.com/search/title/?title_type=feature&num_votes=30000,&sort=user_rating,desc&count=250&start=2751',\n",
    "    'https://www.imdb.com/search/title/?title_type=feature&num_votes=30000,&sort=user_rating,desc&count=250&start=3001',\n",
    "    'https://www.imdb.com/search/title/?title_type=feature&num_votes=30000,&sort=user_rating,desc&count=250&start=3251',\n",
    "    'https://www.imdb.com/search/title/?title_type=feature&num_votes=30000,&sort=user_rating,desc&count=250&start=3501',\n",
    "    'https://www.imdb.com/search/title/?title_type=feature&num_votes=30000,&sort=user_rating,desc&count=250&start=3751',\n",
    "    'https://www.imdb.com/search/title/?title_type=feature&num_votes=30000,&sort=user_rating,desc&count=250&start=4001',\n",
    "    'https://www.imdb.com/search/title/?title_type=feature&num_votes=30000,&sort=user_rating,desc&count=250&start=4251',\n",
    "    'https://www.imdb.com/search/title/?title_type=feature&num_votes=30000,&sort=user_rating,desc&count=250&start=4501',\n",
    "    'https://www.imdb.com/search/title/?title_type=feature&num_votes=30000,&sort=user_rating,desc&count=250&start=4751'\n",
    "]"
   ]
  },
  {
   "cell_type": "code",
   "execution_count": 19,
   "id": "d902e722",
   "metadata": {},
   "outputs": [],
   "source": [
    "import requests\n",
    "from bs4 import BeautifulSoup\n",
    "import pandas as pd"
   ]
  },
  {
   "cell_type": "code",
   "execution_count": 86,
   "id": "8d8a3c35",
   "metadata": {},
   "outputs": [
    {
     "name": "stdout",
     "output_type": "stream",
     "text": [
      "found 250 movies https://www.imdb.com/search/title/?title_type=tv_series&sort=user_rating,desc&count=250&num_votes=30000,\n",
      "found 250 movies https://www.imdb.com/search/title/?title_type=tv_series&&sort=user_rating,desc&count=250&num_votes=30000,&start=251\n",
      "found 250 movies https://www.imdb.com/search/title/?title_type=feature&num_votes=30000,&sort=user_rating,desc&count=250\n",
      "found 250 movies https://www.imdb.com/search/title/?title_type=feature&num_votes=30000,&sort=user_rating,desc&count=250&start=251\n",
      "found 250 movies https://www.imdb.com/search/title/?title_type=feature&num_votes=30000,&sort=user_rating,desc&count=250&start=501\n",
      "found 250 movies https://www.imdb.com/search/title/?title_type=feature&num_votes=30000,&sort=user_rating,desc&count=250&start=751\n",
      "found 250 movies https://www.imdb.com/search/title/?title_type=feature&num_votes=30000,&sort=user_rating,desc&count=250&start=1001\n",
      "found 250 movies https://www.imdb.com/search/title/?title_type=feature&num_votes=30000,&sort=user_rating,desc&count=250&start=1251\n",
      "found 250 movies https://www.imdb.com/search/title/?title_type=feature&num_votes=30000,&sort=user_rating,desc&count=250&start=1501\n",
      "skipping empty description: Coming Soon\n",
      "found 250 movies https://www.imdb.com/search/title/?title_type=feature&num_votes=30000,&sort=user_rating,desc&count=250&start=1751\n",
      "skipping empty description: Treasure Planet\n",
      "found 250 movies https://www.imdb.com/search/title/?title_type=feature&num_votes=30000,&sort=user_rating,desc&count=250&start=2001\n",
      "found 250 movies https://www.imdb.com/search/title/?title_type=feature&num_votes=30000,&sort=user_rating,desc&count=250&start=2251\n",
      "found 250 movies https://www.imdb.com/search/title/?title_type=feature&num_votes=30000,&sort=user_rating,desc&count=250&start=2501\n",
      "found 250 movies https://www.imdb.com/search/title/?title_type=feature&num_votes=30000,&sort=user_rating,desc&count=250&start=2751\n",
      "found 250 movies https://www.imdb.com/search/title/?title_type=feature&num_votes=30000,&sort=user_rating,desc&count=250&start=3001\n",
      "found 250 movies https://www.imdb.com/search/title/?title_type=feature&num_votes=30000,&sort=user_rating,desc&count=250&start=3251\n",
      "found 250 movies https://www.imdb.com/search/title/?title_type=feature&num_votes=30000,&sort=user_rating,desc&count=250&start=3501\n",
      "found 250 movies https://www.imdb.com/search/title/?title_type=feature&num_votes=30000,&sort=user_rating,desc&count=250&start=3751\n",
      "skipping empty description: Prospect\n",
      "found 250 movies https://www.imdb.com/search/title/?title_type=feature&num_votes=30000,&sort=user_rating,desc&count=250&start=4001\n",
      "found 250 movies https://www.imdb.com/search/title/?title_type=feature&num_votes=30000,&sort=user_rating,desc&count=250&start=4251\n",
      "found 250 movies https://www.imdb.com/search/title/?title_type=feature&num_votes=30000,&sort=user_rating,desc&count=250&start=4501\n",
      "found 250 movies https://www.imdb.com/search/title/?title_type=feature&num_votes=30000,&sort=user_rating,desc&count=250&start=4751\n"
     ]
    }
   ],
   "source": [
    "def title_exists(new_title, data):\n",
    "    for title in data:\n",
    "        if title['title'] == new_title:\n",
    "            return True\n",
    "        \n",
    "    return False\n",
    "\n",
    "def get_summary(movie):\n",
    "    description_el = movie.select_one('.ratings-bar + .text-muted')\n",
    "    if no_description(description_el):\n",
    "        return ''\n",
    "    \n",
    "    links = description_el.find_all('a')\n",
    "    summary_link = None\n",
    "    \n",
    "    for link in links:\n",
    "        if 'full summary' in link.text:\n",
    "            summary_link = 'https://imdb.com' + link['href']\n",
    "\n",
    "    if summary_link is None:\n",
    "        return description_el.text.strip()\n",
    "    \n",
    "    return ''\n",
    "\n",
    "def no_description(element):\n",
    "    return element.find('a') and (element.find('a').text == 'Add a Plot' or element.find('a').text == 'See full synopsis')\n",
    "\n",
    "def no_runtime(element):\n",
    "    return not (element and element.text)\n",
    "\n",
    "data = []\n",
    "headers = {\n",
    "    'Accept-Language': 'en-US,en;q=0.8'\n",
    "}\n",
    "\n",
    "for url in charts:\n",
    "    response = requests.get(url, headers=headers)\n",
    "    soup = BeautifulSoup(response.content, 'html.parser')\n",
    "    \n",
    "    movies = soup.select('.lister-item.mode-advanced')\n",
    "    print('found', len(movies), 'movies', url)\n",
    "    for movie in movies:\n",
    "        movie_title = movie.select_one('h3.lister-item-header a').text\n",
    "        runtime = movie.select_one('span.runtime')\n",
    "\n",
    "        description = get_summary(movie)\n",
    "        if description == '':\n",
    "            print('skipping empty description:', movie_title)\n",
    "            continue\n",
    "            \n",
    "        year = movie.select_one('.lister-item-year').text.strip('()')\n",
    "        rating = movie.select_one('.ratings-imdb-rating strong').text\n",
    "        runtime = runtime.text if not no_runtime(runtime) else None\n",
    "        genres = movie.select_one('span.genre').text.strip()\n",
    "        director_and_stars_elem = movie.select('p:not(.text-muted):nth-of-type(3) > *')\n",
    "        passed_ghost = False\n",
    "        directors = []\n",
    "        stars = []\n",
    "        for el in director_and_stars_elem:\n",
    "            if 'ghost' in el.get('class', []):\n",
    "                passed_ghost = True\n",
    "                continue\n",
    "                \n",
    "            if passed_ghost:\n",
    "                stars.append(el.text)\n",
    "            else:\n",
    "                directors.append(el.text)\n",
    "                \n",
    "        if not passed_ghost:\n",
    "            stars = directors\n",
    "            directors = []\n",
    "        \n",
    "        data.append({\n",
    "            'title': movie_title,\n",
    "            'description': description,\n",
    "            'year': year,\n",
    "            'rating': rating,\n",
    "            'runtime': runtime,\n",
    "            'genres': genres,\n",
    "            'directors': ', '.join(directors),\n",
    "            'stars': ', '.join(stars)\n",
    "        })\n",
    "        \n"
   ]
  },
  {
   "cell_type": "code",
   "execution_count": 87,
   "id": "c979ea5c",
   "metadata": {},
   "outputs": [],
   "source": [
    "df = pd.DataFrame(data)"
   ]
  },
  {
   "cell_type": "code",
   "execution_count": 88,
   "id": "f3288034",
   "metadata": {},
   "outputs": [
    {
     "data": {
      "text/html": [
       "<div>\n",
       "<style scoped>\n",
       "    .dataframe tbody tr th:only-of-type {\n",
       "        vertical-align: middle;\n",
       "    }\n",
       "\n",
       "    .dataframe tbody tr th {\n",
       "        vertical-align: top;\n",
       "    }\n",
       "\n",
       "    .dataframe thead th {\n",
       "        text-align: right;\n",
       "    }\n",
       "</style>\n",
       "<table border=\"1\" class=\"dataframe\">\n",
       "  <thead>\n",
       "    <tr style=\"text-align: right;\">\n",
       "      <th></th>\n",
       "      <th>title</th>\n",
       "      <th>description</th>\n",
       "      <th>year</th>\n",
       "      <th>rating</th>\n",
       "      <th>runtime</th>\n",
       "      <th>genres</th>\n",
       "      <th>directors</th>\n",
       "      <th>stars</th>\n",
       "    </tr>\n",
       "  </thead>\n",
       "  <tbody>\n",
       "    <tr>\n",
       "      <th>0</th>\n",
       "      <td>Breaking Bad</td>\n",
       "      <td>A chemistry teacher diagnosed with inoperable ...</td>\n",
       "      <td>2008–2013</td>\n",
       "      <td>9.5</td>\n",
       "      <td>49 min</td>\n",
       "      <td>Crime, Drama, Thriller</td>\n",
       "      <td></td>\n",
       "      <td>Bryan Cranston, Aaron Paul, Anna Gunn, Betsy B...</td>\n",
       "    </tr>\n",
       "    <tr>\n",
       "      <th>1</th>\n",
       "      <td>The Wire</td>\n",
       "      <td>The Baltimore drug scene, as seen through the ...</td>\n",
       "      <td>2002–2008</td>\n",
       "      <td>9.3</td>\n",
       "      <td>59 min</td>\n",
       "      <td>Crime, Drama, Thriller</td>\n",
       "      <td></td>\n",
       "      <td>Dominic West, Lance Reddick, Sonja Sohn, Wende...</td>\n",
       "    </tr>\n",
       "    <tr>\n",
       "      <th>2</th>\n",
       "      <td>The Chosen</td>\n",
       "      <td>A charismatic fisherman struggling with debt. ...</td>\n",
       "      <td>2017–</td>\n",
       "      <td>9.3</td>\n",
       "      <td>54 min</td>\n",
       "      <td>Drama, History</td>\n",
       "      <td></td>\n",
       "      <td>Shahar Isaac, Jonathan Roumie, Paras Patel, El...</td>\n",
       "    </tr>\n",
       "    <tr>\n",
       "      <th>3</th>\n",
       "      <td>Avatar: The Last Airbender</td>\n",
       "      <td>In a war-torn world of elemental magic, a youn...</td>\n",
       "      <td>2005–2008</td>\n",
       "      <td>9.3</td>\n",
       "      <td>23 min</td>\n",
       "      <td>Animation, Action, Adventure</td>\n",
       "      <td></td>\n",
       "      <td>Dee Bradley Baker, Zach Tyler Eisen, Mae Whitm...</td>\n",
       "    </tr>\n",
       "    <tr>\n",
       "      <th>4</th>\n",
       "      <td>Scam 1992: The Harshad Mehta Story</td>\n",
       "      <td>Set in 1980s and '90s Bombay, it follows the l...</td>\n",
       "      <td>2020</td>\n",
       "      <td>9.3</td>\n",
       "      <td>54 min</td>\n",
       "      <td>Biography, Crime, Drama</td>\n",
       "      <td></td>\n",
       "      <td>Pratik Gandhi, Shreya Dhanwanthary, Hemant Khe...</td>\n",
       "    </tr>\n",
       "    <tr>\n",
       "      <th>...</th>\n",
       "      <td>...</td>\n",
       "      <td>...</td>\n",
       "      <td>...</td>\n",
       "      <td>...</td>\n",
       "      <td>...</td>\n",
       "      <td>...</td>\n",
       "      <td>...</td>\n",
       "      <td>...</td>\n",
       "    </tr>\n",
       "    <tr>\n",
       "      <th>5492</th>\n",
       "      <td>Showtime</td>\n",
       "      <td>A spoof of buddy cop movies where two very dif...</td>\n",
       "      <td>2002</td>\n",
       "      <td>5.5</td>\n",
       "      <td>95 min</td>\n",
       "      <td>Action, Comedy, Crime</td>\n",
       "      <td>Tom Dey</td>\n",
       "      <td>Robert De Niro, Eddie Murphy, Rene Russo, Rach...</td>\n",
       "    </tr>\n",
       "    <tr>\n",
       "      <th>5493</th>\n",
       "      <td>Gunjan Saxena: The Kargil Girl</td>\n",
       "      <td>Inspired by the life of a fearless young offic...</td>\n",
       "      <td>2020</td>\n",
       "      <td>5.5</td>\n",
       "      <td>112 min</td>\n",
       "      <td>Action, Biography, Drama</td>\n",
       "      <td>ALi Khan AK, Sharan Sharma</td>\n",
       "      <td>Janhvi Kapoor, Pankaj Tripathi, Angad Bedi, Ma...</td>\n",
       "    </tr>\n",
       "    <tr>\n",
       "      <th>5494</th>\n",
       "      <td>67th Street, New York, NY</td>\n",
       "      <td>A rookie detective Dylan Williams, hunt a seri...</td>\n",
       "      <td>2011</td>\n",
       "      <td>5.5</td>\n",
       "      <td>105 min</td>\n",
       "      <td>Crime, Thriller</td>\n",
       "      <td>Enzo Zelocchi</td>\n",
       "      <td>Enzo Zelocchi, David Man, Ladae Bond, Casey Cadag</td>\n",
       "    </tr>\n",
       "    <tr>\n",
       "      <th>5495</th>\n",
       "      <td>65</td>\n",
       "      <td>An astronaut crash lands on a mysterious plane...</td>\n",
       "      <td>2023</td>\n",
       "      <td>5.4</td>\n",
       "      <td>93 min</td>\n",
       "      <td>Action, Adventure, Drama</td>\n",
       "      <td>Scott Beck, Bryan Woods</td>\n",
       "      <td>Adam Driver, Ariana Greenblatt, Chloe Coleman,...</td>\n",
       "    </tr>\n",
       "    <tr>\n",
       "      <th>5496</th>\n",
       "      <td>Deep Water</td>\n",
       "      <td>A well-to-do husband who allows his wife to ha...</td>\n",
       "      <td>I) (2022</td>\n",
       "      <td>5.4</td>\n",
       "      <td>115 min</td>\n",
       "      <td>Drama, Mystery, Thriller</td>\n",
       "      <td>Adrian Lyne</td>\n",
       "      <td>Ben Affleck, Ana de Armas, Tracy Letts, Grace ...</td>\n",
       "    </tr>\n",
       "  </tbody>\n",
       "</table>\n",
       "<p>5497 rows × 8 columns</p>\n",
       "</div>"
      ],
      "text/plain": [
       "                                   title  \\\n",
       "0                           Breaking Bad   \n",
       "1                               The Wire   \n",
       "2                             The Chosen   \n",
       "3             Avatar: The Last Airbender   \n",
       "4     Scam 1992: The Harshad Mehta Story   \n",
       "...                                  ...   \n",
       "5492                            Showtime   \n",
       "5493      Gunjan Saxena: The Kargil Girl   \n",
       "5494           67th Street, New York, NY   \n",
       "5495                                  65   \n",
       "5496                          Deep Water   \n",
       "\n",
       "                                            description       year rating  \\\n",
       "0     A chemistry teacher diagnosed with inoperable ...  2008–2013    9.5   \n",
       "1     The Baltimore drug scene, as seen through the ...  2002–2008    9.3   \n",
       "2     A charismatic fisherman struggling with debt. ...     2017–     9.3   \n",
       "3     In a war-torn world of elemental magic, a youn...  2005–2008    9.3   \n",
       "4     Set in 1980s and '90s Bombay, it follows the l...       2020    9.3   \n",
       "...                                                 ...        ...    ...   \n",
       "5492  A spoof of buddy cop movies where two very dif...       2002    5.5   \n",
       "5493  Inspired by the life of a fearless young offic...       2020    5.5   \n",
       "5494  A rookie detective Dylan Williams, hunt a seri...       2011    5.5   \n",
       "5495  An astronaut crash lands on a mysterious plane...       2023    5.4   \n",
       "5496  A well-to-do husband who allows his wife to ha...   I) (2022    5.4   \n",
       "\n",
       "      runtime                        genres                   directors  \\\n",
       "0      49 min        Crime, Drama, Thriller                               \n",
       "1      59 min        Crime, Drama, Thriller                               \n",
       "2      54 min                Drama, History                               \n",
       "3      23 min  Animation, Action, Adventure                               \n",
       "4      54 min       Biography, Crime, Drama                               \n",
       "...       ...                           ...                         ...   \n",
       "5492   95 min         Action, Comedy, Crime                     Tom Dey   \n",
       "5493  112 min      Action, Biography, Drama  ALi Khan AK, Sharan Sharma   \n",
       "5494  105 min               Crime, Thriller               Enzo Zelocchi   \n",
       "5495   93 min      Action, Adventure, Drama     Scott Beck, Bryan Woods   \n",
       "5496  115 min      Drama, Mystery, Thriller                 Adrian Lyne   \n",
       "\n",
       "                                                  stars  \n",
       "0     Bryan Cranston, Aaron Paul, Anna Gunn, Betsy B...  \n",
       "1     Dominic West, Lance Reddick, Sonja Sohn, Wende...  \n",
       "2     Shahar Isaac, Jonathan Roumie, Paras Patel, El...  \n",
       "3     Dee Bradley Baker, Zach Tyler Eisen, Mae Whitm...  \n",
       "4     Pratik Gandhi, Shreya Dhanwanthary, Hemant Khe...  \n",
       "...                                                 ...  \n",
       "5492  Robert De Niro, Eddie Murphy, Rene Russo, Rach...  \n",
       "5493  Janhvi Kapoor, Pankaj Tripathi, Angad Bedi, Ma...  \n",
       "5494  Enzo Zelocchi, David Man, Ladae Bond, Casey Cadag  \n",
       "5495  Adam Driver, Ariana Greenblatt, Chloe Coleman,...  \n",
       "5496  Ben Affleck, Ana de Armas, Tracy Letts, Grace ...  \n",
       "\n",
       "[5497 rows x 8 columns]"
      ]
     },
     "execution_count": 88,
     "metadata": {},
     "output_type": "execute_result"
    }
   ],
   "source": [
    "df"
   ]
  },
  {
   "cell_type": "code",
   "execution_count": 89,
   "id": "a32bfda9",
   "metadata": {},
   "outputs": [],
   "source": [
    "df.to_csv('movies_db.csv')"
   ]
  },
  {
   "cell_type": "markdown",
   "id": "77a60ad6",
   "metadata": {},
   "source": [
    "# Training the model"
   ]
  },
  {
   "cell_type": "code",
   "execution_count": 2,
   "id": "21c6b627",
   "metadata": {},
   "outputs": [
    {
     "name": "stdout",
     "output_type": "stream",
     "text": [
      "/Users/mantasbagdonas/miniconda3/envs/transformers/bin/python\r\n"
     ]
    }
   ],
   "source": [
    "!which python"
   ]
  },
  {
   "cell_type": "code",
   "execution_count": 3,
   "id": "2e8f9824",
   "metadata": {},
   "outputs": [
    {
     "name": "stdout",
     "output_type": "stream",
     "text": [
      "Intel MKL WARNING: Support of Intel(R) Streaming SIMD Extensions 4.2 (Intel(R) SSE4.2) enabled only processors has been deprecated. Intel oneAPI Math Kernel Library 2025.0 will require Intel(R) Advanced Vector Extensions (Intel(R) AVX) instructions.\n",
      "Intel MKL WARNING: Support of Intel(R) Streaming SIMD Extensions 4.2 (Intel(R) SSE4.2) enabled only processors has been deprecated. Intel oneAPI Math Kernel Library 2025.0 will require Intel(R) Advanced Vector Extensions (Intel(R) AVX) instructions.\n"
     ]
    }
   ],
   "source": [
    "import numpy as np\n",
    "from transformers import BertTokenizer, BertModel\n",
    "from transformers import AutoTokenizer, AutoModel"
   ]
  },
  {
   "cell_type": "markdown",
   "id": "fc564b04",
   "metadata": {},
   "source": [
    "# Movie search"
   ]
  },
  {
   "cell_type": "code",
   "execution_count": 11,
   "id": "0575718e",
   "metadata": {},
   "outputs": [],
   "source": [
    "from sklearn.metrics.pairwise import cosine_similarity\n",
    "import pandas as pd"
   ]
  },
  {
   "cell_type": "code",
   "execution_count": 12,
   "id": "420b42a3",
   "metadata": {},
   "outputs": [],
   "source": [
    "df = pd.read_csv('movies_db.csv')"
   ]
  },
  {
   "cell_type": "code",
   "execution_count": 13,
   "id": "5b1bb2be",
   "metadata": {},
   "outputs": [
    {
     "data": {
      "text/plain": [
       "\"A chemistry teacher diagnosed with inoperable lung cancer turns to manufacturing and selling methamphetamine with a former student in order to secure his family's future.\""
      ]
     },
     "execution_count": 13,
     "metadata": {},
     "output_type": "execute_result"
    }
   ],
   "source": [
    "df.iloc[0]['description']"
   ]
  },
  {
   "cell_type": "code",
   "execution_count": 14,
   "id": "b1350d6c",
   "metadata": {},
   "outputs": [],
   "source": [
    "search = \"chemistry teacher cooking meth\"\n",
    "bb = df.iloc[0]['description']"
   ]
  },
  {
   "cell_type": "code",
   "execution_count": 15,
   "id": "6b88fcee",
   "metadata": {},
   "outputs": [
    {
     "name": "stderr",
     "output_type": "stream",
     "text": [
      "Some weights of the model checkpoint at bert-base-uncased were not used when initializing BertModel: ['cls.predictions.decoder.weight', 'cls.predictions.transform.LayerNorm.bias', 'cls.predictions.transform.LayerNorm.weight', 'cls.seq_relationship.bias', 'cls.predictions.transform.dense.weight', 'cls.predictions.bias', 'cls.predictions.transform.dense.bias', 'cls.seq_relationship.weight']\n",
      "- This IS expected if you are initializing BertModel from the checkpoint of a model trained on another task or with another architecture (e.g. initializing a BertForSequenceClassification model from a BertForPreTraining model).\n",
      "- This IS NOT expected if you are initializing BertModel from the checkpoint of a model that you expect to be exactly identical (initializing a BertForSequenceClassification model from a BertForSequenceClassification model).\n"
     ]
    }
   ],
   "source": [
    "tokenizer = BertTokenizer.from_pretrained('bert-base-uncased')\n",
    "model = BertModel.from_pretrained(\"bert-base-uncased\")"
   ]
  },
  {
   "cell_type": "code",
   "execution_count": 16,
   "id": "d86c531d",
   "metadata": {},
   "outputs": [],
   "source": [
    "# doing the tokenization to prep data as tokens\n",
    "preprocessed_data = []\n",
    "\n",
    "for t in [search, bb]:\n",
    "  encoded_input = tokenizer(t, return_tensors='pt')\n",
    "  preprocessed_data.append(encoded_input)"
   ]
  },
  {
   "cell_type": "code",
   "execution_count": 17,
   "id": "2350e014",
   "metadata": {},
   "outputs": [],
   "source": [
    "# calculating last hidden states and everaging to have fixed dimmention features for each text\n",
    "outputs = []\n",
    "\n",
    "for inputs in preprocessed_data:\n",
    "  output = model(**inputs)\n",
    "  features = np.mean(output[0].detach().numpy(), axis = 1)\n",
    "  outputs.append(features)"
   ]
  },
  {
   "cell_type": "code",
   "execution_count": 18,
   "id": "0b1cc6ed",
   "metadata": {},
   "outputs": [
    {
     "data": {
      "text/plain": [
       "array([[0.52693105]], dtype=float32)"
      ]
     },
     "execution_count": 18,
     "metadata": {},
     "output_type": "execute_result"
    }
   ],
   "source": [
    "cosine_similarity(outputs[0], outputs[1])"
   ]
  },
  {
   "cell_type": "markdown",
   "id": "2b53cd63",
   "metadata": {},
   "source": [
    "# Using SentenceTransformer"
   ]
  },
  {
   "cell_type": "code",
   "execution_count": 20,
   "id": "0714c24b",
   "metadata": {},
   "outputs": [],
   "source": [
    "from sentence_transformers import SentenceTransformer"
   ]
  },
  {
   "cell_type": "code",
   "execution_count": 76,
   "id": "a98acfde",
   "metadata": {},
   "outputs": [],
   "source": [
    "class SemanticSearch:\n",
    "    def __init__(self, model, data):\n",
    "        self.model = model\n",
    "        self.embeddings = model.encode(data)\n",
    "    \n",
    "    def search(self, query):\n",
    "        query_embedding = model.encode([query])[0]\n",
    "        \n",
    "        similarities = cosine_similarity([query_embedding], movie_embeddings)[0] #returns indices\n",
    "        \n",
    "        return (similarities, sorted(range(len(similarities)), key=lambda i: similarities[i], reverse=True))\n",
    "    "
   ]
  },
  {
   "cell_type": "code",
   "execution_count": 154,
   "id": "a6e7c1d0",
   "metadata": {},
   "outputs": [],
   "source": [
    "def print_category(indices, similarities):\n",
    "    for i in range(len(most_similar)):\n",
    "        index = indices[i]\n",
    "        print(f\"Movie #{i + 1}: {df.iloc[index]['title']} | {data[index]} | genres: {df.iloc[index]['genres']} similarity: {round(similarities[index] * 100, 2)}%\\n\")\n",
    "        \n",
    "def output(indices, similarities):\n",
    "    most_similar, other_genre, less_popular, more_popular = indices\n",
    "    \n",
    "    print('Most similar movies:\\n')\n",
    "    print_category(most_similar, similarities)\n",
    "    \n",
    "    print('Movies from another genre:\\n')\n",
    "    print_category(most_similar, similarities)\n",
    "    \n",
    "    print('Less popular movies:\\n')\n",
    "    print_category(most_similar, similarities)\n",
    "    \n",
    "    print('More popular movies:\\n')\n",
    "    print_category(most_similar, similarities)\n",
    "    \n",
    "    "
   ]
  },
  {
   "cell_type": "code",
   "execution_count": 78,
   "id": "2bcee13a",
   "metadata": {},
   "outputs": [],
   "source": [
    "df['title_description'] = df.apply(lambda row: row['title'] + ' ' + row['description'], axis=1)"
   ]
  },
  {
   "cell_type": "code",
   "execution_count": 79,
   "id": "880d535e",
   "metadata": {},
   "outputs": [],
   "source": [
    "model = SentenceTransformer('msmarco-distilbert-base-dot-prod-v3')"
   ]
  },
  {
   "cell_type": "code",
   "execution_count": 80,
   "id": "c2e14627",
   "metadata": {},
   "outputs": [],
   "source": [
    "semantic_search = SemanticSearch(model, df['title_description'])"
   ]
  },
  {
   "cell_type": "code",
   "execution_count": 108,
   "id": "7f202a55",
   "metadata": {},
   "outputs": [
    {
     "name": "stdout",
     "output_type": "stream",
     "text": [
      "enter the search query:\n",
      "kids enter a school of magic\n",
      "\n",
      "The Magicians | After being recruited to a secretive academy, a group of students discovers that the magic they read about as children is very real--and more dangerous than they ever imagined. similarity: 66.5%\n",
      "\n",
      "Harry Potter and the Sorcerer's Stone | An orphaned boy enrolls in a school of wizardry, where he learns the truth about himself, his family and the terrible evil that haunts the magical world. similarity: 64.77%\n",
      "\n",
      "His Dark Materials | A young girl is destined to liberate her world from the grip of the Magisterium which represses people's ties to magic and their animal spirits known as daemons. similarity: 58.9%\n",
      "\n",
      "The Chronicles of Narnia: The Lion, the Witch and the Wardrobe | Four kids travel through a wardrobe to the land of Narnia and learn of their destiny to free it with the guidance of a mystical lion. similarity: 58.24%\n",
      "\n",
      "Jujutsu Kaisen | A boy swallows a cursed talisman - the finger of a demon - and becomes cursed himself. He enters a shaman's school to be able to locate the demon's other body parts and thus exorcise himself. similarity: 57.03%\n",
      "\n"
     ]
    }
   ],
   "source": [
    "print('enter the search query:')\n",
    "query = input()\n",
    "print()\n",
    "\n",
    "similarities, indices = semantic_search.search(query)\n",
    "output(indices[0:5], similarities)"
   ]
  },
  {
   "cell_type": "code",
   "execution_count": 158,
   "id": "16af1828",
   "metadata": {},
   "outputs": [],
   "source": [
    "from collections import Counter\n",
    "\n",
    "top_movies_c = 5\n",
    "\n",
    "def extract_other_movies(similarities, indices):\n",
    "    similar_movies = indices[0:top_movies_c]\n",
    "    other_genre = []\n",
    "    less_popular = []\n",
    "    more_popular = []\n",
    "    \n",
    "    genres = df.iloc[indices[0:5]]['genres'] #get top 5 movies\n",
    "    genres = [genre.split(', ') for genre in genres]\n",
    "    genres = [item for sublist in genres for item in sublist]\n",
    "    genre_counts = Counter(genres)\n",
    "    most_common_genres = list(dict(genre_counts.most_common(2)).keys())\n",
    "    \n",
    "    tail = df.iloc[indices[top_movies_c:]]\n",
    "    c = i = 0\n",
    "    \n",
    "    #extract of other genres\n",
    "    while len(other_genre) < 3:\n",
    "        gen = set(tail.iloc[i]['genres'].split(', '))\n",
    "        if not gen.intersection(set(most_common_genres)) and indices[i] not in (similar_movies + other_genre):\n",
    "            other_genre.append(indices[i])\n",
    "            \n",
    "        i += 1\n",
    "        \n",
    "    #avg rating of top 5 movies\n",
    "    ratings = df.iloc[indices[0:top_movies_c]]['rating'].tolist()\n",
    "    ratings = [float(rating) for rating in ratings]\n",
    "    avg_rating = sum(ratings) / top_movies_c\n",
    "    \n",
    "    c = i = 0\n",
    "    while len(less_popular) < 3:\n",
    "        if float(df.iloc[indices[i]]['rating']) < avg_rating and indices[i] not in (similar_movies + other_genre + less_popular):\n",
    "            less_popular.append(indices[i])\n",
    "        \n",
    "        i += 1\n",
    "        \n",
    "    c = i = 0\n",
    "    while len(more_popular) < 3:\n",
    "        if float(df.iloc[indices[i]]['rating']) > avg_rating and indices[i] not in (similar_movies + other_genre + less_popular + more_popular):\n",
    "            more_popular.append(indices[i])\n",
    "        \n",
    "        i += 1\n",
    "            \n",
    "    return similar_movies, other_genre, less_popular, more_popular"
   ]
  },
  {
   "cell_type": "code",
   "execution_count": 159,
   "id": "a02ae763",
   "metadata": {},
   "outputs": [
    {
     "data": {
      "text/plain": [
       "([498, 1409, 444, 2911, 165],\n",
       " [4047, 1166, 4885],\n",
       " [4598, 3138, 2909],\n",
       " [3, 1248, 978])"
      ]
     },
     "execution_count": 159,
     "metadata": {},
     "output_type": "execute_result"
    }
   ],
   "source": [
    "movies = extract_other_movies(similarities, indices)\n",
    "movies"
   ]
  },
  {
   "cell_type": "code",
   "execution_count": 160,
   "id": "72a8a8a3",
   "metadata": {},
   "outputs": [
    {
     "ename": "TypeError",
     "evalue": "type numpy.ndarray doesn't define __round__ method",
     "output_type": "error",
     "traceback": [
      "\u001b[0;31m---------------------------------------------------------------------------\u001b[0m",
      "\u001b[0;31mTypeError\u001b[0m                                 Traceback (most recent call last)",
      "Cell \u001b[0;32mIn[160], line 1\u001b[0m\n\u001b[0;32m----> 1\u001b[0m \u001b[43moutput\u001b[49m\u001b[43m(\u001b[49m\u001b[43mmovies\u001b[49m\u001b[43m,\u001b[49m\u001b[43m \u001b[49m\u001b[43msimilarities\u001b[49m\u001b[43m)\u001b[49m\n",
      "Cell \u001b[0;32mIn[154], line 4\u001b[0m, in \u001b[0;36moutput\u001b[0;34m(indices, similarities)\u001b[0m\n\u001b[1;32m      2\u001b[0m \u001b[38;5;28;01mfor\u001b[39;00m i \u001b[38;5;129;01min\u001b[39;00m \u001b[38;5;28mrange\u001b[39m(\u001b[38;5;28mlen\u001b[39m(indices)):\n\u001b[1;32m      3\u001b[0m     index \u001b[38;5;241m=\u001b[39m indices[i]\n\u001b[0;32m----> 4\u001b[0m     \u001b[38;5;28mprint\u001b[39m(\u001b[38;5;124mf\u001b[39m\u001b[38;5;124m\"\u001b[39m\u001b[38;5;124mMovie #\u001b[39m\u001b[38;5;132;01m{\u001b[39;00mi\u001b[38;5;250m \u001b[39m\u001b[38;5;241m+\u001b[39m\u001b[38;5;250m \u001b[39m\u001b[38;5;241m1\u001b[39m\u001b[38;5;132;01m}\u001b[39;00m\u001b[38;5;124m: \u001b[39m\u001b[38;5;132;01m{\u001b[39;00mdf\u001b[38;5;241m.\u001b[39miloc[index][\u001b[38;5;124m'\u001b[39m\u001b[38;5;124mtitle\u001b[39m\u001b[38;5;124m'\u001b[39m]\u001b[38;5;132;01m}\u001b[39;00m\u001b[38;5;124m | \u001b[39m\u001b[38;5;132;01m{\u001b[39;00mdata[index]\u001b[38;5;132;01m}\u001b[39;00m\u001b[38;5;124m | genres: \u001b[39m\u001b[38;5;132;01m{\u001b[39;00mdf\u001b[38;5;241m.\u001b[39miloc[index][\u001b[38;5;124m'\u001b[39m\u001b[38;5;124mgenres\u001b[39m\u001b[38;5;124m'\u001b[39m]\u001b[38;5;132;01m}\u001b[39;00m\u001b[38;5;124m similarity: \u001b[39m\u001b[38;5;132;01m{\u001b[39;00m\u001b[38;5;28;43mround\u001b[39;49m\u001b[43m(\u001b[49m\u001b[43msimilarities\u001b[49m\u001b[43m[\u001b[49m\u001b[43mindex\u001b[49m\u001b[43m]\u001b[49m\u001b[38;5;250;43m \u001b[39;49m\u001b[38;5;241;43m*\u001b[39;49m\u001b[38;5;250;43m \u001b[39;49m\u001b[38;5;241;43m100\u001b[39;49m\u001b[43m,\u001b[49m\u001b[38;5;250;43m \u001b[39;49m\u001b[38;5;241;43m2\u001b[39;49m\u001b[43m)\u001b[49m\u001b[38;5;132;01m}\u001b[39;00m\u001b[38;5;124m%\u001b[39m\u001b[38;5;130;01m\\n\u001b[39;00m\u001b[38;5;124m\"\u001b[39m)\n",
      "\u001b[0;31mTypeError\u001b[0m: type numpy.ndarray doesn't define __round__ method"
     ]
    }
   ],
   "source": [
    "output(movies, similarities)"
   ]
  },
  {
   "cell_type": "code",
   "execution_count": null,
   "id": "90473e7e",
   "metadata": {},
   "outputs": [],
   "source": []
  }
 ],
 "metadata": {
  "kernelspec": {
   "display_name": "transformers",
   "language": "python",
   "name": "transformers"
  },
  "language_info": {
   "codemirror_mode": {
    "name": "ipython",
    "version": 3
   },
   "file_extension": ".py",
   "mimetype": "text/x-python",
   "name": "python",
   "nbconvert_exporter": "python",
   "pygments_lexer": "ipython3",
   "version": "3.10.11"
  }
 },
 "nbformat": 4,
 "nbformat_minor": 5
}
