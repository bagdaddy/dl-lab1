{
 "cells": [
  {
   "cell_type": "code",
   "execution_count": 19,
   "metadata": {
    "id": "DjST7MxSab7w"
   },
   "outputs": [],
   "source": [
    "import os\n",
    "from openimages.download import download_dataset"
   ]
  },
  {
   "cell_type": "code",
   "execution_count": 1,
   "metadata": {
    "id": "LT3hD7KDadb5"
   },
   "outputs": [],
   "source": [
    "data_dirs = [\"val\", \"train\", \"test\"]\n",
    "number_for_samples = 200\n",
    "classes = [\"Flower\", \"Dog\", \"Cat\"]\n",
    "classes_dict = {\"flower\": 0, \"dog\": 1, \"cat\": 2}"
   ]
  },
  {
   "cell_type": "code",
   "execution_count": 45,
   "metadata": {
    "id": "-FsW7_6uader"
   },
   "outputs": [],
   "source": [
    "for data_dir in data_dirs:\n",
    "    if not os.path.exists(data_dir):\n",
    "        os.makedirs(data_dir)"
   ]
  },
  {
   "cell_type": "code",
   "execution_count": 46,
   "metadata": {
    "colab": {
     "base_uri": "https://localhost:8080/"
    },
    "id": "pePq489aah1w",
    "outputId": "4f0e7774-d9fe-4e84-fb1b-46d61a4f26f4"
   },
   "outputs": [
    {
     "name": "stdout",
     "output_type": "stream",
     "text": [
      "Downloading is starting...\n"
     ]
    },
    {
     "name": "stderr",
     "output_type": "stream",
     "text": [
      "2023-04-25  00:17:08 INFO Downloading 3000 train images for class 'flower'\n",
      "100%|███████████████████████████████████████████████████████████████████████████████████████| 3000/3000 [01:58<00:00, 25.31it/s]\n",
      "2023-04-25  00:19:07 INFO Creating 3000 train annotations (pascal) for class 'flower'\n",
      "100%|█████████████████████████████████████████████████████████████████████████████████████| 3000/3000 [00:01<00:00, 2795.02it/s]\n",
      "2023-04-25  00:19:09 INFO Downloading 2549 train images for class 'dog'\n",
      " 99%|█████████████████████████████████████████████████████████████████████████████████████▉ | 2519/2549 [01:39<00:01, 29.84it/s]2023-04-25  00:20:50 WARNING Connection pool is full, discarding connection: open-images-dataset.s3.amazonaws.com. Connection pool size: 10\n",
      "100%|███████████████████████████████████████████████████████████████████████████████████████| 2549/2549 [01:41<00:00, 25.18it/s]\n",
      "2023-04-25  00:20:50 INFO Creating 2549 train annotations (pascal) for class 'dog'\n",
      "100%|█████████████████████████████████████████████████████████████████████████████████████| 2549/2549 [00:00<00:00, 5365.11it/s]\n",
      "2023-04-25  00:20:52 INFO Downloading 3000 train images for class 'cat'\n",
      "100%|███████████████████████████████████████████████████████████████████████████████████████| 3000/3000 [09:02<00:00,  5.53it/s]\n",
      "2023-04-25  00:29:55 INFO Creating 3000 train annotations (pascal) for class 'cat'\n",
      "100%|█████████████████████████████████████████████████████████████████████████████████████| 3000/3000 [00:01<00:00, 2199.58it/s]\n",
      "2023-04-25  00:31:12 INFO Downloading 200 train images for class 'flower'\n",
      "100%|█████████████████████████████████████████████████████████████████████████████████████████| 200/200 [00:10<00:00, 19.57it/s]\n",
      "2023-04-25  00:31:22 INFO Creating 200 train annotations (pascal) for class 'flower'\n",
      "100%|████████████████████████████████████████████████████████████████████████████████████████| 200/200 [00:00<00:00, 249.89it/s]\n",
      "2023-04-25  00:31:23 INFO Downloading 200 train images for class 'dog'\n",
      "100%|█████████████████████████████████████████████████████████████████████████████████████████| 200/200 [00:08<00:00, 23.67it/s]\n",
      "2023-04-25  00:31:31 INFO Creating 200 train annotations (pascal) for class 'dog'\n",
      "100%|████████████████████████████████████████████████████████████████████████████████████████| 200/200 [00:00<00:00, 205.60it/s]\n",
      "2023-04-25  00:31:33 INFO Downloading 200 train images for class 'cat'\n",
      "100%|█████████████████████████████████████████████████████████████████████████████████████████| 200/200 [00:08<00:00, 24.88it/s]\n",
      "2023-04-25  00:31:41 INFO Creating 200 train annotations (pascal) for class 'cat'\n",
      "100%|████████████████████████████████████████████████████████████████████████████████████████| 200/200 [00:00<00:00, 201.57it/s]\n"
     ]
    },
    {
     "data": {
      "text/plain": [
       "{'flower': {'images_dir': 'test/flower/images',\n",
       "  'annotations_dir': 'test/flower/pascal'},\n",
       " 'dog': {'images_dir': 'test/dog/images',\n",
       "  'annotations_dir': 'test/dog/pascal'},\n",
       " 'cat': {'images_dir': 'test/cat/images',\n",
       "  'annotations_dir': 'test/cat/pascal'}}"
      ]
     },
     "execution_count": 46,
     "metadata": {},
     "output_type": "execute_result"
    }
   ],
   "source": [
    "print(\"Downloading is starting...\")\n",
    "\n",
    "download_dataset(\"train\", classes, limit=3000, annotation_format=\"pascal\")\n",
    "# download_dataset(\"val\", classes, limit=200, annotation_format=\"pascal\")\n",
    "download_dataset(\"test\", classes, limit=200, annotation_format=\"pascal\")"
   ]
  },
  {
   "cell_type": "code",
   "execution_count": 2,
   "metadata": {},
   "outputs": [],
   "source": [
    "import sys\n",
    "sys.path.append('/Users/mantasbagdonas/miniconda3/lib/python3.10/site-packages')"
   ]
  },
  {
   "cell_type": "code",
   "execution_count": 2,
   "metadata": {},
   "outputs": [
    {
     "name": "stdout",
     "output_type": "stream",
     "text": [
      "/Users/mantasbagdonas/miniconda3/envs/torch/bin/python\n"
     ]
    }
   ],
   "source": [
    "import sys\n",
    "print(sys.executable)"
   ]
  },
  {
   "cell_type": "code",
   "execution_count": 7,
   "metadata": {
    "id": "ethAIONZah-C"
   },
   "outputs": [],
   "source": [
    "import torch\n",
    "import torchvision\n",
    "from torch.autograd import Variable\n",
    "from torchvision import datasets\n",
    "from torchvision.transforms import transforms\n",
    "from torch.utils.data import DataLoader\n",
    "from torch.utils.data import Dataset\n",
    "import torch.optim as optim\n",
    "import numpy as np\n",
    "from skimage import io\n",
    "from skimage.transform import resize\n",
    "from skimage.color import gray2rgb\n",
    "import glob\n",
    "import PIL\n",
    "from PIL import Image\n",
    "import matplotlib.pyplot as plt\n",
    "from torch.autograd import Variable\n",
    "from torchvision import models\n",
    "import numpy as np\n",
    "import torch.nn as nn\n",
    "import torch.nn.functional as F\n",
    "import torchvision\n",
    "from torch.utils.tensorboard import SummaryWriter\n",
    "from PIL import Image\n",
    "import matplotlib.pyplot as plt\n",
    "import matplotlib.patches as patches"
   ]
  },
  {
   "cell_type": "code",
   "execution_count": 8,
   "metadata": {},
   "outputs": [],
   "source": [
    "transform_train = transforms.Compose([\n",
    "    transforms.RandomHorizontalFlip(),\n",
    "    transforms.Resize(256),\n",
    "    transforms.RandomResizedCrop(224),\n",
    "    transforms.ToTensor(),                     \n",
    "    transforms.Normalize(                      \n",
    "    mean=[0.5, 0.5, 0.5],                \n",
    "    std=[0.5, 0.5, 0.5]                  \n",
    "    )])\n",
    "\n",
    "transform_viz = transforms.Compose([           \n",
    "    transforms.ToTensor(),                     \n",
    "    ])"
   ]
  },
  {
   "cell_type": "code",
   "execution_count": 9,
   "metadata": {
    "id": "tjBU10-AbM4v"
   },
   "outputs": [],
   "source": [
    "def read_img(file_name, train=True, add_dim=False):\n",
    "    img = Image.open(file_name).convert(\"RGB\")\n",
    "    if train:\n",
    "        img_t = transform_train(img)\n",
    "    else:\n",
    "        img_t = transform_viz(img)\n",
    "    if add_dim:\n",
    "        img_t = torch.unsqueeze(img_t, 0)\n",
    "    return img_t"
   ]
  },
  {
   "cell_type": "code",
   "execution_count": 12,
   "metadata": {
    "id": "pYia3b54deUF"
   },
   "outputs": [],
   "source": [
    "import glob2\n",
    "import xml.etree.ElementTree as ET\n",
    "import numpy as np\n",
    "import torch\n",
    "import torch.nn.functional as F"
   ]
  },
  {
   "cell_type": "code",
   "execution_count": 13,
   "metadata": {},
   "outputs": [],
   "source": [
    "def load_meta_data(folder):\n",
    "    return glob2.glob(\"{}/*/pascal/*xml\".format(folder))"
   ]
  },
  {
   "cell_type": "code",
   "execution_count": 14,
   "metadata": {
    "colab": {
     "base_uri": "https://localhost:8080/"
    },
    "id": "gojjHk2adeWp",
    "outputId": "8fcb4a39-855f-431d-a074-12a5fd773d8e"
   },
   "outputs": [],
   "source": [
    "def get_values(data, indexes, class_min):\n",
    "    return [data[index] for index in indexes[0:class_min]]\n",
    "\n",
    "def get_data(folder, class_counts = {'a': 1600, 'b': 1600, 'c': 1600}):\n",
    "    meta_data_files = load_meta_data(folder)\n",
    "    files = []\n",
    "    values = []\n",
    "\n",
    "    for i, meta_file in enumerate(meta_data_files):\n",
    "        tree = ET.parse(meta_file)\n",
    "        root = tree.getroot()\n",
    "        file_path = root.find('path').text\n",
    "\n",
    "        if len(root.findall('object')) == 1:\n",
    "            obj = root.findall('object')[0]\n",
    "            label = obj.find('name').text\n",
    "            values.append(classes_dict[label])\n",
    "            files.append(file_path)\n",
    "            \n",
    "    first_class = [i for i, x in enumerate(values) if x == 0]\n",
    "    second_class = [i for i, x in enumerate(values) if x == 1]\n",
    "    third_class = [i for i, x in enumerate(values) if x == 2]\n",
    "    X_balanced = get_values(files, first_class, class_counts['a']) + get_values(files, second_class, class_counts['b']) + get_values(files, third_class, class_counts['c'])\n",
    "    \n",
    "    Y_balanced = get_values(values, first_class, class_counts['a']) + get_values(values, second_class, class_counts['b']) + get_values(values, third_class, class_counts['c'])\n",
    "    \n",
    "    return X_balanced, Y_balanced\n"
   ]
  },
  {
   "cell_type": "code",
   "execution_count": 287,
   "metadata": {},
   "outputs": [],
   "source": [
    "counts_single = {'a': 300, 'b': 900, 'c': 700}\n",
    "counts_multi = {'a': 500, 'b': 950, 'c': 950}\n",
    "\n",
    "X_train_s, Y_train_s = get_data('train', counts_single)\n",
    "X_train_m, Y_train_m = get_data('train', counts_multi)\n",
    "\n",
    "X_val, Y_val = get_data('val', {'a': 104, 'b': 104, 'c': 104})\n",
    "X_test, y_test = get_data('test', {'a': 104, 'b': 104, 'c': 104})"
   ]
  },
  {
   "cell_type": "code",
   "execution_count": 288,
   "metadata": {},
   "outputs": [
    {
     "name": "stdout",
     "output_type": "stream",
     "text": [
      "Class 0: Count = 300\n",
      "Class 1: Count = 900\n",
      "Class 2: Count = 700\n"
     ]
    }
   ],
   "source": [
    "class_counts = np.bincount(np.array(Y_train_s))\n",
    "\n",
    "# Print the class counts\n",
    "for i, count in enumerate(class_counts):\n",
    "    print(\"Class {}: Count = {}\".format(i, count))"
   ]
  },
  {
   "cell_type": "code",
   "execution_count": 289,
   "metadata": {},
   "outputs": [],
   "source": [
    "class MultiTaskDataset(Dataset):\n",
    "    def __init__(self, files, y):\n",
    "        self.y = y\n",
    "        self.files = files\n",
    "\n",
    "    def __len__(self): return len(self.files)\n",
    "\n",
    "    def __getitem__(self, index):\n",
    "        image_file = self.files[index]\n",
    "        img = read_img(image_file)\n",
    "        \n",
    "        y = self.y[index]\n",
    "        \n",
    "        return img, (y)"
   ]
  },
  {
   "cell_type": "code",
   "execution_count": 290,
   "metadata": {},
   "outputs": [],
   "source": [
    "Y_train_s = torch.tensor(Y_train_s)\n",
    "Y_train_s = F.one_hot(Y_train_s, num_classes=3)\n",
    "\n",
    "traindataset = MultiTaskDataset(X_train_s, Y_train_s)\n",
    "\n",
    "trainloader = torch.utils.data.DataLoader(traindataset, batch_size=8, shuffle=True)"
   ]
  },
  {
   "cell_type": "code",
   "execution_count": 291,
   "metadata": {},
   "outputs": [],
   "source": [
    "Y_train_m = torch.tensor(Y_train_m)\n",
    "Y_train_m = F.one_hot(Y_train_m, num_classes=3)\n",
    "\n",
    "traindataset_m = MultiTaskDataset(X_train_m, Y_train_m)\n",
    "\n",
    "trainloader_m = torch.utils.data.DataLoader(traindataset_m, batch_size=8, shuffle=True)"
   ]
  },
  {
   "cell_type": "code",
   "execution_count": 292,
   "metadata": {},
   "outputs": [
    {
     "data": {
      "text/plain": [
       "device(type='mps')"
      ]
     },
     "execution_count": 292,
     "metadata": {},
     "output_type": "execute_result"
    }
   ],
   "source": [
    "mps_available = hasattr(torch.backends, \"mps\") and torch.backends.mps.is_available()\n",
    "device = torch.device(\"mps\" if mps_available else \"cpu\")\n",
    "device"
   ]
  },
  {
   "cell_type": "markdown",
   "metadata": {},
   "source": [
    "## Joining into a multitask model"
   ]
  },
  {
   "cell_type": "code",
   "execution_count": 293,
   "metadata": {},
   "outputs": [],
   "source": [
    "class MultiTaskModel(nn.Module):\n",
    "    def __init__(self):\n",
    "        super(MultiTaskModel, self).__init__()\n",
    "        self.model = models.resnet18(pretrained=True)\n",
    "        \n",
    "        self.features = nn.Sequential(*list(self.model.children())[:-1])\n",
    "        \n",
    "        self.model.fc_single = nn.Sequential(\n",
    "            nn.Flatten(),\n",
    "            nn.Linear(512, 128),\n",
    "            nn.ReLU(),\n",
    "            nn.Dropout(0.2),\n",
    "            nn.Linear(128, 3))\n",
    "        \n",
    "        self.model.fc_multi = nn.Sequential(\n",
    "            nn.Flatten(),\n",
    "            nn.Linear(512, 128),\n",
    "            nn.ReLU(),\n",
    "            nn.Dropout(0.3),\n",
    "            nn.Linear(128, 3))\n",
    "        \n",
    "        for param in self.model.parameters():\n",
    "            param.requires_grad = False\n",
    "\n",
    "        for param in self.model.fc_single.parameters():\n",
    "            param.requires_grad = True\n",
    "        for param in self.model.fc_multi.parameters():\n",
    "            param.requires_grad = True\n",
    "        \n",
    "    def forward(self, x):\n",
    "        x = self.features(x)\n",
    "        x = x.view(x.size(0), -1)\n",
    "        \n",
    "        y1 = self.model.fc_single(x)\n",
    "        y2 = self.model.fc_multi(x)\n",
    "        \n",
    "        return torch.softmax(y1, dim=1), torch.sigmoid(y2)\n",
    "    \n",
    "    def update_grad(self, single_grad=True, multi_grad=True):\n",
    "        for param in self.model.fc_single.parameters():\n",
    "            param.requires_grad = single_grad\n",
    "        for param in self.model.fc_multi.parameters():\n",
    "            param.requires_grad = multi_grad\n",
    "        \n",
    "    def print_parameters(self):\n",
    "        for name, param in self.model.named_parameters():\n",
    "            if 'fc_single' in name or 'fc_multi' in name:\n",
    "                print(name, param)\n",
    "                \n",
    "    def load_weights(self, weights):\n",
    "        self.model.load_state_dict(weights)"
   ]
  },
  {
   "cell_type": "code",
   "execution_count": 311,
   "metadata": {},
   "outputs": [],
   "source": [
    "from sklearn.metrics import accuracy_score\n",
    "from sklearn.metrics import classification_report\n",
    "import time\n",
    "\n",
    "multi_label_threshold = 0.4\n",
    "\n",
    "def evaluate_standalone(model, X_test=X_test, y_test=y_test):\n",
    "    preds_single = []\n",
    "    for (i, path) in enumerate(X_test):\n",
    "        img = read_img(path, False, True)\n",
    "        img = img.to(device)\n",
    "        with torch.inference_mode():\n",
    "            predict = model(img)\n",
    "            preds_single.append(np.argmax(predict[0].detach().tolist()))\n",
    "            \n",
    "    print(classification_report(y_test, preds_single, target_names=classes))\n",
    "\n",
    "def make_multitask_predictions(model, X_test=X_test, y_test=y_test):\n",
    "    preds_single = []\n",
    "    preds_multi = []\n",
    "    for (i, path) in enumerate(X_test):\n",
    "        img = read_img(path, False, True)\n",
    "        img = img.to(device)\n",
    "        with torch.inference_mode():\n",
    "            predict = model(img)\n",
    "            preds_single.append(np.argmax(predict[0].detach().tolist()))\n",
    "            temp_m= predict[1].detach().cpu().numpy()\n",
    "            temp_m = (temp_m > multi_label_threshold).astype(int).tolist()\n",
    "            preds_multi.append(temp_m[0])\n",
    "        \n",
    "    return preds_single, preds_multi\n",
    "\n",
    "def evaluate_and_print_progress(model, loss, epoch, duration=0):\n",
    "    pred_s, pred_m = make_multitask_predictions(model)\n",
    "    y_true_m = torch.tensor(y_test)\n",
    "    y_true_m = F.one_hot(y_true_m, num_classes=3)\n",
    "        \n",
    "    accuracy_s = accuracy_score(y_test, pred_s)\n",
    "    accuracy_m = accuracy_score(y_true_m, pred_m)\n",
    "\n",
    "    print('[epoch %d]: loss: %.3f, single acc: %.3f, multi acc: %.3f, duration: %ds' %\n",
    "          (epoch + 1, loss, accuracy_s, accuracy_m, duration))\n",
    "    \n",
    "    return (accuracy_s, accuracy_m)\n",
    "\n",
    "\n",
    "def evaluate_model(model, X_test=X_test, y_test=y_test):\n",
    "    preds_single, preds_multi = make_multitask_predictions(model, X_test, y_test)\n",
    "    \n",
    "    y_true_m = torch.tensor(y_test)\n",
    "    y_true_m = F.one_hot(y_true_m, num_classes=3)\n",
    "        \n",
    "    accuracy_s = accuracy_score(y_test, preds_single)\n",
    "    accuracy_m = accuracy_score(y_true_m, preds_multi)\n",
    "    \n",
    "    print(\"Single-label accuracy: \", accuracy_s)\n",
    "    print(classification_report(y_test, preds_single, target_names=classes))\n",
    "    print()\n",
    "    print(\"Multi-label accuracy: \", accuracy_m)\n",
    "    print(classification_report(y_true_m, preds_multi, target_names=classes))\n",
    "    \n",
    "    return (accuracy_s, accuracy_m)\n",
    "    \n",
    "    \n",
    "def optimize_task(model, loader, optimizer, loss_fn, task, epoch):\n",
    "    running_loss = 0.0\n",
    "    i = 0\n",
    "    for i, (inputs, labels) in enumerate(loader, 0):\n",
    "        inputs = inputs.to(device)\n",
    "        labels = labels.to(device)\n",
    "        labels = labels.type(torch.float32)\n",
    "\n",
    "        optimizer.zero_grad()\n",
    "\n",
    "        pred_s, pred_m = model(inputs)\n",
    "        if task == \"single\": \n",
    "            loss = loss_fn(pred_s, labels)\n",
    "        else:\n",
    "            loss = loss_fn(pred_m, labels)\n",
    "            \n",
    "        loss.backward()\n",
    "        optimizer.step()\n",
    "        running_loss += loss.item()\n",
    "        \n",
    "        i += 1\n",
    "    \n",
    "    return running_loss / i\n",
    "    \n",
    "def train_single_label(model, epochs = 10):    \n",
    "    single_losses = []\n",
    "    accs = []\n",
    "    model.train()\n",
    "    for epoch in range(epochs):\n",
    "        start = time.time()\n",
    "        \n",
    "        model.update_grad(single_grad=True, multi_grad=False)\n",
    "        loss = optimize_task(model, trainloader, optimizer_single, criterion_single, \"single\", epoch)\n",
    "                \n",
    "        end = time.time()\n",
    "            \n",
    "        model.eval()\n",
    "        acc = evaluate_and_print_progress(model, loss, epoch, end - start)\n",
    "        model.train()\n",
    "        \n",
    "        accs.append(acc)\n",
    "        single_losses.append(loss)\n",
    "                \n",
    "    return single_losses, accs\n",
    "\n",
    "def train_multi_label(model, epochs = 10):    \n",
    "    multi_losses = []\n",
    "    accs = []\n",
    "    model.train()\n",
    "    for epoch in range(epochs):\n",
    "        start = time.time()\n",
    "\n",
    "        model.update_grad(single_grad=False, multi_grad=True)\n",
    "        loss = optimize_task(model, trainloader_m, optimizer_multi, criterion_multi, \"multi\", epoch)\n",
    "        \n",
    "        end = time.time()\n",
    "        \n",
    "        model.eval()\n",
    "        acc = evaluate_and_print_progress(model, loss, epoch, end - start)\n",
    "        model.train()\n",
    "        \n",
    "        accs.append(acc)\n",
    "        multi_losses.append(loss)\n",
    "                \n",
    "    return multi_losses, accs"
   ]
  },
  {
   "cell_type": "code",
   "execution_count": 264,
   "metadata": {
    "collapsed": true
   },
   "outputs": [
    {
     "name": "stderr",
     "output_type": "stream",
     "text": [
      "/Users/mantasbagdonas/miniconda3/envs/torch/lib/python3.11/site-packages/torchvision/models/_utils.py:208: UserWarning: The parameter 'pretrained' is deprecated since 0.13 and may be removed in the future, please use 'weights' instead.\n",
      "  warnings.warn(\n",
      "/Users/mantasbagdonas/miniconda3/envs/torch/lib/python3.11/site-packages/torchvision/models/_utils.py:223: UserWarning: Arguments other than a weight enum or `None` for 'weights' are deprecated since 0.13 and may be removed in the future. The current behavior is equivalent to passing `weights=ResNet18_Weights.IMAGENET1K_V1`. You can also use `weights=ResNet18_Weights.DEFAULT` to get the most up-to-date weights.\n",
      "  warnings.warn(msg)\n"
     ]
    }
   ],
   "source": [
    "model_mt = MultiTaskModel().to(device)\n",
    "optimizer_single = optim.Adam(filter(lambda p: p.requires_grad, model_mt.parameters()), lr=0.002)\n",
    "optimizer_multi = optim.Adam(filter(lambda p: p.requires_grad, model_mt.parameters()), lr=0.001)\n",
    "\n",
    "criterion_multi = nn.BCEWithLogitsLoss().to(device)\n",
    "criterion_single = nn.CrossEntropyLoss().to(device)"
   ]
  },
  {
   "cell_type": "code",
   "execution_count": 265,
   "metadata": {},
   "outputs": [
    {
     "name": "stdout",
     "output_type": "stream",
     "text": [
      "[epoch 1]: loss: 0.691, single acc: 0.359, multi acc: 0.067, duration: 46s\n",
      "[epoch 2]: loss: 0.654, single acc: 0.356, multi acc: 0.429, duration: 52s\n",
      "[epoch 3]: loss: 0.634, single acc: 0.365, multi acc: 0.583, duration: 53s\n",
      "[epoch 4]: loss: 0.627, single acc: 0.359, multi acc: 0.667, duration: 51s\n",
      "[epoch 5]: loss: 0.626, single acc: 0.356, multi acc: 0.638, duration: 51s\n",
      "[epoch 6]: loss: 0.626, single acc: 0.353, multi acc: 0.458, duration: 45s\n",
      "[epoch 7]: loss: 0.624, single acc: 0.356, multi acc: 0.647, duration: 56s\n",
      "[epoch 8]: loss: 0.625, single acc: 0.353, multi acc: 0.423, duration: 49s\n",
      "[epoch 9]: loss: 0.626, single acc: 0.353, multi acc: 0.577, duration: 52s\n",
      "[epoch 10]: loss: 0.623, single acc: 0.362, multi acc: 0.631, duration: 54s\n"
     ]
    }
   ],
   "source": [
    "#train multi label\n",
    "losses_m, multi_losses, accs_m = train_multi_label(model_mt, 10)"
   ]
  },
  {
   "cell_type": "code",
   "execution_count": 267,
   "metadata": {},
   "outputs": [
    {
     "name": "stdout",
     "output_type": "stream",
     "text": [
      "[epoch 1]: loss: 0.885, single acc: 0.651, multi acc: 0.631, duration: 44s\n",
      "[epoch 2]: loss: 0.774, single acc: 0.744, multi acc: 0.609, duration: 40s\n",
      "[epoch 3]: loss: 0.764, single acc: 0.776, multi acc: 0.587, duration: 42s\n",
      "[epoch 4]: loss: 0.763, single acc: 0.676, multi acc: 0.638, duration: 36s\n",
      "[epoch 5]: loss: 0.761, single acc: 0.679, multi acc: 0.641, duration: 37s\n",
      "[epoch 6]: loss: 0.769, single acc: 0.817, multi acc: 0.599, duration: 43s\n",
      "[epoch 7]: loss: 0.753, single acc: 0.814, multi acc: 0.641, duration: 42s\n",
      "[epoch 8]: loss: 0.735, single acc: 0.683, multi acc: 0.587, duration: 46s\n",
      "[epoch 9]: loss: 0.745, single acc: 0.821, multi acc: 0.635, duration: 46s\n",
      "[epoch 10]: loss: 0.770, single acc: 0.795, multi acc: 0.612, duration: 42s\n"
     ]
    }
   ],
   "source": [
    "#train single label\n",
    "losses_s, single_losses, accs_s = train_single_label(model_mt, 10)"
   ]
  },
  {
   "cell_type": "code",
   "execution_count": 268,
   "metadata": {
    "collapsed": true
   },
   "outputs": [
    {
     "name": "stdout",
     "output_type": "stream",
     "text": [
      "Single-label accuracy:  0.7948717948717948\n",
      "              precision    recall  f1-score   support\n",
      "\n",
      "      Flower       0.96      0.83      0.89       104\n",
      "         Dog       0.77      0.70      0.73       104\n",
      "         Cat       0.70      0.86      0.77       104\n",
      "\n",
      "    accuracy                           0.79       312\n",
      "   macro avg       0.81      0.79      0.80       312\n",
      "weighted avg       0.81      0.79      0.80       312\n",
      "\n",
      "\n",
      "Multi-label accuracy:  0.6121794871794872\n",
      "              precision    recall  f1-score   support\n",
      "\n",
      "      Flower       0.94      0.90      0.92       104\n",
      "         Dog       1.00      0.39      0.57       104\n",
      "         Cat       0.90      0.54      0.67       104\n",
      "\n",
      "   micro avg       0.94      0.61      0.74       312\n",
      "   macro avg       0.95      0.61      0.72       312\n",
      "weighted avg       0.95      0.61      0.72       312\n",
      " samples avg       0.61      0.61      0.61       312\n",
      "\n"
     ]
    },
    {
     "name": "stderr",
     "output_type": "stream",
     "text": [
      "/Users/mantasbagdonas/miniconda3/envs/torch/lib/python3.11/site-packages/sklearn/metrics/_classification.py:1344: UndefinedMetricWarning: Precision and F-score are ill-defined and being set to 0.0 in samples with no predicted labels. Use `zero_division` parameter to control this behavior.\n",
      "  _warn_prf(average, modifier, msg_start, len(result))\n"
     ]
    },
    {
     "data": {
      "text/plain": [
       "(0.7948717948717948, 0.6121794871794872)"
      ]
     },
     "execution_count": 268,
     "metadata": {},
     "output_type": "execute_result"
    }
   ],
   "source": [
    "model_mt.eval()\n",
    "evaluate_model(model_mt)"
   ]
  },
  {
   "cell_type": "code",
   "execution_count": 271,
   "metadata": {},
   "outputs": [],
   "source": [
    "torch.save(model_mt.state_dict(), 'multi_task-10.0.pth')"
   ]
  },
  {
   "cell_type": "code",
   "execution_count": 334,
   "metadata": {
    "collapsed": true
   },
   "outputs": [
    {
     "name": "stderr",
     "output_type": "stream",
     "text": [
      "/Users/mantasbagdonas/miniconda3/envs/torch/lib/python3.11/site-packages/torchvision/models/_utils.py:208: UserWarning: The parameter 'pretrained' is deprecated since 0.13 and may be removed in the future, please use 'weights' instead.\n",
      "  warnings.warn(\n",
      "/Users/mantasbagdonas/miniconda3/envs/torch/lib/python3.11/site-packages/torchvision/models/_utils.py:223: UserWarning: Arguments other than a weight enum or `None` for 'weights' are deprecated since 0.13 and may be removed in the future. The current behavior is equivalent to passing `weights=ResNet18_Weights.IMAGENET1K_V1`. You can also use `weights=ResNet18_Weights.DEFAULT` to get the most up-to-date weights.\n",
      "  warnings.warn(msg)\n"
     ]
    },
    {
     "data": {
      "text/plain": [
       "MultiTaskModel(\n",
       "  (model): ResNet(\n",
       "    (conv1): Conv2d(3, 64, kernel_size=(7, 7), stride=(2, 2), padding=(3, 3), bias=False)\n",
       "    (bn1): BatchNorm2d(64, eps=1e-05, momentum=0.1, affine=True, track_running_stats=True)\n",
       "    (relu): ReLU(inplace=True)\n",
       "    (maxpool): MaxPool2d(kernel_size=3, stride=2, padding=1, dilation=1, ceil_mode=False)\n",
       "    (layer1): Sequential(\n",
       "      (0): BasicBlock(\n",
       "        (conv1): Conv2d(64, 64, kernel_size=(3, 3), stride=(1, 1), padding=(1, 1), bias=False)\n",
       "        (bn1): BatchNorm2d(64, eps=1e-05, momentum=0.1, affine=True, track_running_stats=True)\n",
       "        (relu): ReLU(inplace=True)\n",
       "        (conv2): Conv2d(64, 64, kernel_size=(3, 3), stride=(1, 1), padding=(1, 1), bias=False)\n",
       "        (bn2): BatchNorm2d(64, eps=1e-05, momentum=0.1, affine=True, track_running_stats=True)\n",
       "      )\n",
       "      (1): BasicBlock(\n",
       "        (conv1): Conv2d(64, 64, kernel_size=(3, 3), stride=(1, 1), padding=(1, 1), bias=False)\n",
       "        (bn1): BatchNorm2d(64, eps=1e-05, momentum=0.1, affine=True, track_running_stats=True)\n",
       "        (relu): ReLU(inplace=True)\n",
       "        (conv2): Conv2d(64, 64, kernel_size=(3, 3), stride=(1, 1), padding=(1, 1), bias=False)\n",
       "        (bn2): BatchNorm2d(64, eps=1e-05, momentum=0.1, affine=True, track_running_stats=True)\n",
       "      )\n",
       "    )\n",
       "    (layer2): Sequential(\n",
       "      (0): BasicBlock(\n",
       "        (conv1): Conv2d(64, 128, kernel_size=(3, 3), stride=(2, 2), padding=(1, 1), bias=False)\n",
       "        (bn1): BatchNorm2d(128, eps=1e-05, momentum=0.1, affine=True, track_running_stats=True)\n",
       "        (relu): ReLU(inplace=True)\n",
       "        (conv2): Conv2d(128, 128, kernel_size=(3, 3), stride=(1, 1), padding=(1, 1), bias=False)\n",
       "        (bn2): BatchNorm2d(128, eps=1e-05, momentum=0.1, affine=True, track_running_stats=True)\n",
       "        (downsample): Sequential(\n",
       "          (0): Conv2d(64, 128, kernel_size=(1, 1), stride=(2, 2), bias=False)\n",
       "          (1): BatchNorm2d(128, eps=1e-05, momentum=0.1, affine=True, track_running_stats=True)\n",
       "        )\n",
       "      )\n",
       "      (1): BasicBlock(\n",
       "        (conv1): Conv2d(128, 128, kernel_size=(3, 3), stride=(1, 1), padding=(1, 1), bias=False)\n",
       "        (bn1): BatchNorm2d(128, eps=1e-05, momentum=0.1, affine=True, track_running_stats=True)\n",
       "        (relu): ReLU(inplace=True)\n",
       "        (conv2): Conv2d(128, 128, kernel_size=(3, 3), stride=(1, 1), padding=(1, 1), bias=False)\n",
       "        (bn2): BatchNorm2d(128, eps=1e-05, momentum=0.1, affine=True, track_running_stats=True)\n",
       "      )\n",
       "    )\n",
       "    (layer3): Sequential(\n",
       "      (0): BasicBlock(\n",
       "        (conv1): Conv2d(128, 256, kernel_size=(3, 3), stride=(2, 2), padding=(1, 1), bias=False)\n",
       "        (bn1): BatchNorm2d(256, eps=1e-05, momentum=0.1, affine=True, track_running_stats=True)\n",
       "        (relu): ReLU(inplace=True)\n",
       "        (conv2): Conv2d(256, 256, kernel_size=(3, 3), stride=(1, 1), padding=(1, 1), bias=False)\n",
       "        (bn2): BatchNorm2d(256, eps=1e-05, momentum=0.1, affine=True, track_running_stats=True)\n",
       "        (downsample): Sequential(\n",
       "          (0): Conv2d(128, 256, kernel_size=(1, 1), stride=(2, 2), bias=False)\n",
       "          (1): BatchNorm2d(256, eps=1e-05, momentum=0.1, affine=True, track_running_stats=True)\n",
       "        )\n",
       "      )\n",
       "      (1): BasicBlock(\n",
       "        (conv1): Conv2d(256, 256, kernel_size=(3, 3), stride=(1, 1), padding=(1, 1), bias=False)\n",
       "        (bn1): BatchNorm2d(256, eps=1e-05, momentum=0.1, affine=True, track_running_stats=True)\n",
       "        (relu): ReLU(inplace=True)\n",
       "        (conv2): Conv2d(256, 256, kernel_size=(3, 3), stride=(1, 1), padding=(1, 1), bias=False)\n",
       "        (bn2): BatchNorm2d(256, eps=1e-05, momentum=0.1, affine=True, track_running_stats=True)\n",
       "      )\n",
       "    )\n",
       "    (layer4): Sequential(\n",
       "      (0): BasicBlock(\n",
       "        (conv1): Conv2d(256, 512, kernel_size=(3, 3), stride=(2, 2), padding=(1, 1), bias=False)\n",
       "        (bn1): BatchNorm2d(512, eps=1e-05, momentum=0.1, affine=True, track_running_stats=True)\n",
       "        (relu): ReLU(inplace=True)\n",
       "        (conv2): Conv2d(512, 512, kernel_size=(3, 3), stride=(1, 1), padding=(1, 1), bias=False)\n",
       "        (bn2): BatchNorm2d(512, eps=1e-05, momentum=0.1, affine=True, track_running_stats=True)\n",
       "        (downsample): Sequential(\n",
       "          (0): Conv2d(256, 512, kernel_size=(1, 1), stride=(2, 2), bias=False)\n",
       "          (1): BatchNorm2d(512, eps=1e-05, momentum=0.1, affine=True, track_running_stats=True)\n",
       "        )\n",
       "      )\n",
       "      (1): BasicBlock(\n",
       "        (conv1): Conv2d(512, 512, kernel_size=(3, 3), stride=(1, 1), padding=(1, 1), bias=False)\n",
       "        (bn1): BatchNorm2d(512, eps=1e-05, momentum=0.1, affine=True, track_running_stats=True)\n",
       "        (relu): ReLU(inplace=True)\n",
       "        (conv2): Conv2d(512, 512, kernel_size=(3, 3), stride=(1, 1), padding=(1, 1), bias=False)\n",
       "        (bn2): BatchNorm2d(512, eps=1e-05, momentum=0.1, affine=True, track_running_stats=True)\n",
       "      )\n",
       "    )\n",
       "    (avgpool): AdaptiveAvgPool2d(output_size=(1, 1))\n",
       "    (fc): Linear(in_features=512, out_features=1000, bias=True)\n",
       "    (fc_single): Sequential(\n",
       "      (0): Flatten(start_dim=1, end_dim=-1)\n",
       "      (1): Linear(in_features=512, out_features=128, bias=True)\n",
       "      (2): ReLU()\n",
       "      (3): Dropout(p=0.2, inplace=False)\n",
       "      (4): Linear(in_features=128, out_features=3, bias=True)\n",
       "    )\n",
       "    (fc_multi): Sequential(\n",
       "      (0): Flatten(start_dim=1, end_dim=-1)\n",
       "      (1): Linear(in_features=512, out_features=128, bias=True)\n",
       "      (2): ReLU()\n",
       "      (3): Dropout(p=0.3, inplace=False)\n",
       "      (4): Linear(in_features=128, out_features=3, bias=True)\n",
       "    )\n",
       "  )\n",
       "  (features): Sequential(\n",
       "    (0): Conv2d(3, 64, kernel_size=(7, 7), stride=(2, 2), padding=(3, 3), bias=False)\n",
       "    (1): BatchNorm2d(64, eps=1e-05, momentum=0.1, affine=True, track_running_stats=True)\n",
       "    (2): ReLU(inplace=True)\n",
       "    (3): MaxPool2d(kernel_size=3, stride=2, padding=1, dilation=1, ceil_mode=False)\n",
       "    (4): Sequential(\n",
       "      (0): BasicBlock(\n",
       "        (conv1): Conv2d(64, 64, kernel_size=(3, 3), stride=(1, 1), padding=(1, 1), bias=False)\n",
       "        (bn1): BatchNorm2d(64, eps=1e-05, momentum=0.1, affine=True, track_running_stats=True)\n",
       "        (relu): ReLU(inplace=True)\n",
       "        (conv2): Conv2d(64, 64, kernel_size=(3, 3), stride=(1, 1), padding=(1, 1), bias=False)\n",
       "        (bn2): BatchNorm2d(64, eps=1e-05, momentum=0.1, affine=True, track_running_stats=True)\n",
       "      )\n",
       "      (1): BasicBlock(\n",
       "        (conv1): Conv2d(64, 64, kernel_size=(3, 3), stride=(1, 1), padding=(1, 1), bias=False)\n",
       "        (bn1): BatchNorm2d(64, eps=1e-05, momentum=0.1, affine=True, track_running_stats=True)\n",
       "        (relu): ReLU(inplace=True)\n",
       "        (conv2): Conv2d(64, 64, kernel_size=(3, 3), stride=(1, 1), padding=(1, 1), bias=False)\n",
       "        (bn2): BatchNorm2d(64, eps=1e-05, momentum=0.1, affine=True, track_running_stats=True)\n",
       "      )\n",
       "    )\n",
       "    (5): Sequential(\n",
       "      (0): BasicBlock(\n",
       "        (conv1): Conv2d(64, 128, kernel_size=(3, 3), stride=(2, 2), padding=(1, 1), bias=False)\n",
       "        (bn1): BatchNorm2d(128, eps=1e-05, momentum=0.1, affine=True, track_running_stats=True)\n",
       "        (relu): ReLU(inplace=True)\n",
       "        (conv2): Conv2d(128, 128, kernel_size=(3, 3), stride=(1, 1), padding=(1, 1), bias=False)\n",
       "        (bn2): BatchNorm2d(128, eps=1e-05, momentum=0.1, affine=True, track_running_stats=True)\n",
       "        (downsample): Sequential(\n",
       "          (0): Conv2d(64, 128, kernel_size=(1, 1), stride=(2, 2), bias=False)\n",
       "          (1): BatchNorm2d(128, eps=1e-05, momentum=0.1, affine=True, track_running_stats=True)\n",
       "        )\n",
       "      )\n",
       "      (1): BasicBlock(\n",
       "        (conv1): Conv2d(128, 128, kernel_size=(3, 3), stride=(1, 1), padding=(1, 1), bias=False)\n",
       "        (bn1): BatchNorm2d(128, eps=1e-05, momentum=0.1, affine=True, track_running_stats=True)\n",
       "        (relu): ReLU(inplace=True)\n",
       "        (conv2): Conv2d(128, 128, kernel_size=(3, 3), stride=(1, 1), padding=(1, 1), bias=False)\n",
       "        (bn2): BatchNorm2d(128, eps=1e-05, momentum=0.1, affine=True, track_running_stats=True)\n",
       "      )\n",
       "    )\n",
       "    (6): Sequential(\n",
       "      (0): BasicBlock(\n",
       "        (conv1): Conv2d(128, 256, kernel_size=(3, 3), stride=(2, 2), padding=(1, 1), bias=False)\n",
       "        (bn1): BatchNorm2d(256, eps=1e-05, momentum=0.1, affine=True, track_running_stats=True)\n",
       "        (relu): ReLU(inplace=True)\n",
       "        (conv2): Conv2d(256, 256, kernel_size=(3, 3), stride=(1, 1), padding=(1, 1), bias=False)\n",
       "        (bn2): BatchNorm2d(256, eps=1e-05, momentum=0.1, affine=True, track_running_stats=True)\n",
       "        (downsample): Sequential(\n",
       "          (0): Conv2d(128, 256, kernel_size=(1, 1), stride=(2, 2), bias=False)\n",
       "          (1): BatchNorm2d(256, eps=1e-05, momentum=0.1, affine=True, track_running_stats=True)\n",
       "        )\n",
       "      )\n",
       "      (1): BasicBlock(\n",
       "        (conv1): Conv2d(256, 256, kernel_size=(3, 3), stride=(1, 1), padding=(1, 1), bias=False)\n",
       "        (bn1): BatchNorm2d(256, eps=1e-05, momentum=0.1, affine=True, track_running_stats=True)\n",
       "        (relu): ReLU(inplace=True)\n",
       "        (conv2): Conv2d(256, 256, kernel_size=(3, 3), stride=(1, 1), padding=(1, 1), bias=False)\n",
       "        (bn2): BatchNorm2d(256, eps=1e-05, momentum=0.1, affine=True, track_running_stats=True)\n",
       "      )\n",
       "    )\n",
       "    (7): Sequential(\n",
       "      (0): BasicBlock(\n",
       "        (conv1): Conv2d(256, 512, kernel_size=(3, 3), stride=(2, 2), padding=(1, 1), bias=False)\n",
       "        (bn1): BatchNorm2d(512, eps=1e-05, momentum=0.1, affine=True, track_running_stats=True)\n",
       "        (relu): ReLU(inplace=True)\n",
       "        (conv2): Conv2d(512, 512, kernel_size=(3, 3), stride=(1, 1), padding=(1, 1), bias=False)\n",
       "        (bn2): BatchNorm2d(512, eps=1e-05, momentum=0.1, affine=True, track_running_stats=True)\n",
       "        (downsample): Sequential(\n",
       "          (0): Conv2d(256, 512, kernel_size=(1, 1), stride=(2, 2), bias=False)\n",
       "          (1): BatchNorm2d(512, eps=1e-05, momentum=0.1, affine=True, track_running_stats=True)\n",
       "        )\n",
       "      )\n",
       "      (1): BasicBlock(\n",
       "        (conv1): Conv2d(512, 512, kernel_size=(3, 3), stride=(1, 1), padding=(1, 1), bias=False)\n",
       "        (bn1): BatchNorm2d(512, eps=1e-05, momentum=0.1, affine=True, track_running_stats=True)\n",
       "        (relu): ReLU(inplace=True)\n",
       "        (conv2): Conv2d(512, 512, kernel_size=(3, 3), stride=(1, 1), padding=(1, 1), bias=False)\n",
       "        (bn2): BatchNorm2d(512, eps=1e-05, momentum=0.1, affine=True, track_running_stats=True)\n",
       "      )\n",
       "    )\n",
       "    (8): AdaptiveAvgPool2d(output_size=(1, 1))\n",
       "  )\n",
       ")"
      ]
     },
     "execution_count": 334,
     "metadata": {},
     "output_type": "execute_result"
    }
   ],
   "source": [
    "model_multi = MultiTaskModel()\n",
    "weights = torch.load('multi_task-10.0.pth')\n",
    "model_multi.load_state_dict(weights)\n",
    "model_multi.eval()"
   ]
  },
  {
   "cell_type": "code",
   "execution_count": 343,
   "metadata": {},
   "outputs": [],
   "source": [
    "img = \"cat.jpg\"\n",
    "image = read_img(img)"
   ]
  },
  {
   "cell_type": "code",
   "execution_count": 344,
   "metadata": {},
   "outputs": [
    {
     "name": "stderr",
     "output_type": "stream",
     "text": [
      "/var/folders/k_/652_m0qs1s90xk52dqgl66t00000gn/T/ipykernel_56321/1300602484.py:1: UserWarning: To copy construct from a tensor, it is recommended to use sourceTensor.clone().detach() or sourceTensor.clone().detach().requires_grad_(True), rather than torch.tensor(sourceTensor).\n",
      "  img_tensor = torch.tensor(image)\n"
     ]
    }
   ],
   "source": [
    "img_tensor = torch.tensor(image)\n",
    "img_tensor = img_tensor.float()"
   ]
  },
  {
   "cell_type": "code",
   "execution_count": 345,
   "metadata": {},
   "outputs": [],
   "source": [
    "image = image.unsqueeze(dim=0)\n",
    "# image.to(device)"
   ]
  },
  {
   "cell_type": "code",
   "execution_count": null,
   "metadata": {},
   "outputs": [],
   "source": []
  },
  {
   "cell_type": "code",
   "execution_count": 346,
   "metadata": {},
   "outputs": [],
   "source": [
    "pred = model_multi(image)"
   ]
  },
  {
   "cell_type": "code",
   "execution_count": 347,
   "metadata": {},
   "outputs": [
    {
     "data": {
      "text/plain": [
       "(tensor([[7.1429e-13, 6.0918e-10, 1.0000e+00]], grad_fn=<SoftmaxBackward0>),\n",
       " tensor([[8.1197e-08, 6.1115e-07, 9.9927e-01]], grad_fn=<SigmoidBackward0>))"
      ]
     },
     "execution_count": 347,
     "metadata": {},
     "output_type": "execute_result"
    }
   ],
   "source": [
    "pred"
   ]
  },
  {
   "cell_type": "code",
   "execution_count": 284,
   "metadata": {},
   "outputs": [
    {
     "name": "stdout",
     "output_type": "stream",
     "text": [
      "Single-label accuracy:  0.7948717948717948\n",
      "              precision    recall  f1-score   support\n",
      "\n",
      "      Flower       0.96      0.83      0.89       104\n",
      "         Dog       0.77      0.70      0.73       104\n",
      "         Cat       0.70      0.86      0.77       104\n",
      "\n",
      "    accuracy                           0.79       312\n",
      "   macro avg       0.81      0.79      0.80       312\n",
      "weighted avg       0.81      0.79      0.80       312\n",
      "\n",
      "\n",
      "Multi-label accuracy:  0.6121794871794872\n",
      "              precision    recall  f1-score   support\n",
      "\n",
      "      Flower       0.94      0.90      0.92       104\n",
      "         Dog       1.00      0.39      0.57       104\n",
      "         Cat       0.90      0.54      0.67       104\n",
      "\n",
      "   micro avg       0.94      0.61      0.74       312\n",
      "   macro avg       0.95      0.61      0.72       312\n",
      "weighted avg       0.95      0.61      0.72       312\n",
      " samples avg       0.61      0.61      0.61       312\n",
      "\n"
     ]
    },
    {
     "name": "stderr",
     "output_type": "stream",
     "text": [
      "/Users/mantasbagdonas/miniconda3/envs/torch/lib/python3.11/site-packages/sklearn/metrics/_classification.py:1344: UndefinedMetricWarning: Precision and F-score are ill-defined and being set to 0.0 in samples with no predicted labels. Use `zero_division` parameter to control this behavior.\n",
      "  _warn_prf(average, modifier, msg_start, len(result))\n"
     ]
    },
    {
     "data": {
      "text/plain": [
       "(0.7948717948717948, 0.6121794871794872)"
      ]
     },
     "execution_count": 284,
     "metadata": {},
     "output_type": "execute_result"
    }
   ],
   "source": [
    "# threshold = 0.4\n",
    "evaluate_model(model_multi)"
   ]
  },
  {
   "cell_type": "code",
   "execution_count": 310,
   "metadata": {},
   "outputs": [
    {
     "name": "stdout",
     "output_type": "stream",
     "text": [
      "Single-label accuracy:  0.7948717948717948\n",
      "              precision    recall  f1-score   support\n",
      "\n",
      "      Flower       0.96      0.83      0.89       104\n",
      "         Dog       0.77      0.70      0.73       104\n",
      "         Cat       0.70      0.86      0.77       104\n",
      "\n",
      "    accuracy                           0.79       312\n",
      "   macro avg       0.81      0.79      0.80       312\n",
      "weighted avg       0.81      0.79      0.80       312\n",
      "\n",
      "\n",
      "Multi-label accuracy:  0.7115384615384616\n",
      "              precision    recall  f1-score   support\n",
      "\n",
      "      Flower       0.85      0.95      0.90       104\n",
      "         Dog       0.96      0.49      0.65       104\n",
      "         Cat       0.82      0.72      0.77       104\n",
      "\n",
      "   micro avg       0.86      0.72      0.78       312\n",
      "   macro avg       0.87      0.72      0.77       312\n",
      "weighted avg       0.87      0.72      0.77       312\n",
      " samples avg       0.72      0.72      0.72       312\n",
      "\n"
     ]
    },
    {
     "name": "stderr",
     "output_type": "stream",
     "text": [
      "/Users/mantasbagdonas/miniconda3/envs/torch/lib/python3.11/site-packages/sklearn/metrics/_classification.py:1344: UndefinedMetricWarning: Precision and F-score are ill-defined and being set to 0.0 in samples with no predicted labels. Use `zero_division` parameter to control this behavior.\n",
      "  _warn_prf(average, modifier, msg_start, len(result))\n"
     ]
    },
    {
     "data": {
      "text/plain": [
       "(0.7948717948717948, 0.7115384615384616)"
      ]
     },
     "execution_count": 310,
     "metadata": {},
     "output_type": "execute_result"
    }
   ],
   "source": [
    "# threshold = 0.1\n",
    "evaluate_model(model_multi)"
   ]
  },
  {
   "cell_type": "code",
   "execution_count": 269,
   "metadata": {},
   "outputs": [],
   "source": [
    "losses = (np.array(single_losses) + np.array(multi_losses)) / 2"
   ]
  },
  {
   "cell_type": "code",
   "execution_count": 302,
   "metadata": {},
   "outputs": [],
   "source": [
    "def plot_results(accs_s, accs_m, losses, single_losses, multi_losses):\n",
    "    fig, axs = plt.subplots(1, 2, figsize=(20, 6))\n",
    "\n",
    "    single_accuracies = [acc[0] for acc in accs_s]\n",
    "    multi_accuracies = [acc[1] for acc in accs_m]\n",
    "\n",
    "    axs[0].plot(losses, c=\"r\", label=\"Loss\")\n",
    "    axs[0].plot(single_losses, c=\"g\", label=\"Loss (s)\")\n",
    "    axs[0].plot(multi_losses, c=\"r\", label=\"Loss (m)\")\n",
    "    axs[1].plot(single_accuracies, c=\"y\", label=\"Accuracy (s)\")\n",
    "    axs[1].plot(multi_accuracies, c=\"b\", label=\"Accuracy (m)\")\n",
    "    axs[0].set_title('Loss progression with lr = 0.001-0.002')\n",
    "    axs[1].set_title('Accuracy progression with lr = 0.001-0.002')\n",
    "    axs[0].legend()\n",
    "    axs[1].legend()\n",
    "\n",
    "    fig.subplots_adjust(wspace=0.3)\n",
    "    plt.show()\n",
    "    "
   ]
  },
  {
   "cell_type": "code",
   "execution_count": 275,
   "metadata": {},
   "outputs": [
    {
     "data": {
      "image/png": "[encoded data removed]",
      "text/plain": [
       "<Figure size 2000x600 with 2 Axes>"
      ]
     },
     "metadata": {},
     "output_type": "display_data"
    }
   ],
   "source": [
    "plot_results(accs_s, accs_m, losses, single_losses, multi_losses)"
   ]
  },
  {
   "cell_type": "markdown",
   "metadata": {},
   "source": [
    "# Learning rate = 0.01"
   ]
  },
  {
   "cell_type": "code",
   "execution_count": 298,
   "metadata": {},
   "outputs": [],
   "source": [
    "model_mt = MultiTaskModel().to(device)\n",
    "optimizer_single = optim.Adam(filter(lambda p: p.requires_grad, model_mt.parameters()), lr=0.01)\n",
    "optimizer_multi = optim.Adam(filter(lambda p: p.requires_grad, model_mt.parameters()), lr=0.01)\n",
    "\n",
    "criterion_multi = nn.BCEWithLogitsLoss().to(device)\n",
    "criterion_single = nn.CrossEntropyLoss().to(device)"
   ]
  },
  {
   "cell_type": "code",
   "execution_count": 299,
   "metadata": {},
   "outputs": [
    {
     "name": "stdout",
     "output_type": "stream",
     "text": [
      "[epoch 1]: loss: 0.694, single acc: 0.394, multi acc: 0.000, duration: 45s\n",
      "[epoch 2]: loss: 0.693, single acc: 0.404, multi acc: 0.000, duration: 41s\n",
      "[epoch 3]: loss: 0.693, single acc: 0.391, multi acc: 0.000, duration: 41s\n",
      "[epoch 4]: loss: 0.693, single acc: 0.410, multi acc: 0.000, duration: 41s\n",
      "[epoch 5]: loss: 0.693, single acc: 0.381, multi acc: 0.000, duration: 41s\n",
      "[epoch 6]: loss: 0.693, single acc: 0.369, multi acc: 0.000, duration: 44s\n",
      "[epoch 7]: loss: 0.693, single acc: 0.375, multi acc: 0.000, duration: 43s\n",
      "[epoch 8]: loss: 0.693, single acc: 0.381, multi acc: 0.000, duration: 43s\n",
      "[epoch 9]: loss: 0.693, single acc: 0.378, multi acc: 0.000, duration: 50s\n",
      "[epoch 10]: loss: 0.693, single acc: 0.378, multi acc: 0.000, duration: 41s\n"
     ]
    }
   ],
   "source": [
    "multi_losses, accs_m = train_multi_label(model_mt, 10)"
   ]
  },
  {
   "cell_type": "code",
   "execution_count": 300,
   "metadata": {},
   "outputs": [
    {
     "name": "stdout",
     "output_type": "stream",
     "text": [
      "[epoch 1]: loss: 1.079, single acc: 0.333, multi acc: 0.000, duration: 32s\n",
      "[epoch 2]: loss: 1.077, single acc: 0.333, multi acc: 0.000, duration: 33s\n",
      "[epoch 3]: loss: 1.078, single acc: 0.333, multi acc: 0.000, duration: 33s\n",
      "[epoch 4]: loss: 1.077, single acc: 0.333, multi acc: 0.000, duration: 33s\n",
      "[epoch 5]: loss: 1.078, single acc: 0.333, multi acc: 0.000, duration: 33s\n",
      "[epoch 6]: loss: 1.078, single acc: 0.333, multi acc: 0.000, duration: 33s\n",
      "[epoch 7]: loss: 1.077, single acc: 0.333, multi acc: 0.000, duration: 32s\n",
      "[epoch 8]: loss: 1.079, single acc: 0.333, multi acc: 0.000, duration: 32s\n",
      "[epoch 9]: loss: 1.078, single acc: 0.333, multi acc: 0.000, duration: 32s\n",
      "[epoch 10]: loss: 1.077, single acc: 0.333, multi acc: 0.000, duration: 4522s\n"
     ]
    }
   ],
   "source": [
    "single_losses, accs_s = train_single_label(model_mt, 10)"
   ]
  },
  {
   "cell_type": "code",
   "execution_count": 303,
   "metadata": {},
   "outputs": [
    {
     "data": {
      "image/png": "[encoded data removed]",
      "text/plain": [
       "<Figure size 2000x600 with 2 Axes>"
      ]
     },
     "metadata": {},
     "output_type": "display_data"
    }
   ],
   "source": [
    "losses = (np.array(single_losses) + np.array(multi_losses)) / 2\n",
    "plot_results(accs_s, accs_m, losses, single_losses, multi_losses)"
   ]
  },
  {
   "cell_type": "markdown",
   "metadata": {},
   "source": [
    "# Learning rate = 0.002"
   ]
  },
  {
   "cell_type": "code",
   "execution_count": 304,
   "metadata": {},
   "outputs": [
    {
     "name": "stderr",
     "output_type": "stream",
     "text": [
      "/Users/mantasbagdonas/miniconda3/envs/torch/lib/python3.11/site-packages/torchvision/models/_utils.py:208: UserWarning: The parameter 'pretrained' is deprecated since 0.13 and may be removed in the future, please use 'weights' instead.\n",
      "  warnings.warn(\n",
      "/Users/mantasbagdonas/miniconda3/envs/torch/lib/python3.11/site-packages/torchvision/models/_utils.py:223: UserWarning: Arguments other than a weight enum or `None` for 'weights' are deprecated since 0.13 and may be removed in the future. The current behavior is equivalent to passing `weights=ResNet18_Weights.IMAGENET1K_V1`. You can also use `weights=ResNet18_Weights.DEFAULT` to get the most up-to-date weights.\n",
      "  warnings.warn(msg)\n"
     ]
    },
    {
     "name": "stdout",
     "output_type": "stream",
     "text": [
      "[epoch 1]: loss: 0.694, single acc: 0.301, multi acc: 0.000, duration: 41s\n",
      "[epoch 2]: loss: 0.693, single acc: 0.295, multi acc: 0.000, duration: 41s\n",
      "[epoch 3]: loss: 0.694, single acc: 0.295, multi acc: 0.000, duration: 731s\n",
      "[epoch 4]: loss: 0.693, single acc: 0.324, multi acc: 0.000, duration: 939s\n",
      "[epoch 5]: loss: 0.693, single acc: 0.292, multi acc: 0.000, duration: 60s\n",
      "[epoch 6]: loss: 0.693, single acc: 0.292, multi acc: 0.000, duration: 41s\n",
      "[epoch 7]: loss: 0.693, single acc: 0.314, multi acc: 0.000, duration: 42s\n"
     ]
    },
    {
     "ename": "KeyboardInterrupt",
     "evalue": "",
     "output_type": "error",
     "traceback": [
      "\u001b[0;31m---------------------------------------------------------------------------\u001b[0m",
      "\u001b[0;31mKeyboardInterrupt\u001b[0m                         Traceback (most recent call last)",
      "Cell \u001b[0;32mIn[304], line 8\u001b[0m\n\u001b[1;32m      5\u001b[0m criterion_multi \u001b[38;5;241m=\u001b[39m nn\u001b[38;5;241m.\u001b[39mBCEWithLogitsLoss()\u001b[38;5;241m.\u001b[39mto(device)\n\u001b[1;32m      6\u001b[0m criterion_single \u001b[38;5;241m=\u001b[39m nn\u001b[38;5;241m.\u001b[39mCrossEntropyLoss()\u001b[38;5;241m.\u001b[39mto(device)\n\u001b[0;32m----> 8\u001b[0m multi_losses_2, accs_m_2 \u001b[38;5;241m=\u001b[39m train_multi_label(model_mt, \u001b[38;5;241m10\u001b[39m)\n\u001b[1;32m      9\u001b[0m single_losses_2, accs_s_2 \u001b[38;5;241m=\u001b[39m train_single_label(model_mt, \u001b[38;5;241m10\u001b[39m)\n",
      "Cell \u001b[0;32mIn[294], line 118\u001b[0m, in \u001b[0;36mtrain_multi_label\u001b[0;34m(model, epochs)\u001b[0m\n\u001b[1;32m    115\u001b[0m start \u001b[38;5;241m=\u001b[39m time\u001b[38;5;241m.\u001b[39mtime()\n\u001b[1;32m    117\u001b[0m model\u001b[38;5;241m.\u001b[39mupdate_grad(single_grad\u001b[38;5;241m=\u001b[39m\u001b[38;5;28;01mFalse\u001b[39;00m, multi_grad\u001b[38;5;241m=\u001b[39m\u001b[38;5;28;01mTrue\u001b[39;00m)\n\u001b[0;32m--> 118\u001b[0m loss \u001b[38;5;241m=\u001b[39m optimize_task(model, trainloader_m, optimizer_multi, criterion_multi, \u001b[38;5;124m\"\u001b[39m\u001b[38;5;124mmulti\u001b[39m\u001b[38;5;124m\"\u001b[39m, epoch)\n\u001b[1;32m    120\u001b[0m end \u001b[38;5;241m=\u001b[39m time\u001b[38;5;241m.\u001b[39mtime()\n\u001b[1;32m    122\u001b[0m model\u001b[38;5;241m.\u001b[39meval()\n",
      "Cell \u001b[0;32mIn[294], line 68\u001b[0m, in \u001b[0;36moptimize_task\u001b[0;34m(model, loader, optimizer, loss_fn, task, epoch)\u001b[0m\n\u001b[1;32m     66\u001b[0m running_loss \u001b[38;5;241m=\u001b[39m \u001b[38;5;241m0.0\u001b[39m\n\u001b[1;32m     67\u001b[0m i \u001b[38;5;241m=\u001b[39m \u001b[38;5;241m0\u001b[39m\n\u001b[0;32m---> 68\u001b[0m \u001b[38;5;28;01mfor\u001b[39;00m i, (inputs, labels) \u001b[38;5;129;01min\u001b[39;00m \u001b[38;5;28menumerate\u001b[39m(loader, \u001b[38;5;241m0\u001b[39m):\n\u001b[1;32m     69\u001b[0m     inputs \u001b[38;5;241m=\u001b[39m inputs\u001b[38;5;241m.\u001b[39mto(device)\n\u001b[1;32m     70\u001b[0m     labels \u001b[38;5;241m=\u001b[39m labels\u001b[38;5;241m.\u001b[39mto(device)\n",
      "File \u001b[0;32m~/miniconda3/envs/torch/lib/python3.11/site-packages/torch/utils/data/dataloader.py:633\u001b[0m, in \u001b[0;36m_BaseDataLoaderIter.__next__\u001b[0;34m(self)\u001b[0m\n\u001b[1;32m    630\u001b[0m \u001b[38;5;28;01mif\u001b[39;00m \u001b[38;5;28mself\u001b[39m\u001b[38;5;241m.\u001b[39m_sampler_iter \u001b[38;5;129;01mis\u001b[39;00m \u001b[38;5;28;01mNone\u001b[39;00m:\n\u001b[1;32m    631\u001b[0m     \u001b[38;5;66;03m# TODO(https://github.com/pytorch/pytorch/issues/76750)\u001b[39;00m\n\u001b[1;32m    632\u001b[0m     \u001b[38;5;28mself\u001b[39m\u001b[38;5;241m.\u001b[39m_reset()  \u001b[38;5;66;03m# type: ignore[call-arg]\u001b[39;00m\n\u001b[0;32m--> 633\u001b[0m data \u001b[38;5;241m=\u001b[39m \u001b[38;5;28mself\u001b[39m\u001b[38;5;241m.\u001b[39m_next_data()\n\u001b[1;32m    634\u001b[0m \u001b[38;5;28mself\u001b[39m\u001b[38;5;241m.\u001b[39m_num_yielded \u001b[38;5;241m+\u001b[39m\u001b[38;5;241m=\u001b[39m \u001b[38;5;241m1\u001b[39m\n\u001b[1;32m    635\u001b[0m \u001b[38;5;28;01mif\u001b[39;00m \u001b[38;5;28mself\u001b[39m\u001b[38;5;241m.\u001b[39m_dataset_kind \u001b[38;5;241m==\u001b[39m _DatasetKind\u001b[38;5;241m.\u001b[39mIterable \u001b[38;5;129;01mand\u001b[39;00m \\\n\u001b[1;32m    636\u001b[0m         \u001b[38;5;28mself\u001b[39m\u001b[38;5;241m.\u001b[39m_IterableDataset_len_called \u001b[38;5;129;01mis\u001b[39;00m \u001b[38;5;129;01mnot\u001b[39;00m \u001b[38;5;28;01mNone\u001b[39;00m \u001b[38;5;129;01mand\u001b[39;00m \\\n\u001b[1;32m    637\u001b[0m         \u001b[38;5;28mself\u001b[39m\u001b[38;5;241m.\u001b[39m_num_yielded \u001b[38;5;241m>\u001b[39m \u001b[38;5;28mself\u001b[39m\u001b[38;5;241m.\u001b[39m_IterableDataset_len_called:\n",
      "File \u001b[0;32m~/miniconda3/envs/torch/lib/python3.11/site-packages/torch/utils/data/dataloader.py:677\u001b[0m, in \u001b[0;36m_SingleProcessDataLoaderIter._next_data\u001b[0;34m(self)\u001b[0m\n\u001b[1;32m    675\u001b[0m \u001b[38;5;28;01mdef\u001b[39;00m \u001b[38;5;21m_next_data\u001b[39m(\u001b[38;5;28mself\u001b[39m):\n\u001b[1;32m    676\u001b[0m     index \u001b[38;5;241m=\u001b[39m \u001b[38;5;28mself\u001b[39m\u001b[38;5;241m.\u001b[39m_next_index()  \u001b[38;5;66;03m# may raise StopIteration\u001b[39;00m\n\u001b[0;32m--> 677\u001b[0m     data \u001b[38;5;241m=\u001b[39m \u001b[38;5;28mself\u001b[39m\u001b[38;5;241m.\u001b[39m_dataset_fetcher\u001b[38;5;241m.\u001b[39mfetch(index)  \u001b[38;5;66;03m# may raise StopIteration\u001b[39;00m\n\u001b[1;32m    678\u001b[0m     \u001b[38;5;28;01mif\u001b[39;00m \u001b[38;5;28mself\u001b[39m\u001b[38;5;241m.\u001b[39m_pin_memory:\n\u001b[1;32m    679\u001b[0m         data \u001b[38;5;241m=\u001b[39m _utils\u001b[38;5;241m.\u001b[39mpin_memory\u001b[38;5;241m.\u001b[39mpin_memory(data, \u001b[38;5;28mself\u001b[39m\u001b[38;5;241m.\u001b[39m_pin_memory_device)\n",
      "File \u001b[0;32m~/miniconda3/envs/torch/lib/python3.11/site-packages/torch/utils/data/_utils/fetch.py:51\u001b[0m, in \u001b[0;36m_MapDatasetFetcher.fetch\u001b[0;34m(self, possibly_batched_index)\u001b[0m\n\u001b[1;32m     49\u001b[0m         data \u001b[38;5;241m=\u001b[39m \u001b[38;5;28mself\u001b[39m\u001b[38;5;241m.\u001b[39mdataset\u001b[38;5;241m.\u001b[39m__getitems__(possibly_batched_index)\n\u001b[1;32m     50\u001b[0m     \u001b[38;5;28;01melse\u001b[39;00m:\n\u001b[0;32m---> 51\u001b[0m         data \u001b[38;5;241m=\u001b[39m [\u001b[38;5;28mself\u001b[39m\u001b[38;5;241m.\u001b[39mdataset[idx] \u001b[38;5;28;01mfor\u001b[39;00m idx \u001b[38;5;129;01min\u001b[39;00m possibly_batched_index]\n\u001b[1;32m     52\u001b[0m \u001b[38;5;28;01melse\u001b[39;00m:\n\u001b[1;32m     53\u001b[0m     data \u001b[38;5;241m=\u001b[39m \u001b[38;5;28mself\u001b[39m\u001b[38;5;241m.\u001b[39mdataset[possibly_batched_index]\n",
      "File \u001b[0;32m~/miniconda3/envs/torch/lib/python3.11/site-packages/torch/utils/data/_utils/fetch.py:51\u001b[0m, in \u001b[0;36m<listcomp>\u001b[0;34m(.0)\u001b[0m\n\u001b[1;32m     49\u001b[0m         data \u001b[38;5;241m=\u001b[39m \u001b[38;5;28mself\u001b[39m\u001b[38;5;241m.\u001b[39mdataset\u001b[38;5;241m.\u001b[39m__getitems__(possibly_batched_index)\n\u001b[1;32m     50\u001b[0m     \u001b[38;5;28;01melse\u001b[39;00m:\n\u001b[0;32m---> 51\u001b[0m         data \u001b[38;5;241m=\u001b[39m [\u001b[38;5;28mself\u001b[39m\u001b[38;5;241m.\u001b[39mdataset[idx] \u001b[38;5;28;01mfor\u001b[39;00m idx \u001b[38;5;129;01min\u001b[39;00m possibly_batched_index]\n\u001b[1;32m     52\u001b[0m \u001b[38;5;28;01melse\u001b[39;00m:\n\u001b[1;32m     53\u001b[0m     data \u001b[38;5;241m=\u001b[39m \u001b[38;5;28mself\u001b[39m\u001b[38;5;241m.\u001b[39mdataset[possibly_batched_index]\n",
      "Cell \u001b[0;32mIn[289], line 10\u001b[0m, in \u001b[0;36mMultiTaskDataset.__getitem__\u001b[0;34m(self, index)\u001b[0m\n\u001b[1;32m      8\u001b[0m \u001b[38;5;28;01mdef\u001b[39;00m \u001b[38;5;21m__getitem__\u001b[39m(\u001b[38;5;28mself\u001b[39m, index):\n\u001b[1;32m      9\u001b[0m     image_file \u001b[38;5;241m=\u001b[39m \u001b[38;5;28mself\u001b[39m\u001b[38;5;241m.\u001b[39mfiles[index]\n\u001b[0;32m---> 10\u001b[0m     img \u001b[38;5;241m=\u001b[39m read_img(image_file)\n\u001b[1;32m     12\u001b[0m     y \u001b[38;5;241m=\u001b[39m \u001b[38;5;28mself\u001b[39m\u001b[38;5;241m.\u001b[39my[index]\n\u001b[1;32m     14\u001b[0m     \u001b[38;5;28;01mreturn\u001b[39;00m img, (y)\n",
      "Cell \u001b[0;32mIn[9], line 2\u001b[0m, in \u001b[0;36mread_img\u001b[0;34m(file_name, train, add_dim)\u001b[0m\n\u001b[1;32m      1\u001b[0m \u001b[38;5;28;01mdef\u001b[39;00m \u001b[38;5;21mread_img\u001b[39m(file_name, train\u001b[38;5;241m=\u001b[39m\u001b[38;5;28;01mTrue\u001b[39;00m, add_dim\u001b[38;5;241m=\u001b[39m\u001b[38;5;28;01mFalse\u001b[39;00m):\n\u001b[0;32m----> 2\u001b[0m     img \u001b[38;5;241m=\u001b[39m Image\u001b[38;5;241m.\u001b[39mopen(file_name)\u001b[38;5;241m.\u001b[39mconvert(\u001b[38;5;124m\"\u001b[39m\u001b[38;5;124mRGB\u001b[39m\u001b[38;5;124m\"\u001b[39m)\n\u001b[1;32m      3\u001b[0m     \u001b[38;5;28;01mif\u001b[39;00m train:\n\u001b[1;32m      4\u001b[0m         img_t \u001b[38;5;241m=\u001b[39m transform_train(img)\n",
      "File \u001b[0;32m~/miniconda3/envs/torch/lib/python3.11/site-packages/PIL/Image.py:937\u001b[0m, in \u001b[0;36mImage.convert\u001b[0;34m(self, mode, matrix, dither, palette, colors)\u001b[0m\n\u001b[1;32m    889\u001b[0m \u001b[38;5;28;01mdef\u001b[39;00m \u001b[38;5;21mconvert\u001b[39m(\n\u001b[1;32m    890\u001b[0m     \u001b[38;5;28mself\u001b[39m, mode\u001b[38;5;241m=\u001b[39m\u001b[38;5;28;01mNone\u001b[39;00m, matrix\u001b[38;5;241m=\u001b[39m\u001b[38;5;28;01mNone\u001b[39;00m, dither\u001b[38;5;241m=\u001b[39m\u001b[38;5;28;01mNone\u001b[39;00m, palette\u001b[38;5;241m=\u001b[39mPalette\u001b[38;5;241m.\u001b[39mWEB, colors\u001b[38;5;241m=\u001b[39m\u001b[38;5;241m256\u001b[39m\n\u001b[1;32m    891\u001b[0m ):\n\u001b[1;32m    892\u001b[0m \u001b[38;5;250m    \u001b[39m\u001b[38;5;124;03m\"\"\"\u001b[39;00m\n\u001b[1;32m    893\u001b[0m \u001b[38;5;124;03m    Returns a converted copy of this image. For the \"P\" mode, this\u001b[39;00m\n\u001b[1;32m    894\u001b[0m \u001b[38;5;124;03m    method translates pixels through the palette.  If mode is\u001b[39;00m\n\u001b[0;32m   (...)\u001b[0m\n\u001b[1;32m    934\u001b[0m \u001b[38;5;124;03m    :returns: An :py:class:`~PIL.Image.Image` object.\u001b[39;00m\n\u001b[1;32m    935\u001b[0m \u001b[38;5;124;03m    \"\"\"\u001b[39;00m\n\u001b[0;32m--> 937\u001b[0m     \u001b[38;5;28mself\u001b[39m\u001b[38;5;241m.\u001b[39mload()\n\u001b[1;32m    939\u001b[0m     has_transparency \u001b[38;5;241m=\u001b[39m \u001b[38;5;28mself\u001b[39m\u001b[38;5;241m.\u001b[39minfo\u001b[38;5;241m.\u001b[39mget(\u001b[38;5;124m\"\u001b[39m\u001b[38;5;124mtransparency\u001b[39m\u001b[38;5;124m\"\u001b[39m) \u001b[38;5;129;01mis\u001b[39;00m \u001b[38;5;129;01mnot\u001b[39;00m \u001b[38;5;28;01mNone\u001b[39;00m\n\u001b[1;32m    940\u001b[0m     \u001b[38;5;28;01mif\u001b[39;00m \u001b[38;5;129;01mnot\u001b[39;00m mode \u001b[38;5;129;01mand\u001b[39;00m \u001b[38;5;28mself\u001b[39m\u001b[38;5;241m.\u001b[39mmode \u001b[38;5;241m==\u001b[39m \u001b[38;5;124m\"\u001b[39m\u001b[38;5;124mP\u001b[39m\u001b[38;5;124m\"\u001b[39m:\n\u001b[1;32m    941\u001b[0m         \u001b[38;5;66;03m# determine default mode\u001b[39;00m\n",
      "File \u001b[0;32m~/miniconda3/envs/torch/lib/python3.11/site-packages/PIL/ImageFile.py:269\u001b[0m, in \u001b[0;36mImageFile.load\u001b[0;34m(self)\u001b[0m\n\u001b[1;32m    266\u001b[0m         \u001b[38;5;28;01mraise\u001b[39;00m \u001b[38;5;167;01mOSError\u001b[39;00m(msg)\n\u001b[1;32m    268\u001b[0m b \u001b[38;5;241m=\u001b[39m b \u001b[38;5;241m+\u001b[39m s\n\u001b[0;32m--> 269\u001b[0m n, err_code \u001b[38;5;241m=\u001b[39m decoder\u001b[38;5;241m.\u001b[39mdecode(b)\n\u001b[1;32m    270\u001b[0m \u001b[38;5;28;01mif\u001b[39;00m n \u001b[38;5;241m<\u001b[39m \u001b[38;5;241m0\u001b[39m:\n\u001b[1;32m    271\u001b[0m     \u001b[38;5;28;01mbreak\u001b[39;00m\n",
      "\u001b[0;31mKeyboardInterrupt\u001b[0m: "
     ]
    }
   ],
   "source": [
    "model_mt = MultiTaskModel().to(device)\n",
    "optimizer_single = optim.Adam(filter(lambda p: p.requires_grad, model_mt.parameters()), lr=0.002)\n",
    "optimizer_multi = optim.Adam(filter(lambda p: p.requires_grad, model_mt.parameters()), lr=0.002)\n",
    "\n",
    "criterion_multi = nn.BCEWithLogitsLoss().to(device)\n",
    "criterion_single = nn.CrossEntropyLoss().to(device)\n",
    "\n",
    "multi_losses_2, accs_m_2 = train_multi_label(model_mt, 10)\n",
    "single_losses_2, accs_s_2 = train_single_label(model_mt, 10)"
   ]
  },
  {
   "cell_type": "code",
   "execution_count": null,
   "metadata": {},
   "outputs": [],
   "source": [
    "losses = (np.array(single_losses_2) + np.array(multi_losses_2)) / 2\n",
    "plot_results(accs_s_2, accs_m_2, losses, single_losses_2, multi_losses_2)"
   ]
  },
  {
   "cell_type": "markdown",
   "metadata": {},
   "source": [
    "# Learning rate = 0.005"
   ]
  },
  {
   "cell_type": "code",
   "execution_count": null,
   "metadata": {},
   "outputs": [],
   "source": [
    "model_mt = MultiTaskModel().to(device)\n",
    "optimizer_single = optim.Adam(filter(lambda p: p.requires_grad, model_mt.parameters()), lr=0.002)\n",
    "optimizer_multi = optim.Adam(filter(lambda p: p.requires_grad, model_mt.parameters()), lr=0.002)\n",
    "\n",
    "criterion_multi = nn.BCEWithLogitsLoss().to(device)\n",
    "criterion_single = nn.CrossEntropyLoss().to(device)\n",
    "\n",
    "multi_losses_2, accs_m_2 = train_multi_label(model_mt, 10)\n",
    "single_losses_2, accs_s_2 = train_single_label(model_mt, 10)"
   ]
  },
  {
   "cell_type": "code",
   "execution_count": null,
   "metadata": {},
   "outputs": [],
   "source": [
    "losses = (np.array(single_losses_2) + np.array(multi_losses_2)) / 2\n",
    "plot_results(accs_s_2, accs_m_2, losses, single_losses_2, multi_losses_2)"
   ]
  },
  {
   "cell_type": "markdown",
   "metadata": {},
   "source": [
    "# Learning rate = 0.0005"
   ]
  },
  {
   "cell_type": "code",
   "execution_count": null,
   "metadata": {},
   "outputs": [],
   "source": [
    "model_mt = MultiTaskModel().to(device)\n",
    "optimizer_single = optim.Adam(filter(lambda p: p.requires_grad, model_mt.parameters()), lr=0.0005)\n",
    "optimizer_multi = optim.Adam(filter(lambda p: p.requires_grad, model_mt.parameters()), lr=0.0005)\n",
    "\n",
    "criterion_multi = nn.BCEWithLogitsLoss().to(device)\n",
    "criterion_single = nn.CrossEntropyLoss().to(device)\n",
    "\n",
    "multi_losses_2, accs_m_2 = train_multi_label(model_mt, 10)\n",
    "single_losses_2, accs_s_2 = train_single_label(model_mt, 10)"
   ]
  },
  {
   "cell_type": "code",
   "execution_count": null,
   "metadata": {},
   "outputs": [],
   "source": [
    "losses = (np.array(single_losses_2) + np.array(multi_losses_2)) / 2\n",
    "plot_results(accs_s_2, accs_m_2, losses, single_losses_2, multi_losses_2)"
   ]
  },
  {
   "cell_type": "markdown",
   "metadata": {},
   "source": [
    "## Testing out different learning rates with SGD optimizer"
   ]
  },
  {
   "cell_type": "code",
   "execution_count": null,
   "metadata": {},
   "outputs": [],
   "source": [
    "def plot_results():\n",
    "    fig, axs = plt.subplots(len(lrs), 2, figsize=(20, 20))\n",
    "\n",
    "    for i in range(len(model_arr)):\n",
    "        losses = (np.array(all_losses_s[i]) + np.array(all_losses_m[i])) / 2\n",
    "        axs[i][0].plot(all_losses[i], c=\"b\", label=\"Loss\")\n",
    "        axs[i][0].plot(all_losses_s[i], c=\"g\", label=\"Loss (s)\")\n",
    "        axs[i][0].plot(all_losses_m[i], c=\"r\", label=\"Loss (m)\")\n",
    "        axs[i][1].plot(all_accs[i][0], c=\"y\", label=\"Accuracy (s)\")\n",
    "        axs[i][1].plot(all_accs[i][1], c=\"b\", label=\"Accuracy (m)\")\n",
    "        axs[i][0].set_title('Loss progression with lr = ' + str(lrs[i]))\n",
    "        axs[i][1].set_title('Accuracy progression with lr = ' + str(lrs[i]))\n",
    "        axs[i][0].legend()\n",
    "        axs[i][1].legend()\n",
    "\n",
    "    fig.subplots_adjust(wspace=0.3)\n",
    "    plt.show()"
   ]
  },
  {
   "cell_type": "code",
   "execution_count": 277,
   "metadata": {},
   "outputs": [],
   "source": [
    "version = \"10.0\""
   ]
  },
  {
   "cell_type": "code",
   "execution_count": 295,
   "metadata": {},
   "outputs": [
    {
     "name": "stdout",
     "output_type": "stream",
     "text": [
      "Training model with learning rate: 0.01\n"
     ]
    },
    {
     "name": "stderr",
     "output_type": "stream",
     "text": [
      "/Users/mantasbagdonas/miniconda3/envs/torch/lib/python3.11/site-packages/torchvision/models/_utils.py:208: UserWarning: The parameter 'pretrained' is deprecated since 0.13 and may be removed in the future, please use 'weights' instead.\n",
      "  warnings.warn(\n",
      "/Users/mantasbagdonas/miniconda3/envs/torch/lib/python3.11/site-packages/torchvision/models/_utils.py:223: UserWarning: Arguments other than a weight enum or `None` for 'weights' are deprecated since 0.13 and may be removed in the future. The current behavior is equivalent to passing `weights=ResNet18_Weights.IMAGENET1K_V1`. You can also use `weights=ResNet18_Weights.DEFAULT` to get the most up-to-date weights.\n",
      "  warnings.warn(msg)\n"
     ]
    },
    {
     "name": "stdout",
     "output_type": "stream",
     "text": [
      "[epoch 1]: loss: 1.079, single acc: 0.333, multi acc: 0.000, duration: 32s\n"
     ]
    },
    {
     "ename": "KeyboardInterrupt",
     "evalue": "",
     "output_type": "error",
     "traceback": [
      "\u001b[0;31m---------------------------------------------------------------------------\u001b[0m",
      "\u001b[0;31mKeyboardInterrupt\u001b[0m                         Traceback (most recent call last)",
      "Cell \u001b[0;32mIn[295], line 18\u001b[0m\n\u001b[1;32m     15\u001b[0m criterion_multi \u001b[38;5;241m=\u001b[39m nn\u001b[38;5;241m.\u001b[39mBCEWithLogitsLoss()\u001b[38;5;241m.\u001b[39mto(device)\n\u001b[1;32m     16\u001b[0m criterion_single \u001b[38;5;241m=\u001b[39m nn\u001b[38;5;241m.\u001b[39mCrossEntropyLoss()\u001b[38;5;241m.\u001b[39mto(device)\n\u001b[0;32m---> 18\u001b[0m losses_s, accs_s \u001b[38;5;241m=\u001b[39m train_single_label(new_model, \u001b[38;5;241m5\u001b[39m)\n\u001b[1;32m     19\u001b[0m losses_m, accs_m \u001b[38;5;241m=\u001b[39m train_multi_label(new_model, \u001b[38;5;241m5\u001b[39m)\n\u001b[1;32m     21\u001b[0m accs \u001b[38;5;241m=\u001b[39m [(accs_s[i][\u001b[38;5;241m0\u001b[39m], accs_m[i][\u001b[38;5;241m1\u001b[39m]) \u001b[38;5;28;01mfor\u001b[39;00m i \u001b[38;5;129;01min\u001b[39;00m \u001b[38;5;28mrange\u001b[39m(\u001b[38;5;28mlen\u001b[39m(accs_m))]\n",
      "Cell \u001b[0;32mIn[294], line 97\u001b[0m, in \u001b[0;36mtrain_single_label\u001b[0;34m(model, epochs)\u001b[0m\n\u001b[1;32m     94\u001b[0m start \u001b[38;5;241m=\u001b[39m time\u001b[38;5;241m.\u001b[39mtime()\n\u001b[1;32m     96\u001b[0m model\u001b[38;5;241m.\u001b[39mupdate_grad(single_grad\u001b[38;5;241m=\u001b[39m\u001b[38;5;28;01mTrue\u001b[39;00m, multi_grad\u001b[38;5;241m=\u001b[39m\u001b[38;5;28;01mFalse\u001b[39;00m)\n\u001b[0;32m---> 97\u001b[0m loss \u001b[38;5;241m=\u001b[39m optimize_task(model, trainloader, optimizer_single, criterion_single, \u001b[38;5;124m\"\u001b[39m\u001b[38;5;124msingle\u001b[39m\u001b[38;5;124m\"\u001b[39m, epoch)\n\u001b[1;32m     99\u001b[0m end \u001b[38;5;241m=\u001b[39m time\u001b[38;5;241m.\u001b[39mtime()\n\u001b[1;32m    101\u001b[0m model\u001b[38;5;241m.\u001b[39meval()\n",
      "Cell \u001b[0;32mIn[294], line 68\u001b[0m, in \u001b[0;36moptimize_task\u001b[0;34m(model, loader, optimizer, loss_fn, task, epoch)\u001b[0m\n\u001b[1;32m     66\u001b[0m running_loss \u001b[38;5;241m=\u001b[39m \u001b[38;5;241m0.0\u001b[39m\n\u001b[1;32m     67\u001b[0m i \u001b[38;5;241m=\u001b[39m \u001b[38;5;241m0\u001b[39m\n\u001b[0;32m---> 68\u001b[0m \u001b[38;5;28;01mfor\u001b[39;00m i, (inputs, labels) \u001b[38;5;129;01min\u001b[39;00m \u001b[38;5;28menumerate\u001b[39m(loader, \u001b[38;5;241m0\u001b[39m):\n\u001b[1;32m     69\u001b[0m     inputs \u001b[38;5;241m=\u001b[39m inputs\u001b[38;5;241m.\u001b[39mto(device)\n\u001b[1;32m     70\u001b[0m     labels \u001b[38;5;241m=\u001b[39m labels\u001b[38;5;241m.\u001b[39mto(device)\n",
      "File \u001b[0;32m~/miniconda3/envs/torch/lib/python3.11/site-packages/torch/utils/data/dataloader.py:633\u001b[0m, in \u001b[0;36m_BaseDataLoaderIter.__next__\u001b[0;34m(self)\u001b[0m\n\u001b[1;32m    630\u001b[0m \u001b[38;5;28;01mif\u001b[39;00m \u001b[38;5;28mself\u001b[39m\u001b[38;5;241m.\u001b[39m_sampler_iter \u001b[38;5;129;01mis\u001b[39;00m \u001b[38;5;28;01mNone\u001b[39;00m:\n\u001b[1;32m    631\u001b[0m     \u001b[38;5;66;03m# TODO(https://github.com/pytorch/pytorch/issues/76750)\u001b[39;00m\n\u001b[1;32m    632\u001b[0m     \u001b[38;5;28mself\u001b[39m\u001b[38;5;241m.\u001b[39m_reset()  \u001b[38;5;66;03m# type: ignore[call-arg]\u001b[39;00m\n\u001b[0;32m--> 633\u001b[0m data \u001b[38;5;241m=\u001b[39m \u001b[38;5;28mself\u001b[39m\u001b[38;5;241m.\u001b[39m_next_data()\n\u001b[1;32m    634\u001b[0m \u001b[38;5;28mself\u001b[39m\u001b[38;5;241m.\u001b[39m_num_yielded \u001b[38;5;241m+\u001b[39m\u001b[38;5;241m=\u001b[39m \u001b[38;5;241m1\u001b[39m\n\u001b[1;32m    635\u001b[0m \u001b[38;5;28;01mif\u001b[39;00m \u001b[38;5;28mself\u001b[39m\u001b[38;5;241m.\u001b[39m_dataset_kind \u001b[38;5;241m==\u001b[39m _DatasetKind\u001b[38;5;241m.\u001b[39mIterable \u001b[38;5;129;01mand\u001b[39;00m \\\n\u001b[1;32m    636\u001b[0m         \u001b[38;5;28mself\u001b[39m\u001b[38;5;241m.\u001b[39m_IterableDataset_len_called \u001b[38;5;129;01mis\u001b[39;00m \u001b[38;5;129;01mnot\u001b[39;00m \u001b[38;5;28;01mNone\u001b[39;00m \u001b[38;5;129;01mand\u001b[39;00m \\\n\u001b[1;32m    637\u001b[0m         \u001b[38;5;28mself\u001b[39m\u001b[38;5;241m.\u001b[39m_num_yielded \u001b[38;5;241m>\u001b[39m \u001b[38;5;28mself\u001b[39m\u001b[38;5;241m.\u001b[39m_IterableDataset_len_called:\n",
      "File \u001b[0;32m~/miniconda3/envs/torch/lib/python3.11/site-packages/torch/utils/data/dataloader.py:677\u001b[0m, in \u001b[0;36m_SingleProcessDataLoaderIter._next_data\u001b[0;34m(self)\u001b[0m\n\u001b[1;32m    675\u001b[0m \u001b[38;5;28;01mdef\u001b[39;00m \u001b[38;5;21m_next_data\u001b[39m(\u001b[38;5;28mself\u001b[39m):\n\u001b[1;32m    676\u001b[0m     index \u001b[38;5;241m=\u001b[39m \u001b[38;5;28mself\u001b[39m\u001b[38;5;241m.\u001b[39m_next_index()  \u001b[38;5;66;03m# may raise StopIteration\u001b[39;00m\n\u001b[0;32m--> 677\u001b[0m     data \u001b[38;5;241m=\u001b[39m \u001b[38;5;28mself\u001b[39m\u001b[38;5;241m.\u001b[39m_dataset_fetcher\u001b[38;5;241m.\u001b[39mfetch(index)  \u001b[38;5;66;03m# may raise StopIteration\u001b[39;00m\n\u001b[1;32m    678\u001b[0m     \u001b[38;5;28;01mif\u001b[39;00m \u001b[38;5;28mself\u001b[39m\u001b[38;5;241m.\u001b[39m_pin_memory:\n\u001b[1;32m    679\u001b[0m         data \u001b[38;5;241m=\u001b[39m _utils\u001b[38;5;241m.\u001b[39mpin_memory\u001b[38;5;241m.\u001b[39mpin_memory(data, \u001b[38;5;28mself\u001b[39m\u001b[38;5;241m.\u001b[39m_pin_memory_device)\n",
      "File \u001b[0;32m~/miniconda3/envs/torch/lib/python3.11/site-packages/torch/utils/data/_utils/fetch.py:51\u001b[0m, in \u001b[0;36m_MapDatasetFetcher.fetch\u001b[0;34m(self, possibly_batched_index)\u001b[0m\n\u001b[1;32m     49\u001b[0m         data \u001b[38;5;241m=\u001b[39m \u001b[38;5;28mself\u001b[39m\u001b[38;5;241m.\u001b[39mdataset\u001b[38;5;241m.\u001b[39m__getitems__(possibly_batched_index)\n\u001b[1;32m     50\u001b[0m     \u001b[38;5;28;01melse\u001b[39;00m:\n\u001b[0;32m---> 51\u001b[0m         data \u001b[38;5;241m=\u001b[39m [\u001b[38;5;28mself\u001b[39m\u001b[38;5;241m.\u001b[39mdataset[idx] \u001b[38;5;28;01mfor\u001b[39;00m idx \u001b[38;5;129;01min\u001b[39;00m possibly_batched_index]\n\u001b[1;32m     52\u001b[0m \u001b[38;5;28;01melse\u001b[39;00m:\n\u001b[1;32m     53\u001b[0m     data \u001b[38;5;241m=\u001b[39m \u001b[38;5;28mself\u001b[39m\u001b[38;5;241m.\u001b[39mdataset[possibly_batched_index]\n",
      "File \u001b[0;32m~/miniconda3/envs/torch/lib/python3.11/site-packages/torch/utils/data/_utils/fetch.py:51\u001b[0m, in \u001b[0;36m<listcomp>\u001b[0;34m(.0)\u001b[0m\n\u001b[1;32m     49\u001b[0m         data \u001b[38;5;241m=\u001b[39m \u001b[38;5;28mself\u001b[39m\u001b[38;5;241m.\u001b[39mdataset\u001b[38;5;241m.\u001b[39m__getitems__(possibly_batched_index)\n\u001b[1;32m     50\u001b[0m     \u001b[38;5;28;01melse\u001b[39;00m:\n\u001b[0;32m---> 51\u001b[0m         data \u001b[38;5;241m=\u001b[39m [\u001b[38;5;28mself\u001b[39m\u001b[38;5;241m.\u001b[39mdataset[idx] \u001b[38;5;28;01mfor\u001b[39;00m idx \u001b[38;5;129;01min\u001b[39;00m possibly_batched_index]\n\u001b[1;32m     52\u001b[0m \u001b[38;5;28;01melse\u001b[39;00m:\n\u001b[1;32m     53\u001b[0m     data \u001b[38;5;241m=\u001b[39m \u001b[38;5;28mself\u001b[39m\u001b[38;5;241m.\u001b[39mdataset[possibly_batched_index]\n",
      "Cell \u001b[0;32mIn[289], line 10\u001b[0m, in \u001b[0;36mMultiTaskDataset.__getitem__\u001b[0;34m(self, index)\u001b[0m\n\u001b[1;32m      8\u001b[0m \u001b[38;5;28;01mdef\u001b[39;00m \u001b[38;5;21m__getitem__\u001b[39m(\u001b[38;5;28mself\u001b[39m, index):\n\u001b[1;32m      9\u001b[0m     image_file \u001b[38;5;241m=\u001b[39m \u001b[38;5;28mself\u001b[39m\u001b[38;5;241m.\u001b[39mfiles[index]\n\u001b[0;32m---> 10\u001b[0m     img \u001b[38;5;241m=\u001b[39m read_img(image_file)\n\u001b[1;32m     12\u001b[0m     y \u001b[38;5;241m=\u001b[39m \u001b[38;5;28mself\u001b[39m\u001b[38;5;241m.\u001b[39my[index]\n\u001b[1;32m     14\u001b[0m     \u001b[38;5;28;01mreturn\u001b[39;00m img, (y)\n",
      "Cell \u001b[0;32mIn[9], line 2\u001b[0m, in \u001b[0;36mread_img\u001b[0;34m(file_name, train, add_dim)\u001b[0m\n\u001b[1;32m      1\u001b[0m \u001b[38;5;28;01mdef\u001b[39;00m \u001b[38;5;21mread_img\u001b[39m(file_name, train\u001b[38;5;241m=\u001b[39m\u001b[38;5;28;01mTrue\u001b[39;00m, add_dim\u001b[38;5;241m=\u001b[39m\u001b[38;5;28;01mFalse\u001b[39;00m):\n\u001b[0;32m----> 2\u001b[0m     img \u001b[38;5;241m=\u001b[39m Image\u001b[38;5;241m.\u001b[39mopen(file_name)\u001b[38;5;241m.\u001b[39mconvert(\u001b[38;5;124m\"\u001b[39m\u001b[38;5;124mRGB\u001b[39m\u001b[38;5;124m\"\u001b[39m)\n\u001b[1;32m      3\u001b[0m     \u001b[38;5;28;01mif\u001b[39;00m train:\n\u001b[1;32m      4\u001b[0m         img_t \u001b[38;5;241m=\u001b[39m transform_train(img)\n",
      "File \u001b[0;32m~/miniconda3/envs/torch/lib/python3.11/site-packages/PIL/Image.py:937\u001b[0m, in \u001b[0;36mImage.convert\u001b[0;34m(self, mode, matrix, dither, palette, colors)\u001b[0m\n\u001b[1;32m    889\u001b[0m \u001b[38;5;28;01mdef\u001b[39;00m \u001b[38;5;21mconvert\u001b[39m(\n\u001b[1;32m    890\u001b[0m     \u001b[38;5;28mself\u001b[39m, mode\u001b[38;5;241m=\u001b[39m\u001b[38;5;28;01mNone\u001b[39;00m, matrix\u001b[38;5;241m=\u001b[39m\u001b[38;5;28;01mNone\u001b[39;00m, dither\u001b[38;5;241m=\u001b[39m\u001b[38;5;28;01mNone\u001b[39;00m, palette\u001b[38;5;241m=\u001b[39mPalette\u001b[38;5;241m.\u001b[39mWEB, colors\u001b[38;5;241m=\u001b[39m\u001b[38;5;241m256\u001b[39m\n\u001b[1;32m    891\u001b[0m ):\n\u001b[1;32m    892\u001b[0m \u001b[38;5;250m    \u001b[39m\u001b[38;5;124;03m\"\"\"\u001b[39;00m\n\u001b[1;32m    893\u001b[0m \u001b[38;5;124;03m    Returns a converted copy of this image. For the \"P\" mode, this\u001b[39;00m\n\u001b[1;32m    894\u001b[0m \u001b[38;5;124;03m    method translates pixels through the palette.  If mode is\u001b[39;00m\n\u001b[0;32m   (...)\u001b[0m\n\u001b[1;32m    934\u001b[0m \u001b[38;5;124;03m    :returns: An :py:class:`~PIL.Image.Image` object.\u001b[39;00m\n\u001b[1;32m    935\u001b[0m \u001b[38;5;124;03m    \"\"\"\u001b[39;00m\n\u001b[0;32m--> 937\u001b[0m     \u001b[38;5;28mself\u001b[39m\u001b[38;5;241m.\u001b[39mload()\n\u001b[1;32m    939\u001b[0m     has_transparency \u001b[38;5;241m=\u001b[39m \u001b[38;5;28mself\u001b[39m\u001b[38;5;241m.\u001b[39minfo\u001b[38;5;241m.\u001b[39mget(\u001b[38;5;124m\"\u001b[39m\u001b[38;5;124mtransparency\u001b[39m\u001b[38;5;124m\"\u001b[39m) \u001b[38;5;129;01mis\u001b[39;00m \u001b[38;5;129;01mnot\u001b[39;00m \u001b[38;5;28;01mNone\u001b[39;00m\n\u001b[1;32m    940\u001b[0m     \u001b[38;5;28;01mif\u001b[39;00m \u001b[38;5;129;01mnot\u001b[39;00m mode \u001b[38;5;129;01mand\u001b[39;00m \u001b[38;5;28mself\u001b[39m\u001b[38;5;241m.\u001b[39mmode \u001b[38;5;241m==\u001b[39m \u001b[38;5;124m\"\u001b[39m\u001b[38;5;124mP\u001b[39m\u001b[38;5;124m\"\u001b[39m:\n\u001b[1;32m    941\u001b[0m         \u001b[38;5;66;03m# determine default mode\u001b[39;00m\n",
      "File \u001b[0;32m~/miniconda3/envs/torch/lib/python3.11/site-packages/PIL/ImageFile.py:269\u001b[0m, in \u001b[0;36mImageFile.load\u001b[0;34m(self)\u001b[0m\n\u001b[1;32m    266\u001b[0m         \u001b[38;5;28;01mraise\u001b[39;00m \u001b[38;5;167;01mOSError\u001b[39;00m(msg)\n\u001b[1;32m    268\u001b[0m b \u001b[38;5;241m=\u001b[39m b \u001b[38;5;241m+\u001b[39m s\n\u001b[0;32m--> 269\u001b[0m n, err_code \u001b[38;5;241m=\u001b[39m decoder\u001b[38;5;241m.\u001b[39mdecode(b)\n\u001b[1;32m    270\u001b[0m \u001b[38;5;28;01mif\u001b[39;00m n \u001b[38;5;241m<\u001b[39m \u001b[38;5;241m0\u001b[39m:\n\u001b[1;32m    271\u001b[0m     \u001b[38;5;28;01mbreak\u001b[39;00m\n",
      "\u001b[0;31mKeyboardInterrupt\u001b[0m: "
     ]
    }
   ],
   "source": [
    "lrs = [0.01, 0.002, 0.005, 0.0005]\n",
    "\n",
    "all_losses = []\n",
    "all_losses_s = []\n",
    "all_losses_m = []\n",
    "all_accs = []\n",
    "model_arr = []\n",
    "for i in range(len(lrs)):\n",
    "    print(\"Training model with learning rate:\", lrs[i])\n",
    "    new_model = MultiTaskModel().to(device)\n",
    "    \n",
    "    optimizer_single = optim.Adam(filter(lambda p: p.requires_grad, new_model.parameters()), lr=lrs[i])\n",
    "    optimizer_multi = optim.Adam(filter(lambda p: p.requires_grad, new_model.parameters()), lr=lrs[i])\n",
    "\n",
    "    criterion_multi = nn.BCEWithLogitsLoss().to(device)\n",
    "    criterion_single = nn.CrossEntropyLoss().to(device)\n",
    "    \n",
    "    losses_s, accs_s = train_single_label(new_model, 5)\n",
    "    losses_m, accs_m = train_multi_label(new_model, 5)\n",
    "    \n",
    "    accs = [(accs_s[i][0], accs_m[i][1]) for i in range(len(accs_m))]\n",
    "    losses = (np.array(losses_s) + np.array(losses_m)) / 2\n",
    "    \n",
    "    torch.save(new_model.state_dict(), 'model-adam' + str(lrs[i]) + '-' + version + '.pth')\n",
    "    model_arr.append(new_model)\n",
    "    all_accs.append(accs)\n",
    "    all_losses.append(losses)\n",
    "    all_losses_s.append(losses_s)\n",
    "    all_losses_m.append(losses_m)\n",
    "    "
   ]
  },
  {
   "cell_type": "code",
   "execution_count": null,
   "metadata": {},
   "outputs": [],
   "source": [
    "plot_results()"
   ]
  },
  {
   "cell_type": "markdown",
   "metadata": {},
   "source": [
    "## Testing out different learning rates with Adam optimizer"
   ]
  },
  {
   "cell_type": "code",
   "execution_count": null,
   "metadata": {},
   "outputs": [],
   "source": [
    "lrs = [0.01, 0.005, 0.0005]\n",
    "\n",
    "all_losses = []\n",
    "all_losses_s = []\n",
    "all_losses_m = []\n",
    "all_accs = []\n",
    "model_arr = []\n",
    "for i in range(len(lrs)):\n",
    "    new_model = MultiTaskModel().to(device)\n",
    "    optimizer = optim.Adam(new_model.parameters(), lr=lrs[i])\n",
    "    losses_m, accs = train_multi_label(new_model, optimizer, 5)\n",
    "    \n",
    "    optimizer = optim.Adam(new_model.parameters(), lr=lrs[i])\n",
    "    losses_m, accs = train_single_label(new_model, optimizer, 5)\n",
    "    \n",
    "    torch.save(new_model.state_dict(), 'model-adam' + lrs[i] + '-' + version +  '.pth')\n",
    "    model_arr.append(new_model)\n",
    "    all_accs.append(accs)\n",
    "    all_losses.append(losses)\n",
    "    all_losses_s.append(losses_s)\n",
    "    all_losses_m.append(losses_m)\n",
    "    "
   ]
  },
  {
   "cell_type": "code",
   "execution_count": null,
   "metadata": {},
   "outputs": [],
   "source": [
    "plot_results()"
   ]
  },
  {
   "cell_type": "code",
   "execution_count": null,
   "metadata": {},
   "outputs": [],
   "source": [
    "def plot_img(file):\n",
    "    img = read_img(file, False)\n",
    "    rgb_img = img.permute(1, 2, 0)\n",
    "    fig, ax = plt.subplots()\n",
    "    img = ax.imshow(rgb_img)"
   ]
  },
  {
   "cell_type": "code",
   "execution_count": null,
   "metadata": {},
   "outputs": [],
   "source": [
    "fig, ax = plt.subplots(2, 3, figsize=(12,8))\n",
    "X_test, Y_test = get_data('test')\n",
    "\n",
    "for i in range(2):\n",
    "    for j in range(3):\n",
    "        x = read_img(X_test[i + j], True, True)\n",
    "        predict = model(x)\n",
    "#         p = predict[0].detach().numpy()[0]\n",
    "#         print(p)\n",
    "        img = read_img(X_test[i + j], False)\n",
    "        rgb_img = img.permute(1, 2, 0)\n",
    "        \n",
    "        ax[i,j].imshow(rgb_img)\n",
    "        ax[i,j].set_title('actual: ' + classes[Y_true[i]] + ' predicted: ' + classes[np.argmax(p)])\n",
    "        #single label prediction\n"
   ]
  },
  {
   "cell_type": "markdown",
   "metadata": {},
   "source": [
    "## Fake Multitask"
   ]
  },
  {
   "cell_type": "code",
   "execution_count": 23,
   "metadata": {},
   "outputs": [],
   "source": [
    "class FakeMultiTaskModel(nn.Module):\n",
    "    def __init__(self):\n",
    "        super(FakeMultiTaskModel, self).__init__()\n",
    "        self.model = models.resnet18(pretrained=True)\n",
    "        \n",
    "        self.features = nn.Sequential(*list(self.model.children())[:-1])\n",
    "        \n",
    "        self.model.fc_multi = nn.Sequential(nn.Flatten(),\n",
    "            nn.Linear(512, 128),\n",
    "            nn.ReLU(),\n",
    "            nn.Dropout(0.2),\n",
    "            nn.Linear(128, 3),\n",
    "            nn.Sigmoid())\n",
    "        \n",
    "        for param in self.model.parameters():\n",
    "            self.model.requires_grad = False\n",
    "        self.model.fc_multi.requires_grad = True\n",
    "        \n",
    "    def forward(self, x):\n",
    "        x = self.features(x)\n",
    "        x = x.view(x.size(0), -1)\n",
    "\n",
    "        return self.model.fc_multi(x)"
   ]
  },
  {
   "cell_type": "code",
   "execution_count": 24,
   "metadata": {},
   "outputs": [],
   "source": [
    "model3 = FakeMultiTaskModel()\n",
    "criterion = nn.BCEWithLogitLoss()\n",
    "optimizer_sgd = optim.SGD(model3.parameters(), lr=0.001, momentum=0.9)"
   ]
  },
  {
   "cell_type": "code",
   "execution_count": 32,
   "metadata": {},
   "outputs": [
    {
     "name": "stdout",
     "output_type": "stream",
     "text": [
      "[1,   100] loss: 0.997\n",
      "[1,   200] loss: 0.786\n",
      "[1,   300] loss: 0.701\n",
      "[2,   100] loss: 0.667\n",
      "[2,   200] loss: 0.663\n",
      "[2,   300] loss: 0.651\n",
      "[3,   100] loss: 0.636\n",
      "[3,   200] loss: 0.635\n",
      "[3,   300] loss: 0.636\n",
      "[4,   100] loss: 0.619\n",
      "[4,   200] loss: 0.623\n",
      "[4,   300] loss: 0.625\n",
      "[5,   100] loss: 0.606\n",
      "[5,   200] loss: 0.605\n",
      "[5,   300] loss: 0.606\n",
      "[6,   100] loss: 0.599\n",
      "[6,   200] loss: 0.587\n",
      "[6,   300] loss: 0.588\n",
      "[7,   100] loss: 0.585\n",
      "[7,   200] loss: 0.584\n",
      "[7,   300] loss: 0.593\n",
      "[8,   100] loss: 0.578\n",
      "[8,   200] loss: 0.582\n",
      "[8,   300] loss: 0.582\n",
      "[9,   100] loss: 0.581\n",
      "[9,   200] loss: 0.584\n",
      "[9,   300] loss: 0.580\n",
      "[10,   100] loss: 0.572\n",
      "[10,   200] loss: 0.574\n",
      "[10,   300] loss: 0.577\n"
     ]
    }
   ],
   "source": [
    "losses = train_model(criterion, model3, optimizer_sgd, 10)\n",
    "torch.save(model3.state_dict(), 'wrapped-model-sgd0.001-1.0.0.pth')"
   ]
  },
  {
   "cell_type": "code",
   "execution_count": 37,
   "metadata": {},
   "outputs": [
    {
     "name": "stdout",
     "output_type": "stream",
     "text": [
      "              precision    recall  f1-score   support\n",
      "\n",
      "      Flower       0.62      1.00      0.76       104\n",
      "         Dog       0.95      0.58      0.72       104\n",
      "         Cat       0.85      0.65      0.74       104\n",
      "\n",
      "    accuracy                           0.74       312\n",
      "   macro avg       0.81      0.74      0.74       312\n",
      "weighted avg       0.81      0.74      0.74       312\n",
      "\n"
     ]
    }
   ],
   "source": [
    "evaluate_standalone(model3)"
   ]
  },
  {
   "cell_type": "code",
   "execution_count": 196,
   "metadata": {},
   "outputs": [],
   "source": [
    "model_mt = MultiTaskModel().to(device)"
   ]
  },
  {
   "cell_type": "code",
   "execution_count": 199,
   "metadata": {},
   "outputs": [],
   "source": [
    "weights = torch.load('multi_task_single_label_frozen-3.0.pth')"
   ]
  },
  {
   "cell_type": "code",
   "execution_count": 200,
   "metadata": {},
   "outputs": [
    {
     "data": {
      "text/plain": [
       "<All keys matched successfully>"
      ]
     },
     "execution_count": 200,
     "metadata": {},
     "output_type": "execute_result"
    }
   ],
   "source": [
    "model_mt.load_weights(weights)"
   ]
  },
  {
   "cell_type": "code",
   "execution_count": 201,
   "metadata": {},
   "outputs": [
    {
     "name": "stdout",
     "output_type": "stream",
     "text": [
      "Single-label\n",
      "              precision    recall  f1-score   support\n",
      "\n",
      "      Flower       0.37      0.35      0.36       104\n",
      "         Dog       0.00      0.00      0.00       104\n",
      "         Cat       0.36      0.73      0.48       104\n",
      "\n",
      "    accuracy                           0.36       312\n",
      "   macro avg       0.24      0.36      0.28       312\n",
      "weighted avg       0.24      0.36      0.28       312\n",
      "\n",
      "\n",
      "Multi-label\n",
      "              precision    recall  f1-score   support\n",
      "\n",
      "      Flower       0.45      0.24      0.31       104\n",
      "         Dog       0.33      1.00      0.50       104\n",
      "         Cat       0.33      1.00      0.50       104\n",
      "\n",
      "   micro avg       0.34      0.75      0.47       312\n",
      "   macro avg       0.37      0.75      0.44       312\n",
      "weighted avg       0.37      0.75      0.44       312\n",
      " samples avg       0.34      0.75      0.47       312\n",
      "\n"
     ]
    }
   ],
   "source": [
    "evaluate_model(model_mt)"
   ]
  },
  {
   "cell_type": "code",
   "execution_count": 219,
   "metadata": {},
   "outputs": [],
   "source": [
    "model_main = MultiTaskModel().to(device)"
   ]
  },
  {
   "cell_type": "code",
   "execution_count": 221,
   "metadata": {},
   "outputs": [
    {
     "ename": "RuntimeError",
     "evalue": "Error(s) in loading state_dict for MultiTaskModel:\n\tsize mismatch for model.fc_multi.1.weight: copying a param with shape torch.Size([128, 512]) from checkpoint, the shape in current model is torch.Size([512, 512]).\n\tsize mismatch for model.fc_multi.1.bias: copying a param with shape torch.Size([128]) from checkpoint, the shape in current model is torch.Size([512]).\n\tsize mismatch for model.fc_multi.4.weight: copying a param with shape torch.Size([3, 128]) from checkpoint, the shape in current model is torch.Size([3, 512]).",
     "output_type": "error",
     "traceback": [
      "\u001b[0;31m---------------------------------------------------------------------------\u001b[0m",
      "\u001b[0;31mRuntimeError\u001b[0m                              Traceback (most recent call last)",
      "Input \u001b[0;32mIn [221]\u001b[0m, in \u001b[0;36m<module>\u001b[0;34m\u001b[0m\n\u001b[1;32m      1\u001b[0m weights2 \u001b[38;5;241m=\u001b[39m torch\u001b[38;5;241m.\u001b[39mload(\u001b[38;5;124m'\u001b[39m\u001b[38;5;124mmulti_task_multi_label_freezed-3.0.pth\u001b[39m\u001b[38;5;124m'\u001b[39m)\n\u001b[0;32m----> 2\u001b[0m \u001b[43mmodel_main\u001b[49m\u001b[38;5;241;43m.\u001b[39;49m\u001b[43mload_state_dict\u001b[49m\u001b[43m(\u001b[49m\u001b[43mweights2\u001b[49m\u001b[43m)\u001b[49m\n",
      "File \u001b[0;32m/Library/Frameworks/Python.framework/Versions/3.10/lib/python3.10/site-packages/torch/nn/modules/module.py:1671\u001b[0m, in \u001b[0;36mModule.load_state_dict\u001b[0;34m(self, state_dict, strict)\u001b[0m\n\u001b[1;32m   1666\u001b[0m         error_msgs\u001b[38;5;241m.\u001b[39minsert(\n\u001b[1;32m   1667\u001b[0m             \u001b[38;5;241m0\u001b[39m, \u001b[38;5;124m'\u001b[39m\u001b[38;5;124mMissing key(s) in state_dict: \u001b[39m\u001b[38;5;132;01m{}\u001b[39;00m\u001b[38;5;124m. \u001b[39m\u001b[38;5;124m'\u001b[39m\u001b[38;5;241m.\u001b[39mformat(\n\u001b[1;32m   1668\u001b[0m                 \u001b[38;5;124m'\u001b[39m\u001b[38;5;124m, \u001b[39m\u001b[38;5;124m'\u001b[39m\u001b[38;5;241m.\u001b[39mjoin(\u001b[38;5;124m'\u001b[39m\u001b[38;5;124m\"\u001b[39m\u001b[38;5;132;01m{}\u001b[39;00m\u001b[38;5;124m\"\u001b[39m\u001b[38;5;124m'\u001b[39m\u001b[38;5;241m.\u001b[39mformat(k) \u001b[38;5;28;01mfor\u001b[39;00m k \u001b[38;5;129;01min\u001b[39;00m missing_keys)))\n\u001b[1;32m   1670\u001b[0m \u001b[38;5;28;01mif\u001b[39;00m \u001b[38;5;28mlen\u001b[39m(error_msgs) \u001b[38;5;241m>\u001b[39m \u001b[38;5;241m0\u001b[39m:\n\u001b[0;32m-> 1671\u001b[0m     \u001b[38;5;28;01mraise\u001b[39;00m \u001b[38;5;167;01mRuntimeError\u001b[39;00m(\u001b[38;5;124m'\u001b[39m\u001b[38;5;124mError(s) in loading state_dict for \u001b[39m\u001b[38;5;132;01m{}\u001b[39;00m\u001b[38;5;124m:\u001b[39m\u001b[38;5;130;01m\\n\u001b[39;00m\u001b[38;5;130;01m\\t\u001b[39;00m\u001b[38;5;132;01m{}\u001b[39;00m\u001b[38;5;124m'\u001b[39m\u001b[38;5;241m.\u001b[39mformat(\n\u001b[1;32m   1672\u001b[0m                        \u001b[38;5;28mself\u001b[39m\u001b[38;5;241m.\u001b[39m\u001b[38;5;18m__class__\u001b[39m\u001b[38;5;241m.\u001b[39m\u001b[38;5;18m__name__\u001b[39m, \u001b[38;5;124m\"\u001b[39m\u001b[38;5;130;01m\\n\u001b[39;00m\u001b[38;5;130;01m\\t\u001b[39;00m\u001b[38;5;124m\"\u001b[39m\u001b[38;5;241m.\u001b[39mjoin(error_msgs)))\n\u001b[1;32m   1673\u001b[0m \u001b[38;5;28;01mreturn\u001b[39;00m _IncompatibleKeys(missing_keys, unexpected_keys)\n",
      "\u001b[0;31mRuntimeError\u001b[0m: Error(s) in loading state_dict for MultiTaskModel:\n\tsize mismatch for model.fc_multi.1.weight: copying a param with shape torch.Size([128, 512]) from checkpoint, the shape in current model is torch.Size([512, 512]).\n\tsize mismatch for model.fc_multi.1.bias: copying a param with shape torch.Size([128]) from checkpoint, the shape in current model is torch.Size([512]).\n\tsize mismatch for model.fc_multi.4.weight: copying a param with shape torch.Size([3, 128]) from checkpoint, the shape in current model is torch.Size([3, 512])."
     ]
    }
   ],
   "source": [
    "weights2 = torch.load('multi_task_multi_label_freezed-3.0.pth')\n",
    "model_main.load_state_dict(weights2)"
   ]
  },
  {
   "cell_type": "code",
   "execution_count": 212,
   "metadata": {},
   "outputs": [
    {
     "name": "stdout",
     "output_type": "stream",
     "text": [
      "Single-label\n",
      "              precision    recall  f1-score   support\n",
      "\n",
      "      Flower       0.00      0.00      0.00       104\n",
      "         Dog       0.33      0.65      0.44       104\n",
      "         Cat       0.34      0.35      0.34       104\n",
      "\n",
      "    accuracy                           0.33       312\n",
      "   macro avg       0.22      0.33      0.26       312\n",
      "weighted avg       0.22      0.33      0.26       312\n",
      "\n",
      "\n",
      "Multi-label\n",
      "              precision    recall  f1-score   support\n",
      "\n",
      "      Flower       0.40      0.02      0.04       104\n",
      "         Dog       0.23      0.03      0.05       104\n",
      "         Cat       0.33      0.37      0.35       104\n",
      "\n",
      "   micro avg       0.33      0.14      0.19       312\n",
      "   macro avg       0.32      0.14      0.15       312\n",
      "weighted avg       0.32      0.14      0.15       312\n",
      " samples avg       0.12      0.14      0.13       312\n",
      "\n"
     ]
    }
   ],
   "source": [
    "evaluate_model(model_main)"
   ]
  },
  {
   "cell_type": "code",
   "execution_count": null,
   "metadata": {},
   "outputs": [],
   "source": []
  }
 ],
 "metadata": {
  "colab": {
   "provenance": []
  },
  "kernelspec": {
   "display_name": "Torch",
   "language": "python",
   "name": "torch"
  },
  "language_info": {
   "codemirror_mode": {
    "name": "ipython",
    "version": 3
   },
   "file_extension": ".py",
   "mimetype": "text/x-python",
   "name": "python",
   "nbconvert_exporter": "python",
   "pygments_lexer": "ipython3",
   "version": "3.11.3"
  },
  "vscode": {
   "interpreter": {
    "hash": "e7370f93d1d0cde622a1f8e1c04877d8463912d04d973331ad4851f04de6915a"
   }
  }
 },
 "nbformat": 4,
 "nbformat_minor": 1
}
