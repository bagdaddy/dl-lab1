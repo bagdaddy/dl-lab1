{
  "nbformat": 4,
  "nbformat_minor": 0,
  "metadata": {
    "colab": {
      "provenance": []
    },
    "kernelspec": {
      "name": "python3",
      "display_name": "Python 3"
    },
    "accelerator": "GPU"
  },
  "cells": [
    {
      "cell_type": "markdown",
      "metadata": {
        "id": "vET1l9P9_Grz"
      },
      "source": [
        "## Multi-class classification\n",
        "\n",
        "> Indented block\n",
        "\n",
        "\n",
        "\n",
        "Iris dataset https://en.wikipedia.org/wiki/Iris_flower_data_set"
      ]
    },
    {
      "cell_type": "code",
      "metadata": {
        "id": "6gt0h7-ubs20"
      },
      "source": [
        "import numpy as np\n",
        "from tensorflow import summary\n",
        "import datetime, os\n",
        "import math\n",
        "import random\n",
        "import torch\n",
        "import matplotlib.pyplot as plt \n",
        "from sklearn.metrics import multilabel_confusion_matrix"
      ],
      "execution_count": null,
      "outputs": []
    },
    {
      "cell_type": "markdown",
      "metadata": {
        "id": "beA8ZJ6Jpam-"
      },
      "source": [
        "## For this experiment we will use PyTorch framework"
      ]
    },
    {
      "cell_type": "code",
      "metadata": {
        "id": "XqgW29sMCNqn"
      },
      "source": [
        "import torch\n",
        "import torch.nn as nn\n",
        "import torch.nn.functional as F\n",
        "from torch.autograd import Variable"
      ],
      "execution_count": null,
      "outputs": []
    },
    {
      "cell_type": "markdown",
      "metadata": {
        "id": "V7D5dB9Tpo-k"
      },
      "source": [
        "#### Experiments logging via tensorboard"
      ]
    },
    {
      "cell_type": "code",
      "metadata": {
        "id": "rJ7KK5g4GMP6"
      },
      "source": [
        "%load_ext tensorboard\n",
        "logdir = os.path.join(\"logs\", datetime.datetime.now().strftime(\"%Y%m%d-%H%M%S\"))\n",
        "train_summary_writer = summary.create_file_writer(logdir)\n",
        "validation_summary_writer = summary.create_file_writer(logdir)"
      ],
      "execution_count": null,
      "outputs": []
    },
    {
      "cell_type": "code",
      "metadata": {
        "colab": {
          "base_uri": "https://localhost:8080/"
        },
        "id": "avcRobO7V_Sl",
        "outputId": "97a83d2a-3f5d-4785-997c-b662ee7bcfb5"
      },
      "source": [
        "!pip install sklearn"
      ],
      "execution_count": null,
      "outputs": [
        {
          "output_type": "stream",
          "name": "stdout",
          "text": [
            "Looking in indexes: https://pypi.org/simple, https://us-python.pkg.dev/colab-wheels/public/simple/\n",
            "Collecting sklearn\n",
            "  Downloading sklearn-0.0.post1.tar.gz (3.6 kB)\n",
            "Building wheels for collected packages: sklearn\n",
            "  Building wheel for sklearn (setup.py) ... \u001b[?25l\u001b[?25hdone\n",
            "  Created wheel for sklearn: filename=sklearn-0.0.post1-py3-none-any.whl size=2344 sha256=16530d7969188ebbc2aff0ea7e56eeda3b740cfecb246f3b71e9dfabc3728363\n",
            "  Stored in directory: /root/.cache/pip/wheels/42/56/cc/4a8bf86613aafd5b7f1b310477667c1fca5c51c3ae4124a003\n",
            "Successfully built sklearn\n",
            "Installing collected packages: sklearn\n",
            "Successfully installed sklearn-0.0.post1\n"
          ]
        }
      ]
    },
    {
      "cell_type": "markdown",
      "metadata": {
        "id": "nOu2oliXpuzw"
      },
      "source": [
        "#### Check if GPU is available"
      ]
    },
    {
      "cell_type": "code",
      "metadata": {
        "colab": {
          "base_uri": "https://localhost:8080/"
        },
        "id": "qPU2LRWRU62s",
        "outputId": "f9da8b9c-1841-4835-e3ec-9f7bdc8d1fec"
      },
      "source": [
        "!nvidia-smi"
      ],
      "execution_count": null,
      "outputs": [
        {
          "output_type": "stream",
          "name": "stdout",
          "text": [
            "Thu Nov 24 17:13:12 2022       \n",
            "+-----------------------------------------------------------------------------+\n",
            "| NVIDIA-SMI 460.32.03    Driver Version: 460.32.03    CUDA Version: 11.2     |\n",
            "|-------------------------------+----------------------+----------------------+\n",
            "| GPU  Name        Persistence-M| Bus-Id        Disp.A | Volatile Uncorr. ECC |\n",
            "| Fan  Temp  Perf  Pwr:Usage/Cap|         Memory-Usage | GPU-Util  Compute M. |\n",
            "|                               |                      |               MIG M. |\n",
            "|===============================+======================+======================|\n",
            "|   0  Tesla T4            Off  | 00000000:00:04.0 Off |                    0 |\n",
            "| N/A   41C    P0    27W /  70W |    312MiB / 15109MiB |      0%      Default |\n",
            "|                               |                      |                  N/A |\n",
            "+-------------------------------+----------------------+----------------------+\n",
            "                                                                               \n",
            "+-----------------------------------------------------------------------------+\n",
            "| Processes:                                                                  |\n",
            "|  GPU   GI   CI        PID   Type   Process name                  GPU Memory |\n",
            "|        ID   ID                                                   Usage      |\n",
            "|=============================================================================|\n",
            "+-----------------------------------------------------------------------------+\n"
          ]
        }
      ]
    },
    {
      "cell_type": "code",
      "metadata": {
        "id": "nJftn6T4bxb1"
      },
      "source": [
        "# nuskaitome duomenis\n",
        "data = np.genfromtxt(\"./2_iris.csv\", delimiter='\\t') \n",
        "\n",
        "# paskirstome apmokymas, validavimas, testavimas\n",
        "N_samples = data.shape[0]\n",
        "N_train = int(N_samples * 0.7) # 70% apmokymas\n",
        "N_val = int(N_samples * 0.8) # 10% validavimas\n",
        "N_test = N_samples - N_train - N_val"
      ],
      "execution_count": null,
      "outputs": []
    },
    {
      "cell_type": "code",
      "metadata": {
        "id": "ouNE8onoRwtk",
        "colab": {
          "base_uri": "https://localhost:8080/"
        },
        "outputId": "71a8bff7-342d-4975-8b8c-d66adcbebea2"
      },
      "source": [
        "N_samples"
      ],
      "execution_count": null,
      "outputs": [
        {
          "output_type": "execute_result",
          "data": {
            "text/plain": [
              "150"
            ]
          },
          "metadata": {},
          "execution_count": 7
        }
      ]
    },
    {
      "cell_type": "code",
      "metadata": {
        "id": "LLOAHcttRj6Z",
        "colab": {
          "base_uri": "https://localhost:8080/"
        },
        "outputId": "8afe5f58-c009-48cc-bfb6-c57692505bca"
      },
      "source": [
        "data"
      ],
      "execution_count": null,
      "outputs": [
        {
          "output_type": "execute_result",
          "data": {
            "text/plain": [
              "array([[5.1, 3.5, 1.4, 0.2, 0. ],\n",
              "       [4.9, 3. , 1.4, 0.2, 0. ],\n",
              "       [4.7, 3.2, 1.3, 0.2, 0. ],\n",
              "       [4.6, 3.1, 1.5, 0.2, 0. ],\n",
              "       [5. , 3.6, 1.4, 0.2, 0. ],\n",
              "       [5.4, 3.9, 1.7, 0.4, 0. ],\n",
              "       [4.6, 3.4, 1.4, 0.3, 0. ],\n",
              "       [5. , 3.4, 1.5, 0.2, 0. ],\n",
              "       [4.4, 2.9, 1.4, 0.2, 0. ],\n",
              "       [4.9, 3.1, 1.5, 0.1, 0. ],\n",
              "       [5.4, 3.7, 1.5, 0.2, 0. ],\n",
              "       [4.8, 3.4, 1.6, 0.2, 0. ],\n",
              "       [4.8, 3. , 1.4, 0.1, 0. ],\n",
              "       [4.3, 3. , 1.1, 0.1, 0. ],\n",
              "       [5.8, 4. , 1.2, 0.2, 0. ],\n",
              "       [5.7, 4.4, 1.5, 0.4, 0. ],\n",
              "       [5.4, 3.9, 1.3, 0.4, 0. ],\n",
              "       [5.1, 3.5, 1.4, 0.3, 0. ],\n",
              "       [5.7, 3.8, 1.7, 0.3, 0. ],\n",
              "       [5.1, 3.8, 1.5, 0.3, 0. ],\n",
              "       [5.4, 3.4, 1.7, 0.2, 0. ],\n",
              "       [5.1, 3.7, 1.5, 0.4, 0. ],\n",
              "       [4.6, 3.6, 1. , 0.2, 0. ],\n",
              "       [5.1, 3.3, 1.7, 0.5, 0. ],\n",
              "       [4.8, 3.4, 1.9, 0.2, 0. ],\n",
              "       [5. , 3. , 1.6, 0.2, 0. ],\n",
              "       [5. , 3.4, 1.6, 0.4, 0. ],\n",
              "       [5.2, 3.5, 1.5, 0.2, 0. ],\n",
              "       [5.2, 3.4, 1.4, 0.2, 0. ],\n",
              "       [4.7, 3.2, 1.6, 0.2, 0. ],\n",
              "       [4.8, 3.1, 1.6, 0.2, 0. ],\n",
              "       [5.4, 3.4, 1.5, 0.4, 0. ],\n",
              "       [5.2, 4.1, 1.5, 0.1, 0. ],\n",
              "       [5.5, 4.2, 1.4, 0.2, 0. ],\n",
              "       [4.9, 3.1, 1.5, 0.1, 0. ],\n",
              "       [5. , 3.2, 1.2, 0.2, 0. ],\n",
              "       [5.5, 3.5, 1.3, 0.2, 0. ],\n",
              "       [4.9, 3.1, 1.5, 0.1, 0. ],\n",
              "       [4.4, 3. , 1.3, 0.2, 0. ],\n",
              "       [5.1, 3.4, 1.5, 0.2, 0. ],\n",
              "       [5. , 3.5, 1.3, 0.3, 0. ],\n",
              "       [4.5, 2.3, 1.3, 0.3, 0. ],\n",
              "       [4.4, 3.2, 1.3, 0.2, 0. ],\n",
              "       [5. , 3.5, 1.6, 0.6, 0. ],\n",
              "       [5.1, 3.8, 1.9, 0.4, 0. ],\n",
              "       [4.8, 3. , 1.4, 0.3, 0. ],\n",
              "       [5.1, 3.8, 1.6, 0.2, 0. ],\n",
              "       [4.6, 3.2, 1.4, 0.2, 0. ],\n",
              "       [5.3, 3.7, 1.5, 0.2, 0. ],\n",
              "       [5. , 3.3, 1.4, 0.2, 0. ],\n",
              "       [7. , 3.2, 4.7, 1.4, 1. ],\n",
              "       [6.4, 3.2, 4.5, 1.5, 1. ],\n",
              "       [6.9, 3.1, 4.9, 1.5, 1. ],\n",
              "       [5.5, 2.3, 4. , 1.3, 1. ],\n",
              "       [6.5, 2.8, 4.6, 1.5, 1. ],\n",
              "       [5.7, 2.8, 4.5, 1.3, 1. ],\n",
              "       [6.3, 3.3, 4.7, 1.6, 1. ],\n",
              "       [4.9, 2.4, 3.3, 1. , 1. ],\n",
              "       [6.6, 2.9, 4.6, 1.3, 1. ],\n",
              "       [5.2, 2.7, 3.9, 1.4, 1. ],\n",
              "       [5. , 2. , 3.5, 1. , 1. ],\n",
              "       [5.9, 3. , 4.2, 1.5, 1. ],\n",
              "       [6. , 2.2, 4. , 1. , 1. ],\n",
              "       [6.1, 2.9, 4.7, 1.4, 1. ],\n",
              "       [5.6, 2.9, 3.6, 1.3, 1. ],\n",
              "       [6.7, 3.1, 4.4, 1.4, 1. ],\n",
              "       [5.6, 3. , 4.5, 1.5, 1. ],\n",
              "       [5.8, 2.7, 4.1, 1. , 1. ],\n",
              "       [6.2, 2.2, 4.5, 1.5, 1. ],\n",
              "       [5.6, 2.5, 3.9, 1.1, 1. ],\n",
              "       [5.9, 3.2, 4.8, 1.8, 1. ],\n",
              "       [6.1, 2.8, 4. , 1.3, 1. ],\n",
              "       [6.3, 2.5, 4.9, 1.5, 1. ],\n",
              "       [6.1, 2.8, 4.7, 1.2, 1. ],\n",
              "       [6.4, 2.9, 4.3, 1.3, 1. ],\n",
              "       [6.6, 3. , 4.4, 1.4, 1. ],\n",
              "       [6.8, 2.8, 4.8, 1.4, 1. ],\n",
              "       [6.7, 3. , 5. , 1.7, 1. ],\n",
              "       [6. , 2.9, 4.5, 1.5, 1. ],\n",
              "       [5.7, 2.6, 3.5, 1. , 1. ],\n",
              "       [5.5, 2.4, 3.8, 1.1, 1. ],\n",
              "       [5.5, 2.4, 3.7, 1. , 1. ],\n",
              "       [5.8, 2.7, 3.9, 1.2, 1. ],\n",
              "       [6. , 2.7, 5.1, 1.6, 1. ],\n",
              "       [5.4, 3. , 4.5, 1.5, 1. ],\n",
              "       [6. , 3.4, 4.5, 1.6, 1. ],\n",
              "       [6.7, 3.1, 4.7, 1.5, 1. ],\n",
              "       [6.3, 2.3, 4.4, 1.3, 1. ],\n",
              "       [5.6, 3. , 4.1, 1.3, 1. ],\n",
              "       [5.5, 2.5, 4. , 1.3, 1. ],\n",
              "       [5.5, 2.6, 4.4, 1.2, 1. ],\n",
              "       [6.1, 3. , 4.6, 1.4, 1. ],\n",
              "       [5.8, 2.6, 4. , 1.2, 1. ],\n",
              "       [5. , 2.3, 3.3, 1. , 1. ],\n",
              "       [5.6, 2.7, 4.2, 1.3, 1. ],\n",
              "       [5.7, 3. , 4.2, 1.2, 1. ],\n",
              "       [5.7, 2.9, 4.2, 1.3, 1. ],\n",
              "       [6.2, 2.9, 4.3, 1.3, 1. ],\n",
              "       [5.1, 2.5, 3. , 1.1, 1. ],\n",
              "       [5.7, 2.8, 4.1, 1.3, 1. ],\n",
              "       [6.3, 3.3, 6. , 2.5, 2. ],\n",
              "       [5.8, 2.7, 5.1, 1.9, 2. ],\n",
              "       [7.1, 3. , 5.9, 2.1, 2. ],\n",
              "       [6.3, 2.9, 5.6, 1.8, 2. ],\n",
              "       [6.5, 3. , 5.8, 2.2, 2. ],\n",
              "       [7.6, 3. , 6.6, 2.1, 2. ],\n",
              "       [4.9, 2.5, 4.5, 1.7, 2. ],\n",
              "       [7.3, 2.9, 6.3, 1.8, 2. ],\n",
              "       [6.7, 2.5, 5.8, 1.8, 2. ],\n",
              "       [7.2, 3.6, 6.1, 2.5, 2. ],\n",
              "       [6.5, 3.2, 5.1, 2. , 2. ],\n",
              "       [6.4, 2.7, 5.3, 1.9, 2. ],\n",
              "       [6.8, 3. , 5.5, 2.1, 2. ],\n",
              "       [5.7, 2.5, 5. , 2. , 2. ],\n",
              "       [5.8, 2.8, 5.1, 2.4, 2. ],\n",
              "       [6.4, 3.2, 5.3, 2.3, 2. ],\n",
              "       [6.5, 3. , 5.5, 1.8, 2. ],\n",
              "       [7.7, 3.8, 6.7, 2.2, 2. ],\n",
              "       [7.7, 2.6, 6.9, 2.3, 2. ],\n",
              "       [6. , 2.2, 5. , 1.5, 2. ],\n",
              "       [6.9, 3.2, 5.7, 2.3, 2. ],\n",
              "       [5.6, 2.8, 4.9, 2. , 2. ],\n",
              "       [7.7, 2.8, 6.7, 2. , 2. ],\n",
              "       [6.3, 2.7, 4.9, 1.8, 2. ],\n",
              "       [6.7, 3.3, 5.7, 2.1, 2. ],\n",
              "       [7.2, 3.2, 6. , 1.8, 2. ],\n",
              "       [6.2, 2.8, 4.8, 1.8, 2. ],\n",
              "       [6.1, 3. , 4.9, 1.8, 2. ],\n",
              "       [6.4, 2.8, 5.6, 2.1, 2. ],\n",
              "       [7.2, 3. , 5.8, 1.6, 2. ],\n",
              "       [7.4, 2.8, 6.1, 1.9, 2. ],\n",
              "       [7.9, 3.8, 6.4, 2. , 2. ],\n",
              "       [6.4, 2.8, 5.6, 2.2, 2. ],\n",
              "       [6.3, 2.8, 5.1, 1.5, 2. ],\n",
              "       [6.1, 2.6, 5.6, 1.4, 2. ],\n",
              "       [7.7, 3. , 6.1, 2.3, 2. ],\n",
              "       [6.3, 3.4, 5.6, 2.4, 2. ],\n",
              "       [6.4, 3.1, 5.5, 1.8, 2. ],\n",
              "       [6. , 3. , 4.8, 1.8, 2. ],\n",
              "       [6.9, 3.1, 5.4, 2.1, 2. ],\n",
              "       [6.7, 3.1, 5.6, 2.4, 2. ],\n",
              "       [6.9, 3.1, 5.1, 2.3, 2. ],\n",
              "       [5.8, 2.7, 5.1, 1.9, 2. ],\n",
              "       [6.8, 3.2, 5.9, 2.3, 2. ],\n",
              "       [6.7, 3.3, 5.7, 2.5, 2. ],\n",
              "       [6.7, 3. , 5.2, 2.3, 2. ],\n",
              "       [6.3, 2.5, 5. , 1.9, 2. ],\n",
              "       [6.5, 3. , 5.2, 2. , 2. ],\n",
              "       [6.2, 3.4, 5.4, 2.3, 2. ],\n",
              "       [5.9, 3. , 5.1, 1.8, 2. ]])"
            ]
          },
          "metadata": {},
          "execution_count": 8
        }
      ]
    },
    {
      "cell_type": "code",
      "metadata": {
        "id": "Euj5S2Yfb2bl"
      },
      "source": [
        "\n",
        "# randomizuojame stebėjimus\n",
        "shuffle_data = [x for x in np.random.permutation(N_samples)]\n",
        "data = data[shuffle_data,:]\n"
      ],
      "execution_count": null,
      "outputs": []
    },
    {
      "cell_type": "code",
      "metadata": {
        "id": "mMjjpGIOSJTZ",
        "colab": {
          "base_uri": "https://localhost:8080/"
        },
        "outputId": "903f9ef6-9d2f-4817-a341-a2ddef75292c"
      },
      "source": [
        "data"
      ],
      "execution_count": null,
      "outputs": [
        {
          "output_type": "execute_result",
          "data": {
            "text/plain": [
              "array([[5.2, 3.4, 1.4, 0.2, 0. ],\n",
              "       [4.6, 3.2, 1.4, 0.2, 0. ],\n",
              "       [6.8, 2.8, 4.8, 1.4, 1. ],\n",
              "       [4.8, 3.1, 1.6, 0.2, 0. ],\n",
              "       [4.4, 3.2, 1.3, 0.2, 0. ],\n",
              "       [5.9, 3.2, 4.8, 1.8, 1. ],\n",
              "       [5.1, 3.5, 1.4, 0.2, 0. ],\n",
              "       [6.7, 3.1, 4.4, 1.4, 1. ],\n",
              "       [5.6, 2.5, 3.9, 1.1, 1. ],\n",
              "       [5.1, 3.8, 1.6, 0.2, 0. ],\n",
              "       [6.7, 3. , 5. , 1.7, 1. ],\n",
              "       [5.1, 3.3, 1.7, 0.5, 0. ],\n",
              "       [5.5, 2.6, 4.4, 1.2, 1. ],\n",
              "       [6.6, 3. , 4.4, 1.4, 1. ],\n",
              "       [6.3, 3.3, 4.7, 1.6, 1. ],\n",
              "       [4.7, 3.2, 1.3, 0.2, 0. ],\n",
              "       [4.8, 3. , 1.4, 0.1, 0. ],\n",
              "       [5.5, 3.5, 1.3, 0.2, 0. ],\n",
              "       [6.1, 2.9, 4.7, 1.4, 1. ],\n",
              "       [6.2, 2.9, 4.3, 1.3, 1. ],\n",
              "       [5.7, 2.8, 4.1, 1.3, 1. ],\n",
              "       [6. , 2.7, 5.1, 1.6, 1. ],\n",
              "       [6. , 3.4, 4.5, 1.6, 1. ],\n",
              "       [5.5, 4.2, 1.4, 0.2, 0. ],\n",
              "       [5. , 3.3, 1.4, 0.2, 0. ],\n",
              "       [5.6, 2.7, 4.2, 1.3, 1. ],\n",
              "       [5.7, 4.4, 1.5, 0.4, 0. ],\n",
              "       [6.7, 3.1, 4.7, 1.5, 1. ],\n",
              "       [5.1, 3.4, 1.5, 0.2, 0. ],\n",
              "       [6.7, 3.3, 5.7, 2.5, 2. ],\n",
              "       [4.8, 3. , 1.4, 0.3, 0. ],\n",
              "       [5.6, 3. , 4.5, 1.5, 1. ],\n",
              "       [5.4, 3.4, 1.5, 0.4, 0. ],\n",
              "       [6.7, 2.5, 5.8, 1.8, 2. ],\n",
              "       [5. , 3.4, 1.6, 0.4, 0. ],\n",
              "       [5.3, 3.7, 1.5, 0.2, 0. ],\n",
              "       [5.2, 4.1, 1.5, 0.1, 0. ],\n",
              "       [6.5, 3. , 5.5, 1.8, 2. ],\n",
              "       [7.7, 3. , 6.1, 2.3, 2. ],\n",
              "       [5.8, 2.7, 3.9, 1.2, 1. ],\n",
              "       [5.1, 3.8, 1.5, 0.3, 0. ],\n",
              "       [5.7, 3.8, 1.7, 0.3, 0. ],\n",
              "       [5.8, 4. , 1.2, 0.2, 0. ],\n",
              "       [5. , 3.5, 1.6, 0.6, 0. ],\n",
              "       [5.5, 2.4, 3.7, 1. , 1. ],\n",
              "       [4.7, 3.2, 1.6, 0.2, 0. ],\n",
              "       [6.4, 3.1, 5.5, 1.8, 2. ],\n",
              "       [6.4, 2.8, 5.6, 2.2, 2. ],\n",
              "       [5. , 3.2, 1.2, 0.2, 0. ],\n",
              "       [5. , 3.6, 1.4, 0.2, 0. ],\n",
              "       [6.4, 2.7, 5.3, 1.9, 2. ],\n",
              "       [4.8, 3.4, 1.6, 0.2, 0. ],\n",
              "       [6.7, 3.1, 5.6, 2.4, 2. ],\n",
              "       [5.6, 2.8, 4.9, 2. , 2. ],\n",
              "       [6.3, 3.3, 6. , 2.5, 2. ],\n",
              "       [4.9, 3.1, 1.5, 0.1, 0. ],\n",
              "       [5.5, 2.3, 4. , 1.3, 1. ],\n",
              "       [4.9, 3.1, 1.5, 0.1, 0. ],\n",
              "       [6.9, 3.1, 4.9, 1.5, 1. ],\n",
              "       [5.1, 2.5, 3. , 1.1, 1. ],\n",
              "       [5.9, 3. , 4.2, 1.5, 1. ],\n",
              "       [5.7, 2.8, 4.5, 1.3, 1. ],\n",
              "       [6.4, 3.2, 5.3, 2.3, 2. ],\n",
              "       [5.5, 2.4, 3.8, 1.1, 1. ],\n",
              "       [6.1, 2.6, 5.6, 1.4, 2. ],\n",
              "       [5. , 2.3, 3.3, 1. , 1. ],\n",
              "       [5.8, 2.7, 4.1, 1. , 1. ],\n",
              "       [4.9, 3.1, 1.5, 0.1, 0. ],\n",
              "       [5.2, 2.7, 3.9, 1.4, 1. ],\n",
              "       [5. , 3.4, 1.5, 0.2, 0. ],\n",
              "       [6.9, 3.1, 5.4, 2.1, 2. ],\n",
              "       [5.4, 3. , 4.5, 1.5, 1. ],\n",
              "       [5.6, 3. , 4.1, 1.3, 1. ],\n",
              "       [4.5, 2.3, 1.3, 0.3, 0. ],\n",
              "       [6.3, 2.5, 5. , 1.9, 2. ],\n",
              "       [7.2, 3. , 5.8, 1.6, 2. ],\n",
              "       [5.1, 3.8, 1.9, 0.4, 0. ],\n",
              "       [5.4, 3.9, 1.3, 0.4, 0. ],\n",
              "       [6.2, 2.2, 4.5, 1.5, 1. ],\n",
              "       [7.2, 3.2, 6. , 1.8, 2. ],\n",
              "       [6.7, 3.3, 5.7, 2.1, 2. ],\n",
              "       [4.8, 3.4, 1.9, 0.2, 0. ],\n",
              "       [7.7, 3.8, 6.7, 2.2, 2. ],\n",
              "       [5. , 2. , 3.5, 1. , 1. ],\n",
              "       [5.1, 3.5, 1.4, 0.3, 0. ],\n",
              "       [4.6, 3.1, 1.5, 0.2, 0. ],\n",
              "       [5.7, 2.9, 4.2, 1.3, 1. ],\n",
              "       [7.3, 2.9, 6.3, 1.8, 2. ],\n",
              "       [5.4, 3.9, 1.7, 0.4, 0. ],\n",
              "       [4.3, 3. , 1.1, 0.1, 0. ],\n",
              "       [6.8, 3. , 5.5, 2.1, 2. ],\n",
              "       [6.7, 3. , 5.2, 2.3, 2. ],\n",
              "       [6.5, 2.8, 4.6, 1.5, 1. ],\n",
              "       [7.6, 3. , 6.6, 2.1, 2. ],\n",
              "       [6.5, 3. , 5.8, 2.2, 2. ],\n",
              "       [6. , 2.2, 4. , 1. , 1. ],\n",
              "       [6. , 3. , 4.8, 1.8, 2. ],\n",
              "       [7.7, 2.8, 6.7, 2. , 2. ],\n",
              "       [6.3, 2.3, 4.4, 1.3, 1. ],\n",
              "       [5.8, 2.7, 5.1, 1.9, 2. ],\n",
              "       [6. , 2.9, 4.5, 1.5, 1. ],\n",
              "       [5. , 3.5, 1.3, 0.3, 0. ],\n",
              "       [4.4, 3. , 1.3, 0.2, 0. ],\n",
              "       [5.8, 2.7, 5.1, 1.9, 2. ],\n",
              "       [4.6, 3.4, 1.4, 0.3, 0. ],\n",
              "       [7.7, 2.6, 6.9, 2.3, 2. ],\n",
              "       [6.5, 3. , 5.2, 2. , 2. ],\n",
              "       [6.3, 2.7, 4.9, 1.8, 2. ],\n",
              "       [6.3, 3.4, 5.6, 2.4, 2. ],\n",
              "       [7.1, 3. , 5.9, 2.1, 2. ],\n",
              "       [7.2, 3.6, 6.1, 2.5, 2. ],\n",
              "       [5.4, 3.7, 1.5, 0.2, 0. ],\n",
              "       [7.9, 3.8, 6.4, 2. , 2. ],\n",
              "       [4.4, 2.9, 1.4, 0.2, 0. ],\n",
              "       [5.9, 3. , 5.1, 1.8, 2. ],\n",
              "       [6.5, 3.2, 5.1, 2. , 2. ],\n",
              "       [7.4, 2.8, 6.1, 1.9, 2. ],\n",
              "       [5. , 3. , 1.6, 0.2, 0. ],\n",
              "       [6.1, 3. , 4.9, 1.8, 2. ],\n",
              "       [6. , 2.2, 5. , 1.5, 2. ],\n",
              "       [6.3, 2.8, 5.1, 1.5, 2. ],\n",
              "       [6.4, 2.9, 4.3, 1.3, 1. ],\n",
              "       [6.1, 3. , 4.6, 1.4, 1. ],\n",
              "       [6.6, 2.9, 4.6, 1.3, 1. ],\n",
              "       [7. , 3.2, 4.7, 1.4, 1. ],\n",
              "       [5.2, 3.5, 1.5, 0.2, 0. ],\n",
              "       [6.2, 3.4, 5.4, 2.3, 2. ],\n",
              "       [6.8, 3.2, 5.9, 2.3, 2. ],\n",
              "       [5.4, 3.4, 1.7, 0.2, 0. ],\n",
              "       [5.8, 2.6, 4. , 1.2, 1. ],\n",
              "       [6.4, 3.2, 4.5, 1.5, 1. ],\n",
              "       [5.5, 2.5, 4. , 1.3, 1. ],\n",
              "       [5.7, 3. , 4.2, 1.2, 1. ],\n",
              "       [5.6, 2.9, 3.6, 1.3, 1. ],\n",
              "       [4.9, 2.4, 3.3, 1. , 1. ],\n",
              "       [5.1, 3.7, 1.5, 0.4, 0. ],\n",
              "       [6.4, 2.8, 5.6, 2.1, 2. ],\n",
              "       [4.9, 3. , 1.4, 0.2, 0. ],\n",
              "       [4.6, 3.6, 1. , 0.2, 0. ],\n",
              "       [6.3, 2.5, 4.9, 1.5, 1. ],\n",
              "       [5.7, 2.6, 3.5, 1. , 1. ],\n",
              "       [6.9, 3.1, 5.1, 2.3, 2. ],\n",
              "       [6.9, 3.2, 5.7, 2.3, 2. ],\n",
              "       [5.8, 2.8, 5.1, 2.4, 2. ],\n",
              "       [6.1, 2.8, 4. , 1.3, 1. ],\n",
              "       [6.1, 2.8, 4.7, 1.2, 1. ],\n",
              "       [4.9, 2.5, 4.5, 1.7, 2. ],\n",
              "       [6.2, 2.8, 4.8, 1.8, 2. ],\n",
              "       [6.3, 2.9, 5.6, 1.8, 2. ],\n",
              "       [5.7, 2.5, 5. , 2. , 2. ]])"
            ]
          },
          "metadata": {},
          "execution_count": 10
        }
      ]
    },
    {
      "cell_type": "code",
      "metadata": {
        "id": "kI75uTsOBFSC"
      },
      "source": [
        "## fiktyvių kintamųjų sukūrimas\n",
        "def batch_to_one_hot(id, batch_size, nb_classes = 10):\n",
        "    y_onehot = torch.FloatTensor(batch_size, nb_classes)\n",
        "    y_onehot.zero_()\n",
        "    y_onehot.scatter_(1, id.view(-1, 1), 1)\n",
        "    return y_onehot.long()"
      ],
      "execution_count": null,
      "outputs": []
    },
    {
      "cell_type": "code",
      "metadata": {
        "id": "bHyfxmk3b3tu",
        "colab": {
          "base_uri": "https://localhost:8080/"
        },
        "outputId": "66183661-6541-445b-be6d-7c72243fcef8"
      },
      "source": [
        "\n",
        "# Duomenų skaidymas -> test, validation, test\n",
        "data_train = torch.tensor(data[:N_train,:4]).float()\n",
        "y_train = torch.tensor(data[:N_train,4], dtype= torch.int64)\n",
        "y_train = batch_to_one_hot(y_train, y_train.shape[0], 3)\n",
        "data_train.shape\n",
        "\n",
        "data_val = torch.tensor(data[N_train:N_val,:4]).float()\n",
        "y_val = torch.tensor(data[N_train:N_val,4], dtype= torch.int64)\n",
        "y_val = batch_to_one_hot(y_val, y_val.shape[0], 3)\n",
        "data_val.shape\n",
        "\n",
        "data_test = torch.tensor(data[N_val:,:4]).float()\n",
        "y_test = torch.tensor(data[N_val:,4], dtype= torch.int64)\n",
        "y_test = batch_to_one_hot(y_test, y_test.shape[0], 3)\n",
        "data_test.shape"
      ],
      "execution_count": null,
      "outputs": [
        {
          "output_type": "execute_result",
          "data": {
            "text/plain": [
              "torch.Size([30, 4])"
            ]
          },
          "metadata": {},
          "execution_count": 12
        }
      ]
    },
    {
      "cell_type": "code",
      "metadata": {
        "id": "BqeZ3Y5kBgTf",
        "colab": {
          "base_uri": "https://localhost:8080/"
        },
        "outputId": "bc53bdb9-c0fd-42ec-ad12-150c96d9fea0"
      },
      "source": [
        "y_train"
      ],
      "execution_count": null,
      "outputs": [
        {
          "output_type": "execute_result",
          "data": {
            "text/plain": [
              "tensor([[1, 0, 0],\n",
              "        [1, 0, 0],\n",
              "        [0, 1, 0],\n",
              "        [1, 0, 0],\n",
              "        [1, 0, 0],\n",
              "        [0, 1, 0],\n",
              "        [1, 0, 0],\n",
              "        [0, 1, 0],\n",
              "        [0, 1, 0],\n",
              "        [1, 0, 0],\n",
              "        [0, 1, 0],\n",
              "        [1, 0, 0],\n",
              "        [0, 1, 0],\n",
              "        [0, 1, 0],\n",
              "        [0, 1, 0],\n",
              "        [1, 0, 0],\n",
              "        [1, 0, 0],\n",
              "        [1, 0, 0],\n",
              "        [0, 1, 0],\n",
              "        [0, 1, 0],\n",
              "        [0, 1, 0],\n",
              "        [0, 1, 0],\n",
              "        [0, 1, 0],\n",
              "        [1, 0, 0],\n",
              "        [1, 0, 0],\n",
              "        [0, 1, 0],\n",
              "        [1, 0, 0],\n",
              "        [0, 1, 0],\n",
              "        [1, 0, 0],\n",
              "        [0, 0, 1],\n",
              "        [1, 0, 0],\n",
              "        [0, 1, 0],\n",
              "        [1, 0, 0],\n",
              "        [0, 0, 1],\n",
              "        [1, 0, 0],\n",
              "        [1, 0, 0],\n",
              "        [1, 0, 0],\n",
              "        [0, 0, 1],\n",
              "        [0, 0, 1],\n",
              "        [0, 1, 0],\n",
              "        [1, 0, 0],\n",
              "        [1, 0, 0],\n",
              "        [1, 0, 0],\n",
              "        [1, 0, 0],\n",
              "        [0, 1, 0],\n",
              "        [1, 0, 0],\n",
              "        [0, 0, 1],\n",
              "        [0, 0, 1],\n",
              "        [1, 0, 0],\n",
              "        [1, 0, 0],\n",
              "        [0, 0, 1],\n",
              "        [1, 0, 0],\n",
              "        [0, 0, 1],\n",
              "        [0, 0, 1],\n",
              "        [0, 0, 1],\n",
              "        [1, 0, 0],\n",
              "        [0, 1, 0],\n",
              "        [1, 0, 0],\n",
              "        [0, 1, 0],\n",
              "        [0, 1, 0],\n",
              "        [0, 1, 0],\n",
              "        [0, 1, 0],\n",
              "        [0, 0, 1],\n",
              "        [0, 1, 0],\n",
              "        [0, 0, 1],\n",
              "        [0, 1, 0],\n",
              "        [0, 1, 0],\n",
              "        [1, 0, 0],\n",
              "        [0, 1, 0],\n",
              "        [1, 0, 0],\n",
              "        [0, 0, 1],\n",
              "        [0, 1, 0],\n",
              "        [0, 1, 0],\n",
              "        [1, 0, 0],\n",
              "        [0, 0, 1],\n",
              "        [0, 0, 1],\n",
              "        [1, 0, 0],\n",
              "        [1, 0, 0],\n",
              "        [0, 1, 0],\n",
              "        [0, 0, 1],\n",
              "        [0, 0, 1],\n",
              "        [1, 0, 0],\n",
              "        [0, 0, 1],\n",
              "        [0, 1, 0],\n",
              "        [1, 0, 0],\n",
              "        [1, 0, 0],\n",
              "        [0, 1, 0],\n",
              "        [0, 0, 1],\n",
              "        [1, 0, 0],\n",
              "        [1, 0, 0],\n",
              "        [0, 0, 1],\n",
              "        [0, 0, 1],\n",
              "        [0, 1, 0],\n",
              "        [0, 0, 1],\n",
              "        [0, 0, 1],\n",
              "        [0, 1, 0],\n",
              "        [0, 0, 1],\n",
              "        [0, 0, 1],\n",
              "        [0, 1, 0],\n",
              "        [0, 0, 1],\n",
              "        [0, 1, 0],\n",
              "        [1, 0, 0],\n",
              "        [1, 0, 0],\n",
              "        [0, 0, 1],\n",
              "        [1, 0, 0]])"
            ]
          },
          "metadata": {},
          "execution_count": 13
        }
      ]
    },
    {
      "cell_type": "code",
      "metadata": {
        "id": "-q4aS4V3b52R"
      },
      "source": [
        "class NeuralNet(nn.Module):\n",
        "    def __init__(self):\n",
        "        super(NeuralNet, self).__init__()\n",
        "        self.fc1 = nn.Linear(4, 100)\n",
        "        self.bn1 = nn.BatchNorm1d(100)\n",
        "        self.fc2 = nn.Linear(100, 15)\n",
        "        self.bn2 = nn.BatchNorm1d(15)\n",
        "        self.fc3 = nn.Linear(15, 3)\n",
        "        self.softmax = nn.Softmax()\n",
        "        self.drop = nn.Dropout(p=0.4)\n",
        "\n",
        "    def forward(self, X):\n",
        "        X = F.relu(self.fc1(X))\n",
        "        X = self.drop(X)\n",
        "        X = self.bn1(X)\n",
        "        X = self.fc2(X)\n",
        "        X = self.drop(X)\n",
        "        X = self.bn2(X)\n",
        "        X = self.fc3(X)\n",
        "        X = F.softmax(X)\n",
        "\n",
        "        return X\n",
        "\n",
        "model = NeuralNet()"
      ],
      "execution_count": null,
      "outputs": []
    },
    {
      "cell_type": "code",
      "metadata": {
        "id": "Uk3qDnRJCYbQ"
      },
      "source": [
        "# apibrėžiame nuostolių f-ją\n",
        "a1 = 1\n",
        "a2 = 1\n",
        "loss_func = a1 * nn.CrossEntropyLoss() #+ a2 * nn.customLoss()"
      ],
      "execution_count": null,
      "outputs": []
    },
    {
      "cell_type": "code",
      "metadata": {
        "id": "LLh7DUqbE5J9",
        "colab": {
          "base_uri": "https://localhost:8080/"
        },
        "outputId": "31c1110e-4bc0-4978-8d88-eb1d7bd61be4"
      },
      "source": [
        "input = torch.randn(3, 5, requires_grad=True)\n",
        "target = torch.empty(3, dtype=torch.long).random_(5)\n",
        "output = loss_func(input, target)\n",
        "input, target"
      ],
      "execution_count": null,
      "outputs": [
        {
          "output_type": "execute_result",
          "data": {
            "text/plain": [
              "(tensor([[ 1.0158,  1.4704, -0.5244,  0.5490,  0.1420],\n",
              "         [-0.1848, -1.2149, -0.9978,  0.3065,  1.4839],\n",
              "         [-0.3748,  0.0056,  0.6661,  0.1335, -1.1682]], requires_grad=True),\n",
              " tensor([0, 1, 3]))"
            ]
          },
          "metadata": {},
          "execution_count": 16
        }
      ]
    },
    {
      "cell_type": "code",
      "metadata": {
        "id": "slam14z5CcCH"
      },
      "source": [
        "\n",
        "# pasirenkame optimizatorių\n",
        "optimizer = torch.optim.Adam(model.parameters(), lr=0.001)"
      ],
      "execution_count": null,
      "outputs": []
    },
    {
      "cell_type": "code",
      "metadata": {
        "id": "MGiOhfzpb7WE",
        "colab": {
          "base_uri": "https://localhost:8080/"
        },
        "outputId": "66ff8b4f-172f-42c7-fc5a-d0b05a3605f9"
      },
      "source": [
        "# iteracijų (epochų skaičius) kiek ilgai iteraciškai vertinsime parametrus\n",
        "n_epochs = 10\n",
        "\n",
        "for epoch in range(0, n_epochs+1):\n",
        "\n",
        "    # pirmą epochą netreniruosim, kad tensorboard turėtų pradinį tašką\n",
        "    if epoch == 0:\n",
        "      torch.set_grad_enabled(False)\n",
        "\n",
        "    # stebėjime tikslo f-jos pokytį\n",
        "    train_loss = 0.0\n",
        "    validation_loss = 0.0\n",
        "    train_acc = 0.0\n",
        "    validation_acc = 0.0\n",
        "    \n",
        "    #########################################################\n",
        "    # Modelio parametrų vertinimas (angl. training)          #\n",
        "    #########################################################\n",
        "\n",
        "    # nunuliname preitos operacijos gradientą\n",
        "    optimizer.zero_grad()\n",
        "    # Praleidžiame duomenis X pro modelį, gauname prognozę yhat\n",
        "    outputs = model(data_train)\n",
        "    \n",
        "    # apskaičiuojam tikslumą\n",
        "    with torch.no_grad():\n",
        "      outputLabels = torch.argmax(outputs, 1)\n",
        "      yLabels = torch.argmax(y_train, 1)\n",
        "      accuracy = yLabels == outputLabels\n",
        "      train_acc += torch.sum(accuracy.float())\n",
        "\n",
        "    # skaičiuojame, nuostolius, kiek prognozė yhat, skiriasi nuo tiktų reikšmių\n",
        "    loss = loss_func(outputs, yLabels)\n",
        "\n",
        "    # apskaičiuojame gradientų reikšmes, visiems nežinomiems parametrams\n",
        "    if epoch != 0:\n",
        "      loss.backward()\n",
        "    # atnaujiname, visus nežinomus, modelio parametrus\n",
        "    optimizer.step()\n",
        "    # skaičiuojame bendrą nuostolį\n",
        "    train_loss += loss.item()*data_train.size(0)\n",
        "        \n",
        "        \n",
        "    \n",
        "    ##############################################################\n",
        "    # Modelio kokybės vertinimas, mokymo metu (angl. validation) #\n",
        "    ##############################################################\n",
        "    # pasiimame duomenų rinkinio poaibį (X, y)\n",
        "    # Praleidžiame duomenis X pro modelį, gauname prognozę yhat\n",
        "    outputs = model(data_val)\n",
        "    # skaičiuojame, nuostolius, kiek prognozė yhat, skiriasi nuo tiktų reikšmių\n",
        "    yLabels = torch.argmax(y_val, 1)\n",
        "    loss = loss_func(outputs, yLabels)\n",
        "    # skaičiuojame bendrą nuostolį\n",
        "    validation_loss += loss.item()*data_val.size(0)\n",
        "\n",
        "    # skaičiuojame bendrą tikslumą\n",
        "    with torch.no_grad():\n",
        "      outputLabels = torch.argmax(outputs, 1)\n",
        "      accuracy = yLabels == outputLabels\n",
        "      validation_acc += torch.sum(accuracy.float())\n",
        "\n",
        "    # validacijos metu, nes nekeičiame parametrų, tik pasižiūrime, kaip modelis \n",
        "    # mokinimo metu veikia ant nematytų duomenų\n",
        "        \n",
        "    with train_summary_writer.as_default():\n",
        "        summary.scalar('ConvLoss/train', train_loss / N_train, step=epoch)\n",
        "        summary.scalar('ConvAcc/train', train_acc / N_train, step=epoch)\n",
        "        \n",
        "    with validation_summary_writer.as_default():\n",
        "        summary.scalar('ConvLoss/validation', validation_loss / N_val, step=epoch)\n",
        "        summary.scalar('ConvAcc/validation', validation_acc / N_val, step=epoch)\n",
        "            \n",
        "    # spausdiname tarpines statistikas\n",
        "    print('Epocha: {} \\t Nuostoliai: {:.10f} \\t Tikslumas: {:.3f} \\t Validacijos nuostoliai: {:.10f} \\t Validacijos tikslumas: {:.3f}'.format(\n",
        "        epoch, \n",
        "        train_loss / N_train,\n",
        "        train_acc / N_train,\n",
        "        validation_loss / N_val,\n",
        "        validation_acc / N_val,\n",
        "        ))\n",
        "    \n",
        "    if epoch == 0:\n",
        "      torch.set_grad_enabled(True)\n",
        "\n",
        "test_loss = 0.0\n",
        "################################################################\n",
        "# Nepriklausomas modelio testavimas, po mokymo (angl. testing) #\n",
        "################################################################\n",
        "# pasiimame duomenų rinkinio poaibį (X, y)\n",
        "\n",
        "# Praleidžiame duomenis X pro modelį, gauname prognozę yhat\n",
        "outputs = model(data_test)\n",
        "# skaičiuojame bendrą nuostolį\n",
        "yLabels = torch.argmax(y_test, 1)\n",
        "loss = loss_func(outputs, yLabels)\n",
        "# skaičiuojame bendrą nuostolį\n",
        "test_loss += loss.item()*data_test.size(0)\n",
        "\n",
        "print('Epocha: {} \\t Testavimo nuostoliai (Nematyti duomenys): {:.10f}'.format(\n",
        "    epoch, \n",
        "    test_loss / N_test\n",
        "    ))"
      ],
      "execution_count": null,
      "outputs": [
        {
          "output_type": "stream",
          "name": "stdout",
          "text": [
            "Epocha: 0 \t Nuostoliai: 1.0701084137 \t Tikslumas: 0.438 \t Validacijos nuostoliai: 0.1346009374 \t Validacijos tikslumas: 0.042\n",
            "Epocha: 1 \t Nuostoliai: 1.0532292128 \t Tikslumas: 0.486 \t Validacijos nuostoliai: 0.1331671625 \t Validacijos tikslumas: 0.067\n",
            "Epocha: 2 \t Nuostoliai: 1.0883837938 \t Tikslumas: 0.390 \t Validacijos nuostoliai: 0.1293273866 \t Validacijos tikslumas: 0.075\n",
            "Epocha: 3 \t Nuostoliai: 1.0344611406 \t Tikslumas: 0.505 \t Validacijos nuostoliai: 0.1305756420 \t Validacijos tikslumas: 0.050\n",
            "Epocha: 4 \t Nuostoliai: 1.0369391441 \t Tikslumas: 0.524 \t Validacijos nuostoliai: 0.1289289743 \t Validacijos tikslumas: 0.058\n",
            "Epocha: 5 \t Nuostoliai: 1.0302056074 \t Tikslumas: 0.562 \t Validacijos nuostoliai: 0.1316546947 \t Validacijos tikslumas: 0.058\n",
            "Epocha: 6 \t Nuostoliai: 1.0296562910 \t Tikslumas: 0.533 \t Validacijos nuostoliai: 0.1309192330 \t Validacijos tikslumas: 0.058\n",
            "Epocha: 7 \t Nuostoliai: 1.0225884914 \t Tikslumas: 0.562 \t Validacijos nuostoliai: 0.1319069117 \t Validacijos tikslumas: 0.042\n",
            "Epocha: 8 \t Nuostoliai: 0.9969953299 \t Tikslumas: 0.571 \t Validacijos nuostoliai: 0.1301327050 \t Validacijos tikslumas: 0.050\n",
            "Epocha: 9 \t Nuostoliai: 0.9699010849 \t Tikslumas: 0.657 \t Validacijos nuostoliai: 0.1271474808 \t Validacijos tikslumas: 0.075\n",
            "Epocha: 10 \t Nuostoliai: 0.9791904092 \t Tikslumas: 0.629 \t Validacijos nuostoliai: 0.1277085990 \t Validacijos tikslumas: 0.042\n",
            "Epocha: 10 \t Testavimo nuostoliai (Nematyti duomenys): -0.3992443562\n"
          ]
        },
        {
          "output_type": "stream",
          "name": "stderr",
          "text": [
            "/usr/local/lib/python3.7/dist-packages/ipykernel_launcher.py:20: UserWarning: Implicit dimension choice for softmax has been deprecated. Change the call to include dim=X as an argument.\n"
          ]
        }
      ]
    },
    {
      "cell_type": "code",
      "metadata": {
        "id": "o8iQZXTfDhH6",
        "colab": {
          "base_uri": "https://localhost:8080/"
        },
        "outputId": "5df0ea61-4fbc-46f4-af49-58e8f886c372"
      },
      "source": [
        "outputs"
      ],
      "execution_count": null,
      "outputs": [
        {
          "output_type": "execute_result",
          "data": {
            "text/plain": [
              "tensor([[0.2158, 0.3036, 0.4806],\n",
              "        [0.3501, 0.3570, 0.2930],\n",
              "        [0.3157, 0.2041, 0.4802],\n",
              "        [0.5237, 0.3137, 0.1627],\n",
              "        [0.1505, 0.4419, 0.4076],\n",
              "        [0.6920, 0.0906, 0.2174],\n",
              "        [0.0409, 0.5773, 0.3818],\n",
              "        [0.1947, 0.2115, 0.5938],\n",
              "        [0.7371, 0.0094, 0.2535],\n",
              "        [0.3208, 0.3627, 0.3165],\n",
              "        [0.4012, 0.2447, 0.3541],\n",
              "        [0.2756, 0.4452, 0.2792],\n",
              "        [0.2189, 0.6526, 0.1285],\n",
              "        [0.3754, 0.2448, 0.3798],\n",
              "        [0.4497, 0.2686, 0.2818],\n",
              "        [0.8802, 0.0722, 0.0475],\n",
              "        [0.1130, 0.3178, 0.5693],\n",
              "        [0.9224, 0.0048, 0.0727],\n",
              "        [0.7800, 0.0933, 0.1267],\n",
              "        [0.3455, 0.2948, 0.3597],\n",
              "        [0.1759, 0.4884, 0.3357],\n",
              "        [0.2158, 0.3586, 0.4256],\n",
              "        [0.4743, 0.2292, 0.2965],\n",
              "        [0.1327, 0.4921, 0.3751],\n",
              "        [0.3249, 0.4549, 0.2203],\n",
              "        [0.5366, 0.1930, 0.2703],\n",
              "        [0.1341, 0.5541, 0.3118],\n",
              "        [0.1389, 0.5454, 0.3157],\n",
              "        [0.1561, 0.2033, 0.6406],\n",
              "        [0.1532, 0.6406, 0.2062]], grad_fn=<SoftmaxBackward0>)"
            ]
          },
          "metadata": {},
          "execution_count": 19
        }
      ]
    },
    {
      "cell_type": "code",
      "metadata": {
        "id": "CEJGYJrOb8zF"
      },
      "source": [],
      "execution_count": null,
      "outputs": []
    },
    {
      "cell_type": "code",
      "metadata": {
        "id": "o7woTv2bb-C1",
        "colab": {
          "base_uri": "https://localhost:8080/"
        },
        "outputId": "e527431b-4517-4920-9646-bdfdf83b2a76"
      },
      "source": [
        "\n",
        "# test model on unseen (test) data\n",
        "predictions = model(data_test)\n",
        "predictions\n",
        "predicted_classes = torch.argmax(predictions, axis = 1)\n",
        "predicted_classes\n",
        "predicted = batch_to_one_hot(predicted_classes, predictions.shape[0], 3)\n",
        "predicted\n",
        "multilabel_confusion_matrix(y_test, predicted)\n"
      ],
      "execution_count": null,
      "outputs": [
        {
          "output_type": "stream",
          "name": "stderr",
          "text": [
            "/usr/local/lib/python3.7/dist-packages/ipykernel_launcher.py:20: UserWarning: Implicit dimension choice for softmax has been deprecated. Change the call to include dim=X as an argument.\n"
          ]
        },
        {
          "output_type": "execute_result",
          "data": {
            "text/plain": [
              "array([[[17,  8],\n",
              "        [ 0,  5]],\n",
              "\n",
              "       [[ 9,  7],\n",
              "        [10,  4]],\n",
              "\n",
              "       [[16,  3],\n",
              "        [ 8,  3]]])"
            ]
          },
          "metadata": {},
          "execution_count": 20
        }
      ]
    },
    {
      "cell_type": "code",
      "metadata": {
        "id": "xqnxaJQjUNXu",
        "colab": {
          "base_uri": "https://localhost:8080/"
        },
        "outputId": "28b2166b-db22-458f-f2f2-d9b489381b03"
      },
      "source": [
        "predicted"
      ],
      "execution_count": null,
      "outputs": [
        {
          "output_type": "execute_result",
          "data": {
            "text/plain": [
              "tensor([[0, 0, 1],\n",
              "        [0, 0, 1],\n",
              "        [1, 0, 0],\n",
              "        [0, 1, 0],\n",
              "        [1, 0, 0],\n",
              "        [1, 0, 0],\n",
              "        [0, 0, 1],\n",
              "        [0, 1, 0],\n",
              "        [1, 0, 0],\n",
              "        [0, 0, 1],\n",
              "        [0, 1, 0],\n",
              "        [1, 0, 0],\n",
              "        [0, 1, 0],\n",
              "        [1, 0, 0],\n",
              "        [1, 0, 0],\n",
              "        [1, 0, 0],\n",
              "        [0, 1, 0],\n",
              "        [1, 0, 0],\n",
              "        [1, 0, 0],\n",
              "        [0, 0, 1],\n",
              "        [1, 0, 0],\n",
              "        [0, 1, 0],\n",
              "        [0, 1, 0],\n",
              "        [0, 1, 0],\n",
              "        [1, 0, 0],\n",
              "        [0, 1, 0],\n",
              "        [0, 1, 0],\n",
              "        [0, 0, 1],\n",
              "        [1, 0, 0],\n",
              "        [0, 1, 0]])"
            ]
          },
          "metadata": {},
          "execution_count": 21
        }
      ]
    },
    {
      "cell_type": "code",
      "metadata": {
        "id": "fCYrh2YMUCAw",
        "colab": {
          "base_uri": "https://localhost:8080/"
        },
        "outputId": "617b24ab-fa71-42d1-b2a4-4ea3281e7af2"
      },
      "source": [
        "predictions # this is - predicted values y hat "
      ],
      "execution_count": null,
      "outputs": [
        {
          "output_type": "execute_result",
          "data": {
            "text/plain": [
              "tensor([[0.2005, 0.2416, 0.5579],\n",
              "        [0.2316, 0.3069, 0.4616],\n",
              "        [0.4738, 0.2545, 0.2717],\n",
              "        [0.2056, 0.4686, 0.3257],\n",
              "        [0.4092, 0.2090, 0.3818],\n",
              "        [0.7998, 0.1346, 0.0655],\n",
              "        [0.4274, 0.1051, 0.4675],\n",
              "        [0.1069, 0.5359, 0.3572],\n",
              "        [0.8757, 0.0519, 0.0724],\n",
              "        [0.2199, 0.3699, 0.4102],\n",
              "        [0.1964, 0.5866, 0.2170],\n",
              "        [0.4745, 0.0914, 0.4340],\n",
              "        [0.3267, 0.5206, 0.1527],\n",
              "        [0.3675, 0.2829, 0.3496],\n",
              "        [0.3466, 0.3241, 0.3293],\n",
              "        [0.6172, 0.1741, 0.2087],\n",
              "        [0.0719, 0.5400, 0.3881],\n",
              "        [0.9335, 0.0033, 0.0632],\n",
              "        [0.4074, 0.2474, 0.3452],\n",
              "        [0.3019, 0.2122, 0.4860],\n",
              "        [0.5542, 0.1139, 0.3319],\n",
              "        [0.0608, 0.8351, 0.1041],\n",
              "        [0.2658, 0.3828, 0.3514],\n",
              "        [0.1189, 0.6326, 0.2485],\n",
              "        [0.5179, 0.1876, 0.2945],\n",
              "        [0.3360, 0.3772, 0.2868],\n",
              "        [0.0993, 0.4950, 0.4057],\n",
              "        [0.1326, 0.1160, 0.7514],\n",
              "        [0.5085, 0.1715, 0.3200],\n",
              "        [0.1389, 0.6031, 0.2580]], grad_fn=<SoftmaxBackward0>)"
            ]
          },
          "metadata": {},
          "execution_count": 22
        }
      ]
    },
    {
      "cell_type": "markdown",
      "source": [
        "## Error analysis"
      ],
      "metadata": {
        "id": "MEDIj6xSIa4C"
      }
    },
    {
      "cell_type": "code",
      "source": [
        "predictions"
      ],
      "metadata": {
        "colab": {
          "base_uri": "https://localhost:8080/"
        },
        "id": "xc1I__XXrFme",
        "outputId": "597f5b68-1d1a-484a-9104-b35317450036"
      },
      "execution_count": null,
      "outputs": [
        {
          "output_type": "execute_result",
          "data": {
            "text/plain": [
              "tensor([[0.2005, 0.2416, 0.5579],\n",
              "        [0.2316, 0.3069, 0.4616],\n",
              "        [0.4738, 0.2545, 0.2717],\n",
              "        [0.2056, 0.4686, 0.3257],\n",
              "        [0.4092, 0.2090, 0.3818],\n",
              "        [0.7998, 0.1346, 0.0655],\n",
              "        [0.4274, 0.1051, 0.4675],\n",
              "        [0.1069, 0.5359, 0.3572],\n",
              "        [0.8757, 0.0519, 0.0724],\n",
              "        [0.2199, 0.3699, 0.4102],\n",
              "        [0.1964, 0.5866, 0.2170],\n",
              "        [0.4745, 0.0914, 0.4340],\n",
              "        [0.3267, 0.5206, 0.1527],\n",
              "        [0.3675, 0.2829, 0.3496],\n",
              "        [0.3466, 0.3241, 0.3293],\n",
              "        [0.6172, 0.1741, 0.2087],\n",
              "        [0.0719, 0.5400, 0.3881],\n",
              "        [0.9335, 0.0033, 0.0632],\n",
              "        [0.4074, 0.2474, 0.3452],\n",
              "        [0.3019, 0.2122, 0.4860],\n",
              "        [0.5542, 0.1139, 0.3319],\n",
              "        [0.0608, 0.8351, 0.1041],\n",
              "        [0.2658, 0.3828, 0.3514],\n",
              "        [0.1189, 0.6326, 0.2485],\n",
              "        [0.5179, 0.1876, 0.2945],\n",
              "        [0.3360, 0.3772, 0.2868],\n",
              "        [0.0993, 0.4950, 0.4057],\n",
              "        [0.1326, 0.1160, 0.7514],\n",
              "        [0.5085, 0.1715, 0.3200],\n",
              "        [0.1389, 0.6031, 0.2580]], grad_fn=<SoftmaxBackward0>)"
            ]
          },
          "metadata": {},
          "execution_count": 27
        }
      ]
    },
    {
      "cell_type": "code",
      "source": [
        "np.log(predictions.detach().numpy()).shape"
      ],
      "metadata": {
        "colab": {
          "base_uri": "https://localhost:8080/"
        },
        "id": "SZoqoP9MrVuz",
        "outputId": "5c3b8f10-91c4-4c61-f0c3-dd49bbf6aa62"
      },
      "execution_count": null,
      "outputs": [
        {
          "output_type": "execute_result",
          "data": {
            "text/plain": [
              "(30, 3)"
            ]
          },
          "metadata": {},
          "execution_count": 31
        }
      ]
    },
    {
      "cell_type": "code",
      "source": [
        "y_test.detach().numpy().shape"
      ],
      "metadata": {
        "colab": {
          "base_uri": "https://localhost:8080/"
        },
        "id": "nOlLZyidrc7Z",
        "outputId": "41d4020e-3c15-4b4c-c9b5-cc22f6fd67d4"
      },
      "execution_count": null,
      "outputs": [
        {
          "output_type": "execute_result",
          "data": {
            "text/plain": [
              "(30, 3)"
            ]
          },
          "metadata": {},
          "execution_count": 33
        }
      ]
    },
    {
      "cell_type": "code",
      "metadata": {
        "id": "GYO1rD45b_Id",
        "colab": {
          "base_uri": "https://localhost:8080/"
        },
        "outputId": "ff4421c6-14e5-4b7a-9969-be2eea57a56b"
      },
      "source": [
        "error = -np.sum(y_test.detach().numpy()*np.log(predictions.detach().numpy()),axis=1)\n",
        "error"
      ],
      "execution_count": null,
      "outputs": [
        {
          "output_type": "execute_result",
          "data": {
            "text/plain": [
              "array([0.58359981, 1.18138182, 1.36831295, 0.75794369, 1.56521952,\n",
              "       0.22333735, 0.7602666 , 1.02948475, 0.13269223, 0.99448502,\n",
              "       0.53338772, 2.39200044, 0.65268201, 1.26252484, 1.12657714,\n",
              "       0.48257583, 0.9465549 , 0.06881189, 0.89789498, 1.55035508,\n",
              "       2.17227077, 2.26233268, 1.04583776, 1.39213955, 1.67364085,\n",
              "       0.9749949 , 0.90205491, 0.28586519, 1.13933468, 1.35487437])"
            ]
          },
          "metadata": {},
          "execution_count": 34
        }
      ]
    },
    {
      "cell_type": "code",
      "metadata": {
        "id": "gLS7GQd8H9XD",
        "colab": {
          "base_uri": "https://localhost:8080/"
        },
        "outputId": "e2eff895-7f0c-42e1-e765-c2f9c66dc841"
      },
      "source": [
        "err_idx = np.argsort(error)\n",
        "err_idx"
      ],
      "execution_count": null,
      "outputs": [
        {
          "output_type": "execute_result",
          "data": {
            "text/plain": [
              "array([17,  8,  5, 27, 15, 10,  0, 12,  3,  6, 18, 26, 16, 25,  9,  7, 22,\n",
              "       14, 28,  1, 13, 29,  2, 23, 19,  4, 24, 20, 21, 11])"
            ]
          },
          "metadata": {},
          "execution_count": 35
        }
      ]
    },
    {
      "cell_type": "code",
      "source": [
        "y_test[err_idx], error[err_idx]"
      ],
      "metadata": {
        "colab": {
          "base_uri": "https://localhost:8080/"
        },
        "id": "eLGHDa7rJAea",
        "outputId": "56ce3dc1-8449-4b4d-eec4-f73425ff3235"
      },
      "execution_count": null,
      "outputs": [
        {
          "output_type": "execute_result",
          "data": {
            "text/plain": [
              "(tensor([[1, 0, 0],\n",
              "         [1, 0, 0],\n",
              "         [1, 0, 0],\n",
              "         [0, 0, 1],\n",
              "         [1, 0, 0],\n",
              "         [0, 1, 0],\n",
              "         [0, 0, 1],\n",
              "         [0, 1, 0],\n",
              "         [0, 1, 0],\n",
              "         [0, 0, 1],\n",
              "         [1, 0, 0],\n",
              "         [0, 0, 1],\n",
              "         [0, 0, 1],\n",
              "         [0, 1, 0],\n",
              "         [0, 1, 0],\n",
              "         [0, 0, 1],\n",
              "         [0, 0, 1],\n",
              "         [0, 1, 0],\n",
              "         [0, 0, 1],\n",
              "         [0, 1, 0],\n",
              "         [0, 1, 0],\n",
              "         [0, 0, 1],\n",
              "         [0, 1, 0],\n",
              "         [0, 0, 1],\n",
              "         [0, 1, 0],\n",
              "         [0, 1, 0],\n",
              "         [0, 1, 0],\n",
              "         [0, 1, 0],\n",
              "         [0, 0, 1],\n",
              "         [0, 1, 0]]),\n",
              " array([0.06881189, 0.13269223, 0.22333735, 0.28586519, 0.48257583,\n",
              "        0.53338772, 0.58359981, 0.65268201, 0.75794369, 0.7602666 ,\n",
              "        0.89789498, 0.90205491, 0.9465549 , 0.9749949 , 0.99448502,\n",
              "        1.02948475, 1.04583776, 1.12657714, 1.13933468, 1.18138182,\n",
              "        1.26252484, 1.35487437, 1.36831295, 1.39213955, 1.55035508,\n",
              "        1.56521952, 1.67364085, 2.17227077, 2.26233268, 2.39200044]))"
            ]
          },
          "metadata": {},
          "execution_count": 37
        }
      ]
    },
    {
      "cell_type": "code",
      "source": [],
      "metadata": {
        "id": "DStIw1jsJil3"
      },
      "execution_count": null,
      "outputs": []
    }
  ]
}