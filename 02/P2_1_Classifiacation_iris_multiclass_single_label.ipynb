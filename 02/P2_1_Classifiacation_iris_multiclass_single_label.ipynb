{
  "cells": [
    {
      "cell_type": "markdown",
      "metadata": {
        "id": "vET1l9P9_Grz"
      },
      "source": [
        "## Multi-class classification\n",
        "\n",
        "> Indented block\n",
        "\n",
        "\n",
        "\n",
        "Iris dataset https://en.wikipedia.org/wiki/Iris_flower_data_set"
      ]
    },
    {
      "cell_type": "code",
      "source": [
        "!pip install sklearn"
      ],
      "metadata": {
        "colab": {
          "base_uri": "https://localhost:8080/"
        },
        "id": "W2uwLrRoW2tC",
        "outputId": "9d2de834-a8f8-4d5e-ccc5-2c7b96b25056"
      },
      "execution_count": 55,
      "outputs": [
        {
          "output_type": "stream",
          "name": "stdout",
          "text": [
            "Looking in indexes: https://pypi.org/simple, https://us-python.pkg.dev/colab-wheels/public/simple/\n",
            "Requirement already satisfied: sklearn in /usr/local/lib/python3.8/dist-packages (0.0.post1)\n"
          ]
        }
      ]
    },
    {
      "cell_type": "code",
      "execution_count": 56,
      "metadata": {
        "id": "6gt0h7-ubs20"
      },
      "outputs": [],
      "source": [
        "import numpy as np\n",
        "import datetime, os\n",
        "import math\n",
        "import random\n",
        "import torch\n",
        "import matplotlib.pyplot as plt \n",
        "from sklearn.metrics import multilabel_confusion_matrix\n",
        "from sklearn import metrics\n",
        "import itertools"
      ]
    },
    {
      "cell_type": "markdown",
      "metadata": {
        "id": "beA8ZJ6Jpam-"
      },
      "source": [
        "## For this experiment we will use PyTorch framework"
      ]
    },
    {
      "cell_type": "code",
      "execution_count": 57,
      "metadata": {
        "id": "XqgW29sMCNqn"
      },
      "outputs": [],
      "source": [
        "import torch\n",
        "import torch.nn as nn\n",
        "import torch.nn.functional as F\n",
        "from torch.autograd import Variable"
      ]
    },
    {
      "cell_type": "code",
      "execution_count": 57,
      "metadata": {
        "id": "avcRobO7V_Sl"
      },
      "outputs": [],
      "source": []
    },
    {
      "cell_type": "code",
      "execution_count": 58,
      "metadata": {
        "colab": {
          "base_uri": "https://localhost:8080/"
        },
        "id": "q5QgqbESUNRZ",
        "outputId": "6c31425e-647b-4fd2-d9e0-47e0f7ce0a75"
      },
      "outputs": [
        {
          "output_type": "stream",
          "name": "stdout",
          "text": [
            "--2023-02-10 22:18:28--  http://klevas.mif.vu.lt/~linp/output/2_iris.csv\n",
            "Resolving klevas.mif.vu.lt (klevas.mif.vu.lt)... 193.219.42.12\n",
            "Connecting to klevas.mif.vu.lt (klevas.mif.vu.lt)|193.219.42.12|:80... connected.\n",
            "HTTP request sent, awaiting response... 200 OK\n",
            "Length: 2850 (2.8K) [text/csv]\n",
            "Saving to: ‘2_iris.csv.1’\n",
            "\n",
            "2_iris.csv.1        100%[===================>]   2.78K  --.-KB/s    in 0s      \n",
            "\n",
            "2023-02-10 22:18:29 (261 MB/s) - ‘2_iris.csv.1’ saved [2850/2850]\n",
            "\n"
          ]
        }
      ],
      "source": [
        "!wget http://klevas.mif.vu.lt/~linp/output/2_iris.csv"
      ]
    },
    {
      "cell_type": "markdown",
      "metadata": {
        "id": "nOu2oliXpuzw"
      },
      "source": [
        "#### Check if GPU is available"
      ]
    },
    {
      "cell_type": "code",
      "execution_count": 59,
      "metadata": {
        "colab": {
          "base_uri": "https://localhost:8080/"
        },
        "id": "qPU2LRWRU62s",
        "outputId": "2eb6902e-6904-48dd-aab8-4513360a08b7"
      },
      "outputs": [
        {
          "output_type": "stream",
          "name": "stdout",
          "text": [
            "Fri Feb 10 22:18:29 2023       \n",
            "+-----------------------------------------------------------------------------+\n",
            "| NVIDIA-SMI 510.47.03    Driver Version: 510.47.03    CUDA Version: 11.6     |\n",
            "|-------------------------------+----------------------+----------------------+\n",
            "| GPU  Name        Persistence-M| Bus-Id        Disp.A | Volatile Uncorr. ECC |\n",
            "| Fan  Temp  Perf  Pwr:Usage/Cap|         Memory-Usage | GPU-Util  Compute M. |\n",
            "|                               |                      |               MIG M. |\n",
            "|===============================+======================+======================|\n",
            "|   0  Tesla T4            Off  | 00000000:00:04.0 Off |                    0 |\n",
            "| N/A   40C    P8     9W /  70W |      3MiB / 15360MiB |      0%      Default |\n",
            "|                               |                      |                  N/A |\n",
            "+-------------------------------+----------------------+----------------------+\n",
            "                                                                               \n",
            "+-----------------------------------------------------------------------------+\n",
            "| Processes:                                                                  |\n",
            "|  GPU   GI   CI        PID   Type   Process name                  GPU Memory |\n",
            "|        ID   ID                                                   Usage      |\n",
            "|=============================================================================|\n",
            "|  No running processes found                                                 |\n",
            "+-----------------------------------------------------------------------------+\n"
          ]
        }
      ],
      "source": [
        "!nvidia-smi"
      ]
    },
    {
      "cell_type": "code",
      "execution_count": 60,
      "metadata": {
        "id": "nJftn6T4bxb1"
      },
      "outputs": [],
      "source": [
        "# Read the data\n",
        "data = np.genfromtxt(\"./2_iris.csv\", delimiter='\\t') \n",
        "\n",
        "# Split data: train, validation, testing\n",
        "N_samples = data.shape[0]\n",
        "N_train = int(N_samples * 0.7) # 70% Train\n",
        "N_val = int(N_samples * 0.8) # 10% Validation\n",
        "N_test = N_samples - N_train - N_val"
      ]
    },
    {
      "cell_type": "code",
      "execution_count": 61,
      "metadata": {
        "colab": {
          "base_uri": "https://localhost:8080/"
        },
        "id": "ouNE8onoRwtk",
        "outputId": "870b720d-f4b4-46d8-bd58-9a252329aac9"
      },
      "outputs": [
        {
          "output_type": "execute_result",
          "data": {
            "text/plain": [
              "150"
            ]
          },
          "metadata": {},
          "execution_count": 61
        }
      ],
      "source": [
        "N_samples"
      ]
    },
    {
      "cell_type": "code",
      "execution_count": 62,
      "metadata": {
        "colab": {
          "base_uri": "https://localhost:8080/"
        },
        "id": "LLOAHcttRj6Z",
        "outputId": "346c1895-e963-429b-e72e-49438ef99419"
      },
      "outputs": [
        {
          "output_type": "execute_result",
          "data": {
            "text/plain": [
              "array([[5.1, 3.5, 1.4, 0.2, 0. ],\n",
              "       [4.9, 3. , 1.4, 0.2, 0. ],\n",
              "       [4.7, 3.2, 1.3, 0.2, 0. ],\n",
              "       [4.6, 3.1, 1.5, 0.2, 0. ],\n",
              "       [5. , 3.6, 1.4, 0.2, 0. ],\n",
              "       [5.4, 3.9, 1.7, 0.4, 0. ],\n",
              "       [4.6, 3.4, 1.4, 0.3, 0. ],\n",
              "       [5. , 3.4, 1.5, 0.2, 0. ],\n",
              "       [4.4, 2.9, 1.4, 0.2, 0. ],\n",
              "       [4.9, 3.1, 1.5, 0.1, 0. ],\n",
              "       [5.4, 3.7, 1.5, 0.2, 0. ],\n",
              "       [4.8, 3.4, 1.6, 0.2, 0. ],\n",
              "       [4.8, 3. , 1.4, 0.1, 0. ],\n",
              "       [4.3, 3. , 1.1, 0.1, 0. ],\n",
              "       [5.8, 4. , 1.2, 0.2, 0. ],\n",
              "       [5.7, 4.4, 1.5, 0.4, 0. ],\n",
              "       [5.4, 3.9, 1.3, 0.4, 0. ],\n",
              "       [5.1, 3.5, 1.4, 0.3, 0. ],\n",
              "       [5.7, 3.8, 1.7, 0.3, 0. ],\n",
              "       [5.1, 3.8, 1.5, 0.3, 0. ],\n",
              "       [5.4, 3.4, 1.7, 0.2, 0. ],\n",
              "       [5.1, 3.7, 1.5, 0.4, 0. ],\n",
              "       [4.6, 3.6, 1. , 0.2, 0. ],\n",
              "       [5.1, 3.3, 1.7, 0.5, 0. ],\n",
              "       [4.8, 3.4, 1.9, 0.2, 0. ],\n",
              "       [5. , 3. , 1.6, 0.2, 0. ],\n",
              "       [5. , 3.4, 1.6, 0.4, 0. ],\n",
              "       [5.2, 3.5, 1.5, 0.2, 0. ],\n",
              "       [5.2, 3.4, 1.4, 0.2, 0. ],\n",
              "       [4.7, 3.2, 1.6, 0.2, 0. ],\n",
              "       [4.8, 3.1, 1.6, 0.2, 0. ],\n",
              "       [5.4, 3.4, 1.5, 0.4, 0. ],\n",
              "       [5.2, 4.1, 1.5, 0.1, 0. ],\n",
              "       [5.5, 4.2, 1.4, 0.2, 0. ],\n",
              "       [4.9, 3.1, 1.5, 0.1, 0. ],\n",
              "       [5. , 3.2, 1.2, 0.2, 0. ],\n",
              "       [5.5, 3.5, 1.3, 0.2, 0. ],\n",
              "       [4.9, 3.1, 1.5, 0.1, 0. ],\n",
              "       [4.4, 3. , 1.3, 0.2, 0. ],\n",
              "       [5.1, 3.4, 1.5, 0.2, 0. ],\n",
              "       [5. , 3.5, 1.3, 0.3, 0. ],\n",
              "       [4.5, 2.3, 1.3, 0.3, 0. ],\n",
              "       [4.4, 3.2, 1.3, 0.2, 0. ],\n",
              "       [5. , 3.5, 1.6, 0.6, 0. ],\n",
              "       [5.1, 3.8, 1.9, 0.4, 0. ],\n",
              "       [4.8, 3. , 1.4, 0.3, 0. ],\n",
              "       [5.1, 3.8, 1.6, 0.2, 0. ],\n",
              "       [4.6, 3.2, 1.4, 0.2, 0. ],\n",
              "       [5.3, 3.7, 1.5, 0.2, 0. ],\n",
              "       [5. , 3.3, 1.4, 0.2, 0. ],\n",
              "       [7. , 3.2, 4.7, 1.4, 1. ],\n",
              "       [6.4, 3.2, 4.5, 1.5, 1. ],\n",
              "       [6.9, 3.1, 4.9, 1.5, 1. ],\n",
              "       [5.5, 2.3, 4. , 1.3, 1. ],\n",
              "       [6.5, 2.8, 4.6, 1.5, 1. ],\n",
              "       [5.7, 2.8, 4.5, 1.3, 1. ],\n",
              "       [6.3, 3.3, 4.7, 1.6, 1. ],\n",
              "       [4.9, 2.4, 3.3, 1. , 1. ],\n",
              "       [6.6, 2.9, 4.6, 1.3, 1. ],\n",
              "       [5.2, 2.7, 3.9, 1.4, 1. ],\n",
              "       [5. , 2. , 3.5, 1. , 1. ],\n",
              "       [5.9, 3. , 4.2, 1.5, 1. ],\n",
              "       [6. , 2.2, 4. , 1. , 1. ],\n",
              "       [6.1, 2.9, 4.7, 1.4, 1. ],\n",
              "       [5.6, 2.9, 3.6, 1.3, 1. ],\n",
              "       [6.7, 3.1, 4.4, 1.4, 1. ],\n",
              "       [5.6, 3. , 4.5, 1.5, 1. ],\n",
              "       [5.8, 2.7, 4.1, 1. , 1. ],\n",
              "       [6.2, 2.2, 4.5, 1.5, 1. ],\n",
              "       [5.6, 2.5, 3.9, 1.1, 1. ],\n",
              "       [5.9, 3.2, 4.8, 1.8, 1. ],\n",
              "       [6.1, 2.8, 4. , 1.3, 1. ],\n",
              "       [6.3, 2.5, 4.9, 1.5, 1. ],\n",
              "       [6.1, 2.8, 4.7, 1.2, 1. ],\n",
              "       [6.4, 2.9, 4.3, 1.3, 1. ],\n",
              "       [6.6, 3. , 4.4, 1.4, 1. ],\n",
              "       [6.8, 2.8, 4.8, 1.4, 1. ],\n",
              "       [6.7, 3. , 5. , 1.7, 1. ],\n",
              "       [6. , 2.9, 4.5, 1.5, 1. ],\n",
              "       [5.7, 2.6, 3.5, 1. , 1. ],\n",
              "       [5.5, 2.4, 3.8, 1.1, 1. ],\n",
              "       [5.5, 2.4, 3.7, 1. , 1. ],\n",
              "       [5.8, 2.7, 3.9, 1.2, 1. ],\n",
              "       [6. , 2.7, 5.1, 1.6, 1. ],\n",
              "       [5.4, 3. , 4.5, 1.5, 1. ],\n",
              "       [6. , 3.4, 4.5, 1.6, 1. ],\n",
              "       [6.7, 3.1, 4.7, 1.5, 1. ],\n",
              "       [6.3, 2.3, 4.4, 1.3, 1. ],\n",
              "       [5.6, 3. , 4.1, 1.3, 1. ],\n",
              "       [5.5, 2.5, 4. , 1.3, 1. ],\n",
              "       [5.5, 2.6, 4.4, 1.2, 1. ],\n",
              "       [6.1, 3. , 4.6, 1.4, 1. ],\n",
              "       [5.8, 2.6, 4. , 1.2, 1. ],\n",
              "       [5. , 2.3, 3.3, 1. , 1. ],\n",
              "       [5.6, 2.7, 4.2, 1.3, 1. ],\n",
              "       [5.7, 3. , 4.2, 1.2, 1. ],\n",
              "       [5.7, 2.9, 4.2, 1.3, 1. ],\n",
              "       [6.2, 2.9, 4.3, 1.3, 1. ],\n",
              "       [5.1, 2.5, 3. , 1.1, 1. ],\n",
              "       [5.7, 2.8, 4.1, 1.3, 1. ],\n",
              "       [6.3, 3.3, 6. , 2.5, 2. ],\n",
              "       [5.8, 2.7, 5.1, 1.9, 2. ],\n",
              "       [7.1, 3. , 5.9, 2.1, 2. ],\n",
              "       [6.3, 2.9, 5.6, 1.8, 2. ],\n",
              "       [6.5, 3. , 5.8, 2.2, 2. ],\n",
              "       [7.6, 3. , 6.6, 2.1, 2. ],\n",
              "       [4.9, 2.5, 4.5, 1.7, 2. ],\n",
              "       [7.3, 2.9, 6.3, 1.8, 2. ],\n",
              "       [6.7, 2.5, 5.8, 1.8, 2. ],\n",
              "       [7.2, 3.6, 6.1, 2.5, 2. ],\n",
              "       [6.5, 3.2, 5.1, 2. , 2. ],\n",
              "       [6.4, 2.7, 5.3, 1.9, 2. ],\n",
              "       [6.8, 3. , 5.5, 2.1, 2. ],\n",
              "       [5.7, 2.5, 5. , 2. , 2. ],\n",
              "       [5.8, 2.8, 5.1, 2.4, 2. ],\n",
              "       [6.4, 3.2, 5.3, 2.3, 2. ],\n",
              "       [6.5, 3. , 5.5, 1.8, 2. ],\n",
              "       [7.7, 3.8, 6.7, 2.2, 2. ],\n",
              "       [7.7, 2.6, 6.9, 2.3, 2. ],\n",
              "       [6. , 2.2, 5. , 1.5, 2. ],\n",
              "       [6.9, 3.2, 5.7, 2.3, 2. ],\n",
              "       [5.6, 2.8, 4.9, 2. , 2. ],\n",
              "       [7.7, 2.8, 6.7, 2. , 2. ],\n",
              "       [6.3, 2.7, 4.9, 1.8, 2. ],\n",
              "       [6.7, 3.3, 5.7, 2.1, 2. ],\n",
              "       [7.2, 3.2, 6. , 1.8, 2. ],\n",
              "       [6.2, 2.8, 4.8, 1.8, 2. ],\n",
              "       [6.1, 3. , 4.9, 1.8, 2. ],\n",
              "       [6.4, 2.8, 5.6, 2.1, 2. ],\n",
              "       [7.2, 3. , 5.8, 1.6, 2. ],\n",
              "       [7.4, 2.8, 6.1, 1.9, 2. ],\n",
              "       [7.9, 3.8, 6.4, 2. , 2. ],\n",
              "       [6.4, 2.8, 5.6, 2.2, 2. ],\n",
              "       [6.3, 2.8, 5.1, 1.5, 2. ],\n",
              "       [6.1, 2.6, 5.6, 1.4, 2. ],\n",
              "       [7.7, 3. , 6.1, 2.3, 2. ],\n",
              "       [6.3, 3.4, 5.6, 2.4, 2. ],\n",
              "       [6.4, 3.1, 5.5, 1.8, 2. ],\n",
              "       [6. , 3. , 4.8, 1.8, 2. ],\n",
              "       [6.9, 3.1, 5.4, 2.1, 2. ],\n",
              "       [6.7, 3.1, 5.6, 2.4, 2. ],\n",
              "       [6.9, 3.1, 5.1, 2.3, 2. ],\n",
              "       [5.8, 2.7, 5.1, 1.9, 2. ],\n",
              "       [6.8, 3.2, 5.9, 2.3, 2. ],\n",
              "       [6.7, 3.3, 5.7, 2.5, 2. ],\n",
              "       [6.7, 3. , 5.2, 2.3, 2. ],\n",
              "       [6.3, 2.5, 5. , 1.9, 2. ],\n",
              "       [6.5, 3. , 5.2, 2. , 2. ],\n",
              "       [6.2, 3.4, 5.4, 2.3, 2. ],\n",
              "       [5.9, 3. , 5.1, 1.8, 2. ]])"
            ]
          },
          "metadata": {},
          "execution_count": 62
        }
      ],
      "source": [
        "data"
      ]
    },
    {
      "cell_type": "code",
      "execution_count": 63,
      "metadata": {
        "id": "Euj5S2Yfb2bl"
      },
      "outputs": [],
      "source": [
        "\n",
        "# randomizuojame stebėjimus\n",
        "shuffle_data = [x for x in np.random.permutation(N_samples)]\n",
        "data = data[shuffle_data,:]\n"
      ]
    },
    {
      "cell_type": "code",
      "execution_count": 64,
      "metadata": {
        "colab": {
          "base_uri": "https://localhost:8080/"
        },
        "id": "mMjjpGIOSJTZ",
        "outputId": "0cd93811-fcd1-4f86-baba-ccd5478002ca"
      },
      "outputs": [
        {
          "output_type": "execute_result",
          "data": {
            "text/plain": [
              "array([[6.7, 3.1, 4.7, 1.5, 1. ],\n",
              "       [6.6, 3. , 4.4, 1.4, 1. ],\n",
              "       [5.5, 2.5, 4. , 1.3, 1. ],\n",
              "       [7.2, 3.6, 6.1, 2.5, 2. ],\n",
              "       [6.1, 2.9, 4.7, 1.4, 1. ],\n",
              "       [6.4, 3.2, 4.5, 1.5, 1. ],\n",
              "       [6.9, 3.2, 5.7, 2.3, 2. ],\n",
              "       [6. , 2.7, 5.1, 1.6, 1. ],\n",
              "       [5.6, 2.7, 4.2, 1.3, 1. ],\n",
              "       [7.3, 2.9, 6.3, 1.8, 2. ],\n",
              "       [6.7, 2.5, 5.8, 1.8, 2. ],\n",
              "       [5.8, 2.8, 5.1, 2.4, 2. ],\n",
              "       [6.1, 2.8, 4. , 1.3, 1. ],\n",
              "       [5.3, 3.7, 1.5, 0.2, 0. ],\n",
              "       [5.5, 2.4, 3.7, 1. , 1. ],\n",
              "       [5.5, 2.6, 4.4, 1.2, 1. ],\n",
              "       [6.8, 2.8, 4.8, 1.4, 1. ],\n",
              "       [6.5, 3. , 5.5, 1.8, 2. ],\n",
              "       [6.7, 3.3, 5.7, 2.5, 2. ],\n",
              "       [5. , 3.6, 1.4, 0.2, 0. ],\n",
              "       [6.3, 2.3, 4.4, 1.3, 1. ],\n",
              "       [7.2, 3. , 5.8, 1.6, 2. ],\n",
              "       [6.2, 2.9, 4.3, 1.3, 1. ],\n",
              "       [5.7, 2.6, 3.5, 1. , 1. ],\n",
              "       [5.7, 3.8, 1.7, 0.3, 0. ],\n",
              "       [5.9, 3. , 5.1, 1.8, 2. ],\n",
              "       [4.9, 3. , 1.4, 0.2, 0. ],\n",
              "       [6. , 3. , 4.8, 1.8, 2. ],\n",
              "       [6.1, 2.8, 4.7, 1.2, 1. ],\n",
              "       [5.1, 2.5, 3. , 1.1, 1. ],\n",
              "       [6.5, 3.2, 5.1, 2. , 2. ],\n",
              "       [5. , 3.4, 1.5, 0.2, 0. ],\n",
              "       [6.3, 2.5, 4.9, 1.5, 1. ],\n",
              "       [7.7, 3. , 6.1, 2.3, 2. ],\n",
              "       [5.2, 3.5, 1.5, 0.2, 0. ],\n",
              "       [4.6, 3.2, 1.4, 0.2, 0. ],\n",
              "       [4.7, 3.2, 1.6, 0.2, 0. ],\n",
              "       [6.5, 2.8, 4.6, 1.5, 1. ],\n",
              "       [5.1, 3.5, 1.4, 0.3, 0. ],\n",
              "       [6.4, 3.1, 5.5, 1.8, 2. ],\n",
              "       [5.8, 2.7, 5.1, 1.9, 2. ],\n",
              "       [5.9, 3.2, 4.8, 1.8, 1. ],\n",
              "       [7.7, 2.6, 6.9, 2.3, 2. ],\n",
              "       [5.1, 3.8, 1.9, 0.4, 0. ],\n",
              "       [6.3, 3.3, 4.7, 1.6, 1. ],\n",
              "       [7.4, 2.8, 6.1, 1.9, 2. ],\n",
              "       [6.7, 3.1, 5.6, 2.4, 2. ],\n",
              "       [5.5, 2.4, 3.8, 1.1, 1. ],\n",
              "       [5.8, 4. , 1.2, 0.2, 0. ],\n",
              "       [6.4, 2.8, 5.6, 2.1, 2. ],\n",
              "       [4.9, 3.1, 1.5, 0.1, 0. ],\n",
              "       [4.8, 3. , 1.4, 0.3, 0. ],\n",
              "       [5. , 3.5, 1.6, 0.6, 0. ],\n",
              "       [6.7, 3. , 5. , 1.7, 1. ],\n",
              "       [5.8, 2.6, 4. , 1.2, 1. ],\n",
              "       [4.9, 2.5, 4.5, 1.7, 2. ],\n",
              "       [7.7, 3.8, 6.7, 2.2, 2. ],\n",
              "       [5.7, 2.8, 4.1, 1.3, 1. ],\n",
              "       [6.1, 2.6, 5.6, 1.4, 2. ],\n",
              "       [4.4, 3. , 1.3, 0.2, 0. ],\n",
              "       [5.1, 3.3, 1.7, 0.5, 0. ],\n",
              "       [5. , 2. , 3.5, 1. , 1. ],\n",
              "       [6. , 2.2, 5. , 1.5, 2. ],\n",
              "       [4.8, 3. , 1.4, 0.1, 0. ],\n",
              "       [5.5, 3.5, 1.3, 0.2, 0. ],\n",
              "       [4.8, 3.1, 1.6, 0.2, 0. ],\n",
              "       [5. , 3.2, 1.2, 0.2, 0. ],\n",
              "       [4.6, 3.1, 1.5, 0.2, 0. ],\n",
              "       [6.8, 3.2, 5.9, 2.3, 2. ],\n",
              "       [4.4, 3.2, 1.3, 0.2, 0. ],\n",
              "       [6.1, 3. , 4.6, 1.4, 1. ],\n",
              "       [6.3, 2.8, 5.1, 1.5, 2. ],\n",
              "       [7. , 3.2, 4.7, 1.4, 1. ],\n",
              "       [7.9, 3.8, 6.4, 2. , 2. ],\n",
              "       [4.7, 3.2, 1.3, 0.2, 0. ],\n",
              "       [6.2, 3.4, 5.4, 2.3, 2. ],\n",
              "       [7.7, 2.8, 6.7, 2. , 2. ],\n",
              "       [4.3, 3. , 1.1, 0.1, 0. ],\n",
              "       [5.4, 3.4, 1.5, 0.4, 0. ],\n",
              "       [5.6, 3. , 4.5, 1.5, 1. ],\n",
              "       [6.3, 3.4, 5.6, 2.4, 2. ],\n",
              "       [5.6, 2.9, 3.6, 1.3, 1. ],\n",
              "       [6. , 2.9, 4.5, 1.5, 1. ],\n",
              "       [5.7, 2.5, 5. , 2. , 2. ],\n",
              "       [5.8, 2.7, 4.1, 1. , 1. ],\n",
              "       [4.6, 3.6, 1. , 0.2, 0. ],\n",
              "       [6.9, 3.1, 5.4, 2.1, 2. ],\n",
              "       [5.4, 3.7, 1.5, 0.2, 0. ],\n",
              "       [6.4, 2.9, 4.3, 1.3, 1. ],\n",
              "       [5.7, 4.4, 1.5, 0.4, 0. ],\n",
              "       [5.1, 3.4, 1.5, 0.2, 0. ],\n",
              "       [5.2, 3.4, 1.4, 0.2, 0. ],\n",
              "       [7.1, 3. , 5.9, 2.1, 2. ],\n",
              "       [6.5, 3. , 5.8, 2.2, 2. ],\n",
              "       [5.9, 3. , 4.2, 1.5, 1. ],\n",
              "       [5.1, 3.8, 1.5, 0.3, 0. ],\n",
              "       [4.8, 3.4, 1.6, 0.2, 0. ],\n",
              "       [5.4, 3.9, 1.7, 0.4, 0. ],\n",
              "       [5.8, 2.7, 5.1, 1.9, 2. ],\n",
              "       [5.1, 3.8, 1.6, 0.2, 0. ],\n",
              "       [6.5, 3. , 5.2, 2. , 2. ],\n",
              "       [5.6, 3. , 4.1, 1.3, 1. ],\n",
              "       [6.1, 3. , 4.9, 1.8, 2. ],\n",
              "       [5. , 3. , 1.6, 0.2, 0. ],\n",
              "       [5.5, 4.2, 1.4, 0.2, 0. ],\n",
              "       [6.7, 3. , 5.2, 2.3, 2. ],\n",
              "       [5.6, 2.5, 3.9, 1.1, 1. ],\n",
              "       [6.7, 3.1, 4.4, 1.4, 1. ],\n",
              "       [4.9, 3.1, 1.5, 0.1, 0. ],\n",
              "       [6.4, 2.7, 5.3, 1.9, 2. ],\n",
              "       [6. , 3.4, 4.5, 1.6, 1. ],\n",
              "       [6.6, 2.9, 4.6, 1.3, 1. ],\n",
              "       [6.4, 3.2, 5.3, 2.3, 2. ],\n",
              "       [5.2, 4.1, 1.5, 0.1, 0. ],\n",
              "       [5.5, 2.3, 4. , 1.3, 1. ],\n",
              "       [5. , 2.3, 3.3, 1. , 1. ],\n",
              "       [4.5, 2.3, 1.3, 0.3, 0. ],\n",
              "       [5.1, 3.7, 1.5, 0.4, 0. ],\n",
              "       [5. , 3.3, 1.4, 0.2, 0. ],\n",
              "       [4.6, 3.4, 1.4, 0.3, 0. ],\n",
              "       [5.8, 2.7, 3.9, 1.2, 1. ],\n",
              "       [6. , 2.2, 4. , 1. , 1. ],\n",
              "       [7.6, 3. , 6.6, 2.1, 2. ],\n",
              "       [4.8, 3.4, 1.9, 0.2, 0. ],\n",
              "       [5. , 3.4, 1.6, 0.4, 0. ],\n",
              "       [6.3, 2.5, 5. , 1.9, 2. ],\n",
              "       [6.2, 2.8, 4.8, 1.8, 2. ],\n",
              "       [6.8, 3. , 5.5, 2.1, 2. ],\n",
              "       [5. , 3.5, 1.3, 0.3, 0. ],\n",
              "       [6.3, 2.7, 4.9, 1.8, 2. ],\n",
              "       [6.3, 3.3, 6. , 2.5, 2. ],\n",
              "       [5.7, 3. , 4.2, 1.2, 1. ],\n",
              "       [5.4, 3.9, 1.3, 0.4, 0. ],\n",
              "       [4.9, 3.1, 1.5, 0.1, 0. ],\n",
              "       [5.7, 2.9, 4.2, 1.3, 1. ],\n",
              "       [7.2, 3.2, 6. , 1.8, 2. ],\n",
              "       [4.9, 2.4, 3.3, 1. , 1. ],\n",
              "       [5.1, 3.5, 1.4, 0.2, 0. ],\n",
              "       [5.2, 2.7, 3.9, 1.4, 1. ],\n",
              "       [6.7, 3.3, 5.7, 2.1, 2. ],\n",
              "       [6.9, 3.1, 4.9, 1.5, 1. ],\n",
              "       [5.4, 3. , 4.5, 1.5, 1. ],\n",
              "       [4.4, 2.9, 1.4, 0.2, 0. ],\n",
              "       [5.6, 2.8, 4.9, 2. , 2. ],\n",
              "       [5.7, 2.8, 4.5, 1.3, 1. ],\n",
              "       [6.2, 2.2, 4.5, 1.5, 1. ],\n",
              "       [5.4, 3.4, 1.7, 0.2, 0. ],\n",
              "       [6.4, 2.8, 5.6, 2.2, 2. ],\n",
              "       [6.9, 3.1, 5.1, 2.3, 2. ],\n",
              "       [6.3, 2.9, 5.6, 1.8, 2. ]])"
            ]
          },
          "metadata": {},
          "execution_count": 64
        }
      ],
      "source": [
        "data"
      ]
    },
    {
      "cell_type": "code",
      "execution_count": 65,
      "metadata": {
        "id": "kI75uTsOBFSC"
      },
      "outputs": [],
      "source": [
        "## creating one-hot encoding dummy variables \n",
        "def batch_to_one_hot(id, batch_size, nb_classes = 10):\n",
        "    y_onehot = torch.FloatTensor(batch_size, nb_classes)\n",
        "    y_onehot.zero_()\n",
        "    y_onehot.scatter_(1, id.view(-1, 1), 1)\n",
        "    return y_onehot.long()"
      ]
    },
    {
      "cell_type": "code",
      "execution_count": 66,
      "metadata": {
        "colab": {
          "base_uri": "https://localhost:8080/"
        },
        "id": "bHyfxmk3b3tu",
        "outputId": "99b3bec8-7f74-47f3-94f9-eb6f08aa891d"
      },
      "outputs": [
        {
          "output_type": "execute_result",
          "data": {
            "text/plain": [
              "torch.Size([30, 4])"
            ]
          },
          "metadata": {},
          "execution_count": 66
        }
      ],
      "source": [
        "\n",
        "# Set data -> test, validation, test\n",
        "data_train = torch.tensor(data[:N_train,:4]).float()\n",
        "y_train = torch.tensor(data[:N_train,4], dtype= torch.int64)\n",
        "y_train = batch_to_one_hot(y_train, y_train.shape[0], 3)\n",
        "data_train.shape\n",
        "\n",
        "data_val = torch.tensor(data[N_train:N_val,:4]).float()\n",
        "y_val = torch.tensor(data[N_train:N_val,4], dtype= torch.int64)\n",
        "y_val = batch_to_one_hot(y_val, y_val.shape[0], 3)\n",
        "data_val.shape\n",
        "\n",
        "data_test = torch.tensor(data[N_val:,:4]).float()\n",
        "y_test = torch.tensor(data[N_val:,4], dtype= torch.int64)\n",
        "y_test = batch_to_one_hot(y_test, y_test.shape[0], 3)\n",
        "data_test.shape"
      ]
    },
    {
      "cell_type": "code",
      "execution_count": 67,
      "metadata": {
        "colab": {
          "base_uri": "https://localhost:8080/"
        },
        "id": "BqeZ3Y5kBgTf",
        "outputId": "7b0da1a1-7abc-4636-8cf9-f6231e81df11"
      },
      "outputs": [
        {
          "output_type": "execute_result",
          "data": {
            "text/plain": [
              "tensor([[0, 1, 0],\n",
              "        [0, 1, 0],\n",
              "        [0, 1, 0],\n",
              "        [0, 0, 1],\n",
              "        [0, 1, 0],\n",
              "        [0, 1, 0],\n",
              "        [0, 0, 1],\n",
              "        [0, 1, 0],\n",
              "        [0, 1, 0],\n",
              "        [0, 0, 1],\n",
              "        [0, 0, 1],\n",
              "        [0, 0, 1],\n",
              "        [0, 1, 0],\n",
              "        [1, 0, 0],\n",
              "        [0, 1, 0],\n",
              "        [0, 1, 0],\n",
              "        [0, 1, 0],\n",
              "        [0, 0, 1],\n",
              "        [0, 0, 1],\n",
              "        [1, 0, 0],\n",
              "        [0, 1, 0],\n",
              "        [0, 0, 1],\n",
              "        [0, 1, 0],\n",
              "        [0, 1, 0],\n",
              "        [1, 0, 0],\n",
              "        [0, 0, 1],\n",
              "        [1, 0, 0],\n",
              "        [0, 0, 1],\n",
              "        [0, 1, 0],\n",
              "        [0, 1, 0],\n",
              "        [0, 0, 1],\n",
              "        [1, 0, 0],\n",
              "        [0, 1, 0],\n",
              "        [0, 0, 1],\n",
              "        [1, 0, 0],\n",
              "        [1, 0, 0],\n",
              "        [1, 0, 0],\n",
              "        [0, 1, 0],\n",
              "        [1, 0, 0],\n",
              "        [0, 0, 1],\n",
              "        [0, 0, 1],\n",
              "        [0, 1, 0],\n",
              "        [0, 0, 1],\n",
              "        [1, 0, 0],\n",
              "        [0, 1, 0],\n",
              "        [0, 0, 1],\n",
              "        [0, 0, 1],\n",
              "        [0, 1, 0],\n",
              "        [1, 0, 0],\n",
              "        [0, 0, 1],\n",
              "        [1, 0, 0],\n",
              "        [1, 0, 0],\n",
              "        [1, 0, 0],\n",
              "        [0, 1, 0],\n",
              "        [0, 1, 0],\n",
              "        [0, 0, 1],\n",
              "        [0, 0, 1],\n",
              "        [0, 1, 0],\n",
              "        [0, 0, 1],\n",
              "        [1, 0, 0],\n",
              "        [1, 0, 0],\n",
              "        [0, 1, 0],\n",
              "        [0, 0, 1],\n",
              "        [1, 0, 0],\n",
              "        [1, 0, 0],\n",
              "        [1, 0, 0],\n",
              "        [1, 0, 0],\n",
              "        [1, 0, 0],\n",
              "        [0, 0, 1],\n",
              "        [1, 0, 0],\n",
              "        [0, 1, 0],\n",
              "        [0, 0, 1],\n",
              "        [0, 1, 0],\n",
              "        [0, 0, 1],\n",
              "        [1, 0, 0],\n",
              "        [0, 0, 1],\n",
              "        [0, 0, 1],\n",
              "        [1, 0, 0],\n",
              "        [1, 0, 0],\n",
              "        [0, 1, 0],\n",
              "        [0, 0, 1],\n",
              "        [0, 1, 0],\n",
              "        [0, 1, 0],\n",
              "        [0, 0, 1],\n",
              "        [0, 1, 0],\n",
              "        [1, 0, 0],\n",
              "        [0, 0, 1],\n",
              "        [1, 0, 0],\n",
              "        [0, 1, 0],\n",
              "        [1, 0, 0],\n",
              "        [1, 0, 0],\n",
              "        [1, 0, 0],\n",
              "        [0, 0, 1],\n",
              "        [0, 0, 1],\n",
              "        [0, 1, 0],\n",
              "        [1, 0, 0],\n",
              "        [1, 0, 0],\n",
              "        [1, 0, 0],\n",
              "        [0, 0, 1],\n",
              "        [1, 0, 0],\n",
              "        [0, 0, 1],\n",
              "        [0, 1, 0],\n",
              "        [0, 0, 1],\n",
              "        [1, 0, 0],\n",
              "        [1, 0, 0]])"
            ]
          },
          "metadata": {},
          "execution_count": 67
        }
      ],
      "source": [
        "y_train"
      ]
    },
    {
      "cell_type": "code",
      "execution_count": 68,
      "metadata": {
        "id": "-q4aS4V3b52R"
      },
      "outputs": [],
      "source": [
        "class NeuralNet(nn.Module):\n",
        "    def __init__(self):\n",
        "        super(NeuralNet, self).__init__()\n",
        "        self.fc1 = nn.Linear(4, 100)\n",
        "        self.bn1 = nn.BatchNorm1d(100)\n",
        "        self.fc2 = nn.Linear(100, 15)\n",
        "        self.bn2 = nn.BatchNorm1d(15)\n",
        "        self.fc3 = nn.Linear(15, 3)\n",
        "        self.softmax = nn.Softmax()\n",
        "        self.drop = nn.Dropout(p=0.4)\n",
        "\n",
        "    def forward(self, X):\n",
        "        X = F.relu(self.fc1(X))\n",
        "        X = self.drop(X)\n",
        "        X = self.bn1(X)\n",
        "        X = self.fc2(X)\n",
        "        X = self.drop(X)\n",
        "        X = self.bn2(X)\n",
        "        X = self.fc3(X)\n",
        "        X = F.softmax(X)\n",
        "\n",
        "        return X\n",
        "\n",
        "model = NeuralNet()"
      ]
    },
    {
      "cell_type": "code",
      "execution_count": 69,
      "metadata": {
        "id": "Uk3qDnRJCYbQ"
      },
      "outputs": [],
      "source": [
        "# Selecting some loss function\n",
        "loss_func =  nn.CrossEntropyLoss() "
      ]
    },
    {
      "cell_type": "code",
      "execution_count": 70,
      "metadata": {
        "colab": {
          "base_uri": "https://localhost:8080/"
        },
        "id": "LLh7DUqbE5J9",
        "outputId": "a607a207-d718-46f2-f3c0-10b1c6e095e5"
      },
      "outputs": [
        {
          "output_type": "execute_result",
          "data": {
            "text/plain": [
              "(tensor([[-0.6938, -0.6621, -0.7019, -0.4165, -0.9063],\n",
              "         [-0.1104,  1.1743, -1.5896,  1.8419, -1.8537],\n",
              "         [-1.1408, -0.7207, -0.9161, -0.8855,  0.6774]], requires_grad=True),\n",
              " tensor([2, 1, 2]))"
            ]
          },
          "metadata": {},
          "execution_count": 70
        }
      ],
      "source": [
        "input = torch.randn(3, 5, requires_grad=True)\n",
        "target = torch.empty(3, dtype=torch.long).random_(5)\n",
        "output = loss_func(input, target)\n",
        "input, target"
      ]
    },
    {
      "cell_type": "code",
      "execution_count": 71,
      "metadata": {
        "id": "slam14z5CcCH"
      },
      "outputs": [],
      "source": [
        "\n",
        "# selecting optimizer\n",
        "optimizer = torch.optim.Adam(model.parameters(), lr=0.001)"
      ]
    },
    {
      "cell_type": "code",
      "execution_count": 72,
      "metadata": {
        "colab": {
          "base_uri": "https://localhost:8080/"
        },
        "id": "MGiOhfzpb7WE",
        "outputId": "d0309168-8a5c-49a9-bfea-b4f4ac37ae8a"
      },
      "outputs": [
        {
          "output_type": "stream",
          "name": "stdout",
          "text": [
            "Epoch: 0 \t Loss: 1.1213490963 \t Accuracy: 0.267 \t Val loss: 0.1445009261 \t Val acc: 0.025\n",
            "Epoch: 1 \t Loss: 1.1027851105 \t Accuracy: 0.352 \t Val loss: 0.1376141012 \t Val acc: 0.042\n",
            "Epoch: 2 \t Loss: 1.0948721170 \t Accuracy: 0.390 \t Val loss: 0.1363977790 \t Val acc: 0.050\n",
            "Epoch: 3 \t Loss: 1.0756744146 \t Accuracy: 0.419 \t Val loss: 0.1359910965 \t Val acc: 0.042\n",
            "Epoch: 4 \t Loss: 1.0590951443 \t Accuracy: 0.486 \t Val loss: 0.1361792833 \t Val acc: 0.050\n",
            "Epoch: 5 \t Loss: 1.0602585077 \t Accuracy: 0.486 \t Val loss: 0.1300936639 \t Val acc: 0.067\n",
            "Epoch: 6 \t Loss: 1.0419073105 \t Accuracy: 0.533 \t Val loss: 0.1334212422 \t Val acc: 0.058\n",
            "Epoch: 7 \t Loss: 1.0187600851 \t Accuracy: 0.600 \t Val loss: 0.1315550059 \t Val acc: 0.067\n",
            "Epoch: 8 \t Loss: 1.0125790834 \t Accuracy: 0.600 \t Val loss: 0.1202525795 \t Val acc: 0.108\n",
            "Epoch: 9 \t Loss: 1.0221598148 \t Accuracy: 0.552 \t Val loss: 0.1276061684 \t Val acc: 0.075\n",
            "Epoch: 10 \t Loss: 1.0050275326 \t Accuracy: 0.629 \t Val loss: 0.1207447127 \t Val acc: 0.092\n",
            "Epoch: 10 \t Test loss: -0.4163250923\n"
          ]
        },
        {
          "output_type": "stream",
          "name": "stderr",
          "text": [
            "<ipython-input-68-ce223dff9d81>:20: UserWarning: Implicit dimension choice for softmax has been deprecated. Change the call to include dim=X as an argument.\n",
            "  X = F.softmax(X)\n"
          ]
        }
      ],
      "source": [
        "# selecting number of epochs\n",
        "n_epochs = 10\n",
        "\n",
        "for epoch in range(0, n_epochs+1):\n",
        "\n",
        "    if epoch == 0:\n",
        "      torch.set_grad_enabled(False)\n",
        "\n",
        "    # init some variables\n",
        "    train_loss = 0.0\n",
        "    validation_loss = 0.0\n",
        "    train_acc = 0.0\n",
        "    validation_acc = 0.0\n",
        "    \n",
        "    #########################################################\n",
        "    # Training          \n",
        "    #########################################################\n",
        "\n",
        "    # reset gradients\n",
        "    optimizer.zero_grad()\n",
        "    # Calculating yhat from data x\n",
        "    outputs = model(data_train)\n",
        "    \n",
        "    # calculate statistics\n",
        "    with torch.no_grad():\n",
        "      outputLabels = torch.argmax(outputs, 1)\n",
        "      yLabels = torch.argmax(y_train, 1)\n",
        "      accuracy = yLabels == outputLabels\n",
        "      train_acc += torch.sum(accuracy.float())\n",
        "\n",
        "    # calculating loss\n",
        "    loss = loss_func(outputs, yLabels)\n",
        "\n",
        "    # calculating gradients\n",
        "    if epoch != 0:\n",
        "      loss.backward()\n",
        "    # update parameters\n",
        "    optimizer.step()\n",
        "    # calculating total loss\n",
        "    train_loss += loss.item()*data_train.size(0)\n",
        "        \n",
        "        \n",
        "    \n",
        "    ##############################################################\n",
        "    # Validation\n",
        "    ##############################################################\n",
        "    # Calculating prediction yhat\n",
        "    outputs = model(data_val)\n",
        "    # calculating val loss\n",
        "    yLabels = torch.argmax(y_val, 1)\n",
        "    loss = loss_func(outputs, yLabels)\n",
        "    # total loss\n",
        "    validation_loss += loss.item()*data_val.size(0)\n",
        "\n",
        "    # calculating statistics\n",
        "    with torch.no_grad():\n",
        "      outputLabels = torch.argmax(outputs, 1)\n",
        "      accuracy = yLabels == outputLabels\n",
        "      validation_acc += torch.sum(accuracy.float())\n",
        "            \n",
        "    # statistics\n",
        "    print('Epoch: {} \\t Loss: {:.10f} \\t Accuracy: {:.3f} \\t Val loss: {:.10f} \\t Val acc: {:.3f}'.format(\n",
        "        epoch, \n",
        "        train_loss / N_train,\n",
        "        train_acc / N_train,\n",
        "        validation_loss / N_val,\n",
        "        validation_acc / N_val,\n",
        "        ))\n",
        "    \n",
        "    if epoch == 0:\n",
        "      torch.set_grad_enabled(True)\n",
        "\n",
        "test_loss = 0.0\n",
        "################################################################\n",
        "# Testing\n",
        "################################################################\n",
        "\n",
        "outputs = model(data_test)\n",
        "yLabels = torch.argmax(y_test, 1)\n",
        "loss = loss_func(outputs, yLabels)\n",
        "test_loss += loss.item()*data_test.size(0)\n",
        "\n",
        "print('Epoch: {} \\t Test loss: {:.10f}'.format(\n",
        "    epoch, \n",
        "    test_loss / N_test\n",
        "    ))"
      ]
    },
    {
      "cell_type": "code",
      "execution_count": 73,
      "metadata": {
        "colab": {
          "base_uri": "https://localhost:8080/"
        },
        "id": "o8iQZXTfDhH6",
        "outputId": "b8a7f71b-a069-46bd-e294-26ad555e5545"
      },
      "outputs": [
        {
          "output_type": "execute_result",
          "data": {
            "text/plain": [
              "tensor([[0.3592, 0.3647, 0.2760],\n",
              "        [0.2421, 0.3504, 0.4075],\n",
              "        [0.1030, 0.3393, 0.5577],\n",
              "        [0.6044, 0.2838, 0.1118],\n",
              "        [0.3470, 0.4747, 0.1783],\n",
              "        [0.1788, 0.4526, 0.3686],\n",
              "        [0.3676, 0.3526, 0.2798],\n",
              "        [0.1896, 0.5719, 0.2385],\n",
              "        [0.6183, 0.2750, 0.1067],\n",
              "        [0.1874, 0.4129, 0.3996],\n",
              "        [0.5403, 0.2371, 0.2226],\n",
              "        [0.4861, 0.1893, 0.3246],\n",
              "        [0.8052, 0.1071, 0.0877],\n",
              "        [0.5401, 0.2058, 0.2541],\n",
              "        [0.2571, 0.4743, 0.2685],\n",
              "        [0.3460, 0.4959, 0.1581],\n",
              "        [0.2456, 0.2926, 0.4618],\n",
              "        [0.5780, 0.3075, 0.1145],\n",
              "        [0.2295, 0.4015, 0.3690],\n",
              "        [0.3020, 0.4103, 0.2878],\n",
              "        [0.1687, 0.4354, 0.3959],\n",
              "        [0.1601, 0.3717, 0.4682],\n",
              "        [0.5330, 0.2853, 0.1817],\n",
              "        [0.3803, 0.1900, 0.4297],\n",
              "        [0.2374, 0.4340, 0.3286],\n",
              "        [0.2010, 0.3912, 0.4078],\n",
              "        [0.2194, 0.4051, 0.3755],\n",
              "        [0.2820, 0.2964, 0.4216],\n",
              "        [0.4261, 0.2911, 0.2828],\n",
              "        [0.1981, 0.3854, 0.4166]], grad_fn=<SoftmaxBackward0>)"
            ]
          },
          "metadata": {},
          "execution_count": 73
        }
      ],
      "source": [
        "outputs"
      ]
    },
    {
      "cell_type": "code",
      "execution_count": 73,
      "metadata": {
        "id": "CEJGYJrOb8zF"
      },
      "outputs": [],
      "source": []
    },
    {
      "cell_type": "code",
      "execution_count": 74,
      "metadata": {
        "colab": {
          "base_uri": "https://localhost:8080/"
        },
        "id": "o7woTv2bb-C1",
        "outputId": "9df5b787-7f17-44d4-ca1c-9fba40bf4d12"
      },
      "outputs": [
        {
          "output_type": "stream",
          "name": "stderr",
          "text": [
            "<ipython-input-68-ce223dff9d81>:20: UserWarning: Implicit dimension choice for softmax has been deprecated. Change the call to include dim=X as an argument.\n",
            "  X = F.softmax(X)\n"
          ]
        },
        {
          "output_type": "execute_result",
          "data": {
            "text/plain": [
              "(array([[17,  5],\n",
              "        [ 0,  8]]), array([[15,  5],\n",
              "        [ 7,  3]]), array([[15,  3],\n",
              "        [ 6,  6]]))"
            ]
          },
          "metadata": {},
          "execution_count": 74
        }
      ],
      "source": [
        "\n",
        "# test model on unseen (test) data\n",
        "predictions = model(data_test)\n",
        "predictions\n",
        "predicted_classes = torch.argmax(predictions, axis = 1)\n",
        "predicted_classes\n",
        "predicted = batch_to_one_hot(predicted_classes, predictions.shape[0], 3)\n",
        "predicted\n",
        "# confusion tables:\n",
        "confs = multilabel_confusion_matrix(y_test, predicted)\n",
        "confs[0], confs[1], confs[2]\n"
      ]
    },
    {
      "cell_type": "code",
      "source": [
        "conf = confs[0] # select first class\n",
        "\n",
        "classes = [0, 1]\n",
        "# Visualization\n",
        "plt.imshow(conf, interpolation='nearest', cmap=plt.cm.Greens)\n",
        "plt.title(\"Confusion table\")\n",
        "plt.colorbar()\n",
        "tick_marks = np.arange(len(classes))\n",
        "plt.xticks(tick_marks, classes)\n",
        "plt.yticks(tick_marks, classes)\n",
        "\n",
        "fmt = 'd'\n",
        "thresh = conf.max() / 2.\n",
        "for i, j in itertools.product(range(conf.shape[0]), range(conf.shape[1])):\n",
        "    plt.text(j, i, format(conf[i, j], fmt),\n",
        "             horizontalalignment=\"center\",\n",
        "             color=\"white\" if conf[i, j] > thresh else \"black\")\n",
        "\n",
        "plt.tight_layout()\n",
        "plt.ylabel('True data')\n",
        "plt.xlabel('Prediction')"
      ],
      "metadata": {
        "colab": {
          "base_uri": "https://localhost:8080/",
          "height": 329
        },
        "id": "ZOTXp_V0VSRk",
        "outputId": "c7312690-fe26-4a10-b73b-c2e88da73b43"
      },
      "execution_count": 75,
      "outputs": [
        {
          "output_type": "execute_result",
          "data": {
            "text/plain": [
              "Text(0.5, 15.0, 'Prediction')"
            ]
          },
          "metadata": {},
          "execution_count": 75
        },
        {
          "output_type": "display_data",
          "data": {
            "text/plain": [
              "<Figure size 432x288 with 2 Axes>"
            ],
            "image/png": "[encoded data removed]"
          },
          "metadata": {
            "needs_background": "light"
          }
        }
      ]
    },
    {
      "cell_type": "code",
      "execution_count": 76,
      "metadata": {
        "colab": {
          "base_uri": "https://localhost:8080/"
        },
        "id": "xqnxaJQjUNXu",
        "outputId": "19afea59-e436-44e3-9f0a-acca2535246a"
      },
      "outputs": [
        {
          "output_type": "execute_result",
          "data": {
            "text/plain": [
              "tensor([[0, 0, 1],\n",
              "        [0, 1, 0],\n",
              "        [0, 1, 0],\n",
              "        [1, 0, 0],\n",
              "        [1, 0, 0],\n",
              "        [0, 1, 0],\n",
              "        [0, 0, 1],\n",
              "        [0, 0, 1],\n",
              "        [1, 0, 0],\n",
              "        [0, 1, 0],\n",
              "        [0, 0, 1],\n",
              "        [1, 0, 0],\n",
              "        [1, 0, 0],\n",
              "        [1, 0, 0],\n",
              "        [0, 0, 1],\n",
              "        [0, 0, 1],\n",
              "        [0, 1, 0],\n",
              "        [1, 0, 0],\n",
              "        [0, 0, 1],\n",
              "        [0, 0, 1],\n",
              "        [1, 0, 0],\n",
              "        [1, 0, 0],\n",
              "        [1, 0, 0],\n",
              "        [0, 1, 0],\n",
              "        [0, 1, 0],\n",
              "        [1, 0, 0],\n",
              "        [1, 0, 0],\n",
              "        [1, 0, 0],\n",
              "        [0, 1, 0],\n",
              "        [0, 0, 1]])"
            ]
          },
          "metadata": {},
          "execution_count": 76
        }
      ],
      "source": [
        "predicted"
      ]
    },
    {
      "cell_type": "code",
      "execution_count": 77,
      "metadata": {
        "colab": {
          "base_uri": "https://localhost:8080/"
        },
        "id": "fCYrh2YMUCAw",
        "outputId": "a96fb8f2-b6f2-40fb-9744-b44a3a5644e1"
      },
      "outputs": [
        {
          "output_type": "execute_result",
          "data": {
            "text/plain": [
              "tensor([[0.2926, 0.2675, 0.4399],\n",
              "        [0.1585, 0.4689, 0.3726],\n",
              "        [0.3834, 0.3942, 0.2223],\n",
              "        [0.4532, 0.3935, 0.1533],\n",
              "        [0.4447, 0.4210, 0.1343],\n",
              "        [0.2423, 0.4772, 0.2805],\n",
              "        [0.2397, 0.2712, 0.4891],\n",
              "        [0.1467, 0.3420, 0.5113],\n",
              "        [0.4861, 0.2714, 0.2425],\n",
              "        [0.2320, 0.4618, 0.3062],\n",
              "        [0.0329, 0.1678, 0.7993],\n",
              "        [0.4446, 0.3352, 0.2202],\n",
              "        [0.5680, 0.3094, 0.1227],\n",
              "        [0.6302, 0.2506, 0.1191],\n",
              "        [0.2711, 0.3113, 0.4176],\n",
              "        [0.2142, 0.3370, 0.4488],\n",
              "        [0.3295, 0.4267, 0.2439],\n",
              "        [0.5318, 0.2732, 0.1950],\n",
              "        [0.3298, 0.2024, 0.4678],\n",
              "        [0.3445, 0.2434, 0.4121],\n",
              "        [0.3686, 0.2958, 0.3357],\n",
              "        [0.3783, 0.3719, 0.2497],\n",
              "        [0.4798, 0.3664, 0.1538],\n",
              "        [0.1932, 0.5754, 0.2314],\n",
              "        [0.2768, 0.4980, 0.2252],\n",
              "        [0.4153, 0.4010, 0.1836],\n",
              "        [0.4789, 0.2586, 0.2625],\n",
              "        [0.4085, 0.3375, 0.2540],\n",
              "        [0.3062, 0.3864, 0.3074],\n",
              "        [0.2369, 0.2672, 0.4959]], grad_fn=<SoftmaxBackward0>)"
            ]
          },
          "metadata": {},
          "execution_count": 77
        }
      ],
      "source": [
        "predictions # this is - predicted values y hat "
      ]
    },
    {
      "cell_type": "code",
      "source": [
        "# from the confusion matrix\n",
        "TP = conf[1,1]\n",
        "TN = conf[0,0]\n",
        "FP = conf[0,1]\n",
        "FN = conf[1,0]"
      ],
      "metadata": {
        "id": "gTD8JuCYWIZM"
      },
      "execution_count": 78,
      "outputs": []
    },
    {
      "metadata": {
        "id": "USDonfT5Jpr2"
      },
      "cell_type": "markdown",
      "source": [
        "### Some basic metrics"
      ]
    },
    {
      "metadata": {
        "id": "X5dcb4jEPpDR"
      },
      "cell_type": "markdown",
      "source": [
        "Now, we will calculate some basic metrics from these four values.  \n",
        "We will need a dictionary to store these metrics. Lets create a dictionary `results`."
      ]
    },
    {
      "metadata": {
        "id": "wFE2EKmxV_Xx"
      },
      "cell_type": "code",
      "source": [
        "results = {}"
      ],
      "execution_count": 79,
      "outputs": []
    },
    {
      "metadata": {
        "id": "U6O_iUIHZqgj"
      },
      "cell_type": "markdown",
      "source": [
        "#### Accuracy \n",
        "number of examples correctly predicted / total number of examples  \n",
        "![alt text](https://wikimedia.org/api/rest_v1/media/math/render/svg/c72ec21ef2505c2d376e96197637fc64f75e5891)"
      ]
    },
    {
      "metadata": {
        "id": "4y3hcfI0WFfv",
        "colab": {
          "base_uri": "https://localhost:8080/"
        },
        "outputId": "9f9ef5aa-84fe-4b40-a6da-acfa7e715c08"
      },
      "cell_type": "code",
      "source": [
        "metric = \"ACC\"\n",
        "results[metric] = (TP + TN) / (TP + TN + FP + FN)\n",
        "print(f\"{metric} is {results[metric]: .3f}\")"
      ],
      "execution_count": 80,
      "outputs": [
        {
          "output_type": "stream",
          "name": "stdout",
          "text": [
            "ACC is  0.833\n"
          ]
        }
      ]
    },
    {
      "metadata": {
        "id": "vjmFM1v_Z_a8"
      },
      "cell_type": "markdown",
      "source": [
        "#### True Positive Rate\n",
        "number of samples actually and predicted as  `Positive` / total number of samples actually `Positive`  \n",
        "Also called **Sensitivity or Recall**.  \n",
        "![alt text](https://wikimedia.org/api/rest_v1/media/math/render/svg/64d5540cbadeb83f864d7a731b7ab43cccd0f353)\n"
      ]
    },
    {
      "metadata": {
        "id": "q8JoI-S6WKMS",
        "colab": {
          "base_uri": "https://localhost:8080/"
        },
        "outputId": "44fb45b2-e1f5-4be4-d38f-f134f584388e"
      },
      "cell_type": "code",
      "source": [
        "# Sensitivity or Recall\n",
        "metric = \"TPR\"\n",
        "results[metric] = TP / (TP + FN)\n",
        "print(f\"{metric} is {results[metric]: .3f}\")"
      ],
      "execution_count": 81,
      "outputs": [
        {
          "output_type": "stream",
          "name": "stdout",
          "text": [
            "TPR is  1.000\n"
          ]
        }
      ]
    },
    {
      "metadata": {
        "id": "f6y1c1SDa0Lg"
      },
      "cell_type": "markdown",
      "source": [
        "#### True Negative Rate\n",
        "number of samples actually and predicted as  `Negative` / total number of samples actually  `Negative`  \n",
        "Also called **Specificity**.  \n",
        "![alt text](https://wikimedia.org/api/rest_v1/media/math/render/svg/aac65b6586cb61c1268403895012c2a8f19b0c5e)\n"
      ]
    },
    {
      "metadata": {
        "id": "rkRmDKjSYLYE",
        "colab": {
          "base_uri": "https://localhost:8080/"
        },
        "outputId": "47374e75-a5c3-48f2-ef9e-34915b981609"
      },
      "cell_type": "code",
      "source": [
        "# Specificity\n",
        "metric = \"TNR\"\n",
        "results[metric] = TN / (TN + FP)\n",
        "print(f\"{metric} is {results[metric]: .3f}\")"
      ],
      "execution_count": 82,
      "outputs": [
        {
          "output_type": "stream",
          "name": "stdout",
          "text": [
            "TNR is  0.773\n"
          ]
        }
      ]
    },
    {
      "metadata": {
        "id": "qK7WCIlpbDis"
      },
      "cell_type": "markdown",
      "source": [
        "#### Positive Predictive Value\n",
        "number of samples actually and predicted as  `Positive` / total number of samples predicted as `Positive`  \n",
        "Also called **Precision**.  \n",
        "![alt text](https://wikimedia.org/api/rest_v1/media/math/render/svg/699fcdb880b7f6a92742bc0845b8b60b59806a98)\n"
      ]
    },
    {
      "metadata": {
        "id": "lNgS7UwfYce9",
        "colab": {
          "base_uri": "https://localhost:8080/"
        },
        "outputId": "a7ebadbf-1e54-471c-82c6-1a8b9473758c"
      },
      "cell_type": "code",
      "source": [
        "# Precision\n",
        "metric = \"PPV\"\n",
        "results[metric] = TP / (TP + FP)\n",
        "print(f\"{metric} is {results[metric]: .3f}\")"
      ],
      "execution_count": 83,
      "outputs": [
        {
          "output_type": "stream",
          "name": "stdout",
          "text": [
            "PPV is  0.615\n"
          ]
        }
      ]
    },
    {
      "metadata": {
        "id": "VBPShM1JdQpO"
      },
      "cell_type": "markdown",
      "source": [
        "#### Negative Predictive Value\n",
        "number of samples actually and predicted as  `Negative` / total number of samples predicted as `Negative`    \n",
        "![alt text](https://wikimedia.org/api/rest_v1/media/math/render/svg/b6da0f59faffbc1704974e97847ab4fa599f5521)\n"
      ]
    },
    {
      "metadata": {
        "id": "qAAhCMaOdsSn",
        "colab": {
          "base_uri": "https://localhost:8080/"
        },
        "outputId": "4b94489c-9b85-4fdc-951d-744444304ac0"
      },
      "cell_type": "code",
      "source": [
        "metric = \"NPV\"\n",
        "results[metric] = TN / (TN + FN)\n",
        "print(f\"{metric} is {results[metric]: .3f}\")"
      ],
      "execution_count": 84,
      "outputs": [
        {
          "output_type": "stream",
          "name": "stdout",
          "text": [
            "NPV is  1.000\n"
          ]
        }
      ]
    },
    {
      "metadata": {
        "id": "D6mxQtZyfIte"
      },
      "cell_type": "markdown",
      "source": [
        "#### F1 score\n",
        "Harmonic Mean of Precision and Recall.  \n",
        "![alt text](https://wikimedia.org/api/rest_v1/media/math/render/svg/5663ca95d471868169c4e4ea57c936f1b6f4a588)"
      ]
    },
    {
      "metadata": {
        "id": "8pNnIhEbdzFc",
        "colab": {
          "base_uri": "https://localhost:8080/"
        },
        "outputId": "d186e1fc-f4b7-4605-ef3e-1f921a6be89f"
      },
      "cell_type": "code",
      "source": [
        "metric = \"F1\"\n",
        "results[metric] = 2 / (1 / results[\"PPV\"] + 1 / results[\"TPR\"])\n",
        "print(f\"{metric} is {results[metric]: .3f}\")"
      ],
      "execution_count": 85,
      "outputs": [
        {
          "output_type": "stream",
          "name": "stdout",
          "text": [
            "F1 is  0.762\n"
          ]
        }
      ]
    },
    {
      "metadata": {
        "id": "ZF98MS34edwA"
      },
      "cell_type": "markdown",
      "source": [
        "#### Matthew's correlation coefficient\n",
        "Matthew's coefficient range between `[-1, 1]`. `0` usually means totally random predictions. `1` means a perfect classifier, while a negative value (`[-1, 0)`) suggests a negative correlation between predictions and actual values.   \n",
        "Here' the formual for MCC  \n",
        "![alt text](https://wikimedia.org/api/rest_v1/media/math/render/svg/5caa90fc15105b74b59a30bbc9cc2e5bd43a13b7)"
      ]
    },
    {
      "metadata": {
        "id": "IxtxoxxmgZxI",
        "colab": {
          "base_uri": "https://localhost:8080/"
        },
        "outputId": "f9562f06-2487-42f8-8cee-572d11a51f23"
      },
      "cell_type": "code",
      "source": [
        "metric = \"MCC\"\n",
        "num = TP * TN - FP * FN\n",
        "den = ((TP + FP) * (TP + FN) * (TN + FP) * (TN + FN)) ** 0.5\n",
        "results[metric] = num / den\n",
        "print(f\"{metric} is {results[metric]: .3f}\")"
      ],
      "execution_count": 86,
      "outputs": [
        {
          "output_type": "stream",
          "name": "stdout",
          "text": [
            "MCC is  0.690\n"
          ]
        }
      ]
    },
    {
      "metadata": {
        "id": "4S-Do05vg9js"
      },
      "cell_type": "markdown",
      "source": [
        "### Comparing these calculated metrics\n",
        "Let's check if these values match with the values calculated from `scikit-learn`'s functions."
      ]
    },
    {
      "metadata": {
        "id": "7R0RMkI0krAp",
        "colab": {
          "base_uri": "https://localhost:8080/"
        },
        "outputId": "fb1e31ce-0dac-4356-808d-8b708e71a292"
      },
      "cell_type": "code",
      "source": [
        "print(f\"Calculated and Actual Accuracy:                          {results['ACC']: .3f}, {metrics.accuracy_score(y_test[:,0], predicted[:,0]): .3f}\")\n",
        "print(f\"Calculated and Actual Precision score:                   {results['PPV']: .3f}, {metrics.precision_score(y_test[:,0], predicted[:,0]): .3f}\")\n",
        "print(f\"Calculated and Actual Recall score:                      {results['TPR']: .3f}, {metrics.recall_score(y_test[:,0], predicted[:,0]): .3f}\")\n",
        "print(f\"Calculated and Actual F1 score:                          {results['F1']: .3f}, {metrics.f1_score(y_test[:,0], predicted[:,0]): .3f}\")\n",
        "print(f\"Calculated and Actual Matthew's correlation coefficient: {results['MCC']: .3f}, {metrics.matthews_corrcoef(y_test[:,0], predicted[:,0]): .3f}\")"
      ],
      "execution_count": 87,
      "outputs": [
        {
          "output_type": "stream",
          "name": "stdout",
          "text": [
            "Calculated and Actual Accuracy:                           0.833,  0.833\n",
            "Calculated and Actual Precision score:                    0.615,  0.615\n",
            "Calculated and Actual Recall score:                       1.000,  1.000\n",
            "Calculated and Actual F1 score:                           0.762,  0.762\n",
            "Calculated and Actual Matthew's correlation coefficient:  0.690,  0.690\n"
          ]
        }
      ]
    },
    {
      "cell_type": "markdown",
      "metadata": {
        "id": "MEDIj6xSIa4C"
      },
      "source": [
        "## Error analysis"
      ]
    },
    {
      "cell_type": "code",
      "execution_count": 88,
      "metadata": {
        "colab": {
          "base_uri": "https://localhost:8080/"
        },
        "id": "xc1I__XXrFme",
        "outputId": "fca21f13-bbeb-4fb3-feb0-a3faf3d9f9ce"
      },
      "outputs": [
        {
          "output_type": "execute_result",
          "data": {
            "text/plain": [
              "tensor([[0.2926, 0.2675, 0.4399],\n",
              "        [0.1585, 0.4689, 0.3726],\n",
              "        [0.3834, 0.3942, 0.2223],\n",
              "        [0.4532, 0.3935, 0.1533],\n",
              "        [0.4447, 0.4210, 0.1343],\n",
              "        [0.2423, 0.4772, 0.2805],\n",
              "        [0.2397, 0.2712, 0.4891],\n",
              "        [0.1467, 0.3420, 0.5113],\n",
              "        [0.4861, 0.2714, 0.2425],\n",
              "        [0.2320, 0.4618, 0.3062],\n",
              "        [0.0329, 0.1678, 0.7993],\n",
              "        [0.4446, 0.3352, 0.2202],\n",
              "        [0.5680, 0.3094, 0.1227],\n",
              "        [0.6302, 0.2506, 0.1191],\n",
              "        [0.2711, 0.3113, 0.4176],\n",
              "        [0.2142, 0.3370, 0.4488],\n",
              "        [0.3295, 0.4267, 0.2439],\n",
              "        [0.5318, 0.2732, 0.1950],\n",
              "        [0.3298, 0.2024, 0.4678],\n",
              "        [0.3445, 0.2434, 0.4121],\n",
              "        [0.3686, 0.2958, 0.3357],\n",
              "        [0.3783, 0.3719, 0.2497],\n",
              "        [0.4798, 0.3664, 0.1538],\n",
              "        [0.1932, 0.5754, 0.2314],\n",
              "        [0.2768, 0.4980, 0.2252],\n",
              "        [0.4153, 0.4010, 0.1836],\n",
              "        [0.4789, 0.2586, 0.2625],\n",
              "        [0.4085, 0.3375, 0.2540],\n",
              "        [0.3062, 0.3864, 0.3074],\n",
              "        [0.2369, 0.2672, 0.4959]], grad_fn=<SoftmaxBackward0>)"
            ]
          },
          "metadata": {},
          "execution_count": 88
        }
      ],
      "source": [
        "predictions"
      ]
    },
    {
      "cell_type": "code",
      "execution_count": 89,
      "metadata": {
        "colab": {
          "base_uri": "https://localhost:8080/"
        },
        "id": "SZoqoP9MrVuz",
        "outputId": "8cd075b5-7052-4e7d-f422-48e553917dc9"
      },
      "outputs": [
        {
          "output_type": "execute_result",
          "data": {
            "text/plain": [
              "(30, 3)"
            ]
          },
          "metadata": {},
          "execution_count": 89
        }
      ],
      "source": [
        "np.log(predictions.detach().numpy()).shape"
      ]
    },
    {
      "cell_type": "code",
      "execution_count": 90,
      "metadata": {
        "colab": {
          "base_uri": "https://localhost:8080/"
        },
        "id": "nOlLZyidrc7Z",
        "outputId": "7e09a45f-73c7-4dc4-8106-025f7be46fda"
      },
      "outputs": [
        {
          "output_type": "execute_result",
          "data": {
            "text/plain": [
              "(30, 3)"
            ]
          },
          "metadata": {},
          "execution_count": 90
        }
      ],
      "source": [
        "y_test.detach().numpy().shape"
      ]
    },
    {
      "cell_type": "code",
      "execution_count": 91,
      "metadata": {
        "colab": {
          "base_uri": "https://localhost:8080/"
        },
        "id": "GYO1rD45b_Id",
        "outputId": "e8bef8de-7a28-4d52-e8c8-11a38dd92f00"
      },
      "outputs": [
        {
          "output_type": "execute_result",
          "data": {
            "text/plain": [
              "array([1.3185662 , 0.75728267, 1.50352716, 0.79135084, 0.81034386,\n",
              "       1.27109599, 0.71516609, 0.67089492, 0.72135419, 1.18361199,\n",
              "       0.22399485, 1.09303415, 0.56570476, 0.46164751, 1.16684556,\n",
              "       0.80125582, 0.85174346, 0.63155961, 1.59749591, 0.88652223,\n",
              "       1.21815157, 0.9890151 , 0.7343812 , 1.46362686, 0.69719481,\n",
              "       0.91372204, 0.736256  , 1.37034214, 1.17969048, 0.70147449])"
            ]
          },
          "metadata": {},
          "execution_count": 91
        }
      ],
      "source": [
        "error = -np.sum(y_test.detach().numpy()*np.log(predictions.detach().numpy()),axis=1)\n",
        "error"
      ]
    },
    {
      "cell_type": "code",
      "execution_count": 92,
      "metadata": {
        "colab": {
          "base_uri": "https://localhost:8080/"
        },
        "id": "gLS7GQd8H9XD",
        "outputId": "52b602d0-cba7-4aa6-dfa2-69e8bee49a27"
      },
      "outputs": [
        {
          "output_type": "execute_result",
          "data": {
            "text/plain": [
              "array([10, 13, 12, 17,  7, 24, 29,  6,  8, 22, 26,  1,  3, 15,  4, 16, 19,\n",
              "       25, 21, 11, 14, 28,  9, 20,  5,  0, 27, 23,  2, 18])"
            ]
          },
          "metadata": {},
          "execution_count": 92
        }
      ],
      "source": [
        "err_idx = np.argsort(error)\n",
        "err_idx"
      ]
    },
    {
      "cell_type": "code",
      "execution_count": 93,
      "metadata": {
        "colab": {
          "base_uri": "https://localhost:8080/"
        },
        "id": "eLGHDa7rJAea",
        "outputId": "bc8fb518-4139-4224-fcaa-9e232924e512"
      },
      "outputs": [
        {
          "output_type": "execute_result",
          "data": {
            "text/plain": [
              "(tensor([[0, 0, 1],\n",
              "         [1, 0, 0],\n",
              "         [1, 0, 0],\n",
              "         [1, 0, 0],\n",
              "         [0, 0, 1],\n",
              "         [0, 1, 0],\n",
              "         [0, 0, 1],\n",
              "         [0, 0, 1],\n",
              "         [1, 0, 0],\n",
              "         [1, 0, 0],\n",
              "         [1, 0, 0],\n",
              "         [0, 1, 0],\n",
              "         [1, 0, 0],\n",
              "         [0, 0, 1],\n",
              "         [1, 0, 0],\n",
              "         [0, 1, 0],\n",
              "         [0, 0, 1],\n",
              "         [0, 1, 0],\n",
              "         [0, 1, 0],\n",
              "         [0, 1, 0],\n",
              "         [0, 1, 0],\n",
              "         [0, 0, 1],\n",
              "         [0, 0, 1],\n",
              "         [0, 1, 0],\n",
              "         [0, 0, 1],\n",
              "         [0, 1, 0],\n",
              "         [0, 0, 1],\n",
              "         [0, 0, 1],\n",
              "         [0, 0, 1],\n",
              "         [0, 1, 0]]),\n",
              " array([0.22399485, 0.46164751, 0.56570476, 0.63155961, 0.67089492,\n",
              "        0.69719481, 0.70147449, 0.71516609, 0.72135419, 0.7343812 ,\n",
              "        0.736256  , 0.75728267, 0.79135084, 0.80125582, 0.81034386,\n",
              "        0.85174346, 0.88652223, 0.91372204, 0.9890151 , 1.09303415,\n",
              "        1.16684556, 1.17969048, 1.18361199, 1.21815157, 1.27109599,\n",
              "        1.3185662 , 1.37034214, 1.46362686, 1.50352716, 1.59749591]))"
            ]
          },
          "metadata": {},
          "execution_count": 93
        }
      ],
      "source": [
        "y_test[err_idx], error[err_idx]"
      ]
    },
    {
      "cell_type": "code",
      "execution_count": 93,
      "metadata": {
        "id": "DStIw1jsJil3"
      },
      "outputs": [],
      "source": []
    }
  ],
  "metadata": {
    "accelerator": "GPU",
    "colab": {
      "provenance": []
    },
    "kernelspec": {
      "display_name": "Python 3",
      "language": "python",
      "name": "python3"
    },
    "language_info": {
      "codemirror_mode": {
        "name": "ipython",
        "version": 3
      },
      "file_extension": ".py",
      "mimetype": "text/x-python",
      "name": "python",
      "nbconvert_exporter": "python",
      "pygments_lexer": "ipython3",
      "version": "3.10.4"
    }
  },
  "nbformat": 4,
  "nbformat_minor": 0
}