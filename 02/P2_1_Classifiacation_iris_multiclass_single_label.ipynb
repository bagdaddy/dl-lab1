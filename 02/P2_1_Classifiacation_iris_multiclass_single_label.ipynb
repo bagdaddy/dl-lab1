{
  "cells": [
    {
      "cell_type": "markdown",
      "metadata": {
        "id": "vET1l9P9_Grz"
      },
      "source": [
        "## Multi-class classification\n",
        "\n",
        "> Indented block\n",
        "\n",
        "\n",
        "\n",
        "Iris dataset https://en.wikipedia.org/wiki/Iris_flower_data_set"
      ]
    },
    {
      "cell_type": "code",
      "source": [
        "!pip install sklearn"
      ],
      "metadata": {
        "id": "W2uwLrRoW2tC"
      },
      "execution_count": null,
      "outputs": []
    },
    {
      "cell_type": "code",
      "execution_count": 48,
      "metadata": {
        "id": "6gt0h7-ubs20"
      },
      "outputs": [],
      "source": [
        "import numpy as np\n",
        "import datetime, os\n",
        "import math\n",
        "import random\n",
        "import torch\n",
        "import matplotlib.pyplot as plt \n",
        "from sklearn.metrics import multilabel_confusion_matrix\n",
        "from sklearn import metrics\n",
        "import itertools"
      ]
    },
    {
      "cell_type": "markdown",
      "metadata": {
        "id": "beA8ZJ6Jpam-"
      },
      "source": [
        "## For this experiment we will use PyTorch framework"
      ]
    },
    {
      "cell_type": "code",
      "execution_count": 2,
      "metadata": {
        "id": "XqgW29sMCNqn"
      },
      "outputs": [],
      "source": [
        "import torch\n",
        "import torch.nn as nn\n",
        "import torch.nn.functional as F\n",
        "from torch.autograd import Variable"
      ]
    },
    {
      "cell_type": "code",
      "execution_count": 3,
      "metadata": {
        "colab": {
          "base_uri": "https://localhost:8080/"
        },
        "id": "avcRobO7V_Sl",
        "outputId": "c0d35c75-0422-469f-84ac-fb526b951f34"
      },
      "outputs": [
        {
          "output_type": "stream",
          "name": "stdout",
          "text": [
            "Looking in indexes: https://pypi.org/simple, https://us-python.pkg.dev/colab-wheels/public/simple/\n",
            "Collecting sklearn\n",
            "  Downloading sklearn-0.0.post1.tar.gz (3.6 kB)\n",
            "  Preparing metadata (setup.py) ... \u001b[?25l\u001b[?25hdone\n",
            "Building wheels for collected packages: sklearn\n",
            "  Building wheel for sklearn (setup.py) ... \u001b[?25l\u001b[?25hdone\n",
            "  Created wheel for sklearn: filename=sklearn-0.0.post1-py3-none-any.whl size=2344 sha256=6a98351f2a3b52b01c17b81cbea079dd4aef6ae2a63dcefacf53ebfaf3fa6259\n",
            "  Stored in directory: /root/.cache/pip/wheels/14/25/f7/1cc0956978ae479e75140219088deb7a36f60459df242b1a72\n",
            "Successfully built sklearn\n",
            "Installing collected packages: sklearn\n",
            "Successfully installed sklearn-0.0.post1\n"
          ]
        }
      ],
      "source": []
    },
    {
      "cell_type": "code",
      "execution_count": 4,
      "metadata": {
        "colab": {
          "base_uri": "https://localhost:8080/"
        },
        "id": "q5QgqbESUNRZ",
        "outputId": "91a37d97-c879-4136-df8e-c7f60fa4c4df"
      },
      "outputs": [
        {
          "output_type": "stream",
          "name": "stdout",
          "text": [
            "--2023-02-10 21:53:09--  http://klevas.mif.vu.lt/~linp/output/2_iris.csv\n",
            "Resolving klevas.mif.vu.lt (klevas.mif.vu.lt)... 193.219.42.12\n",
            "Connecting to klevas.mif.vu.lt (klevas.mif.vu.lt)|193.219.42.12|:80... connected.\n",
            "HTTP request sent, awaiting response... 200 OK\n",
            "Length: 2850 (2.8K) [text/csv]\n",
            "Saving to: ‘2_iris.csv’\n",
            "\n",
            "2_iris.csv          100%[===================>]   2.78K  --.-KB/s    in 0s      \n",
            "\n",
            "2023-02-10 21:53:10 (400 MB/s) - ‘2_iris.csv’ saved [2850/2850]\n",
            "\n"
          ]
        }
      ],
      "source": [
        "!wget http://klevas.mif.vu.lt/~linp/output/2_iris.csv"
      ]
    },
    {
      "cell_type": "markdown",
      "metadata": {
        "id": "nOu2oliXpuzw"
      },
      "source": [
        "#### Check if GPU is available"
      ]
    },
    {
      "cell_type": "code",
      "execution_count": 5,
      "metadata": {
        "colab": {
          "base_uri": "https://localhost:8080/"
        },
        "id": "qPU2LRWRU62s",
        "outputId": "ab657063-86a4-4455-830a-58615a607943"
      },
      "outputs": [
        {
          "output_type": "stream",
          "name": "stdout",
          "text": [
            "Fri Feb 10 21:53:11 2023       \n",
            "+-----------------------------------------------------------------------------+\n",
            "| NVIDIA-SMI 510.47.03    Driver Version: 510.47.03    CUDA Version: 11.6     |\n",
            "|-------------------------------+----------------------+----------------------+\n",
            "| GPU  Name        Persistence-M| Bus-Id        Disp.A | Volatile Uncorr. ECC |\n",
            "| Fan  Temp  Perf  Pwr:Usage/Cap|         Memory-Usage | GPU-Util  Compute M. |\n",
            "|                               |                      |               MIG M. |\n",
            "|===============================+======================+======================|\n",
            "|   0  Tesla T4            Off  | 00000000:00:04.0 Off |                    0 |\n",
            "| N/A   72C    P0    29W /  70W |      0MiB / 15360MiB |      0%      Default |\n",
            "|                               |                      |                  N/A |\n",
            "+-------------------------------+----------------------+----------------------+\n",
            "                                                                               \n",
            "+-----------------------------------------------------------------------------+\n",
            "| Processes:                                                                  |\n",
            "|  GPU   GI   CI        PID   Type   Process name                  GPU Memory |\n",
            "|        ID   ID                                                   Usage      |\n",
            "|=============================================================================|\n",
            "|  No running processes found                                                 |\n",
            "+-----------------------------------------------------------------------------+\n"
          ]
        }
      ],
      "source": [
        "!nvidia-smi"
      ]
    },
    {
      "cell_type": "code",
      "execution_count": 6,
      "metadata": {
        "id": "nJftn6T4bxb1"
      },
      "outputs": [],
      "source": [
        "# nuskaitome duomenis\n",
        "data = np.genfromtxt(\"./2_iris.csv\", delimiter='\\t') \n",
        "\n",
        "# paskirstome apmokymas, validavimas, testavimas\n",
        "N_samples = data.shape[0]\n",
        "N_train = int(N_samples * 0.7) # 70% apmokymas\n",
        "N_val = int(N_samples * 0.8) # 10% validavimas\n",
        "N_test = N_samples - N_train - N_val"
      ]
    },
    {
      "cell_type": "code",
      "execution_count": 7,
      "metadata": {
        "colab": {
          "base_uri": "https://localhost:8080/"
        },
        "id": "ouNE8onoRwtk",
        "outputId": "94be14cd-8eda-4f9e-ae0e-11209efb19ab"
      },
      "outputs": [
        {
          "output_type": "execute_result",
          "data": {
            "text/plain": [
              "150"
            ]
          },
          "metadata": {},
          "execution_count": 7
        }
      ],
      "source": [
        "N_samples"
      ]
    },
    {
      "cell_type": "code",
      "execution_count": 8,
      "metadata": {
        "colab": {
          "base_uri": "https://localhost:8080/"
        },
        "id": "LLOAHcttRj6Z",
        "outputId": "9ec81136-0df9-44c6-c207-a3c8456c3526"
      },
      "outputs": [
        {
          "output_type": "execute_result",
          "data": {
            "text/plain": [
              "array([[5.1, 3.5, 1.4, 0.2, 0. ],\n",
              "       [4.9, 3. , 1.4, 0.2, 0. ],\n",
              "       [4.7, 3.2, 1.3, 0.2, 0. ],\n",
              "       [4.6, 3.1, 1.5, 0.2, 0. ],\n",
              "       [5. , 3.6, 1.4, 0.2, 0. ],\n",
              "       [5.4, 3.9, 1.7, 0.4, 0. ],\n",
              "       [4.6, 3.4, 1.4, 0.3, 0. ],\n",
              "       [5. , 3.4, 1.5, 0.2, 0. ],\n",
              "       [4.4, 2.9, 1.4, 0.2, 0. ],\n",
              "       [4.9, 3.1, 1.5, 0.1, 0. ],\n",
              "       [5.4, 3.7, 1.5, 0.2, 0. ],\n",
              "       [4.8, 3.4, 1.6, 0.2, 0. ],\n",
              "       [4.8, 3. , 1.4, 0.1, 0. ],\n",
              "       [4.3, 3. , 1.1, 0.1, 0. ],\n",
              "       [5.8, 4. , 1.2, 0.2, 0. ],\n",
              "       [5.7, 4.4, 1.5, 0.4, 0. ],\n",
              "       [5.4, 3.9, 1.3, 0.4, 0. ],\n",
              "       [5.1, 3.5, 1.4, 0.3, 0. ],\n",
              "       [5.7, 3.8, 1.7, 0.3, 0. ],\n",
              "       [5.1, 3.8, 1.5, 0.3, 0. ],\n",
              "       [5.4, 3.4, 1.7, 0.2, 0. ],\n",
              "       [5.1, 3.7, 1.5, 0.4, 0. ],\n",
              "       [4.6, 3.6, 1. , 0.2, 0. ],\n",
              "       [5.1, 3.3, 1.7, 0.5, 0. ],\n",
              "       [4.8, 3.4, 1.9, 0.2, 0. ],\n",
              "       [5. , 3. , 1.6, 0.2, 0. ],\n",
              "       [5. , 3.4, 1.6, 0.4, 0. ],\n",
              "       [5.2, 3.5, 1.5, 0.2, 0. ],\n",
              "       [5.2, 3.4, 1.4, 0.2, 0. ],\n",
              "       [4.7, 3.2, 1.6, 0.2, 0. ],\n",
              "       [4.8, 3.1, 1.6, 0.2, 0. ],\n",
              "       [5.4, 3.4, 1.5, 0.4, 0. ],\n",
              "       [5.2, 4.1, 1.5, 0.1, 0. ],\n",
              "       [5.5, 4.2, 1.4, 0.2, 0. ],\n",
              "       [4.9, 3.1, 1.5, 0.1, 0. ],\n",
              "       [5. , 3.2, 1.2, 0.2, 0. ],\n",
              "       [5.5, 3.5, 1.3, 0.2, 0. ],\n",
              "       [4.9, 3.1, 1.5, 0.1, 0. ],\n",
              "       [4.4, 3. , 1.3, 0.2, 0. ],\n",
              "       [5.1, 3.4, 1.5, 0.2, 0. ],\n",
              "       [5. , 3.5, 1.3, 0.3, 0. ],\n",
              "       [4.5, 2.3, 1.3, 0.3, 0. ],\n",
              "       [4.4, 3.2, 1.3, 0.2, 0. ],\n",
              "       [5. , 3.5, 1.6, 0.6, 0. ],\n",
              "       [5.1, 3.8, 1.9, 0.4, 0. ],\n",
              "       [4.8, 3. , 1.4, 0.3, 0. ],\n",
              "       [5.1, 3.8, 1.6, 0.2, 0. ],\n",
              "       [4.6, 3.2, 1.4, 0.2, 0. ],\n",
              "       [5.3, 3.7, 1.5, 0.2, 0. ],\n",
              "       [5. , 3.3, 1.4, 0.2, 0. ],\n",
              "       [7. , 3.2, 4.7, 1.4, 1. ],\n",
              "       [6.4, 3.2, 4.5, 1.5, 1. ],\n",
              "       [6.9, 3.1, 4.9, 1.5, 1. ],\n",
              "       [5.5, 2.3, 4. , 1.3, 1. ],\n",
              "       [6.5, 2.8, 4.6, 1.5, 1. ],\n",
              "       [5.7, 2.8, 4.5, 1.3, 1. ],\n",
              "       [6.3, 3.3, 4.7, 1.6, 1. ],\n",
              "       [4.9, 2.4, 3.3, 1. , 1. ],\n",
              "       [6.6, 2.9, 4.6, 1.3, 1. ],\n",
              "       [5.2, 2.7, 3.9, 1.4, 1. ],\n",
              "       [5. , 2. , 3.5, 1. , 1. ],\n",
              "       [5.9, 3. , 4.2, 1.5, 1. ],\n",
              "       [6. , 2.2, 4. , 1. , 1. ],\n",
              "       [6.1, 2.9, 4.7, 1.4, 1. ],\n",
              "       [5.6, 2.9, 3.6, 1.3, 1. ],\n",
              "       [6.7, 3.1, 4.4, 1.4, 1. ],\n",
              "       [5.6, 3. , 4.5, 1.5, 1. ],\n",
              "       [5.8, 2.7, 4.1, 1. , 1. ],\n",
              "       [6.2, 2.2, 4.5, 1.5, 1. ],\n",
              "       [5.6, 2.5, 3.9, 1.1, 1. ],\n",
              "       [5.9, 3.2, 4.8, 1.8, 1. ],\n",
              "       [6.1, 2.8, 4. , 1.3, 1. ],\n",
              "       [6.3, 2.5, 4.9, 1.5, 1. ],\n",
              "       [6.1, 2.8, 4.7, 1.2, 1. ],\n",
              "       [6.4, 2.9, 4.3, 1.3, 1. ],\n",
              "       [6.6, 3. , 4.4, 1.4, 1. ],\n",
              "       [6.8, 2.8, 4.8, 1.4, 1. ],\n",
              "       [6.7, 3. , 5. , 1.7, 1. ],\n",
              "       [6. , 2.9, 4.5, 1.5, 1. ],\n",
              "       [5.7, 2.6, 3.5, 1. , 1. ],\n",
              "       [5.5, 2.4, 3.8, 1.1, 1. ],\n",
              "       [5.5, 2.4, 3.7, 1. , 1. ],\n",
              "       [5.8, 2.7, 3.9, 1.2, 1. ],\n",
              "       [6. , 2.7, 5.1, 1.6, 1. ],\n",
              "       [5.4, 3. , 4.5, 1.5, 1. ],\n",
              "       [6. , 3.4, 4.5, 1.6, 1. ],\n",
              "       [6.7, 3.1, 4.7, 1.5, 1. ],\n",
              "       [6.3, 2.3, 4.4, 1.3, 1. ],\n",
              "       [5.6, 3. , 4.1, 1.3, 1. ],\n",
              "       [5.5, 2.5, 4. , 1.3, 1. ],\n",
              "       [5.5, 2.6, 4.4, 1.2, 1. ],\n",
              "       [6.1, 3. , 4.6, 1.4, 1. ],\n",
              "       [5.8, 2.6, 4. , 1.2, 1. ],\n",
              "       [5. , 2.3, 3.3, 1. , 1. ],\n",
              "       [5.6, 2.7, 4.2, 1.3, 1. ],\n",
              "       [5.7, 3. , 4.2, 1.2, 1. ],\n",
              "       [5.7, 2.9, 4.2, 1.3, 1. ],\n",
              "       [6.2, 2.9, 4.3, 1.3, 1. ],\n",
              "       [5.1, 2.5, 3. , 1.1, 1. ],\n",
              "       [5.7, 2.8, 4.1, 1.3, 1. ],\n",
              "       [6.3, 3.3, 6. , 2.5, 2. ],\n",
              "       [5.8, 2.7, 5.1, 1.9, 2. ],\n",
              "       [7.1, 3. , 5.9, 2.1, 2. ],\n",
              "       [6.3, 2.9, 5.6, 1.8, 2. ],\n",
              "       [6.5, 3. , 5.8, 2.2, 2. ],\n",
              "       [7.6, 3. , 6.6, 2.1, 2. ],\n",
              "       [4.9, 2.5, 4.5, 1.7, 2. ],\n",
              "       [7.3, 2.9, 6.3, 1.8, 2. ],\n",
              "       [6.7, 2.5, 5.8, 1.8, 2. ],\n",
              "       [7.2, 3.6, 6.1, 2.5, 2. ],\n",
              "       [6.5, 3.2, 5.1, 2. , 2. ],\n",
              "       [6.4, 2.7, 5.3, 1.9, 2. ],\n",
              "       [6.8, 3. , 5.5, 2.1, 2. ],\n",
              "       [5.7, 2.5, 5. , 2. , 2. ],\n",
              "       [5.8, 2.8, 5.1, 2.4, 2. ],\n",
              "       [6.4, 3.2, 5.3, 2.3, 2. ],\n",
              "       [6.5, 3. , 5.5, 1.8, 2. ],\n",
              "       [7.7, 3.8, 6.7, 2.2, 2. ],\n",
              "       [7.7, 2.6, 6.9, 2.3, 2. ],\n",
              "       [6. , 2.2, 5. , 1.5, 2. ],\n",
              "       [6.9, 3.2, 5.7, 2.3, 2. ],\n",
              "       [5.6, 2.8, 4.9, 2. , 2. ],\n",
              "       [7.7, 2.8, 6.7, 2. , 2. ],\n",
              "       [6.3, 2.7, 4.9, 1.8, 2. ],\n",
              "       [6.7, 3.3, 5.7, 2.1, 2. ],\n",
              "       [7.2, 3.2, 6. , 1.8, 2. ],\n",
              "       [6.2, 2.8, 4.8, 1.8, 2. ],\n",
              "       [6.1, 3. , 4.9, 1.8, 2. ],\n",
              "       [6.4, 2.8, 5.6, 2.1, 2. ],\n",
              "       [7.2, 3. , 5.8, 1.6, 2. ],\n",
              "       [7.4, 2.8, 6.1, 1.9, 2. ],\n",
              "       [7.9, 3.8, 6.4, 2. , 2. ],\n",
              "       [6.4, 2.8, 5.6, 2.2, 2. ],\n",
              "       [6.3, 2.8, 5.1, 1.5, 2. ],\n",
              "       [6.1, 2.6, 5.6, 1.4, 2. ],\n",
              "       [7.7, 3. , 6.1, 2.3, 2. ],\n",
              "       [6.3, 3.4, 5.6, 2.4, 2. ],\n",
              "       [6.4, 3.1, 5.5, 1.8, 2. ],\n",
              "       [6. , 3. , 4.8, 1.8, 2. ],\n",
              "       [6.9, 3.1, 5.4, 2.1, 2. ],\n",
              "       [6.7, 3.1, 5.6, 2.4, 2. ],\n",
              "       [6.9, 3.1, 5.1, 2.3, 2. ],\n",
              "       [5.8, 2.7, 5.1, 1.9, 2. ],\n",
              "       [6.8, 3.2, 5.9, 2.3, 2. ],\n",
              "       [6.7, 3.3, 5.7, 2.5, 2. ],\n",
              "       [6.7, 3. , 5.2, 2.3, 2. ],\n",
              "       [6.3, 2.5, 5. , 1.9, 2. ],\n",
              "       [6.5, 3. , 5.2, 2. , 2. ],\n",
              "       [6.2, 3.4, 5.4, 2.3, 2. ],\n",
              "       [5.9, 3. , 5.1, 1.8, 2. ]])"
            ]
          },
          "metadata": {},
          "execution_count": 8
        }
      ],
      "source": [
        "data"
      ]
    },
    {
      "cell_type": "code",
      "execution_count": 9,
      "metadata": {
        "id": "Euj5S2Yfb2bl"
      },
      "outputs": [],
      "source": [
        "\n",
        "# randomizuojame stebėjimus\n",
        "shuffle_data = [x for x in np.random.permutation(N_samples)]\n",
        "data = data[shuffle_data,:]\n"
      ]
    },
    {
      "cell_type": "code",
      "execution_count": 10,
      "metadata": {
        "colab": {
          "base_uri": "https://localhost:8080/"
        },
        "id": "mMjjpGIOSJTZ",
        "outputId": "9a6c0f36-c8a3-4512-ddc4-fe97efaf91d3"
      },
      "outputs": [
        {
          "output_type": "execute_result",
          "data": {
            "text/plain": [
              "array([[5.2, 3.4, 1.4, 0.2, 0. ],\n",
              "       [6.5, 2.8, 4.6, 1.5, 1. ],\n",
              "       [5.1, 3.8, 1.9, 0.4, 0. ],\n",
              "       [6. , 2.2, 4. , 1. , 1. ],\n",
              "       [4.8, 3.1, 1.6, 0.2, 0. ],\n",
              "       [6.5, 3. , 5.5, 1.8, 2. ],\n",
              "       [5.6, 2.8, 4.9, 2. , 2. ],\n",
              "       [6.7, 3. , 5.2, 2.3, 2. ],\n",
              "       [6.4, 2.8, 5.6, 2.2, 2. ],\n",
              "       [6.2, 3.4, 5.4, 2.3, 2. ],\n",
              "       [6.2, 2.9, 4.3, 1.3, 1. ],\n",
              "       [6.1, 2.9, 4.7, 1.4, 1. ],\n",
              "       [5.9, 3. , 4.2, 1.5, 1. ],\n",
              "       [5.5, 4.2, 1.4, 0.2, 0. ],\n",
              "       [6.1, 2.8, 4. , 1.3, 1. ],\n",
              "       [5.7, 3.8, 1.7, 0.3, 0. ],\n",
              "       [6.9, 3.1, 5.4, 2.1, 2. ],\n",
              "       [6.1, 3. , 4.9, 1.8, 2. ],\n",
              "       [7.3, 2.9, 6.3, 1.8, 2. ],\n",
              "       [6.8, 3.2, 5.9, 2.3, 2. ],\n",
              "       [6.3, 2.5, 5. , 1.9, 2. ],\n",
              "       [6.4, 3.2, 4.5, 1.5, 1. ],\n",
              "       [6.3, 3.3, 6. , 2.5, 2. ],\n",
              "       [4.5, 2.3, 1.3, 0.3, 0. ],\n",
              "       [5.8, 2.8, 5.1, 2.4, 2. ],\n",
              "       [4.4, 2.9, 1.4, 0.2, 0. ],\n",
              "       [5.8, 2.6, 4. , 1.2, 1. ],\n",
              "       [4.8, 3. , 1.4, 0.3, 0. ],\n",
              "       [6.7, 3.3, 5.7, 2.1, 2. ],\n",
              "       [5.7, 2.9, 4.2, 1.3, 1. ],\n",
              "       [6.2, 2.8, 4.8, 1.8, 2. ],\n",
              "       [4.4, 3.2, 1.3, 0.2, 0. ],\n",
              "       [6.6, 3. , 4.4, 1.4, 1. ],\n",
              "       [5.9, 3. , 5.1, 1.8, 2. ],\n",
              "       [5.8, 2.7, 4.1, 1. , 1. ],\n",
              "       [7.2, 3.2, 6. , 1.8, 2. ],\n",
              "       [7.6, 3. , 6.6, 2.1, 2. ],\n",
              "       [5.4, 3.4, 1.7, 0.2, 0. ],\n",
              "       [7.2, 3.6, 6.1, 2.5, 2. ],\n",
              "       [5.7, 2.5, 5. , 2. , 2. ],\n",
              "       [6.4, 3.2, 5.3, 2.3, 2. ],\n",
              "       [6. , 2.9, 4.5, 1.5, 1. ],\n",
              "       [5.4, 3.9, 1.7, 0.4, 0. ],\n",
              "       [5.1, 3.7, 1.5, 0.4, 0. ],\n",
              "       [6.3, 2.8, 5.1, 1.5, 2. ],\n",
              "       [7. , 3.2, 4.7, 1.4, 1. ],\n",
              "       [5.6, 2.9, 3.6, 1.3, 1. ],\n",
              "       [5. , 3.4, 1.5, 0.2, 0. ],\n",
              "       [6.4, 2.7, 5.3, 1.9, 2. ],\n",
              "       [6.7, 3.3, 5.7, 2.5, 2. ],\n",
              "       [5. , 3.3, 1.4, 0.2, 0. ],\n",
              "       [5.6, 2.7, 4.2, 1.3, 1. ],\n",
              "       [6.1, 2.8, 4.7, 1.2, 1. ],\n",
              "       [6.7, 3.1, 5.6, 2.4, 2. ],\n",
              "       [6.7, 3.1, 4.7, 1.5, 1. ],\n",
              "       [6.3, 3.3, 4.7, 1.6, 1. ],\n",
              "       [6.2, 2.2, 4.5, 1.5, 1. ],\n",
              "       [5.1, 3.5, 1.4, 0.3, 0. ],\n",
              "       [4.9, 3.1, 1.5, 0.1, 0. ],\n",
              "       [4.3, 3. , 1.1, 0.1, 0. ],\n",
              "       [4.6, 3.4, 1.4, 0.3, 0. ],\n",
              "       [6.3, 2.7, 4.9, 1.8, 2. ],\n",
              "       [5. , 3.6, 1.4, 0.2, 0. ],\n",
              "       [6.3, 3.4, 5.6, 2.4, 2. ],\n",
              "       [4.8, 3.4, 1.6, 0.2, 0. ],\n",
              "       [5.8, 4. , 1.2, 0.2, 0. ],\n",
              "       [7.7, 3. , 6.1, 2.3, 2. ],\n",
              "       [6.6, 2.9, 4.6, 1.3, 1. ],\n",
              "       [5.5, 2.4, 3.8, 1.1, 1. ],\n",
              "       [6.9, 3.1, 5.1, 2.3, 2. ],\n",
              "       [5.1, 2.5, 3. , 1.1, 1. ],\n",
              "       [6.7, 3. , 5. , 1.7, 1. ],\n",
              "       [5.7, 2.8, 4.5, 1.3, 1. ],\n",
              "       [5.5, 2.5, 4. , 1.3, 1. ],\n",
              "       [5.5, 2.6, 4.4, 1.2, 1. ],\n",
              "       [6. , 3.4, 4.5, 1.6, 1. ],\n",
              "       [5.8, 2.7, 5.1, 1.9, 2. ],\n",
              "       [6.4, 3.1, 5.5, 1.8, 2. ],\n",
              "       [5. , 3. , 1.6, 0.2, 0. ],\n",
              "       [6.5, 3. , 5.2, 2. , 2. ],\n",
              "       [4.6, 3.6, 1. , 0.2, 0. ],\n",
              "       [5.7, 3. , 4.2, 1.2, 1. ],\n",
              "       [6.3, 2.9, 5.6, 1.8, 2. ],\n",
              "       [5.6, 3. , 4.1, 1.3, 1. ],\n",
              "       [6.8, 3. , 5.5, 2.1, 2. ],\n",
              "       [5. , 2. , 3.5, 1. , 1. ],\n",
              "       [5.8, 2.7, 5.1, 1.9, 2. ],\n",
              "       [4.6, 3.2, 1.4, 0.2, 0. ],\n",
              "       [4.7, 3.2, 1.3, 0.2, 0. ],\n",
              "       [4.9, 2.4, 3.3, 1. , 1. ],\n",
              "       [6.5, 3. , 5.8, 2.2, 2. ],\n",
              "       [4.8, 3.4, 1.9, 0.2, 0. ],\n",
              "       [7.7, 2.8, 6.7, 2. , 2. ],\n",
              "       [5.1, 3.3, 1.7, 0.5, 0. ],\n",
              "       [6.4, 2.8, 5.6, 2.1, 2. ],\n",
              "       [6.3, 2.5, 4.9, 1.5, 1. ],\n",
              "       [6.7, 3.1, 4.4, 1.4, 1. ],\n",
              "       [6.9, 3.1, 4.9, 1.5, 1. ],\n",
              "       [5.4, 3.7, 1.5, 0.2, 0. ],\n",
              "       [6.1, 2.6, 5.6, 1.4, 2. ],\n",
              "       [5.7, 4.4, 1.5, 0.4, 0. ],\n",
              "       [7.4, 2.8, 6.1, 1.9, 2. ],\n",
              "       [5.2, 3.5, 1.5, 0.2, 0. ],\n",
              "       [5.4, 3.9, 1.3, 0.4, 0. ],\n",
              "       [6. , 2.2, 5. , 1.5, 2. ],\n",
              "       [5.1, 3.4, 1.5, 0.2, 0. ],\n",
              "       [6.8, 2.8, 4.8, 1.4, 1. ],\n",
              "       [7.2, 3. , 5.8, 1.6, 2. ],\n",
              "       [5.6, 2.5, 3.9, 1.1, 1. ],\n",
              "       [7.1, 3. , 5.9, 2.1, 2. ],\n",
              "       [5. , 3.2, 1.2, 0.2, 0. ],\n",
              "       [4.9, 3.1, 1.5, 0.1, 0. ],\n",
              "       [5.1, 3.5, 1.4, 0.2, 0. ],\n",
              "       [7.9, 3.8, 6.4, 2. , 2. ],\n",
              "       [6.5, 3.2, 5.1, 2. , 2. ],\n",
              "       [5.1, 3.8, 1.6, 0.2, 0. ],\n",
              "       [5.5, 2.3, 4. , 1.3, 1. ],\n",
              "       [7.7, 3.8, 6.7, 2.2, 2. ],\n",
              "       [7.7, 2.6, 6.9, 2.3, 2. ],\n",
              "       [6.9, 3.2, 5.7, 2.3, 2. ],\n",
              "       [6.1, 3. , 4.6, 1.4, 1. ],\n",
              "       [6.4, 2.9, 4.3, 1.3, 1. ],\n",
              "       [5.9, 3.2, 4.8, 1.8, 1. ],\n",
              "       [6. , 2.7, 5.1, 1.6, 1. ],\n",
              "       [4.8, 3. , 1.4, 0.1, 0. ],\n",
              "       [4.9, 3.1, 1.5, 0.1, 0. ],\n",
              "       [5.5, 3.5, 1.3, 0.2, 0. ],\n",
              "       [5. , 3.4, 1.6, 0.4, 0. ],\n",
              "       [5.4, 3.4, 1.5, 0.4, 0. ],\n",
              "       [5.5, 2.4, 3.7, 1. , 1. ],\n",
              "       [5. , 2.3, 3.3, 1. , 1. ],\n",
              "       [6.3, 2.3, 4.4, 1.3, 1. ],\n",
              "       [5.1, 3.8, 1.5, 0.3, 0. ],\n",
              "       [5. , 3.5, 1.6, 0.6, 0. ],\n",
              "       [4.6, 3.1, 1.5, 0.2, 0. ],\n",
              "       [4.9, 3. , 1.4, 0.2, 0. ],\n",
              "       [5.2, 2.7, 3.9, 1.4, 1. ],\n",
              "       [5.6, 3. , 4.5, 1.5, 1. ],\n",
              "       [4.7, 3.2, 1.6, 0.2, 0. ],\n",
              "       [6.7, 2.5, 5.8, 1.8, 2. ],\n",
              "       [5. , 3.5, 1.3, 0.3, 0. ],\n",
              "       [5.7, 2.6, 3.5, 1. , 1. ],\n",
              "       [5.4, 3. , 4.5, 1.5, 1. ],\n",
              "       [4.9, 2.5, 4.5, 1.7, 2. ],\n",
              "       [5.2, 4.1, 1.5, 0.1, 0. ],\n",
              "       [4.4, 3. , 1.3, 0.2, 0. ],\n",
              "       [5.7, 2.8, 4.1, 1.3, 1. ],\n",
              "       [5.3, 3.7, 1.5, 0.2, 0. ],\n",
              "       [5.8, 2.7, 3.9, 1.2, 1. ],\n",
              "       [6. , 3. , 4.8, 1.8, 2. ]])"
            ]
          },
          "metadata": {},
          "execution_count": 10
        }
      ],
      "source": [
        "data"
      ]
    },
    {
      "cell_type": "code",
      "execution_count": 11,
      "metadata": {
        "id": "kI75uTsOBFSC"
      },
      "outputs": [],
      "source": [
        "## fiktyvių kintamųjų sukūrimas\n",
        "def batch_to_one_hot(id, batch_size, nb_classes = 10):\n",
        "    y_onehot = torch.FloatTensor(batch_size, nb_classes)\n",
        "    y_onehot.zero_()\n",
        "    y_onehot.scatter_(1, id.view(-1, 1), 1)\n",
        "    return y_onehot.long()"
      ]
    },
    {
      "cell_type": "code",
      "execution_count": 12,
      "metadata": {
        "colab": {
          "base_uri": "https://localhost:8080/"
        },
        "id": "bHyfxmk3b3tu",
        "outputId": "8639b038-7377-4d8d-f329-91307b258c80"
      },
      "outputs": [
        {
          "output_type": "execute_result",
          "data": {
            "text/plain": [
              "torch.Size([30, 4])"
            ]
          },
          "metadata": {},
          "execution_count": 12
        }
      ],
      "source": [
        "\n",
        "# Duomenų skaidymas -> test, validation, test\n",
        "data_train = torch.tensor(data[:N_train,:4]).float()\n",
        "y_train = torch.tensor(data[:N_train,4], dtype= torch.int64)\n",
        "y_train = batch_to_one_hot(y_train, y_train.shape[0], 3)\n",
        "data_train.shape\n",
        "\n",
        "data_val = torch.tensor(data[N_train:N_val,:4]).float()\n",
        "y_val = torch.tensor(data[N_train:N_val,4], dtype= torch.int64)\n",
        "y_val = batch_to_one_hot(y_val, y_val.shape[0], 3)\n",
        "data_val.shape\n",
        "\n",
        "data_test = torch.tensor(data[N_val:,:4]).float()\n",
        "y_test = torch.tensor(data[N_val:,4], dtype= torch.int64)\n",
        "y_test = batch_to_one_hot(y_test, y_test.shape[0], 3)\n",
        "data_test.shape"
      ]
    },
    {
      "cell_type": "code",
      "execution_count": 13,
      "metadata": {
        "colab": {
          "base_uri": "https://localhost:8080/"
        },
        "id": "BqeZ3Y5kBgTf",
        "outputId": "b4d0abec-e1fc-46e8-8849-7b810fcf3331"
      },
      "outputs": [
        {
          "output_type": "execute_result",
          "data": {
            "text/plain": [
              "tensor([[1, 0, 0],\n",
              "        [0, 1, 0],\n",
              "        [1, 0, 0],\n",
              "        [0, 1, 0],\n",
              "        [1, 0, 0],\n",
              "        [0, 0, 1],\n",
              "        [0, 0, 1],\n",
              "        [0, 0, 1],\n",
              "        [0, 0, 1],\n",
              "        [0, 0, 1],\n",
              "        [0, 1, 0],\n",
              "        [0, 1, 0],\n",
              "        [0, 1, 0],\n",
              "        [1, 0, 0],\n",
              "        [0, 1, 0],\n",
              "        [1, 0, 0],\n",
              "        [0, 0, 1],\n",
              "        [0, 0, 1],\n",
              "        [0, 0, 1],\n",
              "        [0, 0, 1],\n",
              "        [0, 0, 1],\n",
              "        [0, 1, 0],\n",
              "        [0, 0, 1],\n",
              "        [1, 0, 0],\n",
              "        [0, 0, 1],\n",
              "        [1, 0, 0],\n",
              "        [0, 1, 0],\n",
              "        [1, 0, 0],\n",
              "        [0, 0, 1],\n",
              "        [0, 1, 0],\n",
              "        [0, 0, 1],\n",
              "        [1, 0, 0],\n",
              "        [0, 1, 0],\n",
              "        [0, 0, 1],\n",
              "        [0, 1, 0],\n",
              "        [0, 0, 1],\n",
              "        [0, 0, 1],\n",
              "        [1, 0, 0],\n",
              "        [0, 0, 1],\n",
              "        [0, 0, 1],\n",
              "        [0, 0, 1],\n",
              "        [0, 1, 0],\n",
              "        [1, 0, 0],\n",
              "        [1, 0, 0],\n",
              "        [0, 0, 1],\n",
              "        [0, 1, 0],\n",
              "        [0, 1, 0],\n",
              "        [1, 0, 0],\n",
              "        [0, 0, 1],\n",
              "        [0, 0, 1],\n",
              "        [1, 0, 0],\n",
              "        [0, 1, 0],\n",
              "        [0, 1, 0],\n",
              "        [0, 0, 1],\n",
              "        [0, 1, 0],\n",
              "        [0, 1, 0],\n",
              "        [0, 1, 0],\n",
              "        [1, 0, 0],\n",
              "        [1, 0, 0],\n",
              "        [1, 0, 0],\n",
              "        [1, 0, 0],\n",
              "        [0, 0, 1],\n",
              "        [1, 0, 0],\n",
              "        [0, 0, 1],\n",
              "        [1, 0, 0],\n",
              "        [1, 0, 0],\n",
              "        [0, 0, 1],\n",
              "        [0, 1, 0],\n",
              "        [0, 1, 0],\n",
              "        [0, 0, 1],\n",
              "        [0, 1, 0],\n",
              "        [0, 1, 0],\n",
              "        [0, 1, 0],\n",
              "        [0, 1, 0],\n",
              "        [0, 1, 0],\n",
              "        [0, 1, 0],\n",
              "        [0, 0, 1],\n",
              "        [0, 0, 1],\n",
              "        [1, 0, 0],\n",
              "        [0, 0, 1],\n",
              "        [1, 0, 0],\n",
              "        [0, 1, 0],\n",
              "        [0, 0, 1],\n",
              "        [0, 1, 0],\n",
              "        [0, 0, 1],\n",
              "        [0, 1, 0],\n",
              "        [0, 0, 1],\n",
              "        [1, 0, 0],\n",
              "        [1, 0, 0],\n",
              "        [0, 1, 0],\n",
              "        [0, 0, 1],\n",
              "        [1, 0, 0],\n",
              "        [0, 0, 1],\n",
              "        [1, 0, 0],\n",
              "        [0, 0, 1],\n",
              "        [0, 1, 0],\n",
              "        [0, 1, 0],\n",
              "        [0, 1, 0],\n",
              "        [1, 0, 0],\n",
              "        [0, 0, 1],\n",
              "        [1, 0, 0],\n",
              "        [0, 0, 1],\n",
              "        [1, 0, 0],\n",
              "        [1, 0, 0],\n",
              "        [0, 0, 1]])"
            ]
          },
          "metadata": {},
          "execution_count": 13
        }
      ],
      "source": [
        "y_train"
      ]
    },
    {
      "cell_type": "code",
      "execution_count": 14,
      "metadata": {
        "id": "-q4aS4V3b52R"
      },
      "outputs": [],
      "source": [
        "class NeuralNet(nn.Module):\n",
        "    def __init__(self):\n",
        "        super(NeuralNet, self).__init__()\n",
        "        self.fc1 = nn.Linear(4, 100)\n",
        "        self.bn1 = nn.BatchNorm1d(100)\n",
        "        self.fc2 = nn.Linear(100, 15)\n",
        "        self.bn2 = nn.BatchNorm1d(15)\n",
        "        self.fc3 = nn.Linear(15, 3)\n",
        "        self.softmax = nn.Softmax()\n",
        "        self.drop = nn.Dropout(p=0.4)\n",
        "\n",
        "    def forward(self, X):\n",
        "        X = F.relu(self.fc1(X))\n",
        "        X = self.drop(X)\n",
        "        X = self.bn1(X)\n",
        "        X = self.fc2(X)\n",
        "        X = self.drop(X)\n",
        "        X = self.bn2(X)\n",
        "        X = self.fc3(X)\n",
        "        X = F.softmax(X)\n",
        "\n",
        "        return X\n",
        "\n",
        "model = NeuralNet()"
      ]
    },
    {
      "cell_type": "code",
      "execution_count": 15,
      "metadata": {
        "id": "Uk3qDnRJCYbQ"
      },
      "outputs": [],
      "source": [
        "# apibrėžiame nuostolių f-ją\n",
        "loss_func =  nn.CrossEntropyLoss() "
      ]
    },
    {
      "cell_type": "code",
      "execution_count": 16,
      "metadata": {
        "colab": {
          "base_uri": "https://localhost:8080/"
        },
        "id": "LLh7DUqbE5J9",
        "outputId": "e7dc1ec2-21fe-4eb1-9e8e-c32e426ed358"
      },
      "outputs": [
        {
          "output_type": "execute_result",
          "data": {
            "text/plain": [
              "(tensor([[ 1.1460, -0.9503,  0.8680, -1.7502, -0.7124],\n",
              "         [-1.6176, -0.1357,  0.1470, -1.7259,  0.7522],\n",
              "         [-0.9164,  0.0945,  1.5724, -0.0731, -0.0481]], requires_grad=True),\n",
              " tensor([3, 2, 4]))"
            ]
          },
          "metadata": {},
          "execution_count": 16
        }
      ],
      "source": [
        "input = torch.randn(3, 5, requires_grad=True)\n",
        "target = torch.empty(3, dtype=torch.long).random_(5)\n",
        "output = loss_func(input, target)\n",
        "input, target"
      ]
    },
    {
      "cell_type": "code",
      "execution_count": 17,
      "metadata": {
        "id": "slam14z5CcCH"
      },
      "outputs": [],
      "source": [
        "\n",
        "# pasirenkame optimizatorių\n",
        "optimizer = torch.optim.Adam(model.parameters(), lr=0.001)"
      ]
    },
    {
      "cell_type": "code",
      "execution_count": 18,
      "metadata": {
        "colab": {
          "base_uri": "https://localhost:8080/"
        },
        "id": "MGiOhfzpb7WE",
        "outputId": "bb7593cb-cafc-4b45-b619-abd44239281c"
      },
      "outputs": [
        {
          "output_type": "stream",
          "name": "stderr",
          "text": [
            "<ipython-input-14-ce223dff9d81>:20: UserWarning: Implicit dimension choice for softmax has been deprecated. Change the call to include dim=X as an argument.\n",
            "  X = F.softmax(X)\n"
          ]
        },
        {
          "output_type": "stream",
          "name": "stdout",
          "text": [
            "Epocha: 0 \t Nuostoliai: 1.1089252234 \t Tikslumas: 0.324 \t Validacijos nuostoliai: 0.1303797215 \t Validacijos tikslumas: 0.067\n",
            "Epocha: 1 \t Nuostoliai: 1.1017767191 \t Tikslumas: 0.314 \t Validacijos nuostoliai: 0.1330764294 \t Validacijos tikslumas: 0.042\n",
            "Epocha: 2 \t Nuostoliai: 1.0932755470 \t Tikslumas: 0.324 \t Validacijos nuostoliai: 0.1264829040 \t Validacijos tikslumas: 0.083\n",
            "Epocha: 3 \t Nuostoliai: 1.0677976608 \t Tikslumas: 0.495 \t Validacijos nuostoliai: 0.1247889847 \t Validacijos tikslumas: 0.075\n",
            "Epocha: 4 \t Nuostoliai: 1.0590981245 \t Tikslumas: 0.467 \t Validacijos nuostoliai: 0.1287836581 \t Validacijos tikslumas: 0.058\n",
            "Epocha: 5 \t Nuostoliai: 1.0427829027 \t Tikslumas: 0.543 \t Validacijos nuostoliai: 0.1204951480 \t Validacijos tikslumas: 0.100\n",
            "Epocha: 6 \t Nuostoliai: 1.0364747047 \t Tikslumas: 0.552 \t Validacijos nuostoliai: 0.1243735179 \t Validacijos tikslumas: 0.083\n",
            "Epocha: 7 \t Nuostoliai: 1.0339019299 \t Tikslumas: 0.495 \t Validacijos nuostoliai: 0.1242725030 \t Validacijos tikslumas: 0.075\n",
            "Epocha: 8 \t Nuostoliai: 0.9947445393 \t Tikslumas: 0.629 \t Validacijos nuostoliai: 0.1205604896 \t Validacijos tikslumas: 0.092\n",
            "Epocha: 9 \t Nuostoliai: 0.9848851562 \t Tikslumas: 0.610 \t Validacijos nuostoliai: 0.1207597181 \t Validacijos tikslumas: 0.083\n",
            "Epocha: 10 \t Nuostoliai: 0.9819418788 \t Tikslumas: 0.619 \t Validacijos nuostoliai: 0.1275234818 \t Validacijos tikslumas: 0.075\n",
            "Epocha: 10 \t Testavimo nuostoliai (Nematyti duomenys): -0.4131195068\n"
          ]
        }
      ],
      "source": [
        "# iteracijų (epochų skaičius) kiek ilgai iteraciškai vertinsime parametrus\n",
        "n_epochs = 10\n",
        "\n",
        "for epoch in range(0, n_epochs+1):\n",
        "\n",
        "    # pirmą epochą netreniruosim, kad tensorboard turėtų pradinį tašką\n",
        "    if epoch == 0:\n",
        "      torch.set_grad_enabled(False)\n",
        "\n",
        "    # stebėjime tikslo f-jos pokytį\n",
        "    train_loss = 0.0\n",
        "    validation_loss = 0.0\n",
        "    train_acc = 0.0\n",
        "    validation_acc = 0.0\n",
        "    \n",
        "    #########################################################\n",
        "    # Modelio parametrų vertinimas (angl. training)          #\n",
        "    #########################################################\n",
        "\n",
        "    # nunuliname preitos operacijos gradientą\n",
        "    optimizer.zero_grad()\n",
        "    # Praleidžiame duomenis X pro modelį, gauname prognozę yhat\n",
        "    outputs = model(data_train)\n",
        "    \n",
        "    # apskaičiuojam tikslumą\n",
        "    with torch.no_grad():\n",
        "      outputLabels = torch.argmax(outputs, 1)\n",
        "      yLabels = torch.argmax(y_train, 1)\n",
        "      accuracy = yLabels == outputLabels\n",
        "      train_acc += torch.sum(accuracy.float())\n",
        "\n",
        "    # skaičiuojame, nuostolius, kiek prognozė yhat, skiriasi nuo tiktų reikšmių\n",
        "    loss = loss_func(outputs, yLabels)\n",
        "\n",
        "    # apskaičiuojame gradientų reikšmes, visiems nežinomiems parametrams\n",
        "    if epoch != 0:\n",
        "      loss.backward()\n",
        "    # atnaujiname, visus nežinomus, modelio parametrus\n",
        "    optimizer.step()\n",
        "    # skaičiuojame bendrą nuostolį\n",
        "    train_loss += loss.item()*data_train.size(0)\n",
        "        \n",
        "        \n",
        "    \n",
        "    ##############################################################\n",
        "    # Modelio kokybės vertinimas, mokymo metu (angl. validation) #\n",
        "    ##############################################################\n",
        "    # pasiimame duomenų rinkinio poaibį (X, y)\n",
        "    # Praleidžiame duomenis X pro modelį, gauname prognozę yhat\n",
        "    outputs = model(data_val)\n",
        "    # skaičiuojame, nuostolius, kiek prognozė yhat, skiriasi nuo tiktų reikšmių\n",
        "    yLabels = torch.argmax(y_val, 1)\n",
        "    loss = loss_func(outputs, yLabels)\n",
        "    # skaičiuojame bendrą nuostolį\n",
        "    validation_loss += loss.item()*data_val.size(0)\n",
        "\n",
        "    # skaičiuojame bendrą tikslumą\n",
        "    with torch.no_grad():\n",
        "      outputLabels = torch.argmax(outputs, 1)\n",
        "      accuracy = yLabels == outputLabels\n",
        "      validation_acc += torch.sum(accuracy.float())\n",
        "\n",
        "    # validacijos metu, nes nekeičiame parametrų, tik pasižiūrime, kaip modelis \n",
        "    # mokinimo metu veikia ant nematytų duomenų\n",
        "            \n",
        "    # spausdiname tarpines statistikas\n",
        "    print('Epocha: {} \\t Nuostoliai: {:.10f} \\t Tikslumas: {:.3f} \\t Validacijos nuostoliai: {:.10f} \\t Validacijos tikslumas: {:.3f}'.format(\n",
        "        epoch, \n",
        "        train_loss / N_train,\n",
        "        train_acc / N_train,\n",
        "        validation_loss / N_val,\n",
        "        validation_acc / N_val,\n",
        "        ))\n",
        "    \n",
        "    if epoch == 0:\n",
        "      torch.set_grad_enabled(True)\n",
        "\n",
        "test_loss = 0.0\n",
        "################################################################\n",
        "# Nepriklausomas modelio testavimas, po mokymo (angl. testing) #\n",
        "################################################################\n",
        "# pasiimame duomenų rinkinio poaibį (X, y)\n",
        "\n",
        "# Praleidžiame duomenis X pro modelį, gauname prognozę yhat\n",
        "outputs = model(data_test)\n",
        "# skaičiuojame bendrą nuostolį\n",
        "yLabels = torch.argmax(y_test, 1)\n",
        "loss = loss_func(outputs, yLabels)\n",
        "# skaičiuojame bendrą nuostolį\n",
        "test_loss += loss.item()*data_test.size(0)\n",
        "\n",
        "print('Epocha: {} \\t Testavimo nuostoliai (Nematyti duomenys): {:.10f}'.format(\n",
        "    epoch, \n",
        "    test_loss / N_test\n",
        "    ))"
      ]
    },
    {
      "cell_type": "code",
      "execution_count": 19,
      "metadata": {
        "colab": {
          "base_uri": "https://localhost:8080/"
        },
        "id": "o8iQZXTfDhH6",
        "outputId": "bbd049ed-cd42-449c-8a1a-8809b36fd307"
      },
      "outputs": [
        {
          "output_type": "execute_result",
          "data": {
            "text/plain": [
              "tensor([[0.2000, 0.3492, 0.4508],\n",
              "        [0.1136, 0.3078, 0.5786],\n",
              "        [0.2517, 0.3462, 0.4021],\n",
              "        [0.0552, 0.1897, 0.7551],\n",
              "        [0.4908, 0.3337, 0.1755],\n",
              "        [0.5145, 0.3387, 0.1468],\n",
              "        [0.4424, 0.2860, 0.2716],\n",
              "        [0.3348, 0.3018, 0.3634],\n",
              "        [0.6019, 0.2736, 0.1246],\n",
              "        [0.1621, 0.4438, 0.3941],\n",
              "        [0.3674, 0.3350, 0.2976],\n",
              "        [0.0985, 0.3316, 0.5699],\n",
              "        [0.3973, 0.3896, 0.2131],\n",
              "        [0.3044, 0.3133, 0.3823],\n",
              "        [0.2673, 0.3430, 0.3897],\n",
              "        [0.7313, 0.1622, 0.1065],\n",
              "        [0.1617, 0.2174, 0.6209],\n",
              "        [0.1094, 0.1010, 0.7897],\n",
              "        [0.3690, 0.4239, 0.2070],\n",
              "        [0.2277, 0.1866, 0.5857],\n",
              "        [0.6604, 0.2546, 0.0850],\n",
              "        [0.3470, 0.3824, 0.2706],\n",
              "        [0.0881, 0.3114, 0.6006],\n",
              "        [0.2758, 0.4306, 0.2936],\n",
              "        [0.7451, 0.1900, 0.0649],\n",
              "        [0.5437, 0.3054, 0.1509],\n",
              "        [0.2061, 0.3268, 0.4671],\n",
              "        [0.5008, 0.3224, 0.1768],\n",
              "        [0.0641, 0.3911, 0.5447],\n",
              "        [0.1990, 0.1854, 0.6156]], grad_fn=<SoftmaxBackward0>)"
            ]
          },
          "metadata": {},
          "execution_count": 19
        }
      ],
      "source": [
        "outputs"
      ]
    },
    {
      "cell_type": "code",
      "execution_count": 19,
      "metadata": {
        "id": "CEJGYJrOb8zF"
      },
      "outputs": [],
      "source": []
    },
    {
      "cell_type": "code",
      "execution_count": 29,
      "metadata": {
        "colab": {
          "base_uri": "https://localhost:8080/"
        },
        "id": "o7woTv2bb-C1",
        "outputId": "d2d990c1-8719-455c-e160-98bbd38eaab3"
      },
      "outputs": [
        {
          "output_type": "stream",
          "name": "stderr",
          "text": [
            "<ipython-input-14-ce223dff9d81>:20: UserWarning: Implicit dimension choice for softmax has been deprecated. Change the call to include dim=X as an argument.\n",
            "  X = F.softmax(X)\n"
          ]
        },
        {
          "output_type": "execute_result",
          "data": {
            "text/plain": [
              "(array([[14,  2],\n",
              "        [ 5,  9]]), array([[11,  6],\n",
              "        [13,  0]]), array([[15, 12],\n",
              "        [ 2,  1]]))"
            ]
          },
          "metadata": {},
          "execution_count": 29
        }
      ],
      "source": [
        "\n",
        "# test model on unseen (test) data\n",
        "predictions = model(data_test)\n",
        "predictions\n",
        "predicted_classes = torch.argmax(predictions, axis = 1)\n",
        "predicted_classes\n",
        "predicted = batch_to_one_hot(predicted_classes, predictions.shape[0], 3)\n",
        "predicted\n",
        "# klasifikavimo lentelės:\n",
        "confs = multilabel_confusion_matrix(y_test, predicted)\n",
        "confs[0], confs[1], confs[2]\n"
      ]
    },
    {
      "cell_type": "code",
      "source": [
        "conf = confs[0] # pirmos klasės atžvilgiu\n",
        "\n",
        "classes = [0, 1]\n",
        "# Klasifikavimo lentelės vizualizavimas\n",
        "plt.imshow(conf, interpolation='nearest', cmap=plt.cm.Greens)\n",
        "plt.title(\"Klasifikavimo lentelė\")\n",
        "plt.colorbar()\n",
        "tick_marks = np.arange(len(classes))\n",
        "plt.xticks(tick_marks, classes)\n",
        "plt.yticks(tick_marks, classes)\n",
        "\n",
        "fmt = 'd'\n",
        "thresh = conf.max() / 2.\n",
        "for i, j in itertools.product(range(conf.shape[0]), range(conf.shape[1])):\n",
        "    plt.text(j, i, format(conf[i, j], fmt),\n",
        "             horizontalalignment=\"center\",\n",
        "             color=\"white\" if conf[i, j] > thresh else \"black\")\n",
        "\n",
        "plt.tight_layout()\n",
        "plt.ylabel('Tikri duomenys')\n",
        "plt.xlabel('Prognozė')"
      ],
      "metadata": {
        "colab": {
          "base_uri": "https://localhost:8080/",
          "height": 349
        },
        "id": "ZOTXp_V0VSRk",
        "outputId": "ef30765d-cb0c-405c-c87a-2cfc54ed4fa0"
      },
      "execution_count": 32,
      "outputs": [
        {
          "output_type": "execute_result",
          "data": {
            "text/plain": [
              "Text(0.5, 15.0, 'Prognozė')"
            ]
          },
          "metadata": {},
          "execution_count": 32
        },
        {
          "output_type": "display_data",
          "data": {
            "text/plain": [
              "<Figure size 432x288 with 2 Axes>"
            ],
            "image/png": "[encoded data removed]"
          },
          "metadata": {
            "needs_background": "light"
          }
        }
      ]
    },
    {
      "cell_type": "code",
      "execution_count": 21,
      "metadata": {
        "colab": {
          "base_uri": "https://localhost:8080/"
        },
        "id": "xqnxaJQjUNXu",
        "outputId": "673b4119-38fc-48c1-b574-8324ff87fc04"
      },
      "outputs": [
        {
          "output_type": "execute_result",
          "data": {
            "text/plain": [
              "tensor([[0, 0, 1],\n",
              "        [0, 0, 1],\n",
              "        [0, 0, 1],\n",
              "        [0, 0, 1],\n",
              "        [1, 0, 0],\n",
              "        [1, 0, 0],\n",
              "        [1, 0, 0],\n",
              "        [1, 0, 0],\n",
              "        [1, 0, 0],\n",
              "        [0, 1, 0],\n",
              "        [0, 1, 0],\n",
              "        [0, 0, 1],\n",
              "        [1, 0, 0],\n",
              "        [0, 1, 0],\n",
              "        [1, 0, 0],\n",
              "        [0, 1, 0],\n",
              "        [0, 0, 1],\n",
              "        [0, 0, 1],\n",
              "        [1, 0, 0],\n",
              "        [0, 1, 0],\n",
              "        [1, 0, 0],\n",
              "        [0, 1, 0],\n",
              "        [1, 0, 0],\n",
              "        [0, 0, 1],\n",
              "        [1, 0, 0],\n",
              "        [1, 0, 0],\n",
              "        [0, 1, 0],\n",
              "        [1, 0, 0],\n",
              "        [1, 0, 0],\n",
              "        [0, 0, 1]])"
            ]
          },
          "metadata": {},
          "execution_count": 21
        }
      ],
      "source": [
        "predicted"
      ]
    },
    {
      "cell_type": "code",
      "execution_count": 22,
      "metadata": {
        "colab": {
          "base_uri": "https://localhost:8080/"
        },
        "id": "fCYrh2YMUCAw",
        "outputId": "3dce4ce5-9e9c-4c0b-f060-bc60f661132f"
      },
      "outputs": [
        {
          "output_type": "execute_result",
          "data": {
            "text/plain": [
              "tensor([[0.1412, 0.1406, 0.7181],\n",
              "        [0.1140, 0.2914, 0.5946],\n",
              "        [0.0463, 0.3263, 0.6274],\n",
              "        [0.1973, 0.3026, 0.5001],\n",
              "        [0.5998, 0.2703, 0.1299],\n",
              "        [0.4241, 0.3336, 0.2423],\n",
              "        [0.6061, 0.2554, 0.1385],\n",
              "        [0.4656, 0.3154, 0.2190],\n",
              "        [0.4940, 0.3462, 0.1598],\n",
              "        [0.3345, 0.3541, 0.3114],\n",
              "        [0.2705, 0.3979, 0.3316],\n",
              "        [0.2174, 0.1993, 0.5832],\n",
              "        [0.4062, 0.3494, 0.2444],\n",
              "        [0.3431, 0.4203, 0.2366],\n",
              "        [0.4709, 0.2454, 0.2837],\n",
              "        [0.2895, 0.4217, 0.2888],\n",
              "        [0.2174, 0.3874, 0.3951],\n",
              "        [0.1682, 0.2521, 0.5797],\n",
              "        [0.4760, 0.3475, 0.1765],\n",
              "        [0.1926, 0.4164, 0.3909],\n",
              "        [0.4237, 0.4098, 0.1665],\n",
              "        [0.1754, 0.4573, 0.3673],\n",
              "        [0.4168, 0.2806, 0.3026],\n",
              "        [0.1592, 0.3067, 0.5340],\n",
              "        [0.4811, 0.1079, 0.4110],\n",
              "        [0.5581, 0.2704, 0.1714],\n",
              "        [0.1863, 0.4615, 0.3522],\n",
              "        [0.5778, 0.2106, 0.2115],\n",
              "        [0.3964, 0.3811, 0.2225],\n",
              "        [0.0281, 0.1412, 0.8307]], grad_fn=<SoftmaxBackward0>)"
            ]
          },
          "metadata": {},
          "execution_count": 22
        }
      ],
      "source": [
        "predictions # this is - predicted values y hat "
      ]
    },
    {
      "cell_type": "code",
      "source": [
        "# from the confusion matrix\n",
        "TP = conf[1,1]\n",
        "TN = conf[0,0]\n",
        "FP = conf[0,1]\n",
        "FN = conf[1,0]"
      ],
      "metadata": {
        "id": "gTD8JuCYWIZM"
      },
      "execution_count": 33,
      "outputs": []
    },
    {
      "metadata": {
        "id": "USDonfT5Jpr2"
      },
      "cell_type": "markdown",
      "source": [
        "### Some basic metrics"
      ]
    },
    {
      "metadata": {
        "id": "X5dcb4jEPpDR"
      },
      "cell_type": "markdown",
      "source": [
        "Now, we will calculate some basic metrics from these four values.  \n",
        "We will need a dictionary to store these metrics. Lets create a dictionary `results`."
      ]
    },
    {
      "metadata": {
        "id": "wFE2EKmxV_Xx"
      },
      "cell_type": "code",
      "source": [
        "results = {}"
      ],
      "execution_count": 34,
      "outputs": []
    },
    {
      "metadata": {
        "id": "U6O_iUIHZqgj"
      },
      "cell_type": "markdown",
      "source": [
        "#### Accuracy \n",
        "number of examples correctly predicted / total number of examples  \n",
        "![alt text](https://wikimedia.org/api/rest_v1/media/math/render/svg/c72ec21ef2505c2d376e96197637fc64f75e5891)"
      ]
    },
    {
      "metadata": {
        "id": "4y3hcfI0WFfv",
        "colab": {
          "base_uri": "https://localhost:8080/"
        },
        "outputId": "937d1c3f-a027-404d-d79b-727a240feb19"
      },
      "cell_type": "code",
      "source": [
        "metric = \"ACC\"\n",
        "results[metric] = (TP + TN) / (TP + TN + FP + FN)\n",
        "print(f\"{metric} is {results[metric]: .3f}\")"
      ],
      "execution_count": 35,
      "outputs": [
        {
          "output_type": "stream",
          "name": "stdout",
          "text": [
            "ACC is  0.767\n"
          ]
        }
      ]
    },
    {
      "metadata": {
        "id": "vjmFM1v_Z_a8"
      },
      "cell_type": "markdown",
      "source": [
        "#### True Positive Rate\n",
        "number of samples actually and predicted as  `Positive` / total number of samples actually `Positive`  \n",
        "Also called **Sensitivity or Recall**.  \n",
        "![alt text](https://wikimedia.org/api/rest_v1/media/math/render/svg/64d5540cbadeb83f864d7a731b7ab43cccd0f353)\n"
      ]
    },
    {
      "metadata": {
        "id": "q8JoI-S6WKMS",
        "colab": {
          "base_uri": "https://localhost:8080/"
        },
        "outputId": "c558ebb4-d944-4dbf-c7e6-46946d8aefdf"
      },
      "cell_type": "code",
      "source": [
        "# Sensitivity or Recall\n",
        "metric = \"TPR\"\n",
        "results[metric] = TP / (TP + FN)\n",
        "print(f\"{metric} is {results[metric]: .3f}\")"
      ],
      "execution_count": 36,
      "outputs": [
        {
          "output_type": "stream",
          "name": "stdout",
          "text": [
            "TPR is  0.643\n"
          ]
        }
      ]
    },
    {
      "metadata": {
        "id": "f6y1c1SDa0Lg"
      },
      "cell_type": "markdown",
      "source": [
        "#### True Negative Rate\n",
        "number of samples actually and predicted as  `Negative` / total number of samples actually  `Negative`  \n",
        "Also called **Specificity**.  \n",
        "![alt text](https://wikimedia.org/api/rest_v1/media/math/render/svg/aac65b6586cb61c1268403895012c2a8f19b0c5e)\n"
      ]
    },
    {
      "metadata": {
        "id": "rkRmDKjSYLYE",
        "colab": {
          "base_uri": "https://localhost:8080/"
        },
        "outputId": "eaad8758-36fb-422a-98e4-06a622708d31"
      },
      "cell_type": "code",
      "source": [
        "# Specificity\n",
        "metric = \"TNR\"\n",
        "results[metric] = TN / (TN + FP)\n",
        "print(f\"{metric} is {results[metric]: .3f}\")"
      ],
      "execution_count": 37,
      "outputs": [
        {
          "output_type": "stream",
          "name": "stdout",
          "text": [
            "TNR is  0.875\n"
          ]
        }
      ]
    },
    {
      "metadata": {
        "id": "qK7WCIlpbDis"
      },
      "cell_type": "markdown",
      "source": [
        "#### Positive Predictive Value\n",
        "number of samples actually and predicted as  `Positive` / total number of samples predicted as `Positive`  \n",
        "Also called **Precision**.  \n",
        "![alt text](https://wikimedia.org/api/rest_v1/media/math/render/svg/699fcdb880b7f6a92742bc0845b8b60b59806a98)\n"
      ]
    },
    {
      "metadata": {
        "id": "lNgS7UwfYce9",
        "colab": {
          "base_uri": "https://localhost:8080/"
        },
        "outputId": "47cd7a52-56d2-4150-a2b7-1f52ad6b579a"
      },
      "cell_type": "code",
      "source": [
        "# Precision\n",
        "metric = \"PPV\"\n",
        "results[metric] = TP / (TP + FP)\n",
        "print(f\"{metric} is {results[metric]: .3f}\")"
      ],
      "execution_count": 38,
      "outputs": [
        {
          "output_type": "stream",
          "name": "stdout",
          "text": [
            "PPV is  0.818\n"
          ]
        }
      ]
    },
    {
      "metadata": {
        "id": "VBPShM1JdQpO"
      },
      "cell_type": "markdown",
      "source": [
        "#### Negative Predictive Value\n",
        "number of samples actually and predicted as  `Negative` / total number of samples predicted as `Negative`    \n",
        "![alt text](https://wikimedia.org/api/rest_v1/media/math/render/svg/b6da0f59faffbc1704974e97847ab4fa599f5521)\n"
      ]
    },
    {
      "metadata": {
        "id": "qAAhCMaOdsSn",
        "colab": {
          "base_uri": "https://localhost:8080/"
        },
        "outputId": "348c0d80-f52b-45d0-86ec-116647e05aea"
      },
      "cell_type": "code",
      "source": [
        "metric = \"NPV\"\n",
        "results[metric] = TN / (TN + FN)\n",
        "print(f\"{metric} is {results[metric]: .3f}\")"
      ],
      "execution_count": 39,
      "outputs": [
        {
          "output_type": "stream",
          "name": "stdout",
          "text": [
            "NPV is  0.737\n"
          ]
        }
      ]
    },
    {
      "metadata": {
        "id": "D6mxQtZyfIte"
      },
      "cell_type": "markdown",
      "source": [
        "#### F1 score\n",
        "Harmonic Mean of Precision and Recall.  \n",
        "![alt text](https://wikimedia.org/api/rest_v1/media/math/render/svg/5663ca95d471868169c4e4ea57c936f1b6f4a588)"
      ]
    },
    {
      "metadata": {
        "id": "8pNnIhEbdzFc",
        "colab": {
          "base_uri": "https://localhost:8080/"
        },
        "outputId": "e9ea03a0-cf16-4fe9-d8ec-9f7d6c81b40b"
      },
      "cell_type": "code",
      "source": [
        "metric = \"F1\"\n",
        "results[metric] = 2 / (1 / results[\"PPV\"] + 1 / results[\"TPR\"])\n",
        "print(f\"{metric} is {results[metric]: .3f}\")"
      ],
      "execution_count": 40,
      "outputs": [
        {
          "output_type": "stream",
          "name": "stdout",
          "text": [
            "F1 is  0.720\n"
          ]
        }
      ]
    },
    {
      "metadata": {
        "id": "ZF98MS34edwA"
      },
      "cell_type": "markdown",
      "source": [
        "#### Matthew's correlation coefficient\n",
        "Matthew's coefficient range between `[-1, 1]`. `0` usually means totally random predictions. `1` means a perfect classifier, while a negative value (`[-1, 0)`) suggests a negative correlation between predictions and actual values.   \n",
        "Here' the formual for MCC  \n",
        "![alt text](https://wikimedia.org/api/rest_v1/media/math/render/svg/5caa90fc15105b74b59a30bbc9cc2e5bd43a13b7)"
      ]
    },
    {
      "metadata": {
        "id": "IxtxoxxmgZxI",
        "colab": {
          "base_uri": "https://localhost:8080/"
        },
        "outputId": "8621e3bd-fa3e-4cd1-aa4a-ab54e29db66e"
      },
      "cell_type": "code",
      "source": [
        "metric = \"MCC\"\n",
        "num = TP * TN - FP * FN\n",
        "den = ((TP + FP) * (TP + FN) * (TN + FP) * (TN + FN)) ** 0.5\n",
        "results[metric] = num / den\n",
        "print(f\"{metric} is {results[metric]: .3f}\")"
      ],
      "execution_count": 41,
      "outputs": [
        {
          "output_type": "stream",
          "name": "stdout",
          "text": [
            "MCC is  0.536\n"
          ]
        }
      ]
    },
    {
      "metadata": {
        "id": "4S-Do05vg9js"
      },
      "cell_type": "markdown",
      "source": [
        "### Comparing these calculated metrics\n",
        "Let's check if these values match with the values calculated from `scikit-learn`'s functions."
      ]
    },
    {
      "metadata": {
        "id": "7R0RMkI0krAp",
        "colab": {
          "base_uri": "https://localhost:8080/"
        },
        "outputId": "83092249-1c08-4391-ed31-43e983b912a3"
      },
      "cell_type": "code",
      "source": [
        "print(f\"Calculated and Actual Accuracy:                          {results['ACC']: .3f}, {metrics.accuracy_score(y_test[:,0], predicted[:,0]): .3f}\")\n",
        "print(f\"Calculated and Actual Precision score:                   {results['PPV']: .3f}, {metrics.precision_score(y_test[:,0], predicted[:,0]): .3f}\")\n",
        "print(f\"Calculated and Actual Recall score:                      {results['TPR']: .3f}, {metrics.recall_score(y_test[:,0], predicted[:,0]): .3f}\")\n",
        "print(f\"Calculated and Actual F1 score:                          {results['F1']: .3f}, {metrics.f1_score(y_test[:,0], predicted[:,0]): .3f}\")\n",
        "print(f\"Calculated and Actual Matthew's correlation coefficient: {results['MCC']: .3f}, {metrics.matthews_corrcoef(y_test[:,0], predicted[:,0]): .3f}\")"
      ],
      "execution_count": 54,
      "outputs": [
        {
          "output_type": "stream",
          "name": "stdout",
          "text": [
            "Calculated and Actual Accuracy:                           0.767,  0.767\n",
            "Calculated and Actual Precision score:                    0.818,  0.818\n",
            "Calculated and Actual Recall score:                       0.643,  0.643\n",
            "Calculated and Actual F1 score:                           0.720,  0.720\n",
            "Calculated and Actual Matthew's correlation coefficient:  0.536,  0.536\n"
          ]
        }
      ]
    },
    {
      "cell_type": "markdown",
      "metadata": {
        "id": "MEDIj6xSIa4C"
      },
      "source": [
        "## Error analysis"
      ]
    },
    {
      "cell_type": "code",
      "execution_count": 23,
      "metadata": {
        "colab": {
          "base_uri": "https://localhost:8080/"
        },
        "id": "xc1I__XXrFme",
        "outputId": "3c3ef14d-7a46-4c40-be75-97a69e88e13d"
      },
      "outputs": [
        {
          "output_type": "execute_result",
          "data": {
            "text/plain": [
              "tensor([[0.1412, 0.1406, 0.7181],\n",
              "        [0.1140, 0.2914, 0.5946],\n",
              "        [0.0463, 0.3263, 0.6274],\n",
              "        [0.1973, 0.3026, 0.5001],\n",
              "        [0.5998, 0.2703, 0.1299],\n",
              "        [0.4241, 0.3336, 0.2423],\n",
              "        [0.6061, 0.2554, 0.1385],\n",
              "        [0.4656, 0.3154, 0.2190],\n",
              "        [0.4940, 0.3462, 0.1598],\n",
              "        [0.3345, 0.3541, 0.3114],\n",
              "        [0.2705, 0.3979, 0.3316],\n",
              "        [0.2174, 0.1993, 0.5832],\n",
              "        [0.4062, 0.3494, 0.2444],\n",
              "        [0.3431, 0.4203, 0.2366],\n",
              "        [0.4709, 0.2454, 0.2837],\n",
              "        [0.2895, 0.4217, 0.2888],\n",
              "        [0.2174, 0.3874, 0.3951],\n",
              "        [0.1682, 0.2521, 0.5797],\n",
              "        [0.4760, 0.3475, 0.1765],\n",
              "        [0.1926, 0.4164, 0.3909],\n",
              "        [0.4237, 0.4098, 0.1665],\n",
              "        [0.1754, 0.4573, 0.3673],\n",
              "        [0.4168, 0.2806, 0.3026],\n",
              "        [0.1592, 0.3067, 0.5340],\n",
              "        [0.4811, 0.1079, 0.4110],\n",
              "        [0.5581, 0.2704, 0.1714],\n",
              "        [0.1863, 0.4615, 0.3522],\n",
              "        [0.5778, 0.2106, 0.2115],\n",
              "        [0.3964, 0.3811, 0.2225],\n",
              "        [0.0281, 0.1412, 0.8307]], grad_fn=<SoftmaxBackward0>)"
            ]
          },
          "metadata": {},
          "execution_count": 23
        }
      ],
      "source": [
        "predictions"
      ]
    },
    {
      "cell_type": "code",
      "execution_count": 43,
      "metadata": {
        "colab": {
          "base_uri": "https://localhost:8080/"
        },
        "id": "SZoqoP9MrVuz",
        "outputId": "e28c2619-3552-48c6-8bbb-6a46041a6745"
      },
      "outputs": [
        {
          "output_type": "execute_result",
          "data": {
            "text/plain": [
              "(30, 3)"
            ]
          },
          "metadata": {},
          "execution_count": 43
        }
      ],
      "source": [
        "np.log(predictions.detach().numpy()).shape"
      ]
    },
    {
      "cell_type": "code",
      "execution_count": 44,
      "metadata": {
        "colab": {
          "base_uri": "https://localhost:8080/"
        },
        "id": "nOlLZyidrc7Z",
        "outputId": "f2631765-dad0-4302-e59c-332434c7c892"
      },
      "outputs": [
        {
          "output_type": "execute_result",
          "data": {
            "text/plain": [
              "(30, 3)"
            ]
          },
          "metadata": {},
          "execution_count": 44
        }
      ],
      "source": [
        "y_test.detach().numpy().shape"
      ]
    },
    {
      "cell_type": "code",
      "execution_count": 45,
      "metadata": {
        "colab": {
          "base_uri": "https://localhost:8080/"
        },
        "id": "GYO1rD45b_Id",
        "outputId": "e0d44ac0-978b-4356-dcbf-128d91508236"
      },
      "outputs": [
        {
          "output_type": "execute_result",
          "data": {
            "text/plain": [
              "array([1.55210292, 1.3578229 , 1.22289729, 1.32139289, 0.63287973,\n",
              "       1.08608174, 0.67816007, 1.25105023, 0.52507138, 1.37715089,\n",
              "       0.98378676, 1.1145184 , 0.34683478, 1.18482292, 0.97898287,\n",
              "       0.51941049, 1.17780364, 1.44546545, 0.3012234 , 0.88465494,\n",
              "       1.21615362, 1.21181071, 0.88249475, 1.01897621, 0.76076221,\n",
              "       0.41141716, 1.0585537 , 0.80611575, 1.19713116, 0.44676381])"
            ]
          },
          "metadata": {},
          "execution_count": 45
        }
      ],
      "source": [
        "error = -np.sum(y_test.detach().numpy()*np.log(predictions.detach().numpy()),axis=1)\n",
        "error"
      ]
    },
    {
      "cell_type": "code",
      "execution_count": 46,
      "metadata": {
        "colab": {
          "base_uri": "https://localhost:8080/"
        },
        "id": "gLS7GQd8H9XD",
        "outputId": "8fd6b7ab-8957-42d6-95f1-289eb5d3b82f"
      },
      "outputs": [
        {
          "output_type": "execute_result",
          "data": {
            "text/plain": [
              "array([18, 12, 25, 29, 15,  8,  4,  6, 24, 27, 22, 19, 14, 10, 23, 26,  5,\n",
              "       11, 16, 13, 28, 21, 20,  2,  7,  3,  1,  9, 17,  0])"
            ]
          },
          "metadata": {},
          "execution_count": 46
        }
      ],
      "source": [
        "err_idx = np.argsort(error)\n",
        "err_idx"
      ]
    },
    {
      "cell_type": "code",
      "execution_count": 47,
      "metadata": {
        "colab": {
          "base_uri": "https://localhost:8080/"
        },
        "id": "eLGHDa7rJAea",
        "outputId": "f856119e-ce00-4bd4-ee8b-3167bd31a594"
      },
      "outputs": [
        {
          "output_type": "execute_result",
          "data": {
            "text/plain": [
              "(tensor([[1, 0, 0],\n",
              "         [1, 0, 0],\n",
              "         [1, 0, 0],\n",
              "         [0, 0, 1],\n",
              "         [1, 0, 0],\n",
              "         [1, 0, 0],\n",
              "         [1, 0, 0],\n",
              "         [1, 0, 0],\n",
              "         [1, 0, 0],\n",
              "         [1, 0, 0],\n",
              "         [0, 1, 0],\n",
              "         [0, 0, 1],\n",
              "         [1, 0, 0],\n",
              "         [0, 1, 0],\n",
              "         [0, 0, 1],\n",
              "         [0, 1, 0],\n",
              "         [1, 0, 0],\n",
              "         [0, 1, 0],\n",
              "         [0, 1, 0],\n",
              "         [1, 0, 0],\n",
              "         [0, 1, 0],\n",
              "         [0, 1, 0],\n",
              "         [1, 0, 0],\n",
              "         [0, 1, 0],\n",
              "         [1, 0, 0],\n",
              "         [0, 1, 0],\n",
              "         [0, 1, 0],\n",
              "         [0, 1, 0],\n",
              "         [0, 1, 0],\n",
              "         [0, 1, 0]]),\n",
              " array([0.3012234 , 0.34683478, 0.41141716, 0.44676381, 0.51941049,\n",
              "        0.52507138, 0.63287973, 0.67816007, 0.76076221, 0.80611575,\n",
              "        0.88249475, 0.88465494, 0.97898287, 0.98378676, 1.01897621,\n",
              "        1.0585537 , 1.08608174, 1.1145184 , 1.17780364, 1.18482292,\n",
              "        1.19713116, 1.21181071, 1.21615362, 1.22289729, 1.25105023,\n",
              "        1.32139289, 1.3578229 , 1.37715089, 1.44546545, 1.55210292]))"
            ]
          },
          "metadata": {},
          "execution_count": 47
        }
      ],
      "source": [
        "y_test[err_idx], error[err_idx]"
      ]
    },
    {
      "cell_type": "code",
      "execution_count": 28,
      "metadata": {
        "id": "DStIw1jsJil3"
      },
      "outputs": [],
      "source": []
    }
  ],
  "metadata": {
    "accelerator": "GPU",
    "colab": {
      "provenance": []
    },
    "kernelspec": {
      "display_name": "Python 3",
      "language": "python",
      "name": "python3"
    },
    "language_info": {
      "codemirror_mode": {
        "name": "ipython",
        "version": 3
      },
      "file_extension": ".py",
      "mimetype": "text/x-python",
      "name": "python",
      "nbconvert_exporter": "python",
      "pygments_lexer": "ipython3",
      "version": "3.10.4"
    }
  },
  "nbformat": 4,
  "nbformat_minor": 0
}