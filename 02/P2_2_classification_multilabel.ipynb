{
  "nbformat": 4,
  "nbformat_minor": 0,
  "metadata": {
    "colab": {
      "provenance": []
    },
    "kernelspec": {
      "name": "python3",
      "display_name": "Python 3"
    },
    "accelerator": "GPU"
  },
  "cells": [
    {
      "cell_type": "code",
      "metadata": {
        "id": "3V1snXHQgVLJ"
      },
      "source": [
        "import numpy as np\n",
        "import random\n",
        "import tensorflow as tf\n",
        "from tensorflow import keras\n",
        "import matplotlib.pyplot as plt \n",
        "from sklearn.metrics import multilabel_confusion_matrix\n",
        "from sklearn.datasets import make_multilabel_classification\n",
        "import tensorflow.keras.backend as K\n"
      ],
      "execution_count": 1,
      "outputs": []
    },
    {
      "cell_type": "code",
      "metadata": {
        "id": "U9vEe0WH2jG1"
      },
      "source": [],
      "execution_count": 1,
      "outputs": []
    },
    {
      "cell_type": "code",
      "metadata": {
        "id": "-FhdwBEvgVr3"
      },
      "source": [
        "\n",
        "# generate fake data \n",
        "X, y = make_multilabel_classification(n_samples=10000, n_features=10, n_classes=5, n_labels=2, random_state=1)\n",
        "data = X\n"
      ],
      "execution_count": 2,
      "outputs": []
    },
    {
      "cell_type": "code",
      "metadata": {
        "colab": {
          "base_uri": "https://localhost:8080/"
        },
        "id": "llb-v1H0s0DL",
        "outputId": "41004623-e9e3-492e-fa8e-e7c576a76872"
      },
      "source": [
        "X.shape, y.shape"
      ],
      "execution_count": 3,
      "outputs": [
        {
          "output_type": "execute_result",
          "data": {
            "text/plain": [
              "((10000, 10), (10000, 5))"
            ]
          },
          "metadata": {},
          "execution_count": 3
        }
      ]
    },
    {
      "cell_type": "code",
      "metadata": {
        "colab": {
          "base_uri": "https://localhost:8080/"
        },
        "id": "XlNyRzEvu7aO",
        "outputId": "e8fad10f-173b-47d5-8130-a66ce987cab5"
      },
      "source": [
        "np.sum(y, axis = 0)"
      ],
      "execution_count": 4,
      "outputs": [
        {
          "output_type": "execute_result",
          "data": {
            "text/plain": [
              "array([5163, 6406,  339, 4442, 2893])"
            ]
          },
          "metadata": {},
          "execution_count": 4
        }
      ]
    },
    {
      "cell_type": "code",
      "metadata": {
        "colab": {
          "base_uri": "https://localhost:8080/"
        },
        "id": "Br10P-7ZWeAq",
        "outputId": "91f43fb2-4fb0-44ef-e09c-403db3b5394b"
      },
      "source": [
        "y[:10,:]"
      ],
      "execution_count": 5,
      "outputs": [
        {
          "output_type": "execute_result",
          "data": {
            "text/plain": [
              "array([[0, 0, 0, 0, 0],\n",
              "       [0, 1, 0, 0, 0],\n",
              "       [1, 0, 0, 0, 0],\n",
              "       [1, 1, 1, 1, 1],\n",
              "       [1, 1, 0, 0, 0],\n",
              "       [0, 1, 0, 0, 0],\n",
              "       [0, 0, 0, 1, 0],\n",
              "       [1, 1, 0, 1, 0],\n",
              "       [1, 1, 0, 1, 1],\n",
              "       [0, 1, 0, 0, 0]])"
            ]
          },
          "metadata": {},
          "execution_count": 5
        }
      ]
    },
    {
      "cell_type": "code",
      "metadata": {
        "colab": {
          "base_uri": "https://localhost:8080/",
          "height": 283
        },
        "id": "Zkgpcx1jr7T0",
        "outputId": "1346db86-db55-47db-cb01-d43beb5c20f8"
      },
      "source": [
        "y_col = 1\n",
        "x_col_1 = 0\n",
        "x_col_2 = 2\n",
        "\n",
        "\n",
        "ycolor = y[:, y_col]\n",
        "colormap = np.array(['r', 'b'])\n",
        "\n",
        "plt.scatter(X[:, x_col_1], X[:, x_col_2], c=colormap[ycolor])"
      ],
      "execution_count": 6,
      "outputs": [
        {
          "output_type": "execute_result",
          "data": {
            "text/plain": [
              "<matplotlib.collections.PathCollection at 0x7facaa6b92b0>"
            ]
          },
          "metadata": {},
          "execution_count": 6
        },
        {
          "output_type": "display_data",
          "data": {
            "text/plain": [
              "<Figure size 432x288 with 1 Axes>"
            ],
            "image/png": "[encoded data removed]"
          },
          "metadata": {
            "needs_background": "light"
          }
        }
      ]
    },
    {
      "cell_type": "code",
      "metadata": {
        "id": "33Glze9MsXL7"
      },
      "source": [],
      "execution_count": 6,
      "outputs": []
    },
    {
      "cell_type": "code",
      "metadata": {
        "id": "k_o8nqHHgcbn"
      },
      "source": [
        "\n",
        "# idenfify number of data \n",
        "N_samples = data.shape[0]\n",
        "N_to_train = int(N_samples * 0.7) # 70% to train\n",
        "N_to_valid = int(N_samples * 0.8) # 10% for validation\n"
      ],
      "execution_count": 7,
      "outputs": []
    },
    {
      "cell_type": "code",
      "metadata": {
        "id": "i-0LuehugdvP"
      },
      "source": [
        "\n",
        "# randomise data\n",
        "shuffle_data = [x for x in np.random.permutation(N_samples)]\n",
        "data = data[shuffle_data,:]\n",
        "y = y[shuffle_data]"
      ],
      "execution_count": 8,
      "outputs": []
    },
    {
      "cell_type": "code",
      "metadata": {
        "colab": {
          "base_uri": "https://localhost:8080/"
        },
        "id": "7_8HYHg6ge2Q",
        "outputId": "856acf23-333d-4106-8553-11d4f45faf17"
      },
      "source": [
        "\n",
        "# Data preparation data -> test, validation, test\n",
        "data_train = data[:N_to_train,:]\n",
        "y_train = y[:N_to_train]\n",
        "data_train.shape\n",
        "\n",
        "data_val = data[N_to_train:N_to_valid,:]\n",
        "y_val = y[N_to_train:N_to_valid]\n",
        "data_val.shape\n",
        "\n",
        "data_test = data[N_to_valid:,:]\n",
        "y_test = y[N_to_valid:]\n",
        "data_test.shape\n"
      ],
      "execution_count": 9,
      "outputs": [
        {
          "output_type": "execute_result",
          "data": {
            "text/plain": [
              "(2000, 10)"
            ]
          },
          "metadata": {},
          "execution_count": 9
        }
      ]
    },
    {
      "cell_type": "code",
      "metadata": {
        "id": "M46U18EB0lb5"
      },
      "source": [],
      "execution_count": 9,
      "outputs": []
    },
    {
      "cell_type": "code",
      "metadata": {
        "id": "Mmkh5ZVN0kwd"
      },
      "source": [],
      "execution_count": 9,
      "outputs": []
    },
    {
      "cell_type": "code",
      "metadata": {
        "id": "l0iUkf_u1qnE"
      },
      "source": [],
      "execution_count": 9,
      "outputs": []
    },
    {
      "cell_type": "code",
      "metadata": {
        "id": "5g-nGsRq11cV"
      },
      "source": [],
      "execution_count": 9,
      "outputs": []
    },
    {
      "cell_type": "code",
      "metadata": {
        "colab": {
          "base_uri": "https://localhost:8080/"
        },
        "id": "6-eE9IEqghrp",
        "outputId": "fdd92acb-e823-4e8d-b22a-9e3db8ba788b"
      },
      "source": [
        "\n",
        "# some model: multilayer perceptron\n",
        "model = tf.keras.Sequential()\n",
        "model.add(tf.keras.layers.Dense(32, input_shape=(10,)))\n",
        "model.add(tf.keras.layers.BatchNormalization())\n",
        "model.add(tf.keras.layers.Dense(16))\n",
        "model.add(tf.keras.layers.Dropout(0.2))\n",
        "model.add(tf.keras.layers.Dense(5, activation = 'sigmoid'))\n",
        "model.compile(optimizer='adam', \n",
        "              loss='binary_crossentropy',\n",
        "              metrics = [tf.keras.metrics.BinaryAccuracy()])\n",
        "\n",
        "model.summary()"
      ],
      "execution_count": 10,
      "outputs": [
        {
          "output_type": "stream",
          "name": "stdout",
          "text": [
            "Model: \"sequential\"\n",
            "_________________________________________________________________\n",
            " Layer (type)                Output Shape              Param #   \n",
            "=================================================================\n",
            " dense (Dense)               (None, 32)                352       \n",
            "                                                                 \n",
            " batch_normalization (BatchN  (None, 32)               128       \n",
            " ormalization)                                                   \n",
            "                                                                 \n",
            " dense_1 (Dense)             (None, 16)                528       \n",
            "                                                                 \n",
            " dropout (Dropout)           (None, 16)                0         \n",
            "                                                                 \n",
            " dense_2 (Dense)             (None, 5)                 85        \n",
            "                                                                 \n",
            "=================================================================\n",
            "Total params: 1,093\n",
            "Trainable params: 1,029\n",
            "Non-trainable params: 64\n",
            "_________________________________________________________________\n"
          ]
        }
      ]
    },
    {
      "cell_type": "code",
      "metadata": {
        "colab": {
          "base_uri": "https://localhost:8080/"
        },
        "id": "6gTeBAFqviHK",
        "outputId": "941b1452-511f-47d6-d930-f64ebf9fda67"
      },
      "source": [
        "model(np.random.random((1, 10)))"
      ],
      "execution_count": 11,
      "outputs": [
        {
          "output_type": "execute_result",
          "data": {
            "text/plain": [
              "<tf.Tensor: shape=(1, 5), dtype=float32, numpy=\n",
              "array([[0.6106124 , 0.5754304 , 0.39538798, 0.46028492, 0.45906717]],\n",
              "      dtype=float32)>"
            ]
          },
          "metadata": {},
          "execution_count": 11
        }
      ]
    },
    {
      "cell_type": "code",
      "metadata": {
        "id": "Q8dFusoixoz2"
      },
      "source": [],
      "execution_count": 11,
      "outputs": []
    },
    {
      "cell_type": "code",
      "metadata": {
        "id": "NsX2nOv5xbmw"
      },
      "source": [],
      "execution_count": 11,
      "outputs": []
    },
    {
      "cell_type": "code",
      "metadata": {
        "colab": {
          "base_uri": "https://localhost:8080/"
        },
        "id": "eT3i9QmfgjBc",
        "outputId": "85711ee2-2984-4e5f-e9cf-af3d2c9c99f5"
      },
      "source": [
        "\n",
        "\n",
        "# estimating model parameters\n",
        "epochs_number = 100\n",
        "history = model.fit(x = data_train, y = y_train, \n",
        "                    epochs=epochs_number, \n",
        "                    batch_size = 128,\n",
        "                    validation_data = (data_val, y_val)\n",
        "                    )\n",
        "\n"
      ],
      "execution_count": 12,
      "outputs": [
        {
          "output_type": "stream",
          "name": "stdout",
          "text": [
            "Epoch 1/100\n",
            "55/55 [==============================] - 3s 8ms/step - loss: 0.6532 - binary_accuracy: 0.6519 - val_loss: 0.4331 - val_binary_accuracy: 0.8018\n",
            "Epoch 2/100\n",
            "55/55 [==============================] - 0s 4ms/step - loss: 0.4878 - binary_accuracy: 0.7726 - val_loss: 0.4123 - val_binary_accuracy: 0.8234\n",
            "Epoch 3/100\n",
            "55/55 [==============================] - 0s 4ms/step - loss: 0.4356 - binary_accuracy: 0.8001 - val_loss: 0.4006 - val_binary_accuracy: 0.8278\n",
            "Epoch 4/100\n",
            "55/55 [==============================] - 0s 5ms/step - loss: 0.4093 - binary_accuracy: 0.8095 - val_loss: 0.3835 - val_binary_accuracy: 0.8264\n",
            "Epoch 5/100\n",
            "55/55 [==============================] - 0s 5ms/step - loss: 0.4026 - binary_accuracy: 0.8124 - val_loss: 0.3695 - val_binary_accuracy: 0.8294\n",
            "Epoch 6/100\n",
            "55/55 [==============================] - 0s 4ms/step - loss: 0.3988 - binary_accuracy: 0.8140 - val_loss: 0.3654 - val_binary_accuracy: 0.8306\n",
            "Epoch 7/100\n",
            "55/55 [==============================] - 0s 8ms/step - loss: 0.3970 - binary_accuracy: 0.8159 - val_loss: 0.3656 - val_binary_accuracy: 0.8282\n",
            "Epoch 8/100\n",
            "55/55 [==============================] - 0s 7ms/step - loss: 0.3966 - binary_accuracy: 0.8158 - val_loss: 0.3662 - val_binary_accuracy: 0.8300\n",
            "Epoch 9/100\n",
            "55/55 [==============================] - 0s 4ms/step - loss: 0.3936 - binary_accuracy: 0.8179 - val_loss: 0.3643 - val_binary_accuracy: 0.8286\n",
            "Epoch 10/100\n",
            "55/55 [==============================] - 0s 4ms/step - loss: 0.3939 - binary_accuracy: 0.8168 - val_loss: 0.3643 - val_binary_accuracy: 0.8276\n",
            "Epoch 11/100\n",
            "55/55 [==============================] - 0s 5ms/step - loss: 0.3906 - binary_accuracy: 0.8200 - val_loss: 0.3646 - val_binary_accuracy: 0.8286\n",
            "Epoch 12/100\n",
            "55/55 [==============================] - 0s 5ms/step - loss: 0.3925 - binary_accuracy: 0.8159 - val_loss: 0.3642 - val_binary_accuracy: 0.8278\n",
            "Epoch 13/100\n",
            "55/55 [==============================] - 0s 4ms/step - loss: 0.3928 - binary_accuracy: 0.8173 - val_loss: 0.3644 - val_binary_accuracy: 0.8298\n",
            "Epoch 14/100\n",
            "55/55 [==============================] - 0s 4ms/step - loss: 0.3922 - binary_accuracy: 0.8170 - val_loss: 0.3640 - val_binary_accuracy: 0.8302\n",
            "Epoch 15/100\n",
            "55/55 [==============================] - 0s 4ms/step - loss: 0.3923 - binary_accuracy: 0.8168 - val_loss: 0.3636 - val_binary_accuracy: 0.8276\n",
            "Epoch 16/100\n",
            "55/55 [==============================] - 0s 4ms/step - loss: 0.3897 - binary_accuracy: 0.8192 - val_loss: 0.3635 - val_binary_accuracy: 0.8290\n",
            "Epoch 17/100\n",
            "55/55 [==============================] - 0s 5ms/step - loss: 0.3905 - binary_accuracy: 0.8190 - val_loss: 0.3638 - val_binary_accuracy: 0.8286\n",
            "Epoch 18/100\n",
            "55/55 [==============================] - 0s 5ms/step - loss: 0.3918 - binary_accuracy: 0.8173 - val_loss: 0.3636 - val_binary_accuracy: 0.8274\n",
            "Epoch 19/100\n",
            "55/55 [==============================] - 0s 5ms/step - loss: 0.3893 - binary_accuracy: 0.8188 - val_loss: 0.3640 - val_binary_accuracy: 0.8272\n",
            "Epoch 20/100\n",
            "55/55 [==============================] - 0s 5ms/step - loss: 0.3893 - binary_accuracy: 0.8187 - val_loss: 0.3642 - val_binary_accuracy: 0.8270\n",
            "Epoch 21/100\n",
            "55/55 [==============================] - 0s 4ms/step - loss: 0.3887 - binary_accuracy: 0.8199 - val_loss: 0.3638 - val_binary_accuracy: 0.8278\n",
            "Epoch 22/100\n",
            "55/55 [==============================] - 0s 5ms/step - loss: 0.3887 - binary_accuracy: 0.8199 - val_loss: 0.3640 - val_binary_accuracy: 0.8272\n",
            "Epoch 23/100\n",
            "55/55 [==============================] - 0s 5ms/step - loss: 0.3894 - binary_accuracy: 0.8195 - val_loss: 0.3638 - val_binary_accuracy: 0.8304\n",
            "Epoch 24/100\n",
            "55/55 [==============================] - 0s 5ms/step - loss: 0.3884 - binary_accuracy: 0.8209 - val_loss: 0.3645 - val_binary_accuracy: 0.8302\n",
            "Epoch 25/100\n",
            "55/55 [==============================] - 0s 5ms/step - loss: 0.3885 - binary_accuracy: 0.8210 - val_loss: 0.3638 - val_binary_accuracy: 0.8296\n",
            "Epoch 26/100\n",
            "55/55 [==============================] - 0s 5ms/step - loss: 0.3895 - binary_accuracy: 0.8207 - val_loss: 0.3636 - val_binary_accuracy: 0.8298\n",
            "Epoch 27/100\n",
            "55/55 [==============================] - 0s 5ms/step - loss: 0.3876 - binary_accuracy: 0.8202 - val_loss: 0.3637 - val_binary_accuracy: 0.8284\n",
            "Epoch 28/100\n",
            "55/55 [==============================] - 0s 5ms/step - loss: 0.3884 - binary_accuracy: 0.8203 - val_loss: 0.3636 - val_binary_accuracy: 0.8300\n",
            "Epoch 29/100\n",
            "55/55 [==============================] - 0s 5ms/step - loss: 0.3880 - binary_accuracy: 0.8228 - val_loss: 0.3635 - val_binary_accuracy: 0.8284\n",
            "Epoch 30/100\n",
            "55/55 [==============================] - 0s 4ms/step - loss: 0.3888 - binary_accuracy: 0.8189 - val_loss: 0.3642 - val_binary_accuracy: 0.8278\n",
            "Epoch 31/100\n",
            "55/55 [==============================] - 0s 5ms/step - loss: 0.3880 - binary_accuracy: 0.8217 - val_loss: 0.3642 - val_binary_accuracy: 0.8290\n",
            "Epoch 32/100\n",
            "55/55 [==============================] - 0s 5ms/step - loss: 0.3884 - binary_accuracy: 0.8215 - val_loss: 0.3641 - val_binary_accuracy: 0.8296\n",
            "Epoch 33/100\n",
            "55/55 [==============================] - 0s 7ms/step - loss: 0.3865 - binary_accuracy: 0.8227 - val_loss: 0.3633 - val_binary_accuracy: 0.8286\n",
            "Epoch 34/100\n",
            "55/55 [==============================] - 0s 6ms/step - loss: 0.3885 - binary_accuracy: 0.8206 - val_loss: 0.3633 - val_binary_accuracy: 0.8290\n",
            "Epoch 35/100\n",
            "55/55 [==============================] - 0s 7ms/step - loss: 0.3866 - binary_accuracy: 0.8236 - val_loss: 0.3638 - val_binary_accuracy: 0.8272\n",
            "Epoch 36/100\n",
            "55/55 [==============================] - 0s 7ms/step - loss: 0.3881 - binary_accuracy: 0.8224 - val_loss: 0.3642 - val_binary_accuracy: 0.8282\n",
            "Epoch 37/100\n",
            "55/55 [==============================] - 0s 7ms/step - loss: 0.3876 - binary_accuracy: 0.8204 - val_loss: 0.3636 - val_binary_accuracy: 0.8296\n",
            "Epoch 38/100\n",
            "55/55 [==============================] - 0s 5ms/step - loss: 0.3862 - binary_accuracy: 0.8211 - val_loss: 0.3635 - val_binary_accuracy: 0.8290\n",
            "Epoch 39/100\n",
            "55/55 [==============================] - 0s 4ms/step - loss: 0.3853 - binary_accuracy: 0.8222 - val_loss: 0.3636 - val_binary_accuracy: 0.8308\n",
            "Epoch 40/100\n",
            "55/55 [==============================] - 0s 4ms/step - loss: 0.3867 - binary_accuracy: 0.8222 - val_loss: 0.3634 - val_binary_accuracy: 0.8290\n",
            "Epoch 41/100\n",
            "55/55 [==============================] - 0s 5ms/step - loss: 0.3859 - binary_accuracy: 0.8222 - val_loss: 0.3641 - val_binary_accuracy: 0.8300\n",
            "Epoch 42/100\n",
            "55/55 [==============================] - 0s 5ms/step - loss: 0.3863 - binary_accuracy: 0.8217 - val_loss: 0.3642 - val_binary_accuracy: 0.8294\n",
            "Epoch 43/100\n",
            "55/55 [==============================] - 0s 4ms/step - loss: 0.3861 - binary_accuracy: 0.8229 - val_loss: 0.3637 - val_binary_accuracy: 0.8290\n",
            "Epoch 44/100\n",
            "55/55 [==============================] - 0s 5ms/step - loss: 0.3843 - binary_accuracy: 0.8244 - val_loss: 0.3640 - val_binary_accuracy: 0.8296\n",
            "Epoch 45/100\n",
            "55/55 [==============================] - 0s 5ms/step - loss: 0.3858 - binary_accuracy: 0.8233 - val_loss: 0.3636 - val_binary_accuracy: 0.8296\n",
            "Epoch 46/100\n",
            "55/55 [==============================] - 0s 4ms/step - loss: 0.3857 - binary_accuracy: 0.8235 - val_loss: 0.3637 - val_binary_accuracy: 0.8298\n",
            "Epoch 47/100\n",
            "55/55 [==============================] - 0s 5ms/step - loss: 0.3848 - binary_accuracy: 0.8230 - val_loss: 0.3636 - val_binary_accuracy: 0.8292\n",
            "Epoch 48/100\n",
            "55/55 [==============================] - 0s 5ms/step - loss: 0.3853 - binary_accuracy: 0.8225 - val_loss: 0.3630 - val_binary_accuracy: 0.8292\n",
            "Epoch 49/100\n",
            "55/55 [==============================] - 0s 5ms/step - loss: 0.3851 - binary_accuracy: 0.8230 - val_loss: 0.3633 - val_binary_accuracy: 0.8290\n",
            "Epoch 50/100\n",
            "55/55 [==============================] - 0s 4ms/step - loss: 0.3855 - binary_accuracy: 0.8241 - val_loss: 0.3631 - val_binary_accuracy: 0.8286\n",
            "Epoch 51/100\n",
            "55/55 [==============================] - 0s 4ms/step - loss: 0.3844 - binary_accuracy: 0.8234 - val_loss: 0.3630 - val_binary_accuracy: 0.8300\n",
            "Epoch 52/100\n",
            "55/55 [==============================] - 0s 4ms/step - loss: 0.3848 - binary_accuracy: 0.8225 - val_loss: 0.3631 - val_binary_accuracy: 0.8282\n",
            "Epoch 53/100\n",
            "55/55 [==============================] - 0s 5ms/step - loss: 0.3853 - binary_accuracy: 0.8229 - val_loss: 0.3632 - val_binary_accuracy: 0.8286\n",
            "Epoch 54/100\n",
            "55/55 [==============================] - 0s 5ms/step - loss: 0.3841 - binary_accuracy: 0.8246 - val_loss: 0.3634 - val_binary_accuracy: 0.8292\n",
            "Epoch 55/100\n",
            "55/55 [==============================] - 0s 5ms/step - loss: 0.3857 - binary_accuracy: 0.8230 - val_loss: 0.3635 - val_binary_accuracy: 0.8284\n",
            "Epoch 56/100\n",
            "55/55 [==============================] - 0s 5ms/step - loss: 0.3843 - binary_accuracy: 0.8244 - val_loss: 0.3634 - val_binary_accuracy: 0.8282\n",
            "Epoch 57/100\n",
            "55/55 [==============================] - 0s 5ms/step - loss: 0.3831 - binary_accuracy: 0.8244 - val_loss: 0.3643 - val_binary_accuracy: 0.8276\n",
            "Epoch 58/100\n",
            "55/55 [==============================] - 0s 5ms/step - loss: 0.3858 - binary_accuracy: 0.8243 - val_loss: 0.3629 - val_binary_accuracy: 0.8306\n",
            "Epoch 59/100\n",
            "55/55 [==============================] - 0s 5ms/step - loss: 0.3841 - binary_accuracy: 0.8245 - val_loss: 0.3630 - val_binary_accuracy: 0.8282\n",
            "Epoch 60/100\n",
            "55/55 [==============================] - 0s 5ms/step - loss: 0.3858 - binary_accuracy: 0.8229 - val_loss: 0.3633 - val_binary_accuracy: 0.8294\n",
            "Epoch 61/100\n",
            "55/55 [==============================] - 0s 4ms/step - loss: 0.3850 - binary_accuracy: 0.8229 - val_loss: 0.3632 - val_binary_accuracy: 0.8274\n",
            "Epoch 62/100\n",
            "55/55 [==============================] - 0s 4ms/step - loss: 0.3827 - binary_accuracy: 0.8250 - val_loss: 0.3627 - val_binary_accuracy: 0.8290\n",
            "Epoch 63/100\n",
            "55/55 [==============================] - 0s 4ms/step - loss: 0.3846 - binary_accuracy: 0.8242 - val_loss: 0.3632 - val_binary_accuracy: 0.8288\n",
            "Epoch 64/100\n",
            "55/55 [==============================] - 0s 5ms/step - loss: 0.3839 - binary_accuracy: 0.8245 - val_loss: 0.3634 - val_binary_accuracy: 0.8266\n",
            "Epoch 65/100\n",
            "55/55 [==============================] - 0s 4ms/step - loss: 0.3849 - binary_accuracy: 0.8247 - val_loss: 0.3635 - val_binary_accuracy: 0.8290\n",
            "Epoch 66/100\n",
            "55/55 [==============================] - 0s 4ms/step - loss: 0.3854 - binary_accuracy: 0.8229 - val_loss: 0.3636 - val_binary_accuracy: 0.8272\n",
            "Epoch 67/100\n",
            "55/55 [==============================] - 0s 4ms/step - loss: 0.3831 - binary_accuracy: 0.8258 - val_loss: 0.3628 - val_binary_accuracy: 0.8292\n",
            "Epoch 68/100\n",
            "55/55 [==============================] - 0s 5ms/step - loss: 0.3844 - binary_accuracy: 0.8237 - val_loss: 0.3630 - val_binary_accuracy: 0.8302\n",
            "Epoch 69/100\n",
            "55/55 [==============================] - 0s 4ms/step - loss: 0.3842 - binary_accuracy: 0.8255 - val_loss: 0.3634 - val_binary_accuracy: 0.8288\n",
            "Epoch 70/100\n",
            "55/55 [==============================] - 0s 4ms/step - loss: 0.3846 - binary_accuracy: 0.8232 - val_loss: 0.3637 - val_binary_accuracy: 0.8282\n",
            "Epoch 71/100\n",
            "55/55 [==============================] - 0s 4ms/step - loss: 0.3853 - binary_accuracy: 0.8249 - val_loss: 0.3628 - val_binary_accuracy: 0.8300\n",
            "Epoch 72/100\n",
            "55/55 [==============================] - 0s 5ms/step - loss: 0.3831 - binary_accuracy: 0.8252 - val_loss: 0.3632 - val_binary_accuracy: 0.8294\n",
            "Epoch 73/100\n",
            "55/55 [==============================] - 0s 4ms/step - loss: 0.3833 - binary_accuracy: 0.8248 - val_loss: 0.3632 - val_binary_accuracy: 0.8298\n",
            "Epoch 74/100\n",
            "55/55 [==============================] - 0s 4ms/step - loss: 0.3834 - binary_accuracy: 0.8255 - val_loss: 0.3631 - val_binary_accuracy: 0.8300\n",
            "Epoch 75/100\n",
            "55/55 [==============================] - 0s 5ms/step - loss: 0.3846 - binary_accuracy: 0.8251 - val_loss: 0.3628 - val_binary_accuracy: 0.8300\n",
            "Epoch 76/100\n",
            "55/55 [==============================] - 0s 6ms/step - loss: 0.3841 - binary_accuracy: 0.8243 - val_loss: 0.3633 - val_binary_accuracy: 0.8288\n",
            "Epoch 77/100\n",
            "55/55 [==============================] - 0s 6ms/step - loss: 0.3858 - binary_accuracy: 0.8227 - val_loss: 0.3632 - val_binary_accuracy: 0.8290\n",
            "Epoch 78/100\n",
            "55/55 [==============================] - 0s 6ms/step - loss: 0.3848 - binary_accuracy: 0.8237 - val_loss: 0.3631 - val_binary_accuracy: 0.8312\n",
            "Epoch 79/100\n",
            "55/55 [==============================] - 0s 7ms/step - loss: 0.3841 - binary_accuracy: 0.8265 - val_loss: 0.3633 - val_binary_accuracy: 0.8286\n",
            "Epoch 80/100\n",
            "55/55 [==============================] - 0s 7ms/step - loss: 0.3832 - binary_accuracy: 0.8255 - val_loss: 0.3627 - val_binary_accuracy: 0.8288\n",
            "Epoch 81/100\n",
            "55/55 [==============================] - 0s 8ms/step - loss: 0.3840 - binary_accuracy: 0.8251 - val_loss: 0.3629 - val_binary_accuracy: 0.8294\n",
            "Epoch 82/100\n",
            "55/55 [==============================] - 0s 5ms/step - loss: 0.3825 - binary_accuracy: 0.8273 - val_loss: 0.3632 - val_binary_accuracy: 0.8304\n",
            "Epoch 83/100\n",
            "55/55 [==============================] - 0s 5ms/step - loss: 0.3826 - binary_accuracy: 0.8249 - val_loss: 0.3630 - val_binary_accuracy: 0.8288\n",
            "Epoch 84/100\n",
            "55/55 [==============================] - 0s 4ms/step - loss: 0.3812 - binary_accuracy: 0.8244 - val_loss: 0.3632 - val_binary_accuracy: 0.8284\n",
            "Epoch 85/100\n",
            "55/55 [==============================] - 0s 4ms/step - loss: 0.3843 - binary_accuracy: 0.8262 - val_loss: 0.3634 - val_binary_accuracy: 0.8292\n",
            "Epoch 86/100\n",
            "55/55 [==============================] - 0s 5ms/step - loss: 0.3820 - binary_accuracy: 0.8259 - val_loss: 0.3631 - val_binary_accuracy: 0.8290\n",
            "Epoch 87/100\n",
            "55/55 [==============================] - 0s 5ms/step - loss: 0.3818 - binary_accuracy: 0.8271 - val_loss: 0.3635 - val_binary_accuracy: 0.8290\n",
            "Epoch 88/100\n",
            "55/55 [==============================] - 0s 4ms/step - loss: 0.3825 - binary_accuracy: 0.8264 - val_loss: 0.3628 - val_binary_accuracy: 0.8304\n",
            "Epoch 89/100\n",
            "55/55 [==============================] - 0s 5ms/step - loss: 0.3846 - binary_accuracy: 0.8243 - val_loss: 0.3631 - val_binary_accuracy: 0.8286\n",
            "Epoch 90/100\n",
            "55/55 [==============================] - 0s 5ms/step - loss: 0.3813 - binary_accuracy: 0.8256 - val_loss: 0.3629 - val_binary_accuracy: 0.8296\n",
            "Epoch 91/100\n",
            "55/55 [==============================] - 0s 5ms/step - loss: 0.3827 - binary_accuracy: 0.8260 - val_loss: 0.3626 - val_binary_accuracy: 0.8306\n",
            "Epoch 92/100\n",
            "55/55 [==============================] - 0s 4ms/step - loss: 0.3835 - binary_accuracy: 0.8268 - val_loss: 0.3635 - val_binary_accuracy: 0.8290\n",
            "Epoch 93/100\n",
            "55/55 [==============================] - 0s 5ms/step - loss: 0.3819 - binary_accuracy: 0.8269 - val_loss: 0.3638 - val_binary_accuracy: 0.8288\n",
            "Epoch 94/100\n",
            "55/55 [==============================] - 0s 4ms/step - loss: 0.3831 - binary_accuracy: 0.8244 - val_loss: 0.3633 - val_binary_accuracy: 0.8288\n",
            "Epoch 95/100\n",
            "55/55 [==============================] - 0s 5ms/step - loss: 0.3834 - binary_accuracy: 0.8252 - val_loss: 0.3627 - val_binary_accuracy: 0.8296\n",
            "Epoch 96/100\n",
            "55/55 [==============================] - 0s 4ms/step - loss: 0.3821 - binary_accuracy: 0.8253 - val_loss: 0.3631 - val_binary_accuracy: 0.8298\n",
            "Epoch 97/100\n",
            "55/55 [==============================] - 0s 5ms/step - loss: 0.3826 - binary_accuracy: 0.8252 - val_loss: 0.3631 - val_binary_accuracy: 0.8288\n",
            "Epoch 98/100\n",
            "55/55 [==============================] - 0s 4ms/step - loss: 0.3826 - binary_accuracy: 0.8255 - val_loss: 0.3628 - val_binary_accuracy: 0.8292\n",
            "Epoch 99/100\n",
            "55/55 [==============================] - 0s 4ms/step - loss: 0.3824 - binary_accuracy: 0.8241 - val_loss: 0.3629 - val_binary_accuracy: 0.8288\n",
            "Epoch 100/100\n",
            "55/55 [==============================] - 0s 4ms/step - loss: 0.3822 - binary_accuracy: 0.8252 - val_loss: 0.3636 - val_binary_accuracy: 0.8282\n"
          ]
        }
      ]
    },
    {
      "cell_type": "code",
      "metadata": {
        "id": "y5HfIvsbgkO7",
        "colab": {
          "base_uri": "https://localhost:8080/",
          "height": 266
        },
        "outputId": "7bdb231b-039f-4253-acd7-fd1e996e03c0"
      },
      "source": [
        "\n",
        "# plot loss of model\n",
        "epochs = [i for i in range(epochs_number)]\n",
        "plt.plot(epochs, history.history['loss'])\n",
        "plt.plot(epochs, history.history['val_loss'])\n",
        "plt.show()\n"
      ],
      "execution_count": 13,
      "outputs": [
        {
          "output_type": "display_data",
          "data": {
            "text/plain": [
              "<Figure size 432x288 with 1 Axes>"
            ],
            "image/png": "[encoded data removed]"
          },
          "metadata": {
            "needs_background": "light"
          }
        }
      ]
    },
    {
      "cell_type": "code",
      "metadata": {
        "id": "6PFx7rFpglkm",
        "colab": {
          "base_uri": "https://localhost:8080/"
        },
        "outputId": "16773c63-f799-4632-b1cf-943e3dae3c1e"
      },
      "source": [
        "\n",
        "\n",
        "# test model on unseen (test) data\n",
        "predictions = model.predict(data_test)\n",
        "predictions\n",
        "predicted_classes = np.round(predictions > 0.5)\n",
        "\n",
        "multilabel_confusion_matrix(y_test, predicted_classes)\n"
      ],
      "execution_count": 14,
      "outputs": [
        {
          "output_type": "stream",
          "name": "stdout",
          "text": [
            "63/63 [==============================] - 0s 1ms/step\n"
          ]
        },
        {
          "output_type": "execute_result",
          "data": {
            "text/plain": [
              "array([[[ 830,  164],\n",
              "        [ 198,  808]],\n",
              "\n",
              "       [[ 435,  298],\n",
              "        [ 156, 1111]],\n",
              "\n",
              "       [[1932,    2],\n",
              "        [  66,    0]],\n",
              "\n",
              "       [[ 926,  204],\n",
              "        [ 253,  617]],\n",
              "\n",
              "       [[1307,  110],\n",
              "        [ 237,  346]]])"
            ]
          },
          "metadata": {},
          "execution_count": 14
        }
      ]
    },
    {
      "cell_type": "code",
      "source": [
        "T = 0.5 # Treshold\n",
        "y_pred=[]\n",
        "for sample in predictions:\n",
        "  y_pred.append([1 if i>=0.5 else 0 for i in sample ] )\n",
        "y_pred = np.array(y_pred)\n",
        "y_pred"
      ],
      "metadata": {
        "colab": {
          "base_uri": "https://localhost:8080/"
        },
        "id": "MoiyBpz3bV6W",
        "outputId": "2e37860b-32b0-4d34-ff27-8263b472483a"
      },
      "execution_count": 21,
      "outputs": [
        {
          "output_type": "execute_result",
          "data": {
            "text/plain": [
              "array([[0, 1, 0, 0, 0],\n",
              "       [0, 1, 0, 0, 1],\n",
              "       [0, 1, 0, 0, 0],\n",
              "       ...,\n",
              "       [1, 1, 0, 1, 0],\n",
              "       [0, 1, 0, 0, 0],\n",
              "       [0, 1, 0, 1, 0]])"
            ]
          },
          "metadata": {},
          "execution_count": 21
        }
      ]
    },
    {
      "cell_type": "code",
      "source": [
        "from sklearn.metrics import accuracy_score\n",
        "accuracy_score(y_test, y_pred)"
      ],
      "metadata": {
        "colab": {
          "base_uri": "https://localhost:8080/"
        },
        "id": "GOwKo0j6bVn3",
        "outputId": "bf8fe2c4-b52e-4164-c2ea-1988f77b0afd"
      },
      "execution_count": 23,
      "outputs": [
        {
          "output_type": "execute_result",
          "data": {
            "text/plain": [
              "0.418"
            ]
          },
          "metadata": {},
          "execution_count": 23
        }
      ]
    },
    {
      "cell_type": "code",
      "source": [
        "from sklearn.metrics import multilabel_confusion_matrix\n",
        "multilabel_confusion_matrix(y_test, y_pred)"
      ],
      "metadata": {
        "colab": {
          "base_uri": "https://localhost:8080/"
        },
        "id": "uGuv9oI4byfy",
        "outputId": "c4c54fa9-dba1-4b07-8ae1-93872703bdb1"
      },
      "execution_count": 29,
      "outputs": [
        {
          "output_type": "execute_result",
          "data": {
            "text/plain": [
              "array([[[ 830,  164],\n",
              "        [ 198,  808]],\n",
              "\n",
              "       [[ 435,  298],\n",
              "        [ 156, 1111]],\n",
              "\n",
              "       [[1932,    2],\n",
              "        [  66,    0]],\n",
              "\n",
              "       [[ 926,  204],\n",
              "        [ 253,  617]],\n",
              "\n",
              "       [[1307,  110],\n",
              "        [ 237,  346]]])"
            ]
          },
          "metadata": {},
          "execution_count": 29
        }
      ]
    },
    {
      "cell_type": "code",
      "metadata": {
        "id": "lEY1DXyHwetW"
      },
      "source": [
        "from sklearn.metrics import classification_report"
      ],
      "execution_count": 15,
      "outputs": []
    },
    {
      "cell_type": "code",
      "metadata": {
        "colab": {
          "base_uri": "https://localhost:8080/"
        },
        "id": "vR1o_2c2whPT",
        "outputId": "9ac416fc-2f6f-40d4-d174-2de7110e2e50"
      },
      "source": [
        "print(classification_report(y_test, predicted_classes))"
      ],
      "execution_count": 16,
      "outputs": [
        {
          "output_type": "stream",
          "name": "stdout",
          "text": [
            "              precision    recall  f1-score   support\n",
            "\n",
            "           0       0.83      0.80      0.82      1006\n",
            "           1       0.79      0.88      0.83      1267\n",
            "           2       0.00      0.00      0.00        66\n",
            "           3       0.75      0.71      0.73       870\n",
            "           4       0.76      0.59      0.67       583\n",
            "\n",
            "   micro avg       0.79      0.76      0.77      3792\n",
            "   macro avg       0.63      0.60      0.61      3792\n",
            "weighted avg       0.77      0.76      0.76      3792\n",
            " samples avg       0.76      0.72      0.71      3792\n",
            "\n"
          ]
        },
        {
          "output_type": "stream",
          "name": "stderr",
          "text": [
            "/usr/local/lib/python3.8/dist-packages/sklearn/metrics/_classification.py:1318: UndefinedMetricWarning: Precision and F-score are ill-defined and being set to 0.0 in samples with no predicted labels. Use `zero_division` parameter to control this behavior.\n",
            "  _warn_prf(average, modifier, msg_start, len(result))\n",
            "/usr/local/lib/python3.8/dist-packages/sklearn/metrics/_classification.py:1318: UndefinedMetricWarning: Recall and F-score are ill-defined and being set to 0.0 in samples with no true labels. Use `zero_division` parameter to control this behavior.\n",
            "  _warn_prf(average, modifier, msg_start, len(result))\n"
          ]
        }
      ]
    },
    {
      "cell_type": "code",
      "metadata": {
        "id": "4xZ1d1WHYeNw",
        "colab": {
          "base_uri": "https://localhost:8080/"
        },
        "outputId": "007b4cfe-302b-45c1-e1bf-82add8d4c485"
      },
      "source": [
        "predicted_classes"
      ],
      "execution_count": 17,
      "outputs": [
        {
          "output_type": "execute_result",
          "data": {
            "text/plain": [
              "array([[0., 1., 0., 0., 0.],\n",
              "       [0., 1., 0., 0., 1.],\n",
              "       [0., 1., 0., 0., 0.],\n",
              "       ...,\n",
              "       [1., 1., 0., 1., 0.],\n",
              "       [0., 1., 0., 0., 0.],\n",
              "       [0., 1., 0., 1., 0.]], dtype=float16)"
            ]
          },
          "metadata": {},
          "execution_count": 17
        }
      ]
    },
    {
      "cell_type": "code",
      "metadata": {
        "colab": {
          "base_uri": "https://localhost:8080/"
        },
        "id": "WqzBKn2mXvmS",
        "outputId": "6dc0afa6-8496-403f-da1c-a96b86d24db1"
      },
      "source": [
        "np.round(predictions[:10,:],2)"
      ],
      "execution_count": 18,
      "outputs": [
        {
          "output_type": "execute_result",
          "data": {
            "text/plain": [
              "array([[0.02, 0.94, 0.01, 0.31, 0.18],\n",
              "       [0.46, 0.83, 0.02, 0.08, 0.9 ],\n",
              "       [0.14, 0.98, 0.02, 0.4 , 0.06],\n",
              "       [0.94, 0.64, 0.01, 0.15, 0.23],\n",
              "       [0.01, 0.5 , 0.12, 0.16, 0.23],\n",
              "       [0.14, 0.23, 0.05, 0.91, 0.68],\n",
              "       [0.08, 0.99, 0.01, 0.28, 0.23],\n",
              "       [1.  , 0.33, 0.01, 0.03, 0.43],\n",
              "       [0.79, 0.69, 0.13, 0.2 , 0.49],\n",
              "       [0.96, 0.51, 0.  , 0.14, 0.1 ]], dtype=float32)"
            ]
          },
          "metadata": {},
          "execution_count": 18
        }
      ]
    },
    {
      "cell_type": "code",
      "metadata": {
        "colab": {
          "base_uri": "https://localhost:8080/"
        },
        "id": "XmJ8Ncz7Xv--",
        "outputId": "3aa3e147-f651-495c-c468-6f15b04ab64a"
      },
      "source": [
        "y_test[:10,:]"
      ],
      "execution_count": 19,
      "outputs": [
        {
          "output_type": "execute_result",
          "data": {
            "text/plain": [
              "array([[0, 1, 0, 1, 0],\n",
              "       [0, 1, 0, 0, 1],\n",
              "       [0, 1, 0, 0, 0],\n",
              "       [1, 1, 0, 0, 0],\n",
              "       [0, 0, 0, 0, 0],\n",
              "       [0, 0, 0, 1, 1],\n",
              "       [0, 1, 0, 0, 0],\n",
              "       [1, 0, 0, 0, 0],\n",
              "       [0, 0, 0, 0, 0],\n",
              "       [1, 0, 0, 1, 0]])"
            ]
          },
          "metadata": {},
          "execution_count": 19
        }
      ]
    },
    {
      "cell_type": "markdown",
      "metadata": {
        "id": "2Yb2_DVhxrc5"
      },
      "source": [
        "###Average Precision\n",
        "[precision_score funtion has](https://scikit-learn.org/stable/modules/generated/sklearn.metrics.precision_score.html#sklearn-metrics-precision-score)\n",
        "\n",
        "***average*** parameter is required for multiclass/multilabel targets. \n",
        "\n",
        "* **None**, the scores for each class are returned. Otherwise, this determines the type of averaging performed on the data:\n",
        "\n",
        "* '**micro**':\n",
        "Calculate metrics globally by counting the total true positives, false negatives and false positives.\n",
        "\n",
        "* '**macro**':\n",
        "Calculate metrics for each label, and find their unweighted mean. This does not take label imbalance into account.\n",
        "\n",
        "* '**weighted**':\n",
        "Calculate metrics for each label, and find their average weighted by support (the number of true instances for each label). This alters ‘macro’ to account for label imbalance; it can result in an F-score that is not between precision and recall.\n",
        "\n",
        "* '**samples**':\n",
        "Calculate metrics for each instance, and find their average (only meaningful for multilabel classification where this differs from accuracy_score)."
      ]
    },
    {
      "cell_type": "markdown",
      "metadata": {
        "id": "brRnFggmuqGB"
      },
      "source": [
        "#### Use precision_score function"
      ]
    },
    {
      "cell_type": "code",
      "metadata": {
        "id": "tu5kWJ81YCaY",
        "colab": {
          "base_uri": "https://localhost:8080/"
        },
        "outputId": "a4b9921b-a5df-4cbc-80fa-efd67e55e6c4"
      },
      "source": [
        "from sklearn import metrics\n",
        "print(\"None \", metrics.precision_score(y_test, y_pred, average=None))  \n"
      ],
      "execution_count": 30,
      "outputs": [
        {
          "output_type": "stream",
          "name": "stdout",
          "text": [
            "None  [0.83127572 0.78850248 0.         0.75152253 0.75877193]\n"
          ]
        }
      ]
    },
    {
      "cell_type": "code",
      "metadata": {
        "id": "QcKt5Rhl3_X_",
        "colab": {
          "base_uri": "https://localhost:8080/"
        },
        "outputId": "4f4b8135-51b8-497e-bfda-8bf2b5d1cb1b"
      },
      "source": [
        "\n",
        "print(\"micro: {:.2f}\".format(metrics.precision_score(y_test, y_pred, average='micro')))\n",
        "print(\"macro: {:.2f} \".format( metrics.precision_score(y_test, y_pred, average='macro')))\n",
        "print(\"weighted: {:.2f} \".format( metrics.precision_score(y_test, y_pred, average='weighted')))\n",
        "print(\"samples: {:.2f} \".format( metrics.precision_score(y_test, y_pred, average='samples')))  \n",
        "\n",
        "\n"
      ],
      "execution_count": 32,
      "outputs": [
        {
          "output_type": "stream",
          "name": "stdout",
          "text": [
            "micro: 0.79\n",
            "macro: 0.63 \n",
            "weighted: 0.77 \n",
            "samples: 0.76 \n"
          ]
        },
        {
          "output_type": "stream",
          "name": "stderr",
          "text": [
            "/usr/local/lib/python3.8/dist-packages/sklearn/metrics/_classification.py:1318: UndefinedMetricWarning: Precision is ill-defined and being set to 0.0 in samples with no predicted labels. Use `zero_division` parameter to control this behavior.\n",
            "  _warn_prf(average, modifier, msg_start, len(result))\n"
          ]
        }
      ]
    },
    {
      "cell_type": "markdown",
      "source": [
        "## Treshold optimization\n"
      ],
      "metadata": {
        "id": "pTSwYbKZdJMx"
      }
    },
    {
      "cell_type": "code",
      "metadata": {
        "id": "nRudiegu4Beq"
      },
      "source": [
        "from sklearn.metrics import f1_score\n"
      ],
      "execution_count": 33,
      "outputs": []
    },
    {
      "cell_type": "code",
      "source": [
        "yhat = model.predict(data_train)\n",
        "yhat.shape"
      ],
      "metadata": {
        "colab": {
          "base_uri": "https://localhost:8080/"
        },
        "id": "azbcOYh3eWDi",
        "outputId": "293be815-ae36-490d-810f-3197fa9bf7ae"
      },
      "execution_count": 36,
      "outputs": [
        {
          "output_type": "stream",
          "name": "stdout",
          "text": [
            "219/219 [==============================] - 1s 2ms/step\n"
          ]
        },
        {
          "output_type": "execute_result",
          "data": {
            "text/plain": [
              "(7000, 5)"
            ]
          },
          "metadata": {},
          "execution_count": 36
        }
      ]
    },
    {
      "cell_type": "code",
      "metadata": {
        "id": "BpmSBtnq4JY7",
        "colab": {
          "base_uri": "https://localhost:8080/"
        },
        "outputId": "7dfbb084-10dc-4415-95d4-f0c9a2bf8e4d"
      },
      "source": [
        "T_list = np.linspace(0, 1, 21)\n",
        "\n",
        "\n",
        "for j in range(5):\n",
        "    f1_list = []\n",
        "    for T in T_list:\n",
        "      predicted = (yhat[:,j] > T).astype(int)\n",
        "      f1 = f1_score(y_train[:,j], predicted)\n",
        "      f1_list.append(f1)\n",
        "\n",
        "    idx = np.argmax(f1_list)\n",
        "    print(\"Optimal T={} based on F1 statistic for class {}\".format(T_list[idx], j))"
      ],
      "execution_count": 44,
      "outputs": [
        {
          "output_type": "stream",
          "name": "stdout",
          "text": [
            "Optimal T=0.45 based on F1 statistic for class 0\n",
            "Optimal T=0.45 based on F1 statistic for class 1\n",
            "Optimal T=0.1 based on F1 statistic for class 2\n",
            "Optimal T=0.4 based on F1 statistic for class 3\n",
            "Optimal T=0.30000000000000004 based on F1 statistic for class 4\n"
          ]
        }
      ]
    },
    {
      "cell_type": "code",
      "metadata": {
        "id": "w-8o93St5QEJ",
        "colab": {
          "base_uri": "https://localhost:8080/",
          "height": 298
        },
        "outputId": "1b23fd66-781c-4f53-b1dc-c13968657d9c"
      },
      "source": [
        "plt.plot(T_list, f1_list)\n",
        "plt.xlabel(\"Treshold T\")\n",
        "plt.ylabel(\"F1-statistics\")"
      ],
      "execution_count": 43,
      "outputs": [
        {
          "output_type": "execute_result",
          "data": {
            "text/plain": [
              "Text(0, 0.5, 'F1-statistics')"
            ]
          },
          "metadata": {},
          "execution_count": 43
        },
        {
          "output_type": "display_data",
          "data": {
            "text/plain": [
              "<Figure size 432x288 with 1 Axes>"
            ],
            "image/png": "[encoded data removed]"
          },
          "metadata": {
            "needs_background": "light"
          }
        }
      ]
    },
    {
      "cell_type": "code",
      "source": [],
      "metadata": {
        "id": "FUFrtmbNfG2X"
      },
      "execution_count": null,
      "outputs": []
    }
  ]
}