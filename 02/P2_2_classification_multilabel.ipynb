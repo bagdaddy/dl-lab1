{
  "nbformat": 4,
  "nbformat_minor": 0,
  "metadata": {
    "colab": {
      "provenance": []
    },
    "kernelspec": {
      "name": "python3",
      "display_name": "Python 3"
    },
    "accelerator": "GPU"
  },
  "cells": [
    {
      "cell_type": "code",
      "metadata": {
        "id": "3V1snXHQgVLJ"
      },
      "source": [
        "import numpy as np\n",
        "import random\n",
        "import tensorflow as tf\n",
        "from tensorflow import keras\n",
        "import matplotlib.pyplot as plt \n",
        "from sklearn.metrics import multilabel_confusion_matrix\n",
        "from sklearn.datasets import make_multilabel_classification\n",
        "import tensorflow.keras.backend as K\n"
      ],
      "execution_count": null,
      "outputs": []
    },
    {
      "cell_type": "code",
      "metadata": {
        "id": "U9vEe0WH2jG1"
      },
      "source": [],
      "execution_count": null,
      "outputs": []
    },
    {
      "cell_type": "code",
      "metadata": {
        "id": "-FhdwBEvgVr3"
      },
      "source": [
        "\n",
        "# generate fake data \n",
        "X, y = make_multilabel_classification(n_samples=10000, n_features=10, n_classes=5, n_labels=2, random_state=1)\n",
        "data = X\n"
      ],
      "execution_count": null,
      "outputs": []
    },
    {
      "cell_type": "code",
      "metadata": {
        "colab": {
          "base_uri": "https://localhost:8080/"
        },
        "id": "llb-v1H0s0DL",
        "outputId": "5573cfed-f673-4e64-867f-9fa9e1434816"
      },
      "source": [
        "X.shape, y.shape"
      ],
      "execution_count": null,
      "outputs": [
        {
          "output_type": "execute_result",
          "data": {
            "text/plain": [
              "((10000, 10), (10000, 5))"
            ]
          },
          "metadata": {},
          "execution_count": 3
        }
      ]
    },
    {
      "cell_type": "code",
      "metadata": {
        "colab": {
          "base_uri": "https://localhost:8080/"
        },
        "id": "XlNyRzEvu7aO",
        "outputId": "7ba3ac0c-87ab-4148-d792-ade0aa976985"
      },
      "source": [
        "np.sum(y, axis = 0)"
      ],
      "execution_count": null,
      "outputs": [
        {
          "output_type": "execute_result",
          "data": {
            "text/plain": [
              "array([5163, 6406,  339, 4442, 2893])"
            ]
          },
          "metadata": {},
          "execution_count": 8
        }
      ]
    },
    {
      "cell_type": "code",
      "metadata": {
        "colab": {
          "base_uri": "https://localhost:8080/"
        },
        "id": "Br10P-7ZWeAq",
        "outputId": "8d49b7bb-1853-4f89-bb49-347ce19e9733"
      },
      "source": [
        "y[:10,:]"
      ],
      "execution_count": null,
      "outputs": [
        {
          "output_type": "execute_result",
          "data": {
            "text/plain": [
              "array([[0, 0, 0, 0, 0],\n",
              "       [0, 1, 0, 0, 0],\n",
              "       [1, 0, 0, 0, 0],\n",
              "       [1, 1, 1, 1, 1],\n",
              "       [1, 1, 0, 0, 0],\n",
              "       [0, 1, 0, 0, 0],\n",
              "       [0, 0, 0, 1, 0],\n",
              "       [1, 1, 0, 1, 0],\n",
              "       [1, 1, 0, 1, 1],\n",
              "       [0, 1, 0, 0, 0]])"
            ]
          },
          "metadata": {},
          "execution_count": 4
        }
      ]
    },
    {
      "cell_type": "code",
      "metadata": {
        "colab": {
          "base_uri": "https://localhost:8080/",
          "height": 282
        },
        "id": "Zkgpcx1jr7T0",
        "outputId": "5946c992-de38-4d06-e985-ba1145400b39"
      },
      "source": [
        "y_col = 1\n",
        "x_col_1 = 0\n",
        "x_col_2 = 2\n",
        "\n",
        "\n",
        "ycolor = y[:, y_col]\n",
        "colormap = np.array(['r', 'b'])\n",
        "\n",
        "plt.scatter(X[:, x_col_1], X[:, x_col_2], c=colormap[ycolor])"
      ],
      "execution_count": null,
      "outputs": [
        {
          "output_type": "execute_result",
          "data": {
            "text/plain": [
              "<matplotlib.collections.PathCollection at 0x7fdb9c6457d0>"
            ]
          },
          "metadata": {},
          "execution_count": 9
        },
        {
          "output_type": "display_data",
          "data": {
            "image/png": "[encoded data removed]",
            "text/plain": [
              "<Figure size 432x288 with 1 Axes>"
            ]
          },
          "metadata": {
            "needs_background": "light"
          }
        }
      ]
    },
    {
      "cell_type": "code",
      "metadata": {
        "id": "33Glze9MsXL7"
      },
      "source": [],
      "execution_count": null,
      "outputs": []
    },
    {
      "cell_type": "code",
      "metadata": {
        "id": "k_o8nqHHgcbn"
      },
      "source": [
        "\n",
        "# idenfify number of data \n",
        "N_samples = data.shape[0]\n",
        "N_to_train = int(N_samples * 0.7) # 70% to train\n",
        "N_to_valid = int(N_samples * 0.8) # 10% for validation\n"
      ],
      "execution_count": null,
      "outputs": []
    },
    {
      "cell_type": "code",
      "metadata": {
        "id": "i-0LuehugdvP"
      },
      "source": [
        "\n",
        "# randomise data\n",
        "shuffle_data = [x for x in np.random.permutation(N_samples)]\n",
        "data = data[shuffle_data,:]\n",
        "y = y[shuffle_data]"
      ],
      "execution_count": null,
      "outputs": []
    },
    {
      "cell_type": "code",
      "metadata": {
        "colab": {
          "base_uri": "https://localhost:8080/"
        },
        "id": "7_8HYHg6ge2Q",
        "outputId": "ee748c5e-b32f-4da3-8a33-02bfcbc0904e"
      },
      "source": [
        "\n",
        "# Data preparation data -> test, validation, test\n",
        "data_train = data[:N_to_train,:]\n",
        "y_train = y[:N_to_train]\n",
        "data_train.shape\n",
        "\n",
        "data_val = data[N_to_train:N_to_valid,:]\n",
        "y_val = y[N_to_train:N_to_valid]\n",
        "data_val.shape\n",
        "\n",
        "data_test = data[N_to_valid:,:]\n",
        "y_test = y[N_to_valid:]\n",
        "data_test.shape\n"
      ],
      "execution_count": null,
      "outputs": [
        {
          "output_type": "execute_result",
          "data": {
            "text/plain": [
              "(2000, 10)"
            ]
          },
          "metadata": {},
          "execution_count": 12
        }
      ]
    },
    {
      "cell_type": "code",
      "metadata": {
        "id": "M46U18EB0lb5"
      },
      "source": [],
      "execution_count": null,
      "outputs": []
    },
    {
      "cell_type": "code",
      "metadata": {
        "id": "Mmkh5ZVN0kwd"
      },
      "source": [],
      "execution_count": null,
      "outputs": []
    },
    {
      "cell_type": "code",
      "metadata": {
        "id": "l0iUkf_u1qnE"
      },
      "source": [],
      "execution_count": null,
      "outputs": []
    },
    {
      "cell_type": "code",
      "metadata": {
        "id": "5g-nGsRq11cV"
      },
      "source": [],
      "execution_count": null,
      "outputs": []
    },
    {
      "cell_type": "code",
      "metadata": {
        "colab": {
          "base_uri": "https://localhost:8080/"
        },
        "id": "6-eE9IEqghrp",
        "outputId": "5a6d5fec-e7f4-4060-b157-e6e593666de6"
      },
      "source": [
        "\n",
        "# some model: multilayer perceptron\n",
        "model = tf.keras.Sequential()\n",
        "model.add(tf.keras.layers.Dense(32, input_shape=(10,)))\n",
        "model.add(tf.keras.layers.BatchNormalization())\n",
        "model.add(tf.keras.layers.Dense(16))\n",
        "model.add(tf.keras.layers.Dropout(0.2))\n",
        "model.add(tf.keras.layers.Dense(5, activation = 'sigmoid'))\n",
        "model.compile(optimizer='adam', \n",
        "              loss='binary_crossentropy',\n",
        "              metrics = [tf.keras.metrics.BinaryAccuracy()])\n",
        "\n",
        "model.summary()"
      ],
      "execution_count": null,
      "outputs": [
        {
          "output_type": "stream",
          "name": "stdout",
          "text": [
            "Model: \"sequential_19\"\n",
            "_________________________________________________________________\n",
            " Layer (type)                Output Shape              Param #   \n",
            "=================================================================\n",
            " dense_57 (Dense)            (None, 32)                352       \n",
            "                                                                 \n",
            " batch_normalization_20 (Bat  (None, 32)               128       \n",
            " chNormalization)                                                \n",
            "                                                                 \n",
            " dense_58 (Dense)            (None, 16)                528       \n",
            "                                                                 \n",
            " dropout_16 (Dropout)        (None, 16)                0         \n",
            "                                                                 \n",
            " dense_59 (Dense)            (None, 5)                 85        \n",
            "                                                                 \n",
            "=================================================================\n",
            "Total params: 1,093\n",
            "Trainable params: 1,029\n",
            "Non-trainable params: 64\n",
            "_________________________________________________________________\n"
          ]
        }
      ]
    },
    {
      "cell_type": "code",
      "metadata": {
        "colab": {
          "base_uri": "https://localhost:8080/"
        },
        "id": "6gTeBAFqviHK",
        "outputId": "21d6c34e-494d-449d-bde4-849c7e3d2a29"
      },
      "source": [
        "model(np.random.random((1, 10)))"
      ],
      "execution_count": null,
      "outputs": [
        {
          "output_type": "execute_result",
          "data": {
            "text/plain": [
              "<tf.Tensor: shape=(1, 5), dtype=float32, numpy=\n",
              "array([[0.29174504, 0.5113457 , 0.51734084, 0.3222154 , 0.50933605]],\n",
              "      dtype=float32)>"
            ]
          },
          "metadata": {},
          "execution_count": 134
        }
      ]
    },
    {
      "cell_type": "code",
      "metadata": {
        "id": "Q8dFusoixoz2"
      },
      "source": [],
      "execution_count": null,
      "outputs": []
    },
    {
      "cell_type": "code",
      "metadata": {
        "id": "NsX2nOv5xbmw"
      },
      "source": [],
      "execution_count": null,
      "outputs": []
    },
    {
      "cell_type": "code",
      "metadata": {
        "colab": {
          "base_uri": "https://localhost:8080/"
        },
        "id": "eT3i9QmfgjBc",
        "outputId": "587486b8-6215-4991-c945-1dcf81df43ab"
      },
      "source": [
        "\n",
        "\n",
        "# estimating model parameters\n",
        "epochs_number = 100\n",
        "history = model.fit(x = data_train, y = y_train, \n",
        "                    epochs=epochs_number, \n",
        "                    batch_size = 128,\n",
        "                    validation_data = (data_val, y_val)\n",
        "                    )\n",
        "\n"
      ],
      "execution_count": null,
      "outputs": [
        {
          "output_type": "stream",
          "name": "stdout",
          "text": [
            "Epoch 1/100\n",
            "55/55 [==============================] - 1s 9ms/step - loss: 0.6346 - binary_accuracy: 0.6589 - val_loss: 0.4652 - val_binary_accuracy: 0.8064\n",
            "Epoch 2/100\n",
            "55/55 [==============================] - 0s 6ms/step - loss: 0.4827 - binary_accuracy: 0.7748 - val_loss: 0.4072 - val_binary_accuracy: 0.8222\n",
            "Epoch 3/100\n",
            "55/55 [==============================] - 0s 6ms/step - loss: 0.4330 - binary_accuracy: 0.8020 - val_loss: 0.3857 - val_binary_accuracy: 0.8228\n",
            "Epoch 4/100\n",
            "55/55 [==============================] - 0s 6ms/step - loss: 0.4086 - binary_accuracy: 0.8099 - val_loss: 0.3781 - val_binary_accuracy: 0.8254\n",
            "Epoch 5/100\n",
            "55/55 [==============================] - 0s 6ms/step - loss: 0.4006 - binary_accuracy: 0.8114 - val_loss: 0.3735 - val_binary_accuracy: 0.8266\n",
            "Epoch 6/100\n",
            "55/55 [==============================] - 0s 6ms/step - loss: 0.3993 - binary_accuracy: 0.8130 - val_loss: 0.3727 - val_binary_accuracy: 0.8290\n",
            "Epoch 7/100\n",
            "55/55 [==============================] - 0s 7ms/step - loss: 0.3980 - binary_accuracy: 0.8155 - val_loss: 0.3722 - val_binary_accuracy: 0.8258\n",
            "Epoch 8/100\n",
            "55/55 [==============================] - 0s 6ms/step - loss: 0.3976 - binary_accuracy: 0.8150 - val_loss: 0.3722 - val_binary_accuracy: 0.8272\n",
            "Epoch 9/100\n",
            "55/55 [==============================] - 0s 6ms/step - loss: 0.3947 - binary_accuracy: 0.8155 - val_loss: 0.3721 - val_binary_accuracy: 0.8268\n",
            "Epoch 10/100\n",
            "55/55 [==============================] - 0s 6ms/step - loss: 0.3937 - binary_accuracy: 0.8163 - val_loss: 0.3713 - val_binary_accuracy: 0.8264\n",
            "Epoch 11/100\n",
            "55/55 [==============================] - 0s 6ms/step - loss: 0.3938 - binary_accuracy: 0.8156 - val_loss: 0.3714 - val_binary_accuracy: 0.8292\n",
            "Epoch 12/100\n",
            "55/55 [==============================] - 0s 6ms/step - loss: 0.3916 - binary_accuracy: 0.8197 - val_loss: 0.3711 - val_binary_accuracy: 0.8284\n",
            "Epoch 13/100\n",
            "55/55 [==============================] - 0s 6ms/step - loss: 0.3913 - binary_accuracy: 0.8180 - val_loss: 0.3710 - val_binary_accuracy: 0.8268\n",
            "Epoch 14/100\n",
            "55/55 [==============================] - 0s 6ms/step - loss: 0.3920 - binary_accuracy: 0.8183 - val_loss: 0.3714 - val_binary_accuracy: 0.8264\n",
            "Epoch 15/100\n",
            "55/55 [==============================] - 0s 5ms/step - loss: 0.3916 - binary_accuracy: 0.8181 - val_loss: 0.3709 - val_binary_accuracy: 0.8278\n",
            "Epoch 16/100\n",
            "55/55 [==============================] - 0s 6ms/step - loss: 0.3914 - binary_accuracy: 0.8194 - val_loss: 0.3707 - val_binary_accuracy: 0.8272\n",
            "Epoch 17/100\n",
            "55/55 [==============================] - 0s 6ms/step - loss: 0.3920 - binary_accuracy: 0.8183 - val_loss: 0.3710 - val_binary_accuracy: 0.8278\n",
            "Epoch 18/100\n",
            "55/55 [==============================] - 0s 5ms/step - loss: 0.3897 - binary_accuracy: 0.8210 - val_loss: 0.3720 - val_binary_accuracy: 0.8268\n",
            "Epoch 19/100\n",
            "55/55 [==============================] - 0s 6ms/step - loss: 0.3906 - binary_accuracy: 0.8181 - val_loss: 0.3713 - val_binary_accuracy: 0.8278\n",
            "Epoch 20/100\n",
            "55/55 [==============================] - 0s 6ms/step - loss: 0.3918 - binary_accuracy: 0.8187 - val_loss: 0.3701 - val_binary_accuracy: 0.8294\n",
            "Epoch 21/100\n",
            "55/55 [==============================] - 0s 6ms/step - loss: 0.3911 - binary_accuracy: 0.8188 - val_loss: 0.3715 - val_binary_accuracy: 0.8300\n",
            "Epoch 22/100\n",
            "55/55 [==============================] - 0s 6ms/step - loss: 0.3914 - binary_accuracy: 0.8185 - val_loss: 0.3707 - val_binary_accuracy: 0.8262\n",
            "Epoch 23/100\n",
            "55/55 [==============================] - 0s 6ms/step - loss: 0.3914 - binary_accuracy: 0.8188 - val_loss: 0.3706 - val_binary_accuracy: 0.8300\n",
            "Epoch 24/100\n",
            "55/55 [==============================] - 0s 6ms/step - loss: 0.3920 - binary_accuracy: 0.8192 - val_loss: 0.3714 - val_binary_accuracy: 0.8266\n",
            "Epoch 25/100\n",
            "55/55 [==============================] - 0s 6ms/step - loss: 0.3901 - binary_accuracy: 0.8201 - val_loss: 0.3722 - val_binary_accuracy: 0.8226\n",
            "Epoch 26/100\n",
            "55/55 [==============================] - 0s 6ms/step - loss: 0.3909 - binary_accuracy: 0.8201 - val_loss: 0.3718 - val_binary_accuracy: 0.8244\n",
            "Epoch 27/100\n",
            "55/55 [==============================] - 0s 6ms/step - loss: 0.3894 - binary_accuracy: 0.8201 - val_loss: 0.3712 - val_binary_accuracy: 0.8284\n",
            "Epoch 28/100\n",
            "55/55 [==============================] - 0s 6ms/step - loss: 0.3904 - binary_accuracy: 0.8199 - val_loss: 0.3708 - val_binary_accuracy: 0.8266\n",
            "Epoch 29/100\n",
            "55/55 [==============================] - 0s 6ms/step - loss: 0.3911 - binary_accuracy: 0.8185 - val_loss: 0.3707 - val_binary_accuracy: 0.8284\n",
            "Epoch 30/100\n",
            "55/55 [==============================] - 0s 6ms/step - loss: 0.3889 - binary_accuracy: 0.8202 - val_loss: 0.3714 - val_binary_accuracy: 0.8258\n",
            "Epoch 31/100\n",
            "55/55 [==============================] - 0s 6ms/step - loss: 0.3891 - binary_accuracy: 0.8193 - val_loss: 0.3715 - val_binary_accuracy: 0.8266\n",
            "Epoch 32/100\n",
            "55/55 [==============================] - 0s 6ms/step - loss: 0.3891 - binary_accuracy: 0.8212 - val_loss: 0.3710 - val_binary_accuracy: 0.8268\n",
            "Epoch 33/100\n",
            "55/55 [==============================] - 0s 6ms/step - loss: 0.3911 - binary_accuracy: 0.8191 - val_loss: 0.3709 - val_binary_accuracy: 0.8260\n",
            "Epoch 34/100\n",
            "55/55 [==============================] - 0s 7ms/step - loss: 0.3890 - binary_accuracy: 0.8210 - val_loss: 0.3699 - val_binary_accuracy: 0.8290\n",
            "Epoch 35/100\n",
            "55/55 [==============================] - 0s 6ms/step - loss: 0.3908 - binary_accuracy: 0.8191 - val_loss: 0.3713 - val_binary_accuracy: 0.8254\n",
            "Epoch 36/100\n",
            "55/55 [==============================] - 0s 6ms/step - loss: 0.3899 - binary_accuracy: 0.8213 - val_loss: 0.3714 - val_binary_accuracy: 0.8266\n",
            "Epoch 37/100\n",
            "55/55 [==============================] - 0s 6ms/step - loss: 0.3889 - binary_accuracy: 0.8206 - val_loss: 0.3704 - val_binary_accuracy: 0.8264\n",
            "Epoch 38/100\n",
            "55/55 [==============================] - 0s 6ms/step - loss: 0.3878 - binary_accuracy: 0.8206 - val_loss: 0.3709 - val_binary_accuracy: 0.8274\n",
            "Epoch 39/100\n",
            "55/55 [==============================] - 0s 6ms/step - loss: 0.3900 - binary_accuracy: 0.8191 - val_loss: 0.3706 - val_binary_accuracy: 0.8280\n",
            "Epoch 40/100\n",
            "55/55 [==============================] - 0s 5ms/step - loss: 0.3892 - binary_accuracy: 0.8188 - val_loss: 0.3712 - val_binary_accuracy: 0.8252\n",
            "Epoch 41/100\n",
            "55/55 [==============================] - 0s 6ms/step - loss: 0.3886 - binary_accuracy: 0.8189 - val_loss: 0.3716 - val_binary_accuracy: 0.8258\n",
            "Epoch 42/100\n",
            "55/55 [==============================] - 0s 6ms/step - loss: 0.3884 - binary_accuracy: 0.8200 - val_loss: 0.3712 - val_binary_accuracy: 0.8252\n",
            "Epoch 43/100\n",
            "55/55 [==============================] - 0s 6ms/step - loss: 0.3873 - binary_accuracy: 0.8214 - val_loss: 0.3716 - val_binary_accuracy: 0.8264\n",
            "Epoch 44/100\n",
            "55/55 [==============================] - 0s 6ms/step - loss: 0.3896 - binary_accuracy: 0.8205 - val_loss: 0.3715 - val_binary_accuracy: 0.8256\n",
            "Epoch 45/100\n",
            "55/55 [==============================] - 0s 7ms/step - loss: 0.3890 - binary_accuracy: 0.8207 - val_loss: 0.3716 - val_binary_accuracy: 0.8256\n",
            "Epoch 46/100\n",
            "55/55 [==============================] - 0s 6ms/step - loss: 0.3885 - binary_accuracy: 0.8211 - val_loss: 0.3705 - val_binary_accuracy: 0.8282\n",
            "Epoch 47/100\n",
            "55/55 [==============================] - 0s 6ms/step - loss: 0.3888 - binary_accuracy: 0.8211 - val_loss: 0.3711 - val_binary_accuracy: 0.8262\n",
            "Epoch 48/100\n",
            "55/55 [==============================] - 0s 6ms/step - loss: 0.3867 - binary_accuracy: 0.8231 - val_loss: 0.3718 - val_binary_accuracy: 0.8236\n",
            "Epoch 49/100\n",
            "55/55 [==============================] - 0s 6ms/step - loss: 0.3900 - binary_accuracy: 0.8200 - val_loss: 0.3710 - val_binary_accuracy: 0.8276\n",
            "Epoch 50/100\n",
            "55/55 [==============================] - 0s 6ms/step - loss: 0.3880 - binary_accuracy: 0.8211 - val_loss: 0.3706 - val_binary_accuracy: 0.8302\n",
            "Epoch 51/100\n",
            "55/55 [==============================] - 0s 6ms/step - loss: 0.3892 - binary_accuracy: 0.8209 - val_loss: 0.3722 - val_binary_accuracy: 0.8262\n",
            "Epoch 52/100\n",
            "55/55 [==============================] - 0s 6ms/step - loss: 0.3879 - binary_accuracy: 0.8226 - val_loss: 0.3712 - val_binary_accuracy: 0.8278\n",
            "Epoch 53/100\n",
            "55/55 [==============================] - 0s 6ms/step - loss: 0.3867 - binary_accuracy: 0.8217 - val_loss: 0.3706 - val_binary_accuracy: 0.8292\n",
            "Epoch 54/100\n",
            "55/55 [==============================] - 0s 6ms/step - loss: 0.3866 - binary_accuracy: 0.8228 - val_loss: 0.3707 - val_binary_accuracy: 0.8274\n",
            "Epoch 55/100\n",
            "55/55 [==============================] - 0s 6ms/step - loss: 0.3868 - binary_accuracy: 0.8224 - val_loss: 0.3707 - val_binary_accuracy: 0.8276\n",
            "Epoch 56/100\n",
            "55/55 [==============================] - 0s 8ms/step - loss: 0.3890 - binary_accuracy: 0.8209 - val_loss: 0.3706 - val_binary_accuracy: 0.8254\n",
            "Epoch 57/100\n",
            "55/55 [==============================] - 0s 6ms/step - loss: 0.3861 - binary_accuracy: 0.8216 - val_loss: 0.3711 - val_binary_accuracy: 0.8260\n",
            "Epoch 58/100\n",
            "55/55 [==============================] - 0s 6ms/step - loss: 0.3873 - binary_accuracy: 0.8211 - val_loss: 0.3709 - val_binary_accuracy: 0.8256\n",
            "Epoch 59/100\n",
            "55/55 [==============================] - 0s 6ms/step - loss: 0.3871 - binary_accuracy: 0.8217 - val_loss: 0.3698 - val_binary_accuracy: 0.8286\n",
            "Epoch 60/100\n",
            "55/55 [==============================] - 0s 6ms/step - loss: 0.3861 - binary_accuracy: 0.8225 - val_loss: 0.3706 - val_binary_accuracy: 0.8270\n",
            "Epoch 61/100\n",
            "55/55 [==============================] - 0s 6ms/step - loss: 0.3873 - binary_accuracy: 0.8193 - val_loss: 0.3708 - val_binary_accuracy: 0.8262\n",
            "Epoch 62/100\n",
            "55/55 [==============================] - 0s 6ms/step - loss: 0.3862 - binary_accuracy: 0.8231 - val_loss: 0.3710 - val_binary_accuracy: 0.8268\n",
            "Epoch 63/100\n",
            "55/55 [==============================] - 0s 6ms/step - loss: 0.3868 - binary_accuracy: 0.8232 - val_loss: 0.3704 - val_binary_accuracy: 0.8286\n",
            "Epoch 64/100\n",
            "55/55 [==============================] - 0s 6ms/step - loss: 0.3858 - binary_accuracy: 0.8236 - val_loss: 0.3708 - val_binary_accuracy: 0.8262\n",
            "Epoch 65/100\n",
            "55/55 [==============================] - 0s 6ms/step - loss: 0.3861 - binary_accuracy: 0.8215 - val_loss: 0.3705 - val_binary_accuracy: 0.8282\n",
            "Epoch 66/100\n",
            "55/55 [==============================] - 0s 6ms/step - loss: 0.3851 - binary_accuracy: 0.8226 - val_loss: 0.3708 - val_binary_accuracy: 0.8268\n",
            "Epoch 67/100\n",
            "55/55 [==============================] - 0s 6ms/step - loss: 0.3859 - binary_accuracy: 0.8222 - val_loss: 0.3707 - val_binary_accuracy: 0.8260\n",
            "Epoch 68/100\n",
            "55/55 [==============================] - 0s 7ms/step - loss: 0.3852 - binary_accuracy: 0.8237 - val_loss: 0.3706 - val_binary_accuracy: 0.8258\n",
            "Epoch 69/100\n",
            "55/55 [==============================] - 0s 5ms/step - loss: 0.3856 - binary_accuracy: 0.8241 - val_loss: 0.3698 - val_binary_accuracy: 0.8280\n",
            "Epoch 70/100\n",
            "55/55 [==============================] - 0s 6ms/step - loss: 0.3859 - binary_accuracy: 0.8241 - val_loss: 0.3704 - val_binary_accuracy: 0.8262\n",
            "Epoch 71/100\n",
            "55/55 [==============================] - 0s 6ms/step - loss: 0.3875 - binary_accuracy: 0.8223 - val_loss: 0.3706 - val_binary_accuracy: 0.8270\n",
            "Epoch 72/100\n",
            "55/55 [==============================] - 0s 6ms/step - loss: 0.3857 - binary_accuracy: 0.8231 - val_loss: 0.3711 - val_binary_accuracy: 0.8244\n",
            "Epoch 73/100\n",
            "55/55 [==============================] - 0s 6ms/step - loss: 0.3865 - binary_accuracy: 0.8245 - val_loss: 0.3706 - val_binary_accuracy: 0.8264\n",
            "Epoch 74/100\n",
            "55/55 [==============================] - 0s 6ms/step - loss: 0.3861 - binary_accuracy: 0.8220 - val_loss: 0.3701 - val_binary_accuracy: 0.8280\n",
            "Epoch 75/100\n",
            "55/55 [==============================] - 0s 6ms/step - loss: 0.3837 - binary_accuracy: 0.8256 - val_loss: 0.3700 - val_binary_accuracy: 0.8260\n",
            "Epoch 76/100\n",
            "55/55 [==============================] - 0s 6ms/step - loss: 0.3842 - binary_accuracy: 0.8233 - val_loss: 0.3709 - val_binary_accuracy: 0.8274\n",
            "Epoch 77/100\n",
            "55/55 [==============================] - 0s 6ms/step - loss: 0.3843 - binary_accuracy: 0.8236 - val_loss: 0.3701 - val_binary_accuracy: 0.8276\n",
            "Epoch 78/100\n",
            "55/55 [==============================] - 0s 6ms/step - loss: 0.3860 - binary_accuracy: 0.8230 - val_loss: 0.3704 - val_binary_accuracy: 0.8276\n",
            "Epoch 79/100\n",
            "55/55 [==============================] - 0s 7ms/step - loss: 0.3847 - binary_accuracy: 0.8248 - val_loss: 0.3704 - val_binary_accuracy: 0.8264\n",
            "Epoch 80/100\n",
            "55/55 [==============================] - 0s 6ms/step - loss: 0.3849 - binary_accuracy: 0.8243 - val_loss: 0.3706 - val_binary_accuracy: 0.8270\n",
            "Epoch 81/100\n",
            "55/55 [==============================] - 0s 6ms/step - loss: 0.3846 - binary_accuracy: 0.8232 - val_loss: 0.3711 - val_binary_accuracy: 0.8262\n",
            "Epoch 82/100\n",
            "55/55 [==============================] - 0s 7ms/step - loss: 0.3851 - binary_accuracy: 0.8248 - val_loss: 0.3701 - val_binary_accuracy: 0.8272\n",
            "Epoch 83/100\n",
            "55/55 [==============================] - 0s 6ms/step - loss: 0.3855 - binary_accuracy: 0.8230 - val_loss: 0.3698 - val_binary_accuracy: 0.8290\n",
            "Epoch 84/100\n",
            "55/55 [==============================] - 0s 6ms/step - loss: 0.3844 - binary_accuracy: 0.8240 - val_loss: 0.3703 - val_binary_accuracy: 0.8270\n",
            "Epoch 85/100\n",
            "55/55 [==============================] - 0s 6ms/step - loss: 0.3831 - binary_accuracy: 0.8248 - val_loss: 0.3701 - val_binary_accuracy: 0.8302\n",
            "Epoch 86/100\n",
            "55/55 [==============================] - 0s 7ms/step - loss: 0.3840 - binary_accuracy: 0.8247 - val_loss: 0.3706 - val_binary_accuracy: 0.8266\n",
            "Epoch 87/100\n",
            "55/55 [==============================] - 0s 6ms/step - loss: 0.3833 - binary_accuracy: 0.8235 - val_loss: 0.3705 - val_binary_accuracy: 0.8270\n",
            "Epoch 88/100\n",
            "55/55 [==============================] - 0s 6ms/step - loss: 0.3847 - binary_accuracy: 0.8251 - val_loss: 0.3703 - val_binary_accuracy: 0.8276\n",
            "Epoch 89/100\n",
            "55/55 [==============================] - 0s 6ms/step - loss: 0.3851 - binary_accuracy: 0.8240 - val_loss: 0.3705 - val_binary_accuracy: 0.8260\n",
            "Epoch 90/100\n",
            "55/55 [==============================] - 0s 6ms/step - loss: 0.3847 - binary_accuracy: 0.8238 - val_loss: 0.3702 - val_binary_accuracy: 0.8282\n",
            "Epoch 91/100\n",
            "55/55 [==============================] - 0s 6ms/step - loss: 0.3836 - binary_accuracy: 0.8237 - val_loss: 0.3710 - val_binary_accuracy: 0.8252\n",
            "Epoch 92/100\n",
            "55/55 [==============================] - 0s 6ms/step - loss: 0.3844 - binary_accuracy: 0.8235 - val_loss: 0.3708 - val_binary_accuracy: 0.8270\n",
            "Epoch 93/100\n",
            "55/55 [==============================] - 0s 6ms/step - loss: 0.3842 - binary_accuracy: 0.8242 - val_loss: 0.3703 - val_binary_accuracy: 0.8288\n",
            "Epoch 94/100\n",
            "55/55 [==============================] - 0s 6ms/step - loss: 0.3831 - binary_accuracy: 0.8234 - val_loss: 0.3704 - val_binary_accuracy: 0.8286\n",
            "Epoch 95/100\n",
            "55/55 [==============================] - 0s 6ms/step - loss: 0.3826 - binary_accuracy: 0.8273 - val_loss: 0.3701 - val_binary_accuracy: 0.8308\n",
            "Epoch 96/100\n",
            "55/55 [==============================] - 0s 6ms/step - loss: 0.3842 - binary_accuracy: 0.8234 - val_loss: 0.3696 - val_binary_accuracy: 0.8288\n",
            "Epoch 97/100\n",
            "55/55 [==============================] - 0s 6ms/step - loss: 0.3849 - binary_accuracy: 0.8239 - val_loss: 0.3694 - val_binary_accuracy: 0.8262\n",
            "Epoch 98/100\n",
            "55/55 [==============================] - 0s 6ms/step - loss: 0.3843 - binary_accuracy: 0.8257 - val_loss: 0.3700 - val_binary_accuracy: 0.8268\n",
            "Epoch 99/100\n",
            "55/55 [==============================] - 0s 6ms/step - loss: 0.3842 - binary_accuracy: 0.8238 - val_loss: 0.3696 - val_binary_accuracy: 0.8296\n",
            "Epoch 100/100\n",
            "55/55 [==============================] - 0s 6ms/step - loss: 0.3834 - binary_accuracy: 0.8254 - val_loss: 0.3701 - val_binary_accuracy: 0.8270\n"
          ]
        }
      ]
    },
    {
      "cell_type": "code",
      "metadata": {
        "id": "y5HfIvsbgkO7",
        "colab": {
          "base_uri": "https://localhost:8080/",
          "height": 265
        },
        "outputId": "6ca316bf-ad84-49f2-9bde-192b783e62b5"
      },
      "source": [
        "\n",
        "# plot loss of model\n",
        "epochs = [i for i in range(epochs_number)]\n",
        "plt.plot(epochs, history.history['loss'])\n",
        "plt.plot(epochs, history.history['val_loss'])\n",
        "plt.show()\n"
      ],
      "execution_count": null,
      "outputs": [
        {
          "output_type": "display_data",
          "data": {
            "image/png": "[encoded data removed]",
            "text/plain": [
              "<Figure size 432x288 with 1 Axes>"
            ]
          },
          "metadata": {
            "needs_background": "light"
          }
        }
      ]
    },
    {
      "cell_type": "code",
      "metadata": {
        "id": "6PFx7rFpglkm",
        "colab": {
          "base_uri": "https://localhost:8080/"
        },
        "outputId": "964c6135-64f4-42f1-ab34-1e161db0fe07"
      },
      "source": [
        "\n",
        "\n",
        "# test model on unseen (test) data\n",
        "predictions = model.predict(data_test)\n",
        "predictions\n",
        "predicted_classes = np.round(predictions > 0.5)\n",
        "\n",
        "multilabel_confusion_matrix(y_test, predicted_classes)\n"
      ],
      "execution_count": null,
      "outputs": [
        {
          "output_type": "execute_result",
          "data": {
            "text/plain": [
              "array([[[ 810,  181],\n",
              "        [ 182,  827]],\n",
              "\n",
              "       [[ 439,  320],\n",
              "        [ 154, 1087]],\n",
              "\n",
              "       [[1936,    2],\n",
              "        [  62,    0]],\n",
              "\n",
              "       [[ 946,  168],\n",
              "        [ 244,  642]],\n",
              "\n",
              "       [[1327,  106],\n",
              "        [ 235,  332]]])"
            ]
          },
          "metadata": {},
          "execution_count": 149
        }
      ]
    },
    {
      "cell_type": "code",
      "metadata": {
        "id": "lEY1DXyHwetW"
      },
      "source": [
        "from sklearn.metrics import classification_report"
      ],
      "execution_count": null,
      "outputs": []
    },
    {
      "cell_type": "code",
      "metadata": {
        "colab": {
          "base_uri": "https://localhost:8080/"
        },
        "id": "vR1o_2c2whPT",
        "outputId": "c5703f8c-a606-46bc-f52e-cbf11c9d8024"
      },
      "source": [
        "print(classification_report(y_test, predicted_classes))"
      ],
      "execution_count": null,
      "outputs": [
        {
          "output_type": "stream",
          "name": "stdout",
          "text": [
            "              precision    recall  f1-score   support\n",
            "\n",
            "           0       0.82      0.82      0.82      1009\n",
            "           1       0.77      0.88      0.82      1241\n",
            "           2       0.00      0.00      0.00        62\n",
            "           3       0.79      0.72      0.76       886\n",
            "           4       0.76      0.59      0.66       567\n",
            "\n",
            "   micro avg       0.79      0.77      0.78      3765\n",
            "   macro avg       0.63      0.60      0.61      3765\n",
            "weighted avg       0.78      0.77      0.77      3765\n",
            " samples avg       0.75      0.72      0.70      3765\n",
            "\n"
          ]
        },
        {
          "output_type": "stream",
          "name": "stderr",
          "text": [
            "/usr/local/lib/python3.7/dist-packages/sklearn/metrics/_classification.py:1308: UndefinedMetricWarning: Precision and F-score are ill-defined and being set to 0.0 in samples with no predicted labels. Use `zero_division` parameter to control this behavior.\n",
            "  _warn_prf(average, modifier, msg_start, len(result))\n",
            "/usr/local/lib/python3.7/dist-packages/sklearn/metrics/_classification.py:1308: UndefinedMetricWarning: Recall and F-score are ill-defined and being set to 0.0 in samples with no true labels. Use `zero_division` parameter to control this behavior.\n",
            "  _warn_prf(average, modifier, msg_start, len(result))\n"
          ]
        }
      ]
    },
    {
      "cell_type": "code",
      "metadata": {
        "id": "4xZ1d1WHYeNw",
        "colab": {
          "base_uri": "https://localhost:8080/"
        },
        "outputId": "25492d6d-f638-4732-db84-bc63b72a6be0"
      },
      "source": [
        "predicted_classes"
      ],
      "execution_count": null,
      "outputs": [
        {
          "output_type": "execute_result",
          "data": {
            "text/plain": [
              "array([[1., 1., 0., 0., 1.],\n",
              "       [0., 1., 0., 0., 0.],\n",
              "       [0., 1., 0., 1., 1.],\n",
              "       ...,\n",
              "       [0., 1., 0., 1., 0.],\n",
              "       [1., 0., 0., 0., 0.],\n",
              "       [1., 1., 0., 0., 0.]], dtype=float16)"
            ]
          },
          "metadata": {},
          "execution_count": 152
        }
      ]
    },
    {
      "cell_type": "code",
      "metadata": {
        "colab": {
          "base_uri": "https://localhost:8080/"
        },
        "id": "WqzBKn2mXvmS",
        "outputId": "3738d02a-6cfc-4207-9464-de96679cbb3a"
      },
      "source": [
        "np.round(predictions[:10,:],2)"
      ],
      "execution_count": null,
      "outputs": [
        {
          "output_type": "execute_result",
          "data": {
            "text/plain": [
              "array([[0.93, 0.55, 0.02, 0.4 , 0.66],\n",
              "       [0.39, 0.96, 0.02, 0.18, 0.28],\n",
              "       [0.36, 0.77, 0.02, 0.78, 0.69],\n",
              "       [0.25, 0.89, 0.02, 0.51, 0.02],\n",
              "       [0.49, 0.1 , 0.01, 0.66, 0.32],\n",
              "       [0.16, 0.98, 0.03, 0.17, 0.15],\n",
              "       [0.36, 0.14, 0.04, 0.95, 0.54],\n",
              "       [0.97, 0.64, 0.07, 0.08, 0.1 ],\n",
              "       [0.67, 0.57, 0.04, 0.63, 0.09],\n",
              "       [0.47, 0.9 , 0.01, 0.25, 0.02]], dtype=float32)"
            ]
          },
          "metadata": {},
          "execution_count": 153
        }
      ]
    },
    {
      "cell_type": "code",
      "metadata": {
        "colab": {
          "base_uri": "https://localhost:8080/"
        },
        "id": "XmJ8Ncz7Xv--",
        "outputId": "711141be-1ef4-48c4-dc37-187372e5768e"
      },
      "source": [
        "y_test[:10,:]"
      ],
      "execution_count": null,
      "outputs": [
        {
          "output_type": "execute_result",
          "data": {
            "text/plain": [
              "array([[1, 1, 0, 1, 1],\n",
              "       [1, 1, 0, 1, 1],\n",
              "       [1, 1, 0, 1, 1],\n",
              "       [0, 1, 0, 0, 0],\n",
              "       [0, 0, 0, 0, 0],\n",
              "       [0, 1, 0, 0, 0],\n",
              "       [0, 0, 0, 1, 1],\n",
              "       [1, 1, 0, 1, 1],\n",
              "       [1, 1, 0, 1, 0],\n",
              "       [0, 1, 0, 0, 0]])"
            ]
          },
          "metadata": {},
          "execution_count": 154
        }
      ]
    },
    {
      "cell_type": "code",
      "metadata": {
        "id": "tu5kWJ81YCaY"
      },
      "source": [],
      "execution_count": null,
      "outputs": []
    },
    {
      "cell_type": "code",
      "metadata": {
        "id": "QcKt5Rhl3_X_"
      },
      "source": [],
      "execution_count": null,
      "outputs": []
    },
    {
      "cell_type": "code",
      "metadata": {
        "id": "nRudiegu4Beq"
      },
      "source": [],
      "execution_count": null,
      "outputs": []
    },
    {
      "cell_type": "code",
      "metadata": {
        "id": "BpmSBtnq4JY7"
      },
      "source": [],
      "execution_count": null,
      "outputs": []
    },
    {
      "cell_type": "code",
      "metadata": {
        "id": "w-8o93St5QEJ"
      },
      "source": [],
      "execution_count": null,
      "outputs": []
    }
  ]
}